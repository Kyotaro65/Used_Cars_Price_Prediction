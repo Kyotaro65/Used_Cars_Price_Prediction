{
  "nbformat": 4,
  "nbformat_minor": 0,
  "metadata": {
    "colab": {
      "name": "Used_Cars_Price_Pred.ipynb",
      "provenance": [],
      "collapsed_sections": [
        "GCLMeBssu8GQ",
        "JhufDvB83ZlO",
        "7Qn_aD1Vrj-U",
        "jHvyNWmRdoZl",
        "AJ2x9OzDog7F",
        "-fk-oX8O8t_w",
        "zeDW99XK_RI7",
        "JPgDatiZiNgv",
        "DTMVkYUoEcaI",
        "a5NyB422Ouwu",
        "LVeGiAkOigKq",
        "jlbuEPGbOiEC",
        "jZTp7TMuD5lc",
        "D9UYiu9XC0km",
        "w0CPzpEjgpgO",
        "IEDNaRkaprZV",
        "IuDrUZvotwpQ",
        "B8ktTRQYy8mE",
        "n_N_4uHbnmPI",
        "wrELJ32KuYnR",
        "g--WL12Vh0tp",
        "8ttaQveXjowt",
        "izQjEpmWmDxo",
        "NkPkp8PWrCqW",
        "Kvc5oka_sqx3",
        "22CuK8bS3eCf",
        "qb2j5jGPNUGx",
        "9Dz_YLr4NeHx",
        "uTJMSKiAQUpx",
        "M6RPGT7ZgrdX",
        "uHMiL9tSQzNt",
        "SjWo38NXbuVJ",
        "-h9GzFtLbrzt",
        "I3sK8wfkjWH-",
        "KXA7cHhnclAP",
        "avbD-L-WpbBw"
      ],
      "include_colab_link": true
    },
    "kernelspec": {
      "name": "python3",
      "display_name": "Python 3"
    }
  },
  "cells": [
    {
      "cell_type": "markdown",
      "metadata": {
        "id": "view-in-github",
        "colab_type": "text"
      },
      "source": [
        "<a href=\"https://colab.research.google.com/github/Kyotaro65/Used_Cars_Price_Prediction/blob/main/Used_Cars_Price_Pred.ipynb\" target=\"_parent\"><img src=\"https://colab.research.google.com/assets/colab-badge.svg\" alt=\"Open In Colab\"/></a>"
      ]
    },
    {
      "cell_type": "markdown",
      "metadata": {
        "id": "GCLMeBssu8GQ"
      },
      "source": [
        "# Used Cars Price Prediction"
      ]
    },
    {
      "cell_type": "markdown",
      "metadata": {
        "id": "JhufDvB83ZlO"
      },
      "source": [
        "##準備"
      ]
    },
    {
      "cell_type": "markdown",
      "metadata": {
        "id": "7Qn_aD1Vrj-U"
      },
      "source": [
        "###インポートなど"
      ]
    },
    {
      "cell_type": "code",
      "metadata": {
        "colab": {
          "base_uri": "https://localhost:8080/"
        },
        "id": "9CTjGsJGvzP7",
        "outputId": "174f0527-c8bd-41d8-8428-64005953291b"
      },
      "source": [
        "#これを実行して指示に従い、ドライブをマウントしてください\r\n",
        "from google.colab import drive\r\n",
        "drive.mount('/content/drive')"
      ],
      "execution_count": null,
      "outputs": [
        {
          "output_type": "stream",
          "text": [
            "Drive already mounted at /content/drive; to attempt to forcibly remount, call drive.mount(\"/content/drive\", force_remount=True).\n"
          ],
          "name": "stdout"
        }
      ]
    },
    {
      "cell_type": "code",
      "metadata": {
        "id": "VslJL4IDSb6V"
      },
      "source": [
        "#必要なモジュールのインポート\r\n",
        "import numpy as np\r\n",
        "import pandas as pd\r\n",
        "import matplotlib.pyplot as plt\r\n",
        "import seaborn as sns\r\n",
        "sns.set_style('whitegrid')"
      ],
      "execution_count": null,
      "outputs": []
    },
    {
      "cell_type": "code",
      "metadata": {
        "id": "1_KqyvtuwD0E",
        "colab": {
          "base_uri": "https://localhost:8080/"
        },
        "outputId": "4e3de64c-715e-470e-d03b-071ac9336525"
      },
      "source": [
        "#train-data.csvのパスを作るための処理\r\n",
        "path=!find / -name 'Used_Cars_Price_Prediction'\r\n",
        "print(path[-1])"
      ],
      "execution_count": null,
      "outputs": [
        {
          "output_type": "stream",
          "text": [
            "/content/drive/MyDrive/github/Used_Cars_Price_Prediction\n"
          ],
          "name": "stdout"
        }
      ]
    },
    {
      "cell_type": "markdown",
      "metadata": {
        "id": "jHvyNWmRdoZl"
      },
      "source": [
        "### データの読み込みと確認"
      ]
    },
    {
      "cell_type": "markdown",
      "metadata": {
        "id": "qbMTs_7XZhzQ"
      },
      "source": [
        "データの取得元はkaggle上の以下のページです。\r\n",
        "\r\n",
        "https://www.kaggle.com/avikasliwal/used-cars-price-prediction"
      ]
    },
    {
      "cell_type": "code",
      "metadata": {
        "colab": {
          "base_uri": "https://localhost:8080/"
        },
        "id": "ki3tlIjth1kh",
        "outputId": "b6ff6a11-b21f-4760-b192-0572e06db51e"
      },
      "source": [
        "#CSVファイルをpandas.DataFrameにします。\r\n",
        "df=pd.read_csv(path[-1]+'/train-data.csv')\r\n",
        "df.head()"
      ],
      "execution_count": null,
      "outputs": [
        {
          "output_type": "execute_result",
          "data": {
            "text/html": [
              "<div>\n",
              "<style scoped>\n",
              "    .dataframe tbody tr th:only-of-type {\n",
              "        vertical-align: middle;\n",
              "    }\n",
              "\n",
              "    .dataframe tbody tr th {\n",
              "        vertical-align: top;\n",
              "    }\n",
              "\n",
              "    .dataframe thead th {\n",
              "        text-align: right;\n",
              "    }\n",
              "</style>\n",
              "<table border=\"1\" class=\"dataframe\">\n",
              "  <thead>\n",
              "    <tr style=\"text-align: right;\">\n",
              "      <th></th>\n",
              "      <th>Unnamed: 0</th>\n",
              "      <th>Name</th>\n",
              "      <th>Location</th>\n",
              "      <th>Year</th>\n",
              "      <th>Kilometers_Driven</th>\n",
              "      <th>Fuel_Type</th>\n",
              "      <th>Transmission</th>\n",
              "      <th>Owner_Type</th>\n",
              "      <th>Mileage</th>\n",
              "      <th>Engine</th>\n",
              "      <th>Power</th>\n",
              "      <th>Seats</th>\n",
              "      <th>New_Price</th>\n",
              "      <th>Price</th>\n",
              "    </tr>\n",
              "  </thead>\n",
              "  <tbody>\n",
              "    <tr>\n",
              "      <th>0</th>\n",
              "      <td>0</td>\n",
              "      <td>Maruti Wagon R LXI CNG</td>\n",
              "      <td>Mumbai</td>\n",
              "      <td>2010</td>\n",
              "      <td>72000</td>\n",
              "      <td>CNG</td>\n",
              "      <td>Manual</td>\n",
              "      <td>First</td>\n",
              "      <td>26.6 km/kg</td>\n",
              "      <td>998 CC</td>\n",
              "      <td>58.16 bhp</td>\n",
              "      <td>5.0</td>\n",
              "      <td>NaN</td>\n",
              "      <td>1.75</td>\n",
              "    </tr>\n",
              "    <tr>\n",
              "      <th>1</th>\n",
              "      <td>1</td>\n",
              "      <td>Hyundai Creta 1.6 CRDi SX Option</td>\n",
              "      <td>Pune</td>\n",
              "      <td>2015</td>\n",
              "      <td>41000</td>\n",
              "      <td>Diesel</td>\n",
              "      <td>Manual</td>\n",
              "      <td>First</td>\n",
              "      <td>19.67 kmpl</td>\n",
              "      <td>1582 CC</td>\n",
              "      <td>126.2 bhp</td>\n",
              "      <td>5.0</td>\n",
              "      <td>NaN</td>\n",
              "      <td>12.50</td>\n",
              "    </tr>\n",
              "    <tr>\n",
              "      <th>2</th>\n",
              "      <td>2</td>\n",
              "      <td>Honda Jazz V</td>\n",
              "      <td>Chennai</td>\n",
              "      <td>2011</td>\n",
              "      <td>46000</td>\n",
              "      <td>Petrol</td>\n",
              "      <td>Manual</td>\n",
              "      <td>First</td>\n",
              "      <td>18.2 kmpl</td>\n",
              "      <td>1199 CC</td>\n",
              "      <td>88.7 bhp</td>\n",
              "      <td>5.0</td>\n",
              "      <td>8.61 Lakh</td>\n",
              "      <td>4.50</td>\n",
              "    </tr>\n",
              "    <tr>\n",
              "      <th>3</th>\n",
              "      <td>3</td>\n",
              "      <td>Maruti Ertiga VDI</td>\n",
              "      <td>Chennai</td>\n",
              "      <td>2012</td>\n",
              "      <td>87000</td>\n",
              "      <td>Diesel</td>\n",
              "      <td>Manual</td>\n",
              "      <td>First</td>\n",
              "      <td>20.77 kmpl</td>\n",
              "      <td>1248 CC</td>\n",
              "      <td>88.76 bhp</td>\n",
              "      <td>7.0</td>\n",
              "      <td>NaN</td>\n",
              "      <td>6.00</td>\n",
              "    </tr>\n",
              "    <tr>\n",
              "      <th>4</th>\n",
              "      <td>4</td>\n",
              "      <td>Audi A4 New 2.0 TDI Multitronic</td>\n",
              "      <td>Coimbatore</td>\n",
              "      <td>2013</td>\n",
              "      <td>40670</td>\n",
              "      <td>Diesel</td>\n",
              "      <td>Automatic</td>\n",
              "      <td>Second</td>\n",
              "      <td>15.2 kmpl</td>\n",
              "      <td>1968 CC</td>\n",
              "      <td>140.8 bhp</td>\n",
              "      <td>5.0</td>\n",
              "      <td>NaN</td>\n",
              "      <td>17.74</td>\n",
              "    </tr>\n",
              "  </tbody>\n",
              "</table>\n",
              "</div>"
            ],
            "text/plain": [
              "   Unnamed: 0                              Name  ...  New_Price  Price\n",
              "0           0            Maruti Wagon R LXI CNG  ...        NaN   1.75\n",
              "1           1  Hyundai Creta 1.6 CRDi SX Option  ...        NaN  12.50\n",
              "2           2                      Honda Jazz V  ...  8.61 Lakh   4.50\n",
              "3           3                 Maruti Ertiga VDI  ...        NaN   6.00\n",
              "4           4   Audi A4 New 2.0 TDI Multitronic  ...        NaN  17.74\n",
              "\n",
              "[5 rows x 14 columns]"
            ]
          },
          "metadata": {
            "tags": []
          },
          "execution_count": 1788
        }
      ]
    },
    {
      "cell_type": "markdown",
      "metadata": {
        "id": "7gas9dlB_wkP"
      },
      "source": [
        "上記のように、行が各中古車を表し、列にはその中古車の各データが書かれています。"
      ]
    },
    {
      "cell_type": "markdown",
      "metadata": {
        "id": "lqP36FZk4FZT"
      },
      "source": [
        "もし、上のデータ読み込みがうまくいかない場合は画面の左側のフォルダアイコンをクリックし、\r\n",
        "\r\n",
        "drive>MyDrive>...\r\n",
        "\r\n",
        "と開いていってUsed_Cars_Price_Predictionフォルダ内のtrain-data.csvファイルを見つけてください。これを右クリックし、「パスをコピー」を選んで下記のコードの1行目の(' ')の中に張り付けてください。\r\n",
        "\r\n",
        "df=pd.read_csv('/content/drive/MyDrive/.../Used_Cars_Price_Prediction/train-data.csv')\r\n",
        "\r\n",
        "という形にして、2行ともコメントアウト(#)を外して実行してください。"
      ]
    },
    {
      "cell_type": "code",
      "metadata": {
        "id": "c_1t7WJD4YhM"
      },
      "source": [
        "#df=pd.read_csv('')\r\n",
        "#df.head()"
      ],
      "execution_count": null,
      "outputs": []
    },
    {
      "cell_type": "code",
      "metadata": {
        "id": "T1nPqI_-nfJg",
        "colab": {
          "base_uri": "https://localhost:8080/"
        },
        "outputId": "b62a1a82-5fe4-495c-d5a8-2d147d291769"
      },
      "source": [
        "#列の一覧を確認\r\n",
        "df.columns"
      ],
      "execution_count": null,
      "outputs": [
        {
          "output_type": "execute_result",
          "data": {
            "text/plain": [
              "Index(['Unnamed: 0', 'Name', 'Location', 'Year', 'Kilometers_Driven',\n",
              "       'Fuel_Type', 'Transmission', 'Owner_Type', 'Mileage', 'Engine', 'Power',\n",
              "       'Seats', 'New_Price', 'Price'],\n",
              "      dtype='object')"
            ]
          },
          "metadata": {
            "tags": []
          },
          "execution_count": 1790
        }
      ]
    },
    {
      "cell_type": "markdown",
      "metadata": {
        "id": "r8fKeoobAn8O"
      },
      "source": [
        "各列は、行番号　,　車種名　,　中古車の所在地(インド国内の地域)　,　年(西暦)　　 総走行距離(km)　,　燃料の種類　,　マニュアルまたはオートマ　,　前オーナー人数　,　燃費(km/Lまたはkm/kg)　,　排気量(cc)　,　馬力(bhp)　,　席数　,　値段(十万インド・ルピー≓14万円)　を表しています。\r\n",
        "\r\n",
        "各列(各特徴量)の説明は[kaggle上のページ](https://www.kaggle.com/avikasliwal/used-cars-price-prediction)に記載してあります。"
      ]
    },
    {
      "cell_type": "markdown",
      "metadata": {
        "id": "2WgTtGHU9P9u"
      },
      "source": [
        "まず、'Unnamed: 0'の列はその行の番号を表しているだけなので切り落とします。"
      ]
    },
    {
      "cell_type": "code",
      "metadata": {
        "id": "l2cSG4hK9PkB"
      },
      "source": [
        "df=df.drop(columns='Unnamed: 0')"
      ],
      "execution_count": null,
      "outputs": []
    },
    {
      "cell_type": "code",
      "metadata": {
        "colab": {
          "base_uri": "https://localhost:8080/"
        },
        "id": "FJfA-N6roKHF",
        "outputId": "45c6e9a5-cd3a-4f77-c337-d8d349f89cc4"
      },
      "source": [
        "#(行数,列数)を確認\r\n",
        "df.shape"
      ],
      "execution_count": null,
      "outputs": [
        {
          "output_type": "execute_result",
          "data": {
            "text/plain": [
              "(6019, 13)"
            ]
          },
          "metadata": {
            "tags": []
          },
          "execution_count": 1792
        }
      ]
    },
    {
      "cell_type": "code",
      "metadata": {
        "colab": {
          "base_uri": "https://localhost:8080/"
        },
        "id": "pOfeGfAHgIDA",
        "outputId": "8483f0f1-cde1-48b6-8a20-8ca576f1f21b"
      },
      "source": [
        "#データの型と欠損値を確認\r\n",
        "df.info()"
      ],
      "execution_count": null,
      "outputs": [
        {
          "output_type": "stream",
          "text": [
            "<class 'pandas.core.frame.DataFrame'>\n",
            "RangeIndex: 6019 entries, 0 to 6018\n",
            "Data columns (total 13 columns):\n",
            " #   Column             Non-Null Count  Dtype  \n",
            "---  ------             --------------  -----  \n",
            " 0   Name               6019 non-null   object \n",
            " 1   Location           6019 non-null   object \n",
            " 2   Year               6019 non-null   int64  \n",
            " 3   Kilometers_Driven  6019 non-null   int64  \n",
            " 4   Fuel_Type          6019 non-null   object \n",
            " 5   Transmission       6019 non-null   object \n",
            " 6   Owner_Type         6019 non-null   object \n",
            " 7   Mileage            6017 non-null   object \n",
            " 8   Engine             5983 non-null   object \n",
            " 9   Power              5983 non-null   object \n",
            " 10  Seats              5977 non-null   float64\n",
            " 11  New_Price          824 non-null    object \n",
            " 12  Price              6019 non-null   float64\n",
            "dtypes: float64(2), int64(2), object(9)\n",
            "memory usage: 611.4+ KB\n"
          ],
          "name": "stdout"
        }
      ]
    },
    {
      "cell_type": "markdown",
      "metadata": {
        "id": "AJ2x9OzDog7F"
      },
      "source": [
        "##前処理"
      ]
    },
    {
      "cell_type": "markdown",
      "metadata": {
        "id": "-fk-oX8O8t_w"
      },
      "source": [
        "###欠損値の処理\r\n",
        "欠損値となっているデータをどう扱うか決めていきます。"
      ]
    },
    {
      "cell_type": "code",
      "metadata": {
        "colab": {
          "base_uri": "https://localhost:8080/"
        },
        "id": "YYjYcCrAogR2",
        "outputId": "e6af6bee-9ab7-433e-d323-e5803b7b5ead"
      },
      "source": [
        "#各列で、欠損値の数を数えます\r\n",
        "df.isnull().sum()"
      ],
      "execution_count": null,
      "outputs": [
        {
          "output_type": "execute_result",
          "data": {
            "text/plain": [
              "Name                    0\n",
              "Location                0\n",
              "Year                    0\n",
              "Kilometers_Driven       0\n",
              "Fuel_Type               0\n",
              "Transmission            0\n",
              "Owner_Type              0\n",
              "Mileage                 2\n",
              "Engine                 36\n",
              "Power                  36\n",
              "Seats                  42\n",
              "New_Price            5195\n",
              "Price                   0\n",
              "dtype: int64"
            ]
          },
          "metadata": {
            "tags": []
          },
          "execution_count": 1794
        }
      ]
    },
    {
      "cell_type": "markdown",
      "metadata": {
        "id": "CLuvEMrM8yQa"
      },
      "source": [
        "'New_Price'の列は欠損値が多すぎて意味をなさないのでこの列を切り落とします。"
      ]
    },
    {
      "cell_type": "code",
      "metadata": {
        "id": "B14L4RJrovQ8"
      },
      "source": [
        "df=df.drop(columns='New_Price')"
      ],
      "execution_count": null,
      "outputs": []
    },
    {
      "cell_type": "markdown",
      "metadata": {
        "id": "OHCFowPu-YIS"
      },
      "source": [
        "'Mileage','Engine','Power','Seats'の列は欠損値がそれほど多くないので、欠損値を含む行をすべて削除してしまいます。"
      ]
    },
    {
      "cell_type": "code",
      "metadata": {
        "colab": {
          "base_uri": "https://localhost:8080/"
        },
        "id": "x4wGuI0Ct0wn",
        "outputId": "8eac2424-5ab4-41e9-fd67-8890779a1012"
      },
      "source": [
        "df=df.dropna()\r\n",
        "df.shape"
      ],
      "execution_count": null,
      "outputs": [
        {
          "output_type": "execute_result",
          "data": {
            "text/plain": [
              "(5975, 12)"
            ]
          },
          "metadata": {
            "tags": []
          },
          "execution_count": 1796
        }
      ]
    },
    {
      "cell_type": "code",
      "metadata": {
        "colab": {
          "base_uri": "https://localhost:8080/"
        },
        "id": "Ot2G7ZlDuzso",
        "outputId": "1043f8a9-5ff9-4007-ca6d-4d47e2ea46f0"
      },
      "source": [
        "df.info()"
      ],
      "execution_count": null,
      "outputs": [
        {
          "output_type": "stream",
          "text": [
            "<class 'pandas.core.frame.DataFrame'>\n",
            "Int64Index: 5975 entries, 0 to 6018\n",
            "Data columns (total 12 columns):\n",
            " #   Column             Non-Null Count  Dtype  \n",
            "---  ------             --------------  -----  \n",
            " 0   Name               5975 non-null   object \n",
            " 1   Location           5975 non-null   object \n",
            " 2   Year               5975 non-null   int64  \n",
            " 3   Kilometers_Driven  5975 non-null   int64  \n",
            " 4   Fuel_Type          5975 non-null   object \n",
            " 5   Transmission       5975 non-null   object \n",
            " 6   Owner_Type         5975 non-null   object \n",
            " 7   Mileage            5975 non-null   object \n",
            " 8   Engine             5975 non-null   object \n",
            " 9   Power              5975 non-null   object \n",
            " 10  Seats              5975 non-null   float64\n",
            " 11  Price              5975 non-null   float64\n",
            "dtypes: float64(2), int64(2), object(8)\n",
            "memory usage: 606.8+ KB\n"
          ],
          "name": "stdout"
        }
      ]
    },
    {
      "cell_type": "code",
      "metadata": {
        "colab": {
          "base_uri": "https://localhost:8080/"
        },
        "id": "oJfToaz9-5ib",
        "outputId": "46ad3b01-00fc-4b0e-cd17-1af879b33cc1"
      },
      "source": [
        "df.isnull().sum()"
      ],
      "execution_count": null,
      "outputs": [
        {
          "output_type": "execute_result",
          "data": {
            "text/plain": [
              "Name                 0\n",
              "Location             0\n",
              "Year                 0\n",
              "Kilometers_Driven    0\n",
              "Fuel_Type            0\n",
              "Transmission         0\n",
              "Owner_Type           0\n",
              "Mileage              0\n",
              "Engine               0\n",
              "Power                0\n",
              "Seats                0\n",
              "Price                0\n",
              "dtype: int64"
            ]
          },
          "metadata": {
            "tags": []
          },
          "execution_count": 1798
        }
      ]
    },
    {
      "cell_type": "markdown",
      "metadata": {
        "id": "d_NOqg2O--0E"
      },
      "source": [
        "これで欠損値がなくなったことが確認できました。"
      ]
    },
    {
      "cell_type": "markdown",
      "metadata": {
        "id": "zeDW99XK_RI7"
      },
      "source": [
        "### 各列を使用可能な数値データに変換"
      ]
    },
    {
      "cell_type": "markdown",
      "metadata": {
        "id": "JPgDatiZiNgv"
      },
      "source": [
        "#### 'Owner_Type'について\r\n"
      ]
    },
    {
      "cell_type": "markdown",
      "metadata": {
        "id": "gXxAk04dYa0r"
      },
      "source": [
        "'Owner_Type'は、[kaggle上のページ](https://www.kaggle.com/avikasliwal/used-cars-price-prediction)の説明より、前のオーナーの数を表します。\r\n",
        "\r\n",
        "序数で書かれているので、First,Second,...を、数値型の1,2,...に変換します。\r\n",
        "\r\n",
        "まず、どんな値を取っているのか調べます。"
      ]
    },
    {
      "cell_type": "code",
      "metadata": {
        "colab": {
          "base_uri": "https://localhost:8080/"
        },
        "id": "JNtnK_7DjXlH",
        "outputId": "c1fe294b-9c4e-4d6c-b167-48ca1475a393"
      },
      "source": [
        "df['Owner_Type'].value_counts()"
      ],
      "execution_count": null,
      "outputs": [
        {
          "output_type": "execute_result",
          "data": {
            "text/plain": [
              "First             4903\n",
              "Second             953\n",
              "Third              111\n",
              "Fourth & Above       8\n",
              "Name: Owner_Type, dtype: int64"
            ]
          },
          "metadata": {
            "tags": []
          },
          "execution_count": 1799
        }
      ]
    },
    {
      "cell_type": "markdown",
      "metadata": {
        "id": "ox5FI3sma0ex"
      },
      "source": [
        "取る値とその回数が確認できたので、First,Second,Third,Fourth & Aboveを、それぞれ1,2,3,4に変換することにします。\r\n",
        "\r\n",
        "数値は整数型にします。\r\n",
        "\r\n"
      ]
    },
    {
      "cell_type": "code",
      "metadata": {
        "colab": {
          "base_uri": "https://localhost:8080/"
        },
        "id": "UFkbgicJjHfr",
        "outputId": "ad940250-caa7-48b7-bc16-f5fd6f219b27"
      },
      "source": [
        "df['Owner_Type'] = df['Owner_Type'].str.replace('First','1').replace('Second','2').replace('Third','3').replace('Fourth & Above','4')\r\n",
        "df['Owner_Type'] = df['Owner_Type'].astype(int)\r\n",
        "df.head()"
      ],
      "execution_count": null,
      "outputs": [
        {
          "output_type": "execute_result",
          "data": {
            "text/html": [
              "<div>\n",
              "<style scoped>\n",
              "    .dataframe tbody tr th:only-of-type {\n",
              "        vertical-align: middle;\n",
              "    }\n",
              "\n",
              "    .dataframe tbody tr th {\n",
              "        vertical-align: top;\n",
              "    }\n",
              "\n",
              "    .dataframe thead th {\n",
              "        text-align: right;\n",
              "    }\n",
              "</style>\n",
              "<table border=\"1\" class=\"dataframe\">\n",
              "  <thead>\n",
              "    <tr style=\"text-align: right;\">\n",
              "      <th></th>\n",
              "      <th>Name</th>\n",
              "      <th>Location</th>\n",
              "      <th>Year</th>\n",
              "      <th>Kilometers_Driven</th>\n",
              "      <th>Fuel_Type</th>\n",
              "      <th>Transmission</th>\n",
              "      <th>Owner_Type</th>\n",
              "      <th>Mileage</th>\n",
              "      <th>Engine</th>\n",
              "      <th>Power</th>\n",
              "      <th>Seats</th>\n",
              "      <th>Price</th>\n",
              "    </tr>\n",
              "  </thead>\n",
              "  <tbody>\n",
              "    <tr>\n",
              "      <th>0</th>\n",
              "      <td>Maruti Wagon R LXI CNG</td>\n",
              "      <td>Mumbai</td>\n",
              "      <td>2010</td>\n",
              "      <td>72000</td>\n",
              "      <td>CNG</td>\n",
              "      <td>Manual</td>\n",
              "      <td>1</td>\n",
              "      <td>26.6 km/kg</td>\n",
              "      <td>998 CC</td>\n",
              "      <td>58.16 bhp</td>\n",
              "      <td>5.0</td>\n",
              "      <td>1.75</td>\n",
              "    </tr>\n",
              "    <tr>\n",
              "      <th>1</th>\n",
              "      <td>Hyundai Creta 1.6 CRDi SX Option</td>\n",
              "      <td>Pune</td>\n",
              "      <td>2015</td>\n",
              "      <td>41000</td>\n",
              "      <td>Diesel</td>\n",
              "      <td>Manual</td>\n",
              "      <td>1</td>\n",
              "      <td>19.67 kmpl</td>\n",
              "      <td>1582 CC</td>\n",
              "      <td>126.2 bhp</td>\n",
              "      <td>5.0</td>\n",
              "      <td>12.50</td>\n",
              "    </tr>\n",
              "    <tr>\n",
              "      <th>2</th>\n",
              "      <td>Honda Jazz V</td>\n",
              "      <td>Chennai</td>\n",
              "      <td>2011</td>\n",
              "      <td>46000</td>\n",
              "      <td>Petrol</td>\n",
              "      <td>Manual</td>\n",
              "      <td>1</td>\n",
              "      <td>18.2 kmpl</td>\n",
              "      <td>1199 CC</td>\n",
              "      <td>88.7 bhp</td>\n",
              "      <td>5.0</td>\n",
              "      <td>4.50</td>\n",
              "    </tr>\n",
              "    <tr>\n",
              "      <th>3</th>\n",
              "      <td>Maruti Ertiga VDI</td>\n",
              "      <td>Chennai</td>\n",
              "      <td>2012</td>\n",
              "      <td>87000</td>\n",
              "      <td>Diesel</td>\n",
              "      <td>Manual</td>\n",
              "      <td>1</td>\n",
              "      <td>20.77 kmpl</td>\n",
              "      <td>1248 CC</td>\n",
              "      <td>88.76 bhp</td>\n",
              "      <td>7.0</td>\n",
              "      <td>6.00</td>\n",
              "    </tr>\n",
              "    <tr>\n",
              "      <th>4</th>\n",
              "      <td>Audi A4 New 2.0 TDI Multitronic</td>\n",
              "      <td>Coimbatore</td>\n",
              "      <td>2013</td>\n",
              "      <td>40670</td>\n",
              "      <td>Diesel</td>\n",
              "      <td>Automatic</td>\n",
              "      <td>2</td>\n",
              "      <td>15.2 kmpl</td>\n",
              "      <td>1968 CC</td>\n",
              "      <td>140.8 bhp</td>\n",
              "      <td>5.0</td>\n",
              "      <td>17.74</td>\n",
              "    </tr>\n",
              "  </tbody>\n",
              "</table>\n",
              "</div>"
            ],
            "text/plain": [
              "                               Name    Location  Year  ...      Power Seats  Price\n",
              "0            Maruti Wagon R LXI CNG      Mumbai  2010  ...  58.16 bhp   5.0   1.75\n",
              "1  Hyundai Creta 1.6 CRDi SX Option        Pune  2015  ...  126.2 bhp   5.0  12.50\n",
              "2                      Honda Jazz V     Chennai  2011  ...   88.7 bhp   5.0   4.50\n",
              "3                 Maruti Ertiga VDI     Chennai  2012  ...  88.76 bhp   7.0   6.00\n",
              "4   Audi A4 New 2.0 TDI Multitronic  Coimbatore  2013  ...  140.8 bhp   5.0  17.74\n",
              "\n",
              "[5 rows x 12 columns]"
            ]
          },
          "metadata": {
            "tags": []
          },
          "execution_count": 1800
        }
      ]
    },
    {
      "cell_type": "markdown",
      "metadata": {
        "id": "DTMVkYUoEcaI"
      },
      "source": [
        "####'Mileage'について\r\n",
        "0行目は単位km/kgで、1～4行目はkmplつまりkm/Lで書かれていることが確認できます。\r\n",
        "\r\n",
        "まず、それぞれの単位で書かれたデータの数を数えます。"
      ]
    },
    {
      "cell_type": "code",
      "metadata": {
        "colab": {
          "base_uri": "https://localhost:8080/"
        },
        "id": "Ky_3_8oJ3AOe",
        "outputId": "87d3bd13-b24c-4be5-9090-dd1066019696"
      },
      "source": [
        "kmpkg=0\r\n",
        "kmpl=0\r\n",
        "other_mi=0\r\n",
        "for i in df['Mileage']:\r\n",
        "    if str(i).endswith(\" km/kg\"):\r\n",
        "      kmpkg+=1\r\n",
        "    elif str(i).endswith(\" kmpl\"):\r\n",
        "      kmpl+=1\r\n",
        "    else:\r\n",
        "      other_mi+=1\r\n",
        "\r\n",
        "print(\"km/kgで書かれたデータは\",kmpkg,\"コ\")\r\n",
        "print(\"km/Lで書かれたデータは\",kmpl,\"コ\")\r\n",
        "print(\"それ以外の単位で書かれたデータは\",other_mi,\"コ\")"
      ],
      "execution_count": null,
      "outputs": [
        {
          "output_type": "stream",
          "text": [
            "km/kgで書かれたデータは 66 コ\n",
            "km/Lで書かれたデータは 5909 コ\n",
            "それ以外の単位で書かれたデータは 0 コ\n"
          ],
          "name": "stdout"
        }
      ]
    },
    {
      "cell_type": "markdown",
      "metadata": {
        "id": "Uw7aVrabJ-S2"
      },
      "source": [
        "燃費の単位は燃料の種類によって違うことが考えられるので、まずデータ全体で各燃料種類の車の数を数えます。"
      ]
    },
    {
      "cell_type": "code",
      "metadata": {
        "colab": {
          "base_uri": "https://localhost:8080/"
        },
        "id": "2F8uELrkL555",
        "outputId": "95b891bd-00de-4ff2-958a-755dda81fc9f"
      },
      "source": [
        "df['Fuel_Type'].value_counts()"
      ],
      "execution_count": null,
      "outputs": [
        {
          "output_type": "execute_result",
          "data": {
            "text/plain": [
              "Diesel    3195\n",
              "Petrol    2714\n",
              "CNG         56\n",
              "LPG         10\n",
              "Name: Fuel_Type, dtype: int64"
            ]
          },
          "metadata": {
            "tags": []
          },
          "execution_count": 1802
        }
      ]
    },
    {
      "cell_type": "markdown",
      "metadata": {
        "id": "jL-4GuP3MQDq"
      },
      "source": [
        "次に燃費の単位ごとに各燃料種類の車の数を数えます。"
      ]
    },
    {
      "cell_type": "code",
      "metadata": {
        "colab": {
          "base_uri": "https://localhost:8080/"
        },
        "id": "zUYFGjYJJ-G7",
        "outputId": "bc56af27-85f1-4402-f256-f42e781f6f6c"
      },
      "source": [
        "df_kmpkg=df.query('Mileage.str.endswith(\"km/kg\")',engine='python')\r\n",
        "df_kmpl=df.query('Mileage.str.endswith(\"kmpl\")',engine='python')\r\n",
        "\r\n",
        "print(\"km/kgで書かれた中古車の燃料種類\")\r\n",
        "print(df_kmpkg['Fuel_Type'].value_counts())\r\n",
        "print(\"-----------------------------------\")\r\n",
        "print(\"km/Lで書かれた中古車の燃料種類\")\r\n",
        "print(df_kmpl['Fuel_Type'].value_counts())"
      ],
      "execution_count": null,
      "outputs": [
        {
          "output_type": "stream",
          "text": [
            "km/kgで書かれた中古車の燃料種類\n",
            "CNG    56\n",
            "LPG    10\n",
            "Name: Fuel_Type, dtype: int64\n",
            "-----------------------------------\n",
            "km/Lで書かれた中古車の燃料種類\n",
            "Diesel    3195\n",
            "Petrol    2714\n",
            "Name: Fuel_Type, dtype: int64\n"
          ],
          "name": "stdout"
        }
      ]
    },
    {
      "cell_type": "markdown",
      "metadata": {
        "id": "OZ0w5nymFJeH"
      },
      "source": [
        "km/kgで書かれているのはCNGとLPGの車\r\n",
        "\r\n",
        "㎞/Lで書かれているのは軽油とガソリンの車\r\n",
        "\r\n",
        "とわかります。\r\n",
        "\r\n",
        "\r\n",
        "\r\n"
      ]
    },
    {
      "cell_type": "markdown",
      "metadata": {
        "id": "a5NyB422Ouwu"
      },
      "source": [
        "##### 'Mileage'の単位換算\r\n",
        "Petrol: 0.9\\$/L , Diesel: 1.0\\$/L , CNG: 1.5\\$/kg , LPG: 1.5\\$/kg"
      ]
    },
    {
      "cell_type": "markdown",
      "metadata": {
        "id": "LVeGiAkOigKq"
      },
      "source": [
        "全てを一律に比べるため、今回は燃料1USドル分で走れる距離(km/\\$)を燃費の単位とします。\r\n",
        "\r\n",
        "そのために各燃料の単価を求めます。\r\n",
        "\r\n",
        "'Location'から分かる通りインドの市場、[データの更新時期は2019年](https://www.kaggle.com/avikasliwal/used-cars-price-prediction)なので、\r\n",
        "\r\n",
        "今回、2019年のガソリンと自動車用軽油にはインドの価格を用います。\r\n",
        "\r\n",
        "2019/12/09時点で1L当たりガソリンは75ルピー、軽油は66.04ルピーで、当時のレート(1ルピー=0.014USD)から、それぞれ1.0\\$/L,0.9\\$/Lです。\r\n",
        "\r\n",
        "\r\n",
        "CNGとLPGはインドの価格に関する資料が見つからなかったので、国内の小売価格を参考にします。\r\n",
        "\r\n",
        "<br>\r\n",
        "\r\n",
        "*   ガソリン(Petrol): 1.0 \\$/L\r\n",
        "*   自動車用軽油(Diesel): 0.9 \\$/L\r\n",
        "*   圧縮天然ガス(CNG): 1.5 \\$/kg\r\n",
        "*   液化石油ガス(オートガス,LPG): 1.5 \\$/kg\r\n",
        "\r\n",
        "<br>\r\n",
        "(説明)\r\n",
        "\r\n",
        "\r\n",
        "CNGはメタン(ガス密度約0.7kg/m³)を主成分とした天然ガスを20MPaで圧縮したものです。\r\n",
        "\r\n",
        "価格は105円/m³(標準状態) , ガス密度は標準状態でメタンと同じ0.7kg/m³として、\r\n",
        "\r\n",
        "150円/kg ≓ 1.5\\$/kg\r\n",
        "\r\n",
        "<br>\r\n",
        "\r\n",
        "LPG(オートガス)はブタン(液密度約580kg/m³)が主成分です。\r\n",
        "\r\n",
        "価格は86円/L , 液密度は580kg/m³ , 1m³=1000L として、\r\n",
        "\r\n",
        "約148円/kg ≓ 1.5\\$/kg\r\n",
        "\r\n",
        "<br>\r\n",
        "\r\n",
        "######参考文献\r\n",
        "\r\n",
        "\r\n",
        "\r\n",
        "  \r\n",
        "\r\n",
        "\r\n",
        "\r\n",
        "\r\n",
        "\r\n",
        "\r\n",
        "\r\n",
        "\r\n"
      ]
    },
    {
      "cell_type": "markdown",
      "metadata": {
        "id": "jv1UdOvSONpK"
      },
      "source": [
        "1. NNA ASIA   アジア経済ニュース\r\n",
        "\r\n",
        "  ガソリンが75ルピーに値上がり、１年ぶり (2019/12/11（水）)\r\n",
        "  \r\n",
        "  https://www.nna.jp/news/show/1984842\r\n",
        "\r\n",
        "  [アクセス日: 2021/01/30]\r\n",
        "\r\n",
        "2.   大阪ガス\r\n",
        "\r\n",
        "  天然ガス自動車＞CNG基本単価\r\n",
        "\r\n",
        "  https://ene.osakagas.co.jp/product/ngv/users/cng_price.html\r\n",
        "\r\n",
        "  [アクセス日: 2021/01/30]\r\n",
        "\r\n",
        "3.  国際石油開発帝石\r\n",
        "\r\n",
        "  天然ガスの成分構造\r\n",
        "\r\n",
        "  https://www.inpex.co.jp/museum/01/02.html\r\n",
        "\r\n",
        "  [アクセス日: 2021/01/30]\r\n",
        "\r\n",
        "4.  JOGMEC 独立行政法人石油天然ガス・金属鉱物資源機構\r\n",
        "\r\n",
        "  石油・天然ガス資源情報\r\n",
        "\r\n",
        "  圧縮天然ガス\r\n",
        "\r\n",
        "  https://oilgas-info.jogmec.go.jp/termlist/1000201/1000216.html\r\n",
        "\r\n",
        "  [アクセス日: 2021/01/30]\r\n",
        "　\r\n",
        "5.  日本LPガス協会\r\n",
        "\r\n",
        "  LPガスの概要＞LPガスの性質\r\n",
        "\r\n",
        "  https://www.j-lpgas.gr.jp/intr/seishitsu.html\r\n",
        "\r\n",
        "  [アクセス日: 2021/01/30]\r\n",
        "\r\n",
        "6. 財団法人 日本エネルギー経済研究所 石油情報センター\r\n",
        "\r\n",
        "  価格情報＞オートガス\r\n",
        "\r\n",
        "  https://oil-info.ieej.or.jp/price/price.html\r\n",
        "\r\n",
        "  https://oil-info.ieej.or.jp/price/data/autogas.xls\r\n",
        "\r\n",
        "  [アクセス日: 2021/01/30]\r\n",
        "\r\n",
        "7. JPH10121069A - オートガス組成物 - Google Patents\r\n",
        "\r\n",
        "  https://patents.google.com/patent/JPH10121069A/ja\r\n",
        "\r\n",
        "  [アクセス日: 2021/01/30]"
      ]
    },
    {
      "cell_type": "markdown",
      "metadata": {
        "id": "jlbuEPGbOiEC"
      },
      "source": [
        "##### 'Mileage'の値の書き換え"
      ]
    },
    {
      "cell_type": "code",
      "metadata": {
        "id": "-DyJlVqXOa50"
      },
      "source": [
        "#以下の4値を書き換えると各燃料の単価を変更できます。\r\n",
        "pet_dpl=1.0\r\n",
        "die_dpl=0.9\r\n",
        "cng_dpkg=1.5\r\n",
        "lpg_dpkg=1.5\r\n",
        "#国内のみでも試算"
      ],
      "execution_count": null,
      "outputs": []
    },
    {
      "cell_type": "markdown",
      "metadata": {
        "id": "SXP8X_t-aEpX"
      },
      "source": [
        "'Mileage'から単位表記を消し、さらに数値として扱うため浮動小数点型に変換したものを、新たに'Mileage_flo'列として加えます。"
      ]
    },
    {
      "cell_type": "code",
      "metadata": {
        "colab": {
          "base_uri": "https://localhost:8080/"
        },
        "id": "salr5zXGXgHh",
        "outputId": "3a8f684f-032f-4800-826b-8cbb8b5d3cc4"
      },
      "source": [
        "df['Mileage_flo'] = df['Mileage'].str.replace(' kmpl','')\r\n",
        "df['Mileage_flo'] = df['Mileage_flo'].str.replace(' km/kg','')\r\n",
        "df['Mileage_flo'] = df['Mileage_flo'].astype(float)\r\n",
        "df.head()"
      ],
      "execution_count": null,
      "outputs": [
        {
          "output_type": "execute_result",
          "data": {
            "text/html": [
              "<div>\n",
              "<style scoped>\n",
              "    .dataframe tbody tr th:only-of-type {\n",
              "        vertical-align: middle;\n",
              "    }\n",
              "\n",
              "    .dataframe tbody tr th {\n",
              "        vertical-align: top;\n",
              "    }\n",
              "\n",
              "    .dataframe thead th {\n",
              "        text-align: right;\n",
              "    }\n",
              "</style>\n",
              "<table border=\"1\" class=\"dataframe\">\n",
              "  <thead>\n",
              "    <tr style=\"text-align: right;\">\n",
              "      <th></th>\n",
              "      <th>Name</th>\n",
              "      <th>Location</th>\n",
              "      <th>Year</th>\n",
              "      <th>Kilometers_Driven</th>\n",
              "      <th>Fuel_Type</th>\n",
              "      <th>Transmission</th>\n",
              "      <th>Owner_Type</th>\n",
              "      <th>Mileage</th>\n",
              "      <th>Engine</th>\n",
              "      <th>Power</th>\n",
              "      <th>Seats</th>\n",
              "      <th>Price</th>\n",
              "      <th>Mileage_flo</th>\n",
              "    </tr>\n",
              "  </thead>\n",
              "  <tbody>\n",
              "    <tr>\n",
              "      <th>0</th>\n",
              "      <td>Maruti Wagon R LXI CNG</td>\n",
              "      <td>Mumbai</td>\n",
              "      <td>2010</td>\n",
              "      <td>72000</td>\n",
              "      <td>CNG</td>\n",
              "      <td>Manual</td>\n",
              "      <td>1</td>\n",
              "      <td>26.6 km/kg</td>\n",
              "      <td>998 CC</td>\n",
              "      <td>58.16 bhp</td>\n",
              "      <td>5.0</td>\n",
              "      <td>1.75</td>\n",
              "      <td>26.60</td>\n",
              "    </tr>\n",
              "    <tr>\n",
              "      <th>1</th>\n",
              "      <td>Hyundai Creta 1.6 CRDi SX Option</td>\n",
              "      <td>Pune</td>\n",
              "      <td>2015</td>\n",
              "      <td>41000</td>\n",
              "      <td>Diesel</td>\n",
              "      <td>Manual</td>\n",
              "      <td>1</td>\n",
              "      <td>19.67 kmpl</td>\n",
              "      <td>1582 CC</td>\n",
              "      <td>126.2 bhp</td>\n",
              "      <td>5.0</td>\n",
              "      <td>12.50</td>\n",
              "      <td>19.67</td>\n",
              "    </tr>\n",
              "    <tr>\n",
              "      <th>2</th>\n",
              "      <td>Honda Jazz V</td>\n",
              "      <td>Chennai</td>\n",
              "      <td>2011</td>\n",
              "      <td>46000</td>\n",
              "      <td>Petrol</td>\n",
              "      <td>Manual</td>\n",
              "      <td>1</td>\n",
              "      <td>18.2 kmpl</td>\n",
              "      <td>1199 CC</td>\n",
              "      <td>88.7 bhp</td>\n",
              "      <td>5.0</td>\n",
              "      <td>4.50</td>\n",
              "      <td>18.20</td>\n",
              "    </tr>\n",
              "    <tr>\n",
              "      <th>3</th>\n",
              "      <td>Maruti Ertiga VDI</td>\n",
              "      <td>Chennai</td>\n",
              "      <td>2012</td>\n",
              "      <td>87000</td>\n",
              "      <td>Diesel</td>\n",
              "      <td>Manual</td>\n",
              "      <td>1</td>\n",
              "      <td>20.77 kmpl</td>\n",
              "      <td>1248 CC</td>\n",
              "      <td>88.76 bhp</td>\n",
              "      <td>7.0</td>\n",
              "      <td>6.00</td>\n",
              "      <td>20.77</td>\n",
              "    </tr>\n",
              "    <tr>\n",
              "      <th>4</th>\n",
              "      <td>Audi A4 New 2.0 TDI Multitronic</td>\n",
              "      <td>Coimbatore</td>\n",
              "      <td>2013</td>\n",
              "      <td>40670</td>\n",
              "      <td>Diesel</td>\n",
              "      <td>Automatic</td>\n",
              "      <td>2</td>\n",
              "      <td>15.2 kmpl</td>\n",
              "      <td>1968 CC</td>\n",
              "      <td>140.8 bhp</td>\n",
              "      <td>5.0</td>\n",
              "      <td>17.74</td>\n",
              "      <td>15.20</td>\n",
              "    </tr>\n",
              "  </tbody>\n",
              "</table>\n",
              "</div>"
            ],
            "text/plain": [
              "                               Name    Location  ...  Price  Mileage_flo\n",
              "0            Maruti Wagon R LXI CNG      Mumbai  ...   1.75        26.60\n",
              "1  Hyundai Creta 1.6 CRDi SX Option        Pune  ...  12.50        19.67\n",
              "2                      Honda Jazz V     Chennai  ...   4.50        18.20\n",
              "3                 Maruti Ertiga VDI     Chennai  ...   6.00        20.77\n",
              "4   Audi A4 New 2.0 TDI Multitronic  Coimbatore  ...  17.74        15.20\n",
              "\n",
              "[5 rows x 13 columns]"
            ]
          },
          "metadata": {
            "tags": []
          },
          "execution_count": 1805
        }
      ]
    },
    {
      "cell_type": "markdown",
      "metadata": {
        "id": "LbKO0KJI8Zl7"
      },
      "source": [
        "変換してしまう前に外れ値がないか確認します。"
      ]
    },
    {
      "cell_type": "code",
      "metadata": {
        "colab": {
          "base_uri": "https://localhost:8080/"
        },
        "id": "-HHbv7HS_9dK",
        "outputId": "ad8089b7-cb73-4fba-c341-a139d0bf3695"
      },
      "source": [
        "df['Mileage_flo'].describe()"
      ],
      "execution_count": null,
      "outputs": [
        {
          "output_type": "execute_result",
          "data": {
            "text/plain": [
              "count    5975.000000\n",
              "mean       18.179408\n",
              "std         4.521801\n",
              "min         0.000000\n",
              "25%        15.200000\n",
              "50%        18.160000\n",
              "75%        21.100000\n",
              "max        33.540000\n",
              "Name: Mileage_flo, dtype: float64"
            ]
          },
          "metadata": {
            "tags": []
          },
          "execution_count": 1806
        }
      ]
    },
    {
      "cell_type": "markdown",
      "metadata": {
        "id": "X0zszAUr8o7h"
      },
      "source": [
        "最小値が0になっているのが異常です。0となっている車の数を数えます。"
      ]
    },
    {
      "cell_type": "code",
      "metadata": {
        "colab": {
          "base_uri": "https://localhost:8080/"
        },
        "id": "gTCJAazm5ywS",
        "outputId": "45af8efb-4de6-48a1-fd41-f0d4a6f10ad4"
      },
      "source": [
        "zero_cou=0\r\n",
        "a=[]\r\n",
        "for i in df['Mileage_flo']:\r\n",
        "  if i==0:\r\n",
        "    zero_cou+=1\r\n",
        "\r\n",
        "print(zero_cou)"
      ],
      "execution_count": null,
      "outputs": [
        {
          "output_type": "stream",
          "text": [
            "56\n"
          ],
          "name": "stdout"
        }
      ]
    },
    {
      "cell_type": "markdown",
      "metadata": {
        "id": "hUnYzzNCAIfs"
      },
      "source": [
        "0の車を除いて調べます。"
      ]
    },
    {
      "cell_type": "code",
      "metadata": {
        "colab": {
          "base_uri": "https://localhost:8080/"
        },
        "id": "QBY5Dp4y6Z-5",
        "outputId": "d4a8158d-ea16-441c-e9cf-1e6cf5f11f59"
      },
      "source": [
        "df_not_m0=df[df['Mileage_flo']>0]\r\n",
        "df_not_m0['Mileage_flo'].describe()"
      ],
      "execution_count": null,
      "outputs": [
        {
          "output_type": "execute_result",
          "data": {
            "text/plain": [
              "count    5919.000000\n",
              "mean       18.351404\n",
              "std         4.181298\n",
              "min         6.400000\n",
              "25%        15.300000\n",
              "50%        18.200000\n",
              "75%        21.100000\n",
              "max        33.540000\n",
              "Name: Mileage_flo, dtype: float64"
            ]
          },
          "metadata": {
            "tags": []
          },
          "execution_count": 1808
        }
      ]
    },
    {
      "cell_type": "markdown",
      "metadata": {
        "id": "DuslQ3nX8yh3"
      },
      "source": [
        "'Mileage'が0となっている車を除けば異常はなさそうです。\r\n",
        "'Mileage'が0となっているのはデータが取れないほど走行距離が短い可能性などが考えられるので、その車の走行距離を調べます。"
      ]
    },
    {
      "cell_type": "code",
      "metadata": {
        "colab": {
          "base_uri": "https://localhost:8080/"
        },
        "id": "WCTrVqKx63Le",
        "outputId": "556e9a73-eaea-4064-a0e0-b3944a5e8245"
      },
      "source": [
        "df_m0=df[df['Mileage_flo']==0]\r\n",
        "df_m0['Kilometers_Driven'].value_counts()\r\n"
      ],
      "execution_count": null,
      "outputs": [
        {
          "output_type": "execute_result",
          "data": {
            "text/plain": [
              "70000     4\n",
              "85000     2\n",
              "58000     2\n",
              "120000    2\n",
              "119203    1\n",
              "42021     1\n",
              "75000     1\n",
              "58163     1\n",
              "46000     1\n",
              "67000     1\n",
              "105000    1\n",
              "53000     1\n",
              "89000     1\n",
              "87591     1\n",
              "20000     1\n",
              "24720     1\n",
              "27833     1\n",
              "93000     1\n",
              "63000     1\n",
              "139000    1\n",
              "4000      1\n",
              "60170     1\n",
              "15369     1\n",
              "13190     1\n",
              "227000    1\n",
              "45500     1\n",
              "69000     1\n",
              "200000    1\n",
              "65400     1\n",
              "26000     1\n",
              "74483     1\n",
              "22769     1\n",
              "54000     1\n",
              "167000    1\n",
              "20842     1\n",
              "72000     1\n",
              "33000     1\n",
              "65000     1\n",
              "82000     1\n",
              "103000    1\n",
              "8682      1\n",
              "61449     1\n",
              "66000     1\n",
              "99000     1\n",
              "51019     1\n",
              "125000    1\n",
              "215750    1\n",
              "35268     1\n",
              "50243     1\n",
              "96000     1\n",
              "Name: Kilometers_Driven, dtype: int64"
            ]
          },
          "metadata": {
            "tags": []
          },
          "execution_count": 1809
        }
      ]
    },
    {
      "cell_type": "markdown",
      "metadata": {
        "id": "Tbk_u8VHAZDE"
      },
      "source": [
        "走行距離に特に異常はなさそうなので、単純に'Mileage'を取得できなかった、つまり欠損値と見ることにします。\r\n",
        "\r\n",
        "車種によってある程度'Mileage'は定まると考えられるます。'Mileage'が0となっている車と、'Mileage'が0となっていない車の間で、共通する車種ががないかどうか調べます。"
      ]
    },
    {
      "cell_type": "code",
      "metadata": {
        "colab": {
          "base_uri": "https://localhost:8080/"
        },
        "id": "qRd13W8p9wdI",
        "outputId": "82984b36-9598-4140-9fa4-03cc6445cbc1"
      },
      "source": [
        "m0_name_list=df_m0['Name'].unique().tolist()\r\n",
        "print(m0_name_list)\r\n",
        "df_m0name=df_not_m0[df_not_m0['Name'].isin(a)]\r\n",
        "df_m0name.shape"
      ],
      "execution_count": null,
      "outputs": [
        {
          "output_type": "stream",
          "text": [
            "['Land Rover Freelander 2 TD4 SE', 'Mercedes-Benz C-Class Progressive C 220d', 'Hyundai Santro Xing XL', 'Volkswagen Jetta 2007-2011 1.9 L TDI', 'Hyundai Santro GLS I - Euro I', 'Mercedes-Benz New C-Class Progressive C 200', 'Hyundai Santro LS zipPlus', 'Hyundai Santro Xing XP', 'Mercedes-Benz M-Class ML 350 4Matic', 'Smart Fortwo CDI AT', 'Hyundai Santro Xing GL', 'Land Rover Freelander 2 TD4 S', 'Hyundai Santro GLS I - Euro II', 'Maruti Baleno Vxi', 'Hyundai Santro DX', 'Mahindra Jeep MM 550 PE', 'Toyota Qualis RS E2', 'Hyundai Santro AT', 'Skoda Superb 3.6 V6 FSI', 'Hyundai Santro GS', 'Audi A7 2011-2015 Sportback', 'Hyundai Santro GS zipDrive - Euro II', 'Fiat Siena 1.2 ELX', 'Land Rover Freelander 2 TD4 HSE', 'Hyundai Santro LP - Euro II', 'Toyota Qualis Fleet A3', 'Mahindra Jeep MM 540 DP']\n"
          ],
          "name": "stdout"
        },
        {
          "output_type": "execute_result",
          "data": {
            "text/plain": [
              "(0, 13)"
            ]
          },
          "metadata": {
            "tags": []
          },
          "execution_count": 1810
        }
      ]
    },
    {
      "cell_type": "markdown",
      "metadata": {
        "id": "acrZSflgCwcl"
      },
      "source": [
        "上記のdf_m0nameが0行である、つまり共通する車種は1つもないので、今回は、'Mileage'が欠損値0となっているものは埋めずに、その行ごと削除してしまいます。"
      ]
    },
    {
      "cell_type": "code",
      "metadata": {
        "id": "8Y6PoLgYCvio"
      },
      "source": [
        "df=df_not_m0"
      ],
      "execution_count": null,
      "outputs": []
    },
    {
      "cell_type": "markdown",
      "metadata": {
        "id": "JEVzs86aaZkt"
      },
      "source": [
        "'Mileage_kmpd'列の値について、燃料種類ごとに、km/\\$単位の燃費に変換します。"
      ]
    },
    {
      "cell_type": "code",
      "metadata": {
        "id": "gw4llxFNTgJG",
        "colab": {
          "base_uri": "https://localhost:8080/"
        },
        "outputId": "ef8936aa-3e30-4066-aeef-bd8604c065b8"
      },
      "source": [
        "for i in df.index:\r\n",
        "  if df.at[i,'Fuel_Type']=='Petrol':\r\n",
        "    df.at[i,'Mileage_kmpd']=df.at[i,'Mileage_flo']/pet_dpl\r\n",
        "  elif df.at[i,'Fuel_Type']=='Diesel':\r\n",
        "    df.at[i,'Mileage_kmpd']=df.at[i,'Mileage_flo']/die_dpl\r\n",
        "  elif df.at[i,'Fuel_Type']=='CNG':\r\n",
        "    df.at[i,'Mileage_kmpd']=df.at[i,'Mileage_flo']/cng_dpkg\r\n",
        "  elif df.at[i,'Fuel_Type']=='LPG':\r\n",
        "    df.at[i,'Mileage_kmpd']=df.at[i,'Mileage_flo']/pet_dpl\r\n",
        "  else:\r\n",
        "    print(i+\"行目の車はその他の燃料を用いています!!\")\r\n",
        "\r\n",
        "df.head()"
      ],
      "execution_count": null,
      "outputs": [
        {
          "output_type": "execute_result",
          "data": {
            "text/html": [
              "<div>\n",
              "<style scoped>\n",
              "    .dataframe tbody tr th:only-of-type {\n",
              "        vertical-align: middle;\n",
              "    }\n",
              "\n",
              "    .dataframe tbody tr th {\n",
              "        vertical-align: top;\n",
              "    }\n",
              "\n",
              "    .dataframe thead th {\n",
              "        text-align: right;\n",
              "    }\n",
              "</style>\n",
              "<table border=\"1\" class=\"dataframe\">\n",
              "  <thead>\n",
              "    <tr style=\"text-align: right;\">\n",
              "      <th></th>\n",
              "      <th>Name</th>\n",
              "      <th>Location</th>\n",
              "      <th>Year</th>\n",
              "      <th>Kilometers_Driven</th>\n",
              "      <th>Fuel_Type</th>\n",
              "      <th>Transmission</th>\n",
              "      <th>Owner_Type</th>\n",
              "      <th>Mileage</th>\n",
              "      <th>Engine</th>\n",
              "      <th>Power</th>\n",
              "      <th>Seats</th>\n",
              "      <th>Price</th>\n",
              "      <th>Mileage_flo</th>\n",
              "      <th>Mileage_kmpd</th>\n",
              "    </tr>\n",
              "  </thead>\n",
              "  <tbody>\n",
              "    <tr>\n",
              "      <th>0</th>\n",
              "      <td>Maruti Wagon R LXI CNG</td>\n",
              "      <td>Mumbai</td>\n",
              "      <td>2010</td>\n",
              "      <td>72000</td>\n",
              "      <td>CNG</td>\n",
              "      <td>Manual</td>\n",
              "      <td>1</td>\n",
              "      <td>26.6 km/kg</td>\n",
              "      <td>998 CC</td>\n",
              "      <td>58.16 bhp</td>\n",
              "      <td>5.0</td>\n",
              "      <td>1.75</td>\n",
              "      <td>26.60</td>\n",
              "      <td>17.733333</td>\n",
              "    </tr>\n",
              "    <tr>\n",
              "      <th>1</th>\n",
              "      <td>Hyundai Creta 1.6 CRDi SX Option</td>\n",
              "      <td>Pune</td>\n",
              "      <td>2015</td>\n",
              "      <td>41000</td>\n",
              "      <td>Diesel</td>\n",
              "      <td>Manual</td>\n",
              "      <td>1</td>\n",
              "      <td>19.67 kmpl</td>\n",
              "      <td>1582 CC</td>\n",
              "      <td>126.2 bhp</td>\n",
              "      <td>5.0</td>\n",
              "      <td>12.50</td>\n",
              "      <td>19.67</td>\n",
              "      <td>21.855556</td>\n",
              "    </tr>\n",
              "    <tr>\n",
              "      <th>2</th>\n",
              "      <td>Honda Jazz V</td>\n",
              "      <td>Chennai</td>\n",
              "      <td>2011</td>\n",
              "      <td>46000</td>\n",
              "      <td>Petrol</td>\n",
              "      <td>Manual</td>\n",
              "      <td>1</td>\n",
              "      <td>18.2 kmpl</td>\n",
              "      <td>1199 CC</td>\n",
              "      <td>88.7 bhp</td>\n",
              "      <td>5.0</td>\n",
              "      <td>4.50</td>\n",
              "      <td>18.20</td>\n",
              "      <td>18.200000</td>\n",
              "    </tr>\n",
              "    <tr>\n",
              "      <th>3</th>\n",
              "      <td>Maruti Ertiga VDI</td>\n",
              "      <td>Chennai</td>\n",
              "      <td>2012</td>\n",
              "      <td>87000</td>\n",
              "      <td>Diesel</td>\n",
              "      <td>Manual</td>\n",
              "      <td>1</td>\n",
              "      <td>20.77 kmpl</td>\n",
              "      <td>1248 CC</td>\n",
              "      <td>88.76 bhp</td>\n",
              "      <td>7.0</td>\n",
              "      <td>6.00</td>\n",
              "      <td>20.77</td>\n",
              "      <td>23.077778</td>\n",
              "    </tr>\n",
              "    <tr>\n",
              "      <th>4</th>\n",
              "      <td>Audi A4 New 2.0 TDI Multitronic</td>\n",
              "      <td>Coimbatore</td>\n",
              "      <td>2013</td>\n",
              "      <td>40670</td>\n",
              "      <td>Diesel</td>\n",
              "      <td>Automatic</td>\n",
              "      <td>2</td>\n",
              "      <td>15.2 kmpl</td>\n",
              "      <td>1968 CC</td>\n",
              "      <td>140.8 bhp</td>\n",
              "      <td>5.0</td>\n",
              "      <td>17.74</td>\n",
              "      <td>15.20</td>\n",
              "      <td>16.888889</td>\n",
              "    </tr>\n",
              "  </tbody>\n",
              "</table>\n",
              "</div>"
            ],
            "text/plain": [
              "                               Name    Location  ...  Mileage_flo  Mileage_kmpd\n",
              "0            Maruti Wagon R LXI CNG      Mumbai  ...        26.60     17.733333\n",
              "1  Hyundai Creta 1.6 CRDi SX Option        Pune  ...        19.67     21.855556\n",
              "2                      Honda Jazz V     Chennai  ...        18.20     18.200000\n",
              "3                 Maruti Ertiga VDI     Chennai  ...        20.77     23.077778\n",
              "4   Audi A4 New 2.0 TDI Multitronic  Coimbatore  ...        15.20     16.888889\n",
              "\n",
              "[5 rows x 14 columns]"
            ]
          },
          "metadata": {
            "tags": []
          },
          "execution_count": 1812
        }
      ]
    },
    {
      "cell_type": "markdown",
      "metadata": {
        "id": "g1OJnKWNd_tm"
      },
      "source": [
        "'Mileage_kmpd'列が正しく追加できているのが確認できます。\r\n",
        "不要になった'Mileage'と'Mileage_flo'を削除します。"
      ]
    },
    {
      "cell_type": "code",
      "metadata": {
        "id": "JZZTkqdsm8_F"
      },
      "source": [
        "df=df.drop(columns=['Mileage','Mileage_flo'])"
      ],
      "execution_count": null,
      "outputs": []
    },
    {
      "cell_type": "markdown",
      "metadata": {
        "id": "jZTp7TMuD5lc"
      },
      "source": [
        "####'Engine'について"
      ]
    },
    {
      "cell_type": "markdown",
      "metadata": {
        "id": "XcR9tCY3bcR4"
      },
      "source": [
        "単位が統一されているか確認します。"
      ]
    },
    {
      "cell_type": "code",
      "metadata": {
        "colab": {
          "base_uri": "https://localhost:8080/"
        },
        "id": "J0Tg4mOXD9UW",
        "outputId": "8548972e-79dd-4720-e4af-a0ffd6cec41e"
      },
      "source": [
        "cc=0\r\n",
        "other_en=0\r\n",
        "for i in df['Engine']:\r\n",
        "    if str(i).endswith(\" CC\"):\r\n",
        "      cc+=1\r\n",
        "    else:\r\n",
        "      other_en+=1\r\n",
        "\r\n",
        "print(\"bhpで書かれたデータは\",cc,\"コ\")\r\n",
        "print(\"それ以外の単位で書かれたデータは\",other_en,\"コ\")"
      ],
      "execution_count": null,
      "outputs": [
        {
          "output_type": "stream",
          "text": [
            "bhpで書かれたデータは 5919 コ\n",
            "それ以外の単位で書かれたデータは 0 コ\n"
          ],
          "name": "stdout"
        }
      ]
    },
    {
      "cell_type": "markdown",
      "metadata": {
        "id": "Fkkyh5mJQqAl"
      },
      "source": [
        "単位はccのみで書かれているので、そのまま単位のみ切り落とします。"
      ]
    },
    {
      "cell_type": "code",
      "metadata": {
        "colab": {
          "base_uri": "https://localhost:8080/"
        },
        "id": "bUbbdxVwefJ3",
        "outputId": "aa0f9de9-7526-4784-bcda-e297b7cd6b99"
      },
      "source": [
        "df['Engine'] = df['Engine'].str.replace(' CC','')\r\n",
        "df['Engine'] = df['Engine'].astype(float)\r\n",
        "df.head()"
      ],
      "execution_count": null,
      "outputs": [
        {
          "output_type": "execute_result",
          "data": {
            "text/html": [
              "<div>\n",
              "<style scoped>\n",
              "    .dataframe tbody tr th:only-of-type {\n",
              "        vertical-align: middle;\n",
              "    }\n",
              "\n",
              "    .dataframe tbody tr th {\n",
              "        vertical-align: top;\n",
              "    }\n",
              "\n",
              "    .dataframe thead th {\n",
              "        text-align: right;\n",
              "    }\n",
              "</style>\n",
              "<table border=\"1\" class=\"dataframe\">\n",
              "  <thead>\n",
              "    <tr style=\"text-align: right;\">\n",
              "      <th></th>\n",
              "      <th>Name</th>\n",
              "      <th>Location</th>\n",
              "      <th>Year</th>\n",
              "      <th>Kilometers_Driven</th>\n",
              "      <th>Fuel_Type</th>\n",
              "      <th>Transmission</th>\n",
              "      <th>Owner_Type</th>\n",
              "      <th>Engine</th>\n",
              "      <th>Power</th>\n",
              "      <th>Seats</th>\n",
              "      <th>Price</th>\n",
              "      <th>Mileage_kmpd</th>\n",
              "    </tr>\n",
              "  </thead>\n",
              "  <tbody>\n",
              "    <tr>\n",
              "      <th>0</th>\n",
              "      <td>Maruti Wagon R LXI CNG</td>\n",
              "      <td>Mumbai</td>\n",
              "      <td>2010</td>\n",
              "      <td>72000</td>\n",
              "      <td>CNG</td>\n",
              "      <td>Manual</td>\n",
              "      <td>1</td>\n",
              "      <td>998.0</td>\n",
              "      <td>58.16 bhp</td>\n",
              "      <td>5.0</td>\n",
              "      <td>1.75</td>\n",
              "      <td>17.733333</td>\n",
              "    </tr>\n",
              "    <tr>\n",
              "      <th>1</th>\n",
              "      <td>Hyundai Creta 1.6 CRDi SX Option</td>\n",
              "      <td>Pune</td>\n",
              "      <td>2015</td>\n",
              "      <td>41000</td>\n",
              "      <td>Diesel</td>\n",
              "      <td>Manual</td>\n",
              "      <td>1</td>\n",
              "      <td>1582.0</td>\n",
              "      <td>126.2 bhp</td>\n",
              "      <td>5.0</td>\n",
              "      <td>12.50</td>\n",
              "      <td>21.855556</td>\n",
              "    </tr>\n",
              "    <tr>\n",
              "      <th>2</th>\n",
              "      <td>Honda Jazz V</td>\n",
              "      <td>Chennai</td>\n",
              "      <td>2011</td>\n",
              "      <td>46000</td>\n",
              "      <td>Petrol</td>\n",
              "      <td>Manual</td>\n",
              "      <td>1</td>\n",
              "      <td>1199.0</td>\n",
              "      <td>88.7 bhp</td>\n",
              "      <td>5.0</td>\n",
              "      <td>4.50</td>\n",
              "      <td>18.200000</td>\n",
              "    </tr>\n",
              "    <tr>\n",
              "      <th>3</th>\n",
              "      <td>Maruti Ertiga VDI</td>\n",
              "      <td>Chennai</td>\n",
              "      <td>2012</td>\n",
              "      <td>87000</td>\n",
              "      <td>Diesel</td>\n",
              "      <td>Manual</td>\n",
              "      <td>1</td>\n",
              "      <td>1248.0</td>\n",
              "      <td>88.76 bhp</td>\n",
              "      <td>7.0</td>\n",
              "      <td>6.00</td>\n",
              "      <td>23.077778</td>\n",
              "    </tr>\n",
              "    <tr>\n",
              "      <th>4</th>\n",
              "      <td>Audi A4 New 2.0 TDI Multitronic</td>\n",
              "      <td>Coimbatore</td>\n",
              "      <td>2013</td>\n",
              "      <td>40670</td>\n",
              "      <td>Diesel</td>\n",
              "      <td>Automatic</td>\n",
              "      <td>2</td>\n",
              "      <td>1968.0</td>\n",
              "      <td>140.8 bhp</td>\n",
              "      <td>5.0</td>\n",
              "      <td>17.74</td>\n",
              "      <td>16.888889</td>\n",
              "    </tr>\n",
              "  </tbody>\n",
              "</table>\n",
              "</div>"
            ],
            "text/plain": [
              "                               Name    Location  ...  Price  Mileage_kmpd\n",
              "0            Maruti Wagon R LXI CNG      Mumbai  ...   1.75     17.733333\n",
              "1  Hyundai Creta 1.6 CRDi SX Option        Pune  ...  12.50     21.855556\n",
              "2                      Honda Jazz V     Chennai  ...   4.50     18.200000\n",
              "3                 Maruti Ertiga VDI     Chennai  ...   6.00     23.077778\n",
              "4   Audi A4 New 2.0 TDI Multitronic  Coimbatore  ...  17.74     16.888889\n",
              "\n",
              "[5 rows x 12 columns]"
            ]
          },
          "metadata": {
            "tags": []
          },
          "execution_count": 1815
        }
      ]
    },
    {
      "cell_type": "markdown",
      "metadata": {
        "id": "D9UYiu9XC0km"
      },
      "source": [
        "####'Power'について"
      ]
    },
    {
      "cell_type": "markdown",
      "metadata": {
        "id": "1J-O25pDaDnv"
      },
      "source": [
        "欠損値の削除の際には欠損値として検出されませんでしたが、'Power'の値がnull bhpとなっているところが確認できます。また、単位も統一されているかどうか確認します。"
      ]
    },
    {
      "cell_type": "code",
      "metadata": {
        "colab": {
          "base_uri": "https://localhost:8080/"
        },
        "id": "bn_Dq0yA7viX",
        "outputId": "370862d8-185f-44a1-930a-a721e5fb4e0b"
      },
      "source": [
        "null_bhp=0\r\n",
        "bhp=0\r\n",
        "other_po=0\r\n",
        "for i in df['Power']:\r\n",
        "  if str(i)==\"null bhp\":\r\n",
        "    null_bhp+=1\r\n",
        "  elif str(i).endswith(\" bhp\"):\r\n",
        "      bhp+=1\r\n",
        "  else:\r\n",
        "      other_po+=1\r\n",
        "\r\n",
        "print(\"null bhpは\",null_bhp,\"コ\")\r\n",
        "print(\"bhpで書かれたデータは\",bhp,\"コ\")\r\n",
        "print(\"それ以外の単位で書かれたデータは\",other_po,\"コ\")"
      ],
      "execution_count": null,
      "outputs": [
        {
          "output_type": "stream",
          "text": [
            "null bhpは 75 コ\n",
            "bhpで書かれたデータは 5844 コ\n",
            "それ以外の単位で書かれたデータは 0 コ\n"
          ],
          "name": "stdout"
        }
      ]
    },
    {
      "cell_type": "markdown",
      "metadata": {
        "id": "T-PAU70qPY-Z"
      },
      "source": [
        "単位はbhpのみで書かれているので、そのまま単位を切り落とします。\r\n",
        "\r\n",
        "ちなみに、1bhp(英馬力)=1.013PS(仏馬力)=745W=641kcal/h"
      ]
    },
    {
      "cell_type": "code",
      "metadata": {
        "colab": {
          "base_uri": "https://localhost:8080/"
        },
        "id": "e7uuUWn5PPrX",
        "outputId": "951b38cd-3d6a-4e5f-e6e7-23b282e0ea6c"
      },
      "source": [
        "df['Power'] = df['Power'].str.replace(' bhp','')\r\n",
        "df.head()"
      ],
      "execution_count": null,
      "outputs": [
        {
          "output_type": "execute_result",
          "data": {
            "text/html": [
              "<div>\n",
              "<style scoped>\n",
              "    .dataframe tbody tr th:only-of-type {\n",
              "        vertical-align: middle;\n",
              "    }\n",
              "\n",
              "    .dataframe tbody tr th {\n",
              "        vertical-align: top;\n",
              "    }\n",
              "\n",
              "    .dataframe thead th {\n",
              "        text-align: right;\n",
              "    }\n",
              "</style>\n",
              "<table border=\"1\" class=\"dataframe\">\n",
              "  <thead>\n",
              "    <tr style=\"text-align: right;\">\n",
              "      <th></th>\n",
              "      <th>Name</th>\n",
              "      <th>Location</th>\n",
              "      <th>Year</th>\n",
              "      <th>Kilometers_Driven</th>\n",
              "      <th>Fuel_Type</th>\n",
              "      <th>Transmission</th>\n",
              "      <th>Owner_Type</th>\n",
              "      <th>Engine</th>\n",
              "      <th>Power</th>\n",
              "      <th>Seats</th>\n",
              "      <th>Price</th>\n",
              "      <th>Mileage_kmpd</th>\n",
              "    </tr>\n",
              "  </thead>\n",
              "  <tbody>\n",
              "    <tr>\n",
              "      <th>0</th>\n",
              "      <td>Maruti Wagon R LXI CNG</td>\n",
              "      <td>Mumbai</td>\n",
              "      <td>2010</td>\n",
              "      <td>72000</td>\n",
              "      <td>CNG</td>\n",
              "      <td>Manual</td>\n",
              "      <td>1</td>\n",
              "      <td>998.0</td>\n",
              "      <td>58.16</td>\n",
              "      <td>5.0</td>\n",
              "      <td>1.75</td>\n",
              "      <td>17.733333</td>\n",
              "    </tr>\n",
              "    <tr>\n",
              "      <th>1</th>\n",
              "      <td>Hyundai Creta 1.6 CRDi SX Option</td>\n",
              "      <td>Pune</td>\n",
              "      <td>2015</td>\n",
              "      <td>41000</td>\n",
              "      <td>Diesel</td>\n",
              "      <td>Manual</td>\n",
              "      <td>1</td>\n",
              "      <td>1582.0</td>\n",
              "      <td>126.2</td>\n",
              "      <td>5.0</td>\n",
              "      <td>12.50</td>\n",
              "      <td>21.855556</td>\n",
              "    </tr>\n",
              "    <tr>\n",
              "      <th>2</th>\n",
              "      <td>Honda Jazz V</td>\n",
              "      <td>Chennai</td>\n",
              "      <td>2011</td>\n",
              "      <td>46000</td>\n",
              "      <td>Petrol</td>\n",
              "      <td>Manual</td>\n",
              "      <td>1</td>\n",
              "      <td>1199.0</td>\n",
              "      <td>88.7</td>\n",
              "      <td>5.0</td>\n",
              "      <td>4.50</td>\n",
              "      <td>18.200000</td>\n",
              "    </tr>\n",
              "    <tr>\n",
              "      <th>3</th>\n",
              "      <td>Maruti Ertiga VDI</td>\n",
              "      <td>Chennai</td>\n",
              "      <td>2012</td>\n",
              "      <td>87000</td>\n",
              "      <td>Diesel</td>\n",
              "      <td>Manual</td>\n",
              "      <td>1</td>\n",
              "      <td>1248.0</td>\n",
              "      <td>88.76</td>\n",
              "      <td>7.0</td>\n",
              "      <td>6.00</td>\n",
              "      <td>23.077778</td>\n",
              "    </tr>\n",
              "    <tr>\n",
              "      <th>4</th>\n",
              "      <td>Audi A4 New 2.0 TDI Multitronic</td>\n",
              "      <td>Coimbatore</td>\n",
              "      <td>2013</td>\n",
              "      <td>40670</td>\n",
              "      <td>Diesel</td>\n",
              "      <td>Automatic</td>\n",
              "      <td>2</td>\n",
              "      <td>1968.0</td>\n",
              "      <td>140.8</td>\n",
              "      <td>5.0</td>\n",
              "      <td>17.74</td>\n",
              "      <td>16.888889</td>\n",
              "    </tr>\n",
              "  </tbody>\n",
              "</table>\n",
              "</div>"
            ],
            "text/plain": [
              "                               Name    Location  ...  Price  Mileage_kmpd\n",
              "0            Maruti Wagon R LXI CNG      Mumbai  ...   1.75     17.733333\n",
              "1  Hyundai Creta 1.6 CRDi SX Option        Pune  ...  12.50     21.855556\n",
              "2                      Honda Jazz V     Chennai  ...   4.50     18.200000\n",
              "3                 Maruti Ertiga VDI     Chennai  ...   6.00     23.077778\n",
              "4   Audi A4 New 2.0 TDI Multitronic  Coimbatore  ...  17.74     16.888889\n",
              "\n",
              "[5 rows x 12 columns]"
            ]
          },
          "metadata": {
            "tags": []
          },
          "execution_count": 1817
        }
      ]
    },
    {
      "cell_type": "markdown",
      "metadata": {
        "id": "w0CPzpEjgpgO"
      },
      "source": [
        "#####null bhpの扱い"
      ]
    },
    {
      "cell_type": "markdown",
      "metadata": {
        "id": "Zj7kkcisbn8B"
      },
      "source": [
        "馬力は車種によってある程度定まると考えられるので、nullとなっている車の車種を調べます。"
      ]
    },
    {
      "cell_type": "code",
      "metadata": {
        "colab": {
          "base_uri": "https://localhost:8080/"
        },
        "id": "XZlSovWQbrfv",
        "outputId": "68550de4-b318-45aa-baae-35a50426ac77"
      },
      "source": [
        "df_nullbhp=df[df['Power']==\"null\"]\r\n",
        "print(df_nullbhp['Name'].value_counts())"
      ],
      "execution_count": null,
      "outputs": [
        {
          "output_type": "stream",
          "text": [
            "Maruti Swift VDI BSIV                      11\n",
            "Hyundai Santro Xing XL eRLX Euro III        7\n",
            "Toyota Etios GD                             6\n",
            "Hyundai Santro Xing XO eRLX Euro II         5\n",
            "Maruti Swift VDI BSIV W ABS                 5\n",
            "Toyota Etios Liva GD                        5\n",
            "Hyundai Santro Xing XO                      5\n",
            "Tata Indica DLS                             3\n",
            "Toyota Etios Liva G                         2\n",
            "Maruti Esteem Vxi                           2\n",
            "Ford Fiesta 1.4 SXi TDCi                    2\n",
            "Mercedes-Benz E-Class 220 CDI               2\n",
            "Hyundai Santro Xing XG eRLX Euro III        2\n",
            "Maruti Baleno LXI - BSIII                   1\n",
            "Hyundai Santro Xing XL AT eRLX Euro III     1\n",
            "Maruti Esteem LX BSII                       1\n",
            "Hyundai Santro Xing XO CNG                  1\n",
            "Porsche Cayman 2009-2012 S                  1\n",
            "Skoda Laura Classic 1.8 TSI                 1\n",
            "Honda CR-V Sport                            1\n",
            "Mahindra Bolero ZLX                         1\n",
            "Audi A4 3.2 FSI Tiptronic Quattro           1\n",
            "Nissan Teana 230jM                          1\n",
            "Fiat Petra 1.2 EL                           1\n",
            "Ford Fiesta 1.6 SXI ABS Duratec             1\n",
            "Hyundai Santro Xing XL AT eRLX Euro II      1\n",
            "Chevrolet Optra 1.6 Elite                   1\n",
            "Ford Endeavour XLT TDCi 4X4                 1\n",
            "Maruti 1000 AC                              1\n",
            "Porsche Cayman 2009-2012 S tiptronic        1\n",
            "Nissan Micra Diesel                         1\n",
            "Name: Name, dtype: int64\n"
          ],
          "name": "stdout"
        }
      ]
    },
    {
      "cell_type": "markdown",
      "metadata": {
        "id": "HkTL1T7FSfza"
      },
      "source": [
        "このようにnullの多い車種もあるようです。\r\n",
        "\r\n",
        "nullを最も多くもつ車種Maruti Swift VDI BSIVを例にとって、その車種全体での'Power'の値を見てみましょう。"
      ]
    },
    {
      "cell_type": "code",
      "metadata": {
        "colab": {
          "base_uri": "https://localhost:8080/"
        },
        "id": "nnQOj8_jQzm3",
        "outputId": "65be676e-6db7-4019-82f5-aaed59bd78b5"
      },
      "source": [
        "df[df['Name']==\"Maruti Swift VDI BSIV\"]['Power'].value_counts()"
      ],
      "execution_count": null,
      "outputs": [
        {
          "output_type": "execute_result",
          "data": {
            "text/plain": [
              "74      20\n",
              "null    11\n",
              "Name: Power, dtype: int64"
            ]
          },
          "metadata": {
            "tags": []
          },
          "execution_count": 1819
        }
      ]
    },
    {
      "cell_type": "markdown",
      "metadata": {
        "id": "ipt8w4d_gCtw"
      },
      "source": [
        "上記の例のように、同じ車種の中でも'Power'が入力されている行と欠損している行があります。\r\n",
        "\r\n",
        "各車種でnullでない'Power'の平均値を取って埋め,\r\n",
        "それによって埋まらないときはその行自体を削除しようと思います。"
      ]
    },
    {
      "cell_type": "markdown",
      "metadata": {
        "id": "JD5-cyn0bIpX"
      },
      "source": [
        "まず、　'Power'がnullである車の'Name'の配列、'Power、'Name''、データフレーム　を引数に渡せば、\r\n",
        "\r\n",
        "車を車種ごとに分けてnull埋めに使う各平均値を算出し、nullを埋めてくれる関数を作ります。"
      ]
    },
    {
      "cell_type": "code",
      "metadata": {
        "id": "N-GusY35d9HD"
      },
      "source": [
        "def fill_null(name_array,df,colnull='Power',colname='Name'):\r\n",
        "\r\n",
        "  for na in name_array:\r\n",
        "    po_seri_each = df[(df[colname]==na) & (df[colnull]!=\"null\")][colnull]  #'Power'がnullである車と車種が共通するが、'Power'がnullでない車たちの'Power'の値の配列\r\n",
        "    po_seri_each = po_seri_each.astype(float)\r\n",
        "\r\n",
        "    if len(po_seri_each)>0:  #「'Power'がnullである車と車種が共通するが、'Power'がnullでない車」が存在するとき\r\n",
        "      ave = po_seri_each.mean()  #null埋めに用いる平均値\r\n",
        "      null_index = df[(df[colname]==na) & (df[colnull]==\"null\")].index  #今回の車種で、'Power'がnullである車たちの行番号\r\n",
        "\r\n",
        "      for i in null_index:\r\n",
        "        df.at[i,colnull]=ave  #aveでnullを埋める作業\r\n",
        "\r\n",
        "  return df"
      ],
      "execution_count": null,
      "outputs": []
    },
    {
      "cell_type": "markdown",
      "metadata": {
        "id": "meC8BM6goy7z"
      },
      "source": [
        "'Power'がnullである車の'Name'の配列　を作ります。"
      ]
    },
    {
      "cell_type": "code",
      "metadata": {
        "id": "qmpv7z2DfFD_"
      },
      "source": [
        "ponull_name_array=df_nullbhp['Name'].unique()"
      ],
      "execution_count": null,
      "outputs": []
    },
    {
      "cell_type": "markdown",
      "metadata": {
        "id": "Xgs63Hnko70k"
      },
      "source": [
        "関数を呼び出し、null埋めを実行します。"
      ]
    },
    {
      "cell_type": "code",
      "metadata": {
        "colab": {
          "base_uri": "https://localhost:8080/"
        },
        "id": "waEgAFGSgWEQ",
        "outputId": "00254bff-ecf2-49f5-f75a-32f65be0e7bd"
      },
      "source": [
        "df=fill_null(ponull_name_array,df)\r\n",
        "df.head()"
      ],
      "execution_count": null,
      "outputs": [
        {
          "output_type": "execute_result",
          "data": {
            "text/html": [
              "<div>\n",
              "<style scoped>\n",
              "    .dataframe tbody tr th:only-of-type {\n",
              "        vertical-align: middle;\n",
              "    }\n",
              "\n",
              "    .dataframe tbody tr th {\n",
              "        vertical-align: top;\n",
              "    }\n",
              "\n",
              "    .dataframe thead th {\n",
              "        text-align: right;\n",
              "    }\n",
              "</style>\n",
              "<table border=\"1\" class=\"dataframe\">\n",
              "  <thead>\n",
              "    <tr style=\"text-align: right;\">\n",
              "      <th></th>\n",
              "      <th>Name</th>\n",
              "      <th>Location</th>\n",
              "      <th>Year</th>\n",
              "      <th>Kilometers_Driven</th>\n",
              "      <th>Fuel_Type</th>\n",
              "      <th>Transmission</th>\n",
              "      <th>Owner_Type</th>\n",
              "      <th>Engine</th>\n",
              "      <th>Power</th>\n",
              "      <th>Seats</th>\n",
              "      <th>Price</th>\n",
              "      <th>Mileage_kmpd</th>\n",
              "    </tr>\n",
              "  </thead>\n",
              "  <tbody>\n",
              "    <tr>\n",
              "      <th>0</th>\n",
              "      <td>Maruti Wagon R LXI CNG</td>\n",
              "      <td>Mumbai</td>\n",
              "      <td>2010</td>\n",
              "      <td>72000</td>\n",
              "      <td>CNG</td>\n",
              "      <td>Manual</td>\n",
              "      <td>1</td>\n",
              "      <td>998.0</td>\n",
              "      <td>58.16</td>\n",
              "      <td>5.0</td>\n",
              "      <td>1.75</td>\n",
              "      <td>17.733333</td>\n",
              "    </tr>\n",
              "    <tr>\n",
              "      <th>1</th>\n",
              "      <td>Hyundai Creta 1.6 CRDi SX Option</td>\n",
              "      <td>Pune</td>\n",
              "      <td>2015</td>\n",
              "      <td>41000</td>\n",
              "      <td>Diesel</td>\n",
              "      <td>Manual</td>\n",
              "      <td>1</td>\n",
              "      <td>1582.0</td>\n",
              "      <td>126.2</td>\n",
              "      <td>5.0</td>\n",
              "      <td>12.50</td>\n",
              "      <td>21.855556</td>\n",
              "    </tr>\n",
              "    <tr>\n",
              "      <th>2</th>\n",
              "      <td>Honda Jazz V</td>\n",
              "      <td>Chennai</td>\n",
              "      <td>2011</td>\n",
              "      <td>46000</td>\n",
              "      <td>Petrol</td>\n",
              "      <td>Manual</td>\n",
              "      <td>1</td>\n",
              "      <td>1199.0</td>\n",
              "      <td>88.7</td>\n",
              "      <td>5.0</td>\n",
              "      <td>4.50</td>\n",
              "      <td>18.200000</td>\n",
              "    </tr>\n",
              "    <tr>\n",
              "      <th>3</th>\n",
              "      <td>Maruti Ertiga VDI</td>\n",
              "      <td>Chennai</td>\n",
              "      <td>2012</td>\n",
              "      <td>87000</td>\n",
              "      <td>Diesel</td>\n",
              "      <td>Manual</td>\n",
              "      <td>1</td>\n",
              "      <td>1248.0</td>\n",
              "      <td>88.76</td>\n",
              "      <td>7.0</td>\n",
              "      <td>6.00</td>\n",
              "      <td>23.077778</td>\n",
              "    </tr>\n",
              "    <tr>\n",
              "      <th>4</th>\n",
              "      <td>Audi A4 New 2.0 TDI Multitronic</td>\n",
              "      <td>Coimbatore</td>\n",
              "      <td>2013</td>\n",
              "      <td>40670</td>\n",
              "      <td>Diesel</td>\n",
              "      <td>Automatic</td>\n",
              "      <td>2</td>\n",
              "      <td>1968.0</td>\n",
              "      <td>140.8</td>\n",
              "      <td>5.0</td>\n",
              "      <td>17.74</td>\n",
              "      <td>16.888889</td>\n",
              "    </tr>\n",
              "  </tbody>\n",
              "</table>\n",
              "</div>"
            ],
            "text/plain": [
              "                               Name    Location  ...  Price  Mileage_kmpd\n",
              "0            Maruti Wagon R LXI CNG      Mumbai  ...   1.75     17.733333\n",
              "1  Hyundai Creta 1.6 CRDi SX Option        Pune  ...  12.50     21.855556\n",
              "2                      Honda Jazz V     Chennai  ...   4.50     18.200000\n",
              "3                 Maruti Ertiga VDI     Chennai  ...   6.00     23.077778\n",
              "4   Audi A4 New 2.0 TDI Multitronic  Coimbatore  ...  17.74     16.888889\n",
              "\n",
              "[5 rows x 12 columns]"
            ]
          },
          "metadata": {
            "tags": []
          },
          "execution_count": 1822
        }
      ]
    },
    {
      "cell_type": "markdown",
      "metadata": {
        "id": "_56oYA-FpT5A"
      },
      "source": [
        "残ったnullを確認します。"
      ]
    },
    {
      "cell_type": "code",
      "metadata": {
        "colab": {
          "base_uri": "https://localhost:8080/"
        },
        "id": "pyxeLJqcjlDw",
        "outputId": "33bd16cf-c82e-4f99-866b-fd5a9247d708"
      },
      "source": [
        "df_null=df[df['Power']==\"null\"]\r\n",
        "print(\"残ったnullの数は\",df_null.shape[0],\"コ\")\r\n",
        "print(\"---------------------------------------------------------\")\r\n",
        "print(df_null['Name'].value_counts())"
      ],
      "execution_count": null,
      "outputs": [
        {
          "output_type": "stream",
          "text": [
            "残ったnullの数は 50 コ\n",
            "---------------------------------------------------------\n",
            "Hyundai Santro Xing XL eRLX Euro III       7\n",
            "Hyundai Santro Xing XO                     5\n",
            "Hyundai Santro Xing XO eRLX Euro II        5\n",
            "Maruti Swift VDI BSIV W ABS                5\n",
            "Tata Indica DLS                            3\n",
            "Maruti Esteem Vxi                          2\n",
            "Ford Fiesta 1.4 SXi TDCi                   2\n",
            "Mercedes-Benz E-Class 220 CDI              2\n",
            "Hyundai Santro Xing XG eRLX Euro III       2\n",
            "Honda CR-V Sport                           1\n",
            "Maruti Esteem LX BSII                      1\n",
            "Skoda Laura Classic 1.8 TSI                1\n",
            "Maruti Baleno LXI - BSIII                  1\n",
            "Hyundai Santro Xing XO CNG                 1\n",
            "Porsche Cayman 2009-2012 S                 1\n",
            "Chevrolet Optra 1.6 Elite                  1\n",
            "Fiat Petra 1.2 EL                          1\n",
            "Audi A4 3.2 FSI Tiptronic Quattro          1\n",
            "Hyundai Santro Xing XL AT eRLX Euro III    1\n",
            "Ford Fiesta 1.6 SXI ABS Duratec            1\n",
            "Hyundai Santro Xing XL AT eRLX Euro II     1\n",
            "Nissan Teana 230jM                         1\n",
            "Ford Endeavour XLT TDCi 4X4                1\n",
            "Maruti 1000 AC                             1\n",
            "Porsche Cayman 2009-2012 S tiptronic       1\n",
            "Nissan Micra Diesel                        1\n",
            "Name: Name, dtype: int64\n"
          ],
          "name": "stdout"
        }
      ]
    },
    {
      "cell_type": "markdown",
      "metadata": {
        "id": "sa2W2hpUpaLY"
      },
      "source": [
        "割と残ってしまいましたが、今回はこのままnullを埋められなかった行を削除します。"
      ]
    },
    {
      "cell_type": "code",
      "metadata": {
        "id": "OdXBygf5jMJT"
      },
      "source": [
        "df=df[df['Power']!=\"null\"]"
      ],
      "execution_count": null,
      "outputs": []
    },
    {
      "cell_type": "markdown",
      "metadata": {
        "id": "IEDNaRkaprZV"
      },
      "source": [
        "#####'Power'の値を浮動小数点型に変換します。"
      ]
    },
    {
      "cell_type": "code",
      "metadata": {
        "colab": {
          "base_uri": "https://localhost:8080/"
        },
        "id": "SJqENJoPkpMq",
        "outputId": "c588fae8-7f97-4d7f-8bfa-0e0904401377"
      },
      "source": [
        "df['Power'] = df['Power'].astype(float)\r\n",
        "df.head()"
      ],
      "execution_count": null,
      "outputs": [
        {
          "output_type": "execute_result",
          "data": {
            "text/html": [
              "<div>\n",
              "<style scoped>\n",
              "    .dataframe tbody tr th:only-of-type {\n",
              "        vertical-align: middle;\n",
              "    }\n",
              "\n",
              "    .dataframe tbody tr th {\n",
              "        vertical-align: top;\n",
              "    }\n",
              "\n",
              "    .dataframe thead th {\n",
              "        text-align: right;\n",
              "    }\n",
              "</style>\n",
              "<table border=\"1\" class=\"dataframe\">\n",
              "  <thead>\n",
              "    <tr style=\"text-align: right;\">\n",
              "      <th></th>\n",
              "      <th>Name</th>\n",
              "      <th>Location</th>\n",
              "      <th>Year</th>\n",
              "      <th>Kilometers_Driven</th>\n",
              "      <th>Fuel_Type</th>\n",
              "      <th>Transmission</th>\n",
              "      <th>Owner_Type</th>\n",
              "      <th>Engine</th>\n",
              "      <th>Power</th>\n",
              "      <th>Seats</th>\n",
              "      <th>Price</th>\n",
              "      <th>Mileage_kmpd</th>\n",
              "    </tr>\n",
              "  </thead>\n",
              "  <tbody>\n",
              "    <tr>\n",
              "      <th>0</th>\n",
              "      <td>Maruti Wagon R LXI CNG</td>\n",
              "      <td>Mumbai</td>\n",
              "      <td>2010</td>\n",
              "      <td>72000</td>\n",
              "      <td>CNG</td>\n",
              "      <td>Manual</td>\n",
              "      <td>1</td>\n",
              "      <td>998.0</td>\n",
              "      <td>58.16</td>\n",
              "      <td>5.0</td>\n",
              "      <td>1.75</td>\n",
              "      <td>17.733333</td>\n",
              "    </tr>\n",
              "    <tr>\n",
              "      <th>1</th>\n",
              "      <td>Hyundai Creta 1.6 CRDi SX Option</td>\n",
              "      <td>Pune</td>\n",
              "      <td>2015</td>\n",
              "      <td>41000</td>\n",
              "      <td>Diesel</td>\n",
              "      <td>Manual</td>\n",
              "      <td>1</td>\n",
              "      <td>1582.0</td>\n",
              "      <td>126.20</td>\n",
              "      <td>5.0</td>\n",
              "      <td>12.50</td>\n",
              "      <td>21.855556</td>\n",
              "    </tr>\n",
              "    <tr>\n",
              "      <th>2</th>\n",
              "      <td>Honda Jazz V</td>\n",
              "      <td>Chennai</td>\n",
              "      <td>2011</td>\n",
              "      <td>46000</td>\n",
              "      <td>Petrol</td>\n",
              "      <td>Manual</td>\n",
              "      <td>1</td>\n",
              "      <td>1199.0</td>\n",
              "      <td>88.70</td>\n",
              "      <td>5.0</td>\n",
              "      <td>4.50</td>\n",
              "      <td>18.200000</td>\n",
              "    </tr>\n",
              "    <tr>\n",
              "      <th>3</th>\n",
              "      <td>Maruti Ertiga VDI</td>\n",
              "      <td>Chennai</td>\n",
              "      <td>2012</td>\n",
              "      <td>87000</td>\n",
              "      <td>Diesel</td>\n",
              "      <td>Manual</td>\n",
              "      <td>1</td>\n",
              "      <td>1248.0</td>\n",
              "      <td>88.76</td>\n",
              "      <td>7.0</td>\n",
              "      <td>6.00</td>\n",
              "      <td>23.077778</td>\n",
              "    </tr>\n",
              "    <tr>\n",
              "      <th>4</th>\n",
              "      <td>Audi A4 New 2.0 TDI Multitronic</td>\n",
              "      <td>Coimbatore</td>\n",
              "      <td>2013</td>\n",
              "      <td>40670</td>\n",
              "      <td>Diesel</td>\n",
              "      <td>Automatic</td>\n",
              "      <td>2</td>\n",
              "      <td>1968.0</td>\n",
              "      <td>140.80</td>\n",
              "      <td>5.0</td>\n",
              "      <td>17.74</td>\n",
              "      <td>16.888889</td>\n",
              "    </tr>\n",
              "  </tbody>\n",
              "</table>\n",
              "</div>"
            ],
            "text/plain": [
              "                               Name    Location  ...  Price  Mileage_kmpd\n",
              "0            Maruti Wagon R LXI CNG      Mumbai  ...   1.75     17.733333\n",
              "1  Hyundai Creta 1.6 CRDi SX Option        Pune  ...  12.50     21.855556\n",
              "2                      Honda Jazz V     Chennai  ...   4.50     18.200000\n",
              "3                 Maruti Ertiga VDI     Chennai  ...   6.00     23.077778\n",
              "4   Audi A4 New 2.0 TDI Multitronic  Coimbatore  ...  17.74     16.888889\n",
              "\n",
              "[5 rows x 12 columns]"
            ]
          },
          "metadata": {
            "tags": []
          },
          "execution_count": 1825
        }
      ]
    },
    {
      "cell_type": "markdown",
      "metadata": {
        "id": "w4RyYWUiqR27"
      },
      "source": [
        "これで'Power'の列も使用可能な数値データに変換できました。"
      ]
    },
    {
      "cell_type": "markdown",
      "metadata": {
        "id": "IuDrUZvotwpQ"
      },
      "source": [
        "####'Name','Location'について"
      ]
    },
    {
      "cell_type": "markdown",
      "metadata": {
        "id": "B8ktTRQYy8mE"
      },
      "source": [
        "#####'Name'の処理"
      ]
    },
    {
      "cell_type": "markdown",
      "metadata": {
        "id": "UdivvT8qzQcI"
      },
      "source": [
        "車種は無視して、メーカー('Name'の先頭)のみについて考えることにします。\r\n",
        "まずは'Name'を半角スペースで分割してデータフレームdf_name_splitに格納します。"
      ]
    },
    {
      "cell_type": "code",
      "metadata": {
        "colab": {
          "base_uri": "https://localhost:8080/"
        },
        "id": "e1Z1RmLBzBRR",
        "outputId": "de7be7d8-efe9-4394-baad-f27fcccff717"
      },
      "source": [
        "df_name_split=df['Name'].str.split(' ', expand=True)\r\n",
        "print(df['Name'].head())\r\n",
        "df_name_split.head()"
      ],
      "execution_count": null,
      "outputs": [
        {
          "output_type": "stream",
          "text": [
            "0              Maruti Wagon R LXI CNG\n",
            "1    Hyundai Creta 1.6 CRDi SX Option\n",
            "2                        Honda Jazz V\n",
            "3                   Maruti Ertiga VDI\n",
            "4     Audi A4 New 2.0 TDI Multitronic\n",
            "Name: Name, dtype: object\n"
          ],
          "name": "stdout"
        },
        {
          "output_type": "execute_result",
          "data": {
            "text/html": [
              "<div>\n",
              "<style scoped>\n",
              "    .dataframe tbody tr th:only-of-type {\n",
              "        vertical-align: middle;\n",
              "    }\n",
              "\n",
              "    .dataframe tbody tr th {\n",
              "        vertical-align: top;\n",
              "    }\n",
              "\n",
              "    .dataframe thead th {\n",
              "        text-align: right;\n",
              "    }\n",
              "</style>\n",
              "<table border=\"1\" class=\"dataframe\">\n",
              "  <thead>\n",
              "    <tr style=\"text-align: right;\">\n",
              "      <th></th>\n",
              "      <th>0</th>\n",
              "      <th>1</th>\n",
              "      <th>2</th>\n",
              "      <th>3</th>\n",
              "      <th>4</th>\n",
              "      <th>5</th>\n",
              "      <th>6</th>\n",
              "      <th>7</th>\n",
              "      <th>8</th>\n",
              "      <th>9</th>\n",
              "    </tr>\n",
              "  </thead>\n",
              "  <tbody>\n",
              "    <tr>\n",
              "      <th>0</th>\n",
              "      <td>Maruti</td>\n",
              "      <td>Wagon</td>\n",
              "      <td>R</td>\n",
              "      <td>LXI</td>\n",
              "      <td>CNG</td>\n",
              "      <td>None</td>\n",
              "      <td>None</td>\n",
              "      <td>None</td>\n",
              "      <td>None</td>\n",
              "      <td>None</td>\n",
              "    </tr>\n",
              "    <tr>\n",
              "      <th>1</th>\n",
              "      <td>Hyundai</td>\n",
              "      <td>Creta</td>\n",
              "      <td>1.6</td>\n",
              "      <td>CRDi</td>\n",
              "      <td>SX</td>\n",
              "      <td>Option</td>\n",
              "      <td>None</td>\n",
              "      <td>None</td>\n",
              "      <td>None</td>\n",
              "      <td>None</td>\n",
              "    </tr>\n",
              "    <tr>\n",
              "      <th>2</th>\n",
              "      <td>Honda</td>\n",
              "      <td>Jazz</td>\n",
              "      <td>V</td>\n",
              "      <td>None</td>\n",
              "      <td>None</td>\n",
              "      <td>None</td>\n",
              "      <td>None</td>\n",
              "      <td>None</td>\n",
              "      <td>None</td>\n",
              "      <td>None</td>\n",
              "    </tr>\n",
              "    <tr>\n",
              "      <th>3</th>\n",
              "      <td>Maruti</td>\n",
              "      <td>Ertiga</td>\n",
              "      <td>VDI</td>\n",
              "      <td>None</td>\n",
              "      <td>None</td>\n",
              "      <td>None</td>\n",
              "      <td>None</td>\n",
              "      <td>None</td>\n",
              "      <td>None</td>\n",
              "      <td>None</td>\n",
              "    </tr>\n",
              "    <tr>\n",
              "      <th>4</th>\n",
              "      <td>Audi</td>\n",
              "      <td>A4</td>\n",
              "      <td>New</td>\n",
              "      <td>2.0</td>\n",
              "      <td>TDI</td>\n",
              "      <td>Multitronic</td>\n",
              "      <td>None</td>\n",
              "      <td>None</td>\n",
              "      <td>None</td>\n",
              "      <td>None</td>\n",
              "    </tr>\n",
              "  </tbody>\n",
              "</table>\n",
              "</div>"
            ],
            "text/plain": [
              "         0       1    2     3     4            5     6     7     8     9\n",
              "0   Maruti   Wagon    R   LXI   CNG         None  None  None  None  None\n",
              "1  Hyundai   Creta  1.6  CRDi    SX       Option  None  None  None  None\n",
              "2    Honda    Jazz    V  None  None         None  None  None  None  None\n",
              "3   Maruti  Ertiga  VDI  None  None         None  None  None  None  None\n",
              "4     Audi      A4  New   2.0   TDI  Multitronic  None  None  None  None"
            ]
          },
          "metadata": {
            "tags": []
          },
          "execution_count": 1826
        }
      ]
    },
    {
      "cell_type": "markdown",
      "metadata": {
        "id": "6xyqRETT1t9Y"
      },
      "source": [
        "正しく分割できていそうです。\r\n",
        "df_name_splitの1列目がメーカーの情報を持つので、これをdfの新たな列'Manufacturer'として追加します。"
      ]
    },
    {
      "cell_type": "code",
      "metadata": {
        "colab": {
          "base_uri": "https://localhost:8080/"
        },
        "id": "rPxtnYu_1skv",
        "outputId": "3f6c0c16-d05b-4f2f-d599-5108be6391e8"
      },
      "source": [
        "df['Manufacturer']=df_name_split.loc[:,0]\r\n",
        "df['Manufacturer'].value_counts()"
      ],
      "execution_count": null,
      "outputs": [
        {
          "output_type": "execute_result",
          "data": {
            "text/plain": [
              "Maruti           1186\n",
              "Hyundai          1051\n",
              "Honda             600\n",
              "Toyota            407\n",
              "Volkswagen        314\n",
              "Mercedes-Benz     304\n",
              "Ford              294\n",
              "Mahindra          269\n",
              "BMW               262\n",
              "Audi              234\n",
              "Tata              183\n",
              "Skoda             170\n",
              "Renault           145\n",
              "Chevrolet         120\n",
              "Nissan             89\n",
              "Land               51\n",
              "Jaguar             40\n",
              "Mitsubishi         27\n",
              "Mini               26\n",
              "Fiat               23\n",
              "Volvo              21\n",
              "Porsche            16\n",
              "Jeep               15\n",
              "Datsun             13\n",
              "Force               3\n",
              "ISUZU               2\n",
              "Lamborghini         1\n",
              "Ambassador          1\n",
              "Isuzu               1\n",
              "Bentley             1\n",
              "Name: Manufacturer, dtype: int64"
            ]
          },
          "metadata": {
            "tags": []
          },
          "execution_count": 1827
        }
      ]
    },
    {
      "cell_type": "markdown",
      "metadata": {
        "id": "jqcHf_6bo2MA"
      },
      "source": [
        "\"ISUZU\"と\"Isuzu\"があるので\"Isuzu\"に統一します。"
      ]
    },
    {
      "cell_type": "code",
      "metadata": {
        "id": "Q1l264-6ozVJ"
      },
      "source": [
        "df['Manufacturer'] = df['Manufacturer'].str.replace('ISUZU','Isuzu')"
      ],
      "execution_count": null,
      "outputs": []
    },
    {
      "cell_type": "markdown",
      "metadata": {
        "id": "CbDXdrUTrFXF"
      },
      "source": [
        "'Manufacturer'が'によって'Price'がどう変わってくるか調べるため、箱ひげ図を表示させます。\r\n",
        "\r\n",
        "今後も使うため、平均値付きの箱ひげ図を表示させる関数を作ります。"
      ]
    },
    {
      "cell_type": "code",
      "metadata": {
        "id": "HxRcvA4G57_b"
      },
      "source": [
        "def box_plot(df,xcol,ycol='Price',size=(12,8),sym=None):\r\n",
        "  plt.figure(figsize=size)\r\n",
        "  sns.boxplot(data=df,x=xcol, y=ycol,sym=sym,showmeans=True,meanprops=dict(markersize=10,markeredgecolor='r', markerfacecolor='r'))\r\n",
        "  plt.xlabel(xcol)\r\n",
        "  plt.ylabel(ycol)\r\n",
        "  plt.title(\"Boxplot \"+str(xcol)+\" - \"+str(ycol))\r\n",
        "  plt.show()"
      ],
      "execution_count": null,
      "outputs": []
    },
    {
      "cell_type": "code",
      "metadata": {
        "colab": {
          "base_uri": "https://localhost:8080/"
        },
        "id": "27R-xxX05NCD",
        "outputId": "a6b8c27b-247a-4a8a-e594-58f432f612d4"
      },
      "source": [
        "box_plot(df,'Manufacturer',size=(30,8))"
      ],
      "execution_count": null,
      "outputs": [
        {
          "output_type": "display_data",
          "data": {
            "image/png": "[encoded data removed]",
            "text/plain": [
              "<Figure size 2160x576 with 1 Axes>"
            ]
          },
          "metadata": {
            "tags": []
          }
        }
      ]
    },
    {
      "cell_type": "markdown",
      "metadata": {
        "id": "0OTwGVK9A4og"
      },
      "source": [
        "外れ値を表示しない設定で見てみます。見やすいように\"Lamborghini\"も除外します。"
      ]
    },
    {
      "cell_type": "code",
      "metadata": {
        "colab": {
          "base_uri": "https://localhost:8080/"
        },
        "id": "D1DAbYWuA32y",
        "outputId": "f6900040-c770-4cbb-8784-b820f69ecfef"
      },
      "source": [
        "df_nolam=df[df['Manufacturer']!=\"Lamborghini\"]\r\n",
        "box_plot(df_nolam,'Manufacturer','Price',(30,12),\"\")"
      ],
      "execution_count": null,
      "outputs": [
        {
          "output_type": "display_data",
          "data": {
            "image/png": "[encoded data removed]",
            "text/plain": [
              "<Figure size 2160x864 with 1 Axes>"
            ]
          },
          "metadata": {
            "tags": []
          }
        }
      ]
    },
    {
      "cell_type": "markdown",
      "metadata": {
        "id": "3akPemlT7E6D"
      },
      "source": [
        "メーカーによって値の分布が違いますが、項目数が多いので、Target Encodingを用いて、各メーカーの値段の平均値によって数値化することにします。"
      ]
    },
    {
      "cell_type": "markdown",
      "metadata": {
        "id": "n_N_4uHbnmPI"
      },
      "source": [
        "#####'Location'について\r\n"
      ]
    },
    {
      "cell_type": "code",
      "metadata": {
        "colab": {
          "base_uri": "https://localhost:8080/"
        },
        "id": "cYEYqL44vnt_",
        "outputId": "81341290-432d-4697-cc79-2ae33db50932"
      },
      "source": [
        "df['Location'].unique()"
      ],
      "execution_count": null,
      "outputs": [
        {
          "output_type": "execute_result",
          "data": {
            "text/plain": [
              "array(['Mumbai', 'Pune', 'Chennai', 'Coimbatore', 'Hyderabad', 'Jaipur',\n",
              "       'Kochi', 'Kolkata', 'Delhi', 'Bangalore', 'Ahmedabad'],\n",
              "      dtype=object)"
            ]
          },
          "metadata": {
            "tags": []
          },
          "execution_count": 1832
        }
      ]
    },
    {
      "cell_type": "code",
      "metadata": {
        "colab": {
          "base_uri": "https://localhost:8080/"
        },
        "id": "6-IUt55ToLVu",
        "outputId": "fefb1bcd-4f95-4e2d-b25d-1cac5c6076e4"
      },
      "source": [
        "df['Location'].value_counts()"
      ],
      "execution_count": null,
      "outputs": [
        {
          "output_type": "execute_result",
          "data": {
            "text/plain": [
              "Mumbai        775\n",
              "Hyderabad     716\n",
              "Kochi         643\n",
              "Coimbatore    628\n",
              "Pune          594\n",
              "Delhi         546\n",
              "Kolkata       523\n",
              "Chennai       478\n",
              "Jaipur        401\n",
              "Bangalore     347\n",
              "Ahmedabad     218\n",
              "Name: Location, dtype: int64"
            ]
          },
          "metadata": {
            "tags": []
          },
          "execution_count": 1833
        }
      ]
    },
    {
      "cell_type": "markdown",
      "metadata": {
        "id": "UD0P3gOfrChG"
      },
      "source": [
        "'Location'ごとに値段の分布を見てみます。"
      ]
    },
    {
      "cell_type": "code",
      "metadata": {
        "colab": {
          "base_uri": "https://localhost:8080/"
        },
        "id": "Z2an5Z5frMbu",
        "outputId": "85f60af6-5404-44d4-f9e7-af7122c6e8d3"
      },
      "source": [
        "box_plot(df,'Location')"
      ],
      "execution_count": null,
      "outputs": [
        {
          "output_type": "display_data",
          "data": {
            "image/png": "[encoded data removed]",
            "text/plain": [
              "<Figure size 864x576 with 1 Axes>"
            ]
          },
          "metadata": {
            "tags": []
          }
        }
      ]
    },
    {
      "cell_type": "markdown",
      "metadata": {
        "id": "Bgm7rQOOsRd9"
      },
      "source": [
        "外れ値の存在により分布が縮小されて見づらいので、外れ値を表示しない設定にします。"
      ]
    },
    {
      "cell_type": "code",
      "metadata": {
        "colab": {
          "base_uri": "https://localhost:8080/"
        },
        "id": "C_d6a0YErql8",
        "outputId": "be6587a8-1f08-42f0-a7b4-83be56c9066f"
      },
      "source": [
        "box_plot(df,'Location',sym=\"\")"
      ],
      "execution_count": null,
      "outputs": [
        {
          "output_type": "display_data",
          "data": {
            "image/png": "[encoded data removed]",
            "text/plain": [
              "<Figure size 864x576 with 1 Axes>"
            ]
          },
          "metadata": {
            "tags": []
          }
        }
      ]
    },
    {
      "cell_type": "markdown",
      "metadata": {
        "id": "G6D-Xf_htnVb"
      },
      "source": [
        "平均値がそれぞれの分布の違いを正当に評価しているように見えます。ですので、Target Encodingを用いて、各地域での値段の平均値によって数値化することにします。"
      ]
    },
    {
      "cell_type": "markdown",
      "metadata": {
        "id": "wrELJ32KuYnR"
      },
      "source": [
        "#####'Location'と、'Name'から抽出した'Manufacturer'については、どちらもTarget Encodingをすることにしましたが、訓練データのみでエンコーディングの学習を行うことと、外れ値の影響を考えなければならないので、後に数値化の実行を行います。"
      ]
    },
    {
      "cell_type": "markdown",
      "metadata": {
        "id": "g--WL12Vh0tp"
      },
      "source": [
        "#### 'Fuel_Type','Transmisson'について"
      ]
    },
    {
      "cell_type": "markdown",
      "metadata": {
        "id": "CTX8eIXMjcgv"
      },
      "source": [
        "どちらもカテゴリ変数なのでダミー変数に変換しようと思います。\r\n"
      ]
    },
    {
      "cell_type": "markdown",
      "metadata": {
        "id": "8ttaQveXjowt"
      },
      "source": [
        "#####'Fuel_Type'の処理"
      ]
    },
    {
      "cell_type": "markdown",
      "metadata": {
        "id": "i2bzRAbuVxaD"
      },
      "source": [
        "'Fuel_Type'は値の種類が多く、このままダミー変数に変換すると特徴量が増えすぎるので、項目を減らせないか考えます。\r\n",
        "\r\n",
        "まず、'Fuel_Type'が'によって'Price'がどう変わってくるか調べるため、箱ひげ図を表示させます。"
      ]
    },
    {
      "cell_type": "code",
      "metadata": {
        "colab": {
          "base_uri": "https://localhost:8080/"
        },
        "id": "vhvEsBu5mVip",
        "outputId": "fe08d910-943c-461b-9a70-d626014e7ad7"
      },
      "source": [
        "box_plot(df,'Fuel_Type',size=(8,8))"
      ],
      "execution_count": null,
      "outputs": [
        {
          "output_type": "display_data",
          "data": {
            "image/png": "[encoded data removed]",
            "text/plain": [
              "<Figure size 576x576 with 1 Axes>"
            ]
          },
          "metadata": {
            "tags": []
          }
        }
      ]
    },
    {
      "cell_type": "markdown",
      "metadata": {
        "id": "knh-nD_WVfzO"
      },
      "source": [
        "外れ値の存在により分布が縮小されて見づらいので、外れ値を表示しない設定にします。"
      ]
    },
    {
      "cell_type": "code",
      "metadata": {
        "colab": {
          "base_uri": "https://localhost:8080/"
        },
        "id": "HKRBoEqb8E9v",
        "outputId": "bd458e95-6b6f-4588-cc64-be62a150ba05"
      },
      "source": [
        "box_plot(df,'Fuel_Type',size=(8,12),sym=\"\")"
      ],
      "execution_count": null,
      "outputs": [
        {
          "output_type": "display_data",
          "data": {
            "image/png": "[encoded data removed]",
            "text/plain": [
              "<Figure size 576x864 with 1 Axes>"
            ]
          },
          "metadata": {
            "tags": []
          }
        }
      ]
    },
    {
      "cell_type": "markdown",
      "metadata": {
        "id": "eA2J4O7QZlsC"
      },
      "source": [
        "LPGとCNGでは分布に大差がないように見えるのでこの2つのみで確認してみます。"
      ]
    },
    {
      "cell_type": "code",
      "metadata": {
        "colab": {
          "base_uri": "https://localhost:8080/"
        },
        "id": "pJK_TNZ4X4sd",
        "outputId": "cc7d3be6-3e2b-4ba1-8b93-73bd3d64d1e1"
      },
      "source": [
        "df_cnglpg=df[(df['Fuel_Type']==\"CNG\") | (df['Fuel_Type']==\"LPG\")]\r\n",
        "box_plot(df_cnglpg,'Fuel_Type','Price',(8,8))"
      ],
      "execution_count": null,
      "outputs": [
        {
          "output_type": "display_data",
          "data": {
            "image/png": "[encoded data removed]",
            "text/plain": [
              "<Figure size 576x576 with 1 Axes>"
            ]
          },
          "metadata": {
            "tags": []
          }
        }
      ]
    },
    {
      "cell_type": "markdown",
      "metadata": {
        "id": "vA0dpj0hZyzI"
      },
      "source": [
        "'Fuel_Type'をダミー変数に変換するときに特徴量が増えすぎるのを防ぐため、上記のように分布の差が少ないCNGとLPGはまとめます。"
      ]
    },
    {
      "cell_type": "code",
      "metadata": {
        "colab": {
          "base_uri": "https://localhost:8080/"
        },
        "id": "OBVNQfMrkgin",
        "outputId": "1522aa9b-1fe7-435a-c276-c9872b60a503"
      },
      "source": [
        "df['Fuel_Type']=df['Fuel_Type'].str.replace('CNG','CNGorLPG').replace('LPG','CNGorLPG')\r\n",
        "df.head()"
      ],
      "execution_count": null,
      "outputs": [
        {
          "output_type": "execute_result",
          "data": {
            "text/html": [
              "<div>\n",
              "<style scoped>\n",
              "    .dataframe tbody tr th:only-of-type {\n",
              "        vertical-align: middle;\n",
              "    }\n",
              "\n",
              "    .dataframe tbody tr th {\n",
              "        vertical-align: top;\n",
              "    }\n",
              "\n",
              "    .dataframe thead th {\n",
              "        text-align: right;\n",
              "    }\n",
              "</style>\n",
              "<table border=\"1\" class=\"dataframe\">\n",
              "  <thead>\n",
              "    <tr style=\"text-align: right;\">\n",
              "      <th></th>\n",
              "      <th>Name</th>\n",
              "      <th>Location</th>\n",
              "      <th>Year</th>\n",
              "      <th>Kilometers_Driven</th>\n",
              "      <th>Fuel_Type</th>\n",
              "      <th>Transmission</th>\n",
              "      <th>Owner_Type</th>\n",
              "      <th>Engine</th>\n",
              "      <th>Power</th>\n",
              "      <th>Seats</th>\n",
              "      <th>Price</th>\n",
              "      <th>Mileage_kmpd</th>\n",
              "      <th>Manufacturer</th>\n",
              "    </tr>\n",
              "  </thead>\n",
              "  <tbody>\n",
              "    <tr>\n",
              "      <th>0</th>\n",
              "      <td>Maruti Wagon R LXI CNG</td>\n",
              "      <td>Mumbai</td>\n",
              "      <td>2010</td>\n",
              "      <td>72000</td>\n",
              "      <td>CNGorLPG</td>\n",
              "      <td>Manual</td>\n",
              "      <td>1</td>\n",
              "      <td>998.0</td>\n",
              "      <td>58.16</td>\n",
              "      <td>5.0</td>\n",
              "      <td>1.75</td>\n",
              "      <td>17.733333</td>\n",
              "      <td>Maruti</td>\n",
              "    </tr>\n",
              "    <tr>\n",
              "      <th>1</th>\n",
              "      <td>Hyundai Creta 1.6 CRDi SX Option</td>\n",
              "      <td>Pune</td>\n",
              "      <td>2015</td>\n",
              "      <td>41000</td>\n",
              "      <td>Diesel</td>\n",
              "      <td>Manual</td>\n",
              "      <td>1</td>\n",
              "      <td>1582.0</td>\n",
              "      <td>126.20</td>\n",
              "      <td>5.0</td>\n",
              "      <td>12.50</td>\n",
              "      <td>21.855556</td>\n",
              "      <td>Hyundai</td>\n",
              "    </tr>\n",
              "    <tr>\n",
              "      <th>2</th>\n",
              "      <td>Honda Jazz V</td>\n",
              "      <td>Chennai</td>\n",
              "      <td>2011</td>\n",
              "      <td>46000</td>\n",
              "      <td>Petrol</td>\n",
              "      <td>Manual</td>\n",
              "      <td>1</td>\n",
              "      <td>1199.0</td>\n",
              "      <td>88.70</td>\n",
              "      <td>5.0</td>\n",
              "      <td>4.50</td>\n",
              "      <td>18.200000</td>\n",
              "      <td>Honda</td>\n",
              "    </tr>\n",
              "    <tr>\n",
              "      <th>3</th>\n",
              "      <td>Maruti Ertiga VDI</td>\n",
              "      <td>Chennai</td>\n",
              "      <td>2012</td>\n",
              "      <td>87000</td>\n",
              "      <td>Diesel</td>\n",
              "      <td>Manual</td>\n",
              "      <td>1</td>\n",
              "      <td>1248.0</td>\n",
              "      <td>88.76</td>\n",
              "      <td>7.0</td>\n",
              "      <td>6.00</td>\n",
              "      <td>23.077778</td>\n",
              "      <td>Maruti</td>\n",
              "    </tr>\n",
              "    <tr>\n",
              "      <th>4</th>\n",
              "      <td>Audi A4 New 2.0 TDI Multitronic</td>\n",
              "      <td>Coimbatore</td>\n",
              "      <td>2013</td>\n",
              "      <td>40670</td>\n",
              "      <td>Diesel</td>\n",
              "      <td>Automatic</td>\n",
              "      <td>2</td>\n",
              "      <td>1968.0</td>\n",
              "      <td>140.80</td>\n",
              "      <td>5.0</td>\n",
              "      <td>17.74</td>\n",
              "      <td>16.888889</td>\n",
              "      <td>Audi</td>\n",
              "    </tr>\n",
              "  </tbody>\n",
              "</table>\n",
              "</div>"
            ],
            "text/plain": [
              "                               Name    Location  ...  Mileage_kmpd  Manufacturer\n",
              "0            Maruti Wagon R LXI CNG      Mumbai  ...     17.733333        Maruti\n",
              "1  Hyundai Creta 1.6 CRDi SX Option        Pune  ...     21.855556       Hyundai\n",
              "2                      Honda Jazz V     Chennai  ...     18.200000         Honda\n",
              "3                 Maruti Ertiga VDI     Chennai  ...     23.077778        Maruti\n",
              "4   Audi A4 New 2.0 TDI Multitronic  Coimbatore  ...     16.888889          Audi\n",
              "\n",
              "[5 rows x 13 columns]"
            ]
          },
          "metadata": {
            "tags": []
          },
          "execution_count": 1839
        }
      ]
    },
    {
      "cell_type": "markdown",
      "metadata": {
        "id": "izQjEpmWmDxo"
      },
      "source": [
        "#####pd.get_dummiesを使って'Fuel_Type','Transmission'をダミー変数に変換した新たなデータフレームを作成し、そのデータフレームを元のデータフレームに連結します。"
      ]
    },
    {
      "cell_type": "code",
      "metadata": {
        "colab": {
          "base_uri": "https://localhost:8080/"
        },
        "id": "SZOEjd3-loBh",
        "outputId": "50b998c1-d26a-4107-9a34-a200b654a8f8"
      },
      "source": [
        "df_dum=pd.get_dummies(df[['Fuel_Type','Transmission']], drop_first=True)\r\n",
        "df_dum.head()"
      ],
      "execution_count": null,
      "outputs": [
        {
          "output_type": "execute_result",
          "data": {
            "text/html": [
              "<div>\n",
              "<style scoped>\n",
              "    .dataframe tbody tr th:only-of-type {\n",
              "        vertical-align: middle;\n",
              "    }\n",
              "\n",
              "    .dataframe tbody tr th {\n",
              "        vertical-align: top;\n",
              "    }\n",
              "\n",
              "    .dataframe thead th {\n",
              "        text-align: right;\n",
              "    }\n",
              "</style>\n",
              "<table border=\"1\" class=\"dataframe\">\n",
              "  <thead>\n",
              "    <tr style=\"text-align: right;\">\n",
              "      <th></th>\n",
              "      <th>Fuel_Type_Diesel</th>\n",
              "      <th>Fuel_Type_Petrol</th>\n",
              "      <th>Transmission_Manual</th>\n",
              "    </tr>\n",
              "  </thead>\n",
              "  <tbody>\n",
              "    <tr>\n",
              "      <th>0</th>\n",
              "      <td>0</td>\n",
              "      <td>0</td>\n",
              "      <td>1</td>\n",
              "    </tr>\n",
              "    <tr>\n",
              "      <th>1</th>\n",
              "      <td>1</td>\n",
              "      <td>0</td>\n",
              "      <td>1</td>\n",
              "    </tr>\n",
              "    <tr>\n",
              "      <th>2</th>\n",
              "      <td>0</td>\n",
              "      <td>1</td>\n",
              "      <td>1</td>\n",
              "    </tr>\n",
              "    <tr>\n",
              "      <th>3</th>\n",
              "      <td>1</td>\n",
              "      <td>0</td>\n",
              "      <td>1</td>\n",
              "    </tr>\n",
              "    <tr>\n",
              "      <th>4</th>\n",
              "      <td>1</td>\n",
              "      <td>0</td>\n",
              "      <td>0</td>\n",
              "    </tr>\n",
              "  </tbody>\n",
              "</table>\n",
              "</div>"
            ],
            "text/plain": [
              "   Fuel_Type_Diesel  Fuel_Type_Petrol  Transmission_Manual\n",
              "0                 0                 0                    1\n",
              "1                 1                 0                    1\n",
              "2                 0                 1                    1\n",
              "3                 1                 0                    1\n",
              "4                 1                 0                    0"
            ]
          },
          "metadata": {
            "tags": []
          },
          "execution_count": 1840
        }
      ]
    },
    {
      "cell_type": "code",
      "metadata": {
        "colab": {
          "base_uri": "https://localhost:8080/"
        },
        "id": "KezVcDtrx3Be",
        "outputId": "6fcb8085-ac36-4388-94bf-16d7d51cb89b"
      },
      "source": [
        "df=pd.concat([df, df_dum],axis=1)\r\n",
        "df.head()"
      ],
      "execution_count": null,
      "outputs": [
        {
          "output_type": "execute_result",
          "data": {
            "text/html": [
              "<div>\n",
              "<style scoped>\n",
              "    .dataframe tbody tr th:only-of-type {\n",
              "        vertical-align: middle;\n",
              "    }\n",
              "\n",
              "    .dataframe tbody tr th {\n",
              "        vertical-align: top;\n",
              "    }\n",
              "\n",
              "    .dataframe thead th {\n",
              "        text-align: right;\n",
              "    }\n",
              "</style>\n",
              "<table border=\"1\" class=\"dataframe\">\n",
              "  <thead>\n",
              "    <tr style=\"text-align: right;\">\n",
              "      <th></th>\n",
              "      <th>Name</th>\n",
              "      <th>Location</th>\n",
              "      <th>Year</th>\n",
              "      <th>Kilometers_Driven</th>\n",
              "      <th>Fuel_Type</th>\n",
              "      <th>Transmission</th>\n",
              "      <th>Owner_Type</th>\n",
              "      <th>Engine</th>\n",
              "      <th>Power</th>\n",
              "      <th>Seats</th>\n",
              "      <th>Price</th>\n",
              "      <th>Mileage_kmpd</th>\n",
              "      <th>Manufacturer</th>\n",
              "      <th>Fuel_Type_Diesel</th>\n",
              "      <th>Fuel_Type_Petrol</th>\n",
              "      <th>Transmission_Manual</th>\n",
              "    </tr>\n",
              "  </thead>\n",
              "  <tbody>\n",
              "    <tr>\n",
              "      <th>0</th>\n",
              "      <td>Maruti Wagon R LXI CNG</td>\n",
              "      <td>Mumbai</td>\n",
              "      <td>2010</td>\n",
              "      <td>72000</td>\n",
              "      <td>CNGorLPG</td>\n",
              "      <td>Manual</td>\n",
              "      <td>1</td>\n",
              "      <td>998.0</td>\n",
              "      <td>58.16</td>\n",
              "      <td>5.0</td>\n",
              "      <td>1.75</td>\n",
              "      <td>17.733333</td>\n",
              "      <td>Maruti</td>\n",
              "      <td>0</td>\n",
              "      <td>0</td>\n",
              "      <td>1</td>\n",
              "    </tr>\n",
              "    <tr>\n",
              "      <th>1</th>\n",
              "      <td>Hyundai Creta 1.6 CRDi SX Option</td>\n",
              "      <td>Pune</td>\n",
              "      <td>2015</td>\n",
              "      <td>41000</td>\n",
              "      <td>Diesel</td>\n",
              "      <td>Manual</td>\n",
              "      <td>1</td>\n",
              "      <td>1582.0</td>\n",
              "      <td>126.20</td>\n",
              "      <td>5.0</td>\n",
              "      <td>12.50</td>\n",
              "      <td>21.855556</td>\n",
              "      <td>Hyundai</td>\n",
              "      <td>1</td>\n",
              "      <td>0</td>\n",
              "      <td>1</td>\n",
              "    </tr>\n",
              "    <tr>\n",
              "      <th>2</th>\n",
              "      <td>Honda Jazz V</td>\n",
              "      <td>Chennai</td>\n",
              "      <td>2011</td>\n",
              "      <td>46000</td>\n",
              "      <td>Petrol</td>\n",
              "      <td>Manual</td>\n",
              "      <td>1</td>\n",
              "      <td>1199.0</td>\n",
              "      <td>88.70</td>\n",
              "      <td>5.0</td>\n",
              "      <td>4.50</td>\n",
              "      <td>18.200000</td>\n",
              "      <td>Honda</td>\n",
              "      <td>0</td>\n",
              "      <td>1</td>\n",
              "      <td>1</td>\n",
              "    </tr>\n",
              "    <tr>\n",
              "      <th>3</th>\n",
              "      <td>Maruti Ertiga VDI</td>\n",
              "      <td>Chennai</td>\n",
              "      <td>2012</td>\n",
              "      <td>87000</td>\n",
              "      <td>Diesel</td>\n",
              "      <td>Manual</td>\n",
              "      <td>1</td>\n",
              "      <td>1248.0</td>\n",
              "      <td>88.76</td>\n",
              "      <td>7.0</td>\n",
              "      <td>6.00</td>\n",
              "      <td>23.077778</td>\n",
              "      <td>Maruti</td>\n",
              "      <td>1</td>\n",
              "      <td>0</td>\n",
              "      <td>1</td>\n",
              "    </tr>\n",
              "    <tr>\n",
              "      <th>4</th>\n",
              "      <td>Audi A4 New 2.0 TDI Multitronic</td>\n",
              "      <td>Coimbatore</td>\n",
              "      <td>2013</td>\n",
              "      <td>40670</td>\n",
              "      <td>Diesel</td>\n",
              "      <td>Automatic</td>\n",
              "      <td>2</td>\n",
              "      <td>1968.0</td>\n",
              "      <td>140.80</td>\n",
              "      <td>5.0</td>\n",
              "      <td>17.74</td>\n",
              "      <td>16.888889</td>\n",
              "      <td>Audi</td>\n",
              "      <td>1</td>\n",
              "      <td>0</td>\n",
              "      <td>0</td>\n",
              "    </tr>\n",
              "  </tbody>\n",
              "</table>\n",
              "</div>"
            ],
            "text/plain": [
              "                               Name  ... Transmission_Manual\n",
              "0            Maruti Wagon R LXI CNG  ...                   1\n",
              "1  Hyundai Creta 1.6 CRDi SX Option  ...                   1\n",
              "2                      Honda Jazz V  ...                   1\n",
              "3                 Maruti Ertiga VDI  ...                   1\n",
              "4   Audi A4 New 2.0 TDI Multitronic  ...                   0\n",
              "\n",
              "[5 rows x 16 columns]"
            ]
          },
          "metadata": {
            "tags": []
          },
          "execution_count": 1841
        }
      ]
    },
    {
      "cell_type": "markdown",
      "metadata": {
        "id": "pBTABQCoxeK0"
      },
      "source": [
        "正しく変換された列（'Fuel_Type_Diesel','Fuel_Type_Petrol','Transmission_Manual\t'）が追加されているので、\r\n",
        "\r\n",
        "不要になった'Fuel_Type','Transmission'を削除します。"
      ]
    },
    {
      "cell_type": "code",
      "metadata": {
        "colab": {
          "base_uri": "https://localhost:8080/"
        },
        "id": "3yizUSAYyQQs",
        "outputId": "aa58bfdf-28f3-49b6-bfed-1615168ba71c"
      },
      "source": [
        "df=df.drop(columns=['Fuel_Type','Transmission'])\r\n",
        "df.head()"
      ],
      "execution_count": null,
      "outputs": [
        {
          "output_type": "execute_result",
          "data": {
            "text/html": [
              "<div>\n",
              "<style scoped>\n",
              "    .dataframe tbody tr th:only-of-type {\n",
              "        vertical-align: middle;\n",
              "    }\n",
              "\n",
              "    .dataframe tbody tr th {\n",
              "        vertical-align: top;\n",
              "    }\n",
              "\n",
              "    .dataframe thead th {\n",
              "        text-align: right;\n",
              "    }\n",
              "</style>\n",
              "<table border=\"1\" class=\"dataframe\">\n",
              "  <thead>\n",
              "    <tr style=\"text-align: right;\">\n",
              "      <th></th>\n",
              "      <th>Name</th>\n",
              "      <th>Location</th>\n",
              "      <th>Year</th>\n",
              "      <th>Kilometers_Driven</th>\n",
              "      <th>Owner_Type</th>\n",
              "      <th>Engine</th>\n",
              "      <th>Power</th>\n",
              "      <th>Seats</th>\n",
              "      <th>Price</th>\n",
              "      <th>Mileage_kmpd</th>\n",
              "      <th>Manufacturer</th>\n",
              "      <th>Fuel_Type_Diesel</th>\n",
              "      <th>Fuel_Type_Petrol</th>\n",
              "      <th>Transmission_Manual</th>\n",
              "    </tr>\n",
              "  </thead>\n",
              "  <tbody>\n",
              "    <tr>\n",
              "      <th>0</th>\n",
              "      <td>Maruti Wagon R LXI CNG</td>\n",
              "      <td>Mumbai</td>\n",
              "      <td>2010</td>\n",
              "      <td>72000</td>\n",
              "      <td>1</td>\n",
              "      <td>998.0</td>\n",
              "      <td>58.16</td>\n",
              "      <td>5.0</td>\n",
              "      <td>1.75</td>\n",
              "      <td>17.733333</td>\n",
              "      <td>Maruti</td>\n",
              "      <td>0</td>\n",
              "      <td>0</td>\n",
              "      <td>1</td>\n",
              "    </tr>\n",
              "    <tr>\n",
              "      <th>1</th>\n",
              "      <td>Hyundai Creta 1.6 CRDi SX Option</td>\n",
              "      <td>Pune</td>\n",
              "      <td>2015</td>\n",
              "      <td>41000</td>\n",
              "      <td>1</td>\n",
              "      <td>1582.0</td>\n",
              "      <td>126.20</td>\n",
              "      <td>5.0</td>\n",
              "      <td>12.50</td>\n",
              "      <td>21.855556</td>\n",
              "      <td>Hyundai</td>\n",
              "      <td>1</td>\n",
              "      <td>0</td>\n",
              "      <td>1</td>\n",
              "    </tr>\n",
              "    <tr>\n",
              "      <th>2</th>\n",
              "      <td>Honda Jazz V</td>\n",
              "      <td>Chennai</td>\n",
              "      <td>2011</td>\n",
              "      <td>46000</td>\n",
              "      <td>1</td>\n",
              "      <td>1199.0</td>\n",
              "      <td>88.70</td>\n",
              "      <td>5.0</td>\n",
              "      <td>4.50</td>\n",
              "      <td>18.200000</td>\n",
              "      <td>Honda</td>\n",
              "      <td>0</td>\n",
              "      <td>1</td>\n",
              "      <td>1</td>\n",
              "    </tr>\n",
              "    <tr>\n",
              "      <th>3</th>\n",
              "      <td>Maruti Ertiga VDI</td>\n",
              "      <td>Chennai</td>\n",
              "      <td>2012</td>\n",
              "      <td>87000</td>\n",
              "      <td>1</td>\n",
              "      <td>1248.0</td>\n",
              "      <td>88.76</td>\n",
              "      <td>7.0</td>\n",
              "      <td>6.00</td>\n",
              "      <td>23.077778</td>\n",
              "      <td>Maruti</td>\n",
              "      <td>1</td>\n",
              "      <td>0</td>\n",
              "      <td>1</td>\n",
              "    </tr>\n",
              "    <tr>\n",
              "      <th>4</th>\n",
              "      <td>Audi A4 New 2.0 TDI Multitronic</td>\n",
              "      <td>Coimbatore</td>\n",
              "      <td>2013</td>\n",
              "      <td>40670</td>\n",
              "      <td>2</td>\n",
              "      <td>1968.0</td>\n",
              "      <td>140.80</td>\n",
              "      <td>5.0</td>\n",
              "      <td>17.74</td>\n",
              "      <td>16.888889</td>\n",
              "      <td>Audi</td>\n",
              "      <td>1</td>\n",
              "      <td>0</td>\n",
              "      <td>0</td>\n",
              "    </tr>\n",
              "  </tbody>\n",
              "</table>\n",
              "</div>"
            ],
            "text/plain": [
              "                               Name  ... Transmission_Manual\n",
              "0            Maruti Wagon R LXI CNG  ...                   1\n",
              "1  Hyundai Creta 1.6 CRDi SX Option  ...                   1\n",
              "2                      Honda Jazz V  ...                   1\n",
              "3                 Maruti Ertiga VDI  ...                   1\n",
              "4   Audi A4 New 2.0 TDI Multitronic  ...                   0\n",
              "\n",
              "[5 rows x 14 columns]"
            ]
          },
          "metadata": {
            "tags": []
          },
          "execution_count": 1842
        }
      ]
    },
    {
      "cell_type": "markdown",
      "metadata": {
        "id": "NkPkp8PWrCqW"
      },
      "source": [
        "####'Year','Kilometers_Driven'については整数型のまま扱います。'Seats','Price'についてはもとから浮動小数点型なので問題ありません。"
      ]
    },
    {
      "cell_type": "code",
      "metadata": {
        "colab": {
          "base_uri": "https://localhost:8080/"
        },
        "id": "h37mzSs4Hrpj",
        "outputId": "a7206476-9638-496d-d846-fcd0ee048cfe"
      },
      "source": [
        "df.info()"
      ],
      "execution_count": null,
      "outputs": [
        {
          "output_type": "stream",
          "text": [
            "<class 'pandas.core.frame.DataFrame'>\n",
            "Int64Index: 5869 entries, 0 to 6018\n",
            "Data columns (total 14 columns):\n",
            " #   Column               Non-Null Count  Dtype  \n",
            "---  ------               --------------  -----  \n",
            " 0   Name                 5869 non-null   object \n",
            " 1   Location             5869 non-null   object \n",
            " 2   Year                 5869 non-null   int64  \n",
            " 3   Kilometers_Driven    5869 non-null   int64  \n",
            " 4   Owner_Type           5869 non-null   int64  \n",
            " 5   Engine               5869 non-null   float64\n",
            " 6   Power                5869 non-null   float64\n",
            " 7   Seats                5869 non-null   float64\n",
            " 8   Price                5869 non-null   float64\n",
            " 9   Mileage_kmpd         5869 non-null   float64\n",
            " 10  Manufacturer         5869 non-null   object \n",
            " 11  Fuel_Type_Diesel     5869 non-null   uint8  \n",
            " 12  Fuel_Type_Petrol     5869 non-null   uint8  \n",
            " 13  Transmission_Manual  5869 non-null   uint8  \n",
            "dtypes: float64(5), int64(3), object(3), uint8(3)\n",
            "memory usage: 727.4+ KB\n"
          ],
          "name": "stdout"
        }
      ]
    },
    {
      "cell_type": "markdown",
      "metadata": {
        "id": "Kvc5oka_sqx3"
      },
      "source": [
        "###外れ値の除外"
      ]
    },
    {
      "cell_type": "code",
      "metadata": {
        "id": "TgkztNWZuYc7",
        "colab": {
          "base_uri": "https://localhost:8080/"
        },
        "outputId": "d7482123-f7b2-47e8-ca4a-5700c132f96f"
      },
      "source": [
        "df.describe()"
      ],
      "execution_count": null,
      "outputs": [
        {
          "output_type": "execute_result",
          "data": {
            "text/html": [
              "<div>\n",
              "<style scoped>\n",
              "    .dataframe tbody tr th:only-of-type {\n",
              "        vertical-align: middle;\n",
              "    }\n",
              "\n",
              "    .dataframe tbody tr th {\n",
              "        vertical-align: top;\n",
              "    }\n",
              "\n",
              "    .dataframe thead th {\n",
              "        text-align: right;\n",
              "    }\n",
              "</style>\n",
              "<table border=\"1\" class=\"dataframe\">\n",
              "  <thead>\n",
              "    <tr style=\"text-align: right;\">\n",
              "      <th></th>\n",
              "      <th>Year</th>\n",
              "      <th>Kilometers_Driven</th>\n",
              "      <th>Owner_Type</th>\n",
              "      <th>Engine</th>\n",
              "      <th>Power</th>\n",
              "      <th>Seats</th>\n",
              "      <th>Price</th>\n",
              "      <th>Mileage_kmpd</th>\n",
              "      <th>Fuel_Type_Diesel</th>\n",
              "      <th>Fuel_Type_Petrol</th>\n",
              "      <th>Transmission_Manual</th>\n",
              "    </tr>\n",
              "  </thead>\n",
              "  <tbody>\n",
              "    <tr>\n",
              "      <th>count</th>\n",
              "      <td>5869.000000</td>\n",
              "      <td>5.869000e+03</td>\n",
              "      <td>5869.000000</td>\n",
              "      <td>5869.000000</td>\n",
              "      <td>5869.000000</td>\n",
              "      <td>5869.000000</td>\n",
              "      <td>5869.000000</td>\n",
              "      <td>5869.000000</td>\n",
              "      <td>5869.000000</td>\n",
              "      <td>5869.000000</td>\n",
              "      <td>5869.000000</td>\n",
              "    </tr>\n",
              "    <tr>\n",
              "      <th>mean</th>\n",
              "      <td>2013.474698</td>\n",
              "      <td>5.836582e+04</td>\n",
              "      <td>1.195434</td>\n",
              "      <td>1621.655137</td>\n",
              "      <td>112.959506</td>\n",
              "      <td>5.284205</td>\n",
              "      <td>9.522137</td>\n",
              "      <td>19.416616</td>\n",
              "      <td>0.537911</td>\n",
              "      <td>0.451014</td>\n",
              "      <td>0.713580</td>\n",
              "    </tr>\n",
              "    <tr>\n",
              "      <th>std</th>\n",
              "      <td>3.160539</td>\n",
              "      <td>9.220104e+04</td>\n",
              "      <td>0.446305</td>\n",
              "      <td>598.203558</td>\n",
              "      <td>53.768780</td>\n",
              "      <td>0.805565</td>\n",
              "      <td>11.169332</td>\n",
              "      <td>4.673542</td>\n",
              "      <td>0.498603</td>\n",
              "      <td>0.497637</td>\n",
              "      <td>0.452127</td>\n",
              "    </tr>\n",
              "    <tr>\n",
              "      <th>min</th>\n",
              "      <td>1998.000000</td>\n",
              "      <td>1.710000e+02</td>\n",
              "      <td>1.000000</td>\n",
              "      <td>624.000000</td>\n",
              "      <td>34.200000</td>\n",
              "      <td>2.000000</td>\n",
              "      <td>0.440000</td>\n",
              "      <td>6.400000</td>\n",
              "      <td>0.000000</td>\n",
              "      <td>0.000000</td>\n",
              "      <td>0.000000</td>\n",
              "    </tr>\n",
              "    <tr>\n",
              "      <th>25%</th>\n",
              "      <td>2012.000000</td>\n",
              "      <td>3.355000e+04</td>\n",
              "      <td>1.000000</td>\n",
              "      <td>1198.000000</td>\n",
              "      <td>75.000000</td>\n",
              "      <td>5.000000</td>\n",
              "      <td>3.500000</td>\n",
              "      <td>16.100000</td>\n",
              "      <td>0.000000</td>\n",
              "      <td>0.000000</td>\n",
              "      <td>0.000000</td>\n",
              "    </tr>\n",
              "    <tr>\n",
              "      <th>50%</th>\n",
              "      <td>2014.000000</td>\n",
              "      <td>5.261800e+04</td>\n",
              "      <td>1.000000</td>\n",
              "      <td>1493.000000</td>\n",
              "      <td>94.000000</td>\n",
              "      <td>5.000000</td>\n",
              "      <td>5.700000</td>\n",
              "      <td>18.900000</td>\n",
              "      <td>1.000000</td>\n",
              "      <td>0.000000</td>\n",
              "      <td>1.000000</td>\n",
              "    </tr>\n",
              "    <tr>\n",
              "      <th>75%</th>\n",
              "      <td>2016.000000</td>\n",
              "      <td>7.241100e+04</td>\n",
              "      <td>1.000000</td>\n",
              "      <td>1984.000000</td>\n",
              "      <td>138.100000</td>\n",
              "      <td>5.000000</td>\n",
              "      <td>9.990000</td>\n",
              "      <td>22.644444</td>\n",
              "      <td>1.000000</td>\n",
              "      <td>1.000000</td>\n",
              "      <td>1.000000</td>\n",
              "    </tr>\n",
              "    <tr>\n",
              "      <th>max</th>\n",
              "      <td>2019.000000</td>\n",
              "      <td>6.500000e+06</td>\n",
              "      <td>4.000000</td>\n",
              "      <td>5998.000000</td>\n",
              "      <td>560.000000</td>\n",
              "      <td>10.000000</td>\n",
              "      <td>160.000000</td>\n",
              "      <td>31.555556</td>\n",
              "      <td>1.000000</td>\n",
              "      <td>1.000000</td>\n",
              "      <td>1.000000</td>\n",
              "    </tr>\n",
              "  </tbody>\n",
              "</table>\n",
              "</div>"
            ],
            "text/plain": [
              "              Year  Kilometers_Driven  ...  Fuel_Type_Petrol  Transmission_Manual\n",
              "count  5869.000000       5.869000e+03  ...       5869.000000          5869.000000\n",
              "mean   2013.474698       5.836582e+04  ...          0.451014             0.713580\n",
              "std       3.160539       9.220104e+04  ...          0.497637             0.452127\n",
              "min    1998.000000       1.710000e+02  ...          0.000000             0.000000\n",
              "25%    2012.000000       3.355000e+04  ...          0.000000             0.000000\n",
              "50%    2014.000000       5.261800e+04  ...          0.000000             1.000000\n",
              "75%    2016.000000       7.241100e+04  ...          1.000000             1.000000\n",
              "max    2019.000000       6.500000e+06  ...          1.000000             1.000000\n",
              "\n",
              "[8 rows x 11 columns]"
            ]
          },
          "metadata": {
            "tags": []
          },
          "execution_count": 1844
        }
      ]
    },
    {
      "cell_type": "markdown",
      "metadata": {
        "id": "22CuK8bS3eCf"
      },
      "source": [
        "'Owner_Type','Fuel_Type_Diesel','Fuel_Type_Petrol','Transmission_Manual'については、エンコーディングした後なので問題ありません。\r\n",
        "\r\n",
        "'Year','Engine','Power','Seats','Price','Mileage_kmpd'については、最大,最小ともに法外な値ではありませんが、\r\n",
        "\r\n",
        "'Price'の最大値付近については、一応誤入力でないかどうか、'Manufacturer'を確認し、高級車であるかどうか確認します。\r\n",
        "\r\n",
        "'Kilometers_Driven'については最大値が 650万km と大きすぎ、ギネス記録を超えています。\r\n",
        "\r\n",
        "####参考文献"
      ]
    },
    {
      "cell_type": "markdown",
      "metadata": {
        "id": "Bd3MocovLhDL"
      },
      "source": [
        "\r\n",
        "\r\n",
        "8.    VOLVO\r\n",
        "  \r\n",
        "  Blog > 全店 > Whats VOLVO\r\n",
        "\r\n",
        "  1台の乗用車でもっとも長く走行したギネス記録を知っていますか？ (2018.04.19)\r\n",
        "\r\n",
        "  [サイトへのリンク https://www.sweden-cars.jp/blog/...](https://www.sweden-cars.jp/blog/1%E5%8F%B0%E3%81%AE%E4%B9%97%E7%94%A8%E8%BB%8A%E3%81%A7%E3%82%82%E3%81%A3%E3%81%A8%E3%82%82%E9%95%B7%E3%81%8F%E8%B5%B0%E8%A1%8C%E3%81%97%E3%81%9F%E3%82%AE%E3%83%8D%E3%82%B9%E8%A8%98%E9%8C%B2%E3%82%92%E7%9F%A5%E3%81%A3%E3%81%A6%E3%81%84%E3%81%BE%E3%81%99%E3%81%8B%EF%BC%9F/#:~:text=1%E5%8F%B0%E3%81%AE%E4%B9%97%E7%94%A8%E8%BB%8A%E3%81%8C,%E3%81%AB%E8%AA%8D%E5%AE%9A%E3%81%95%E3%82%8C%E3%81%BE%E3%81%97%E3%81%9F%E3%80%82)\r\n"
      ]
    },
    {
      "cell_type": "markdown",
      "metadata": {
        "id": "qb2j5jGPNUGx"
      },
      "source": [
        "####'Price'の大きい順に並び替えて表示してみます。"
      ]
    },
    {
      "cell_type": "code",
      "metadata": {
        "colab": {
          "base_uri": "https://localhost:8080/"
        },
        "id": "yBTP6OIWS3TX",
        "outputId": "a0292e4e-2a25-4157-f9ba-fbcddb2edfa5"
      },
      "source": [
        "df_price=df.sort_values('Price',ascending=False)\r\n",
        "df_price.head(10)"
      ],
      "execution_count": null,
      "outputs": [
        {
          "output_type": "execute_result",
          "data": {
            "text/html": [
              "<div>\n",
              "<style scoped>\n",
              "    .dataframe tbody tr th:only-of-type {\n",
              "        vertical-align: middle;\n",
              "    }\n",
              "\n",
              "    .dataframe tbody tr th {\n",
              "        vertical-align: top;\n",
              "    }\n",
              "\n",
              "    .dataframe thead th {\n",
              "        text-align: right;\n",
              "    }\n",
              "</style>\n",
              "<table border=\"1\" class=\"dataframe\">\n",
              "  <thead>\n",
              "    <tr style=\"text-align: right;\">\n",
              "      <th></th>\n",
              "      <th>Name</th>\n",
              "      <th>Location</th>\n",
              "      <th>Year</th>\n",
              "      <th>Kilometers_Driven</th>\n",
              "      <th>Owner_Type</th>\n",
              "      <th>Engine</th>\n",
              "      <th>Power</th>\n",
              "      <th>Seats</th>\n",
              "      <th>Price</th>\n",
              "      <th>Mileage_kmpd</th>\n",
              "      <th>Manufacturer</th>\n",
              "      <th>Fuel_Type_Diesel</th>\n",
              "      <th>Fuel_Type_Petrol</th>\n",
              "      <th>Transmission_Manual</th>\n",
              "    </tr>\n",
              "  </thead>\n",
              "  <tbody>\n",
              "    <tr>\n",
              "      <th>4079</th>\n",
              "      <td>Land Rover Range Rover 3.0 Diesel LWB Vogue</td>\n",
              "      <td>Hyderabad</td>\n",
              "      <td>2017</td>\n",
              "      <td>25000</td>\n",
              "      <td>1</td>\n",
              "      <td>2993.0</td>\n",
              "      <td>255.00</td>\n",
              "      <td>5.0</td>\n",
              "      <td>160.00</td>\n",
              "      <td>14.811111</td>\n",
              "      <td>Land</td>\n",
              "      <td>1</td>\n",
              "      <td>0</td>\n",
              "      <td>0</td>\n",
              "    </tr>\n",
              "    <tr>\n",
              "      <th>5781</th>\n",
              "      <td>Lamborghini Gallardo Coupe</td>\n",
              "      <td>Delhi</td>\n",
              "      <td>2011</td>\n",
              "      <td>6500</td>\n",
              "      <td>3</td>\n",
              "      <td>5204.0</td>\n",
              "      <td>560.00</td>\n",
              "      <td>2.0</td>\n",
              "      <td>120.00</td>\n",
              "      <td>6.400000</td>\n",
              "      <td>Lamborghini</td>\n",
              "      <td>0</td>\n",
              "      <td>1</td>\n",
              "      <td>0</td>\n",
              "    </tr>\n",
              "    <tr>\n",
              "      <th>5919</th>\n",
              "      <td>Jaguar F Type 5.0 V8 S</td>\n",
              "      <td>Hyderabad</td>\n",
              "      <td>2015</td>\n",
              "      <td>8000</td>\n",
              "      <td>1</td>\n",
              "      <td>5000.0</td>\n",
              "      <td>488.10</td>\n",
              "      <td>2.0</td>\n",
              "      <td>100.00</td>\n",
              "      <td>12.500000</td>\n",
              "      <td>Jaguar</td>\n",
              "      <td>0</td>\n",
              "      <td>1</td>\n",
              "      <td>0</td>\n",
              "    </tr>\n",
              "    <tr>\n",
              "      <th>1505</th>\n",
              "      <td>Land Rover Range Rover Sport SE</td>\n",
              "      <td>Kochi</td>\n",
              "      <td>2019</td>\n",
              "      <td>26013</td>\n",
              "      <td>1</td>\n",
              "      <td>2993.0</td>\n",
              "      <td>255.00</td>\n",
              "      <td>5.0</td>\n",
              "      <td>97.07</td>\n",
              "      <td>14.055556</td>\n",
              "      <td>Land</td>\n",
              "      <td>1</td>\n",
              "      <td>0</td>\n",
              "      <td>0</td>\n",
              "    </tr>\n",
              "    <tr>\n",
              "      <th>1974</th>\n",
              "      <td>BMW 7 Series 740Li</td>\n",
              "      <td>Coimbatore</td>\n",
              "      <td>2018</td>\n",
              "      <td>28060</td>\n",
              "      <td>1</td>\n",
              "      <td>2979.0</td>\n",
              "      <td>320.00</td>\n",
              "      <td>5.0</td>\n",
              "      <td>93.67</td>\n",
              "      <td>12.050000</td>\n",
              "      <td>BMW</td>\n",
              "      <td>0</td>\n",
              "      <td>1</td>\n",
              "      <td>0</td>\n",
              "    </tr>\n",
              "    <tr>\n",
              "      <th>1984</th>\n",
              "      <td>BMW 7 Series 740Li</td>\n",
              "      <td>Bangalore</td>\n",
              "      <td>2017</td>\n",
              "      <td>17465</td>\n",
              "      <td>1</td>\n",
              "      <td>2979.0</td>\n",
              "      <td>320.00</td>\n",
              "      <td>5.0</td>\n",
              "      <td>93.00</td>\n",
              "      <td>12.050000</td>\n",
              "      <td>BMW</td>\n",
              "      <td>0</td>\n",
              "      <td>1</td>\n",
              "      <td>0</td>\n",
              "    </tr>\n",
              "    <tr>\n",
              "      <th>4691</th>\n",
              "      <td>Mercedes-Benz SLK-Class 55 AMG</td>\n",
              "      <td>Bangalore</td>\n",
              "      <td>2014</td>\n",
              "      <td>3000</td>\n",
              "      <td>2</td>\n",
              "      <td>5461.0</td>\n",
              "      <td>421.00</td>\n",
              "      <td>2.0</td>\n",
              "      <td>90.00</td>\n",
              "      <td>12.000000</td>\n",
              "      <td>Mercedes-Benz</td>\n",
              "      <td>0</td>\n",
              "      <td>1</td>\n",
              "      <td>0</td>\n",
              "    </tr>\n",
              "    <tr>\n",
              "      <th>5535</th>\n",
              "      <td>BMW X6 xDrive 40d M Sport</td>\n",
              "      <td>Ahmedabad</td>\n",
              "      <td>2015</td>\n",
              "      <td>97003</td>\n",
              "      <td>1</td>\n",
              "      <td>2993.0</td>\n",
              "      <td>308.43</td>\n",
              "      <td>5.0</td>\n",
              "      <td>85.00</td>\n",
              "      <td>17.633333</td>\n",
              "      <td>BMW</td>\n",
              "      <td>1</td>\n",
              "      <td>0</td>\n",
              "      <td>0</td>\n",
              "    </tr>\n",
              "    <tr>\n",
              "      <th>2095</th>\n",
              "      <td>Mercedes-Benz SLC 43 AMG</td>\n",
              "      <td>Coimbatore</td>\n",
              "      <td>2019</td>\n",
              "      <td>2526</td>\n",
              "      <td>1</td>\n",
              "      <td>2996.0</td>\n",
              "      <td>362.07</td>\n",
              "      <td>2.0</td>\n",
              "      <td>83.96</td>\n",
              "      <td>19.000000</td>\n",
              "      <td>Mercedes-Benz</td>\n",
              "      <td>0</td>\n",
              "      <td>1</td>\n",
              "      <td>0</td>\n",
              "    </tr>\n",
              "    <tr>\n",
              "      <th>1885</th>\n",
              "      <td>Mercedes-Benz GLS 350d Grand Edition</td>\n",
              "      <td>Delhi</td>\n",
              "      <td>2018</td>\n",
              "      <td>6000</td>\n",
              "      <td>1</td>\n",
              "      <td>2987.0</td>\n",
              "      <td>258.00</td>\n",
              "      <td>7.0</td>\n",
              "      <td>79.00</td>\n",
              "      <td>12.222222</td>\n",
              "      <td>Mercedes-Benz</td>\n",
              "      <td>1</td>\n",
              "      <td>0</td>\n",
              "      <td>0</td>\n",
              "    </tr>\n",
              "  </tbody>\n",
              "</table>\n",
              "</div>"
            ],
            "text/plain": [
              "                                             Name  ... Transmission_Manual\n",
              "4079  Land Rover Range Rover 3.0 Diesel LWB Vogue  ...                   0\n",
              "5781                   Lamborghini Gallardo Coupe  ...                   0\n",
              "5919                       Jaguar F Type 5.0 V8 S  ...                   0\n",
              "1505              Land Rover Range Rover Sport SE  ...                   0\n",
              "1974                           BMW 7 Series 740Li  ...                   0\n",
              "1984                           BMW 7 Series 740Li  ...                   0\n",
              "4691               Mercedes-Benz SLK-Class 55 AMG  ...                   0\n",
              "5535                    BMW X6 xDrive 40d M Sport  ...                   0\n",
              "2095                     Mercedes-Benz SLC 43 AMG  ...                   0\n",
              "1885         Mercedes-Benz GLS 350d Grand Edition  ...                   0\n",
              "\n",
              "[10 rows x 14 columns]"
            ]
          },
          "metadata": {
            "tags": []
          },
          "execution_count": 1845
        }
      ]
    },
    {
      "cell_type": "markdown",
      "metadata": {
        "id": "lNBYrmCYWG_J"
      },
      "source": [
        "高級車種が並んでいるので誤入力ではないないかと思います。\r\n",
        "\r\n",
        "'Manufacture'が\"Land\"になっている車ついては、\"Land Rover\"の\"Rover\"が落ちてしまった形です。\"Land Rover\"製でないものがないか確認します。"
      ]
    },
    {
      "cell_type": "code",
      "metadata": {
        "colab": {
          "base_uri": "https://localhost:8080/"
        },
        "id": "COypiGpOYwNC",
        "outputId": "4849fdfb-21ff-4235-dd5f-fdfbefa279fc"
      },
      "source": [
        "df_land=df_name_split[df_name_split[0]==\"Land\"]\r\n",
        "df_land[1].value_counts()"
      ],
      "execution_count": null,
      "outputs": [
        {
          "output_type": "execute_result",
          "data": {
            "text/plain": [
              "Rover    51\n",
              "Name: 1, dtype: int64"
            ]
          },
          "metadata": {
            "tags": []
          },
          "execution_count": 1846
        }
      ]
    },
    {
      "cell_type": "markdown",
      "metadata": {
        "id": "zNBggHxIZQQA"
      },
      "source": [
        "'Manufacture'が\"Land\"になっている車はすべて\"Land Rover\"製であると確認できたので、\"Land\"が\"Land Rover\"を表すものとしてそのまま使います。"
      ]
    },
    {
      "cell_type": "code",
      "metadata": {
        "colab": {
          "base_uri": "https://localhost:8080/"
        },
        "id": "LbxrovmQZPjs",
        "outputId": "a716435b-1ae1-4679-ad32-050d9c01f548"
      },
      "source": [
        "df_kilo=df.sort_values('Kilometers_Driven',ascending=False)\r\n",
        "df_kilo.head()"
      ],
      "execution_count": null,
      "outputs": [
        {
          "output_type": "execute_result",
          "data": {
            "text/html": [
              "<div>\n",
              "<style scoped>\n",
              "    .dataframe tbody tr th:only-of-type {\n",
              "        vertical-align: middle;\n",
              "    }\n",
              "\n",
              "    .dataframe tbody tr th {\n",
              "        vertical-align: top;\n",
              "    }\n",
              "\n",
              "    .dataframe thead th {\n",
              "        text-align: right;\n",
              "    }\n",
              "</style>\n",
              "<table border=\"1\" class=\"dataframe\">\n",
              "  <thead>\n",
              "    <tr style=\"text-align: right;\">\n",
              "      <th></th>\n",
              "      <th>Name</th>\n",
              "      <th>Location</th>\n",
              "      <th>Year</th>\n",
              "      <th>Kilometers_Driven</th>\n",
              "      <th>Owner_Type</th>\n",
              "      <th>Engine</th>\n",
              "      <th>Power</th>\n",
              "      <th>Seats</th>\n",
              "      <th>Price</th>\n",
              "      <th>Mileage_kmpd</th>\n",
              "      <th>Manufacturer</th>\n",
              "      <th>Fuel_Type_Diesel</th>\n",
              "      <th>Fuel_Type_Petrol</th>\n",
              "      <th>Transmission_Manual</th>\n",
              "    </tr>\n",
              "  </thead>\n",
              "  <tbody>\n",
              "    <tr>\n",
              "      <th>2328</th>\n",
              "      <td>BMW X5 xDrive 30d M Sport</td>\n",
              "      <td>Chennai</td>\n",
              "      <td>2017</td>\n",
              "      <td>6500000</td>\n",
              "      <td>1</td>\n",
              "      <td>2993.0</td>\n",
              "      <td>258.0</td>\n",
              "      <td>5.0</td>\n",
              "      <td>65.0</td>\n",
              "      <td>17.744444</td>\n",
              "      <td>BMW</td>\n",
              "      <td>1</td>\n",
              "      <td>0</td>\n",
              "      <td>0</td>\n",
              "    </tr>\n",
              "    <tr>\n",
              "      <th>340</th>\n",
              "      <td>Skoda Octavia Ambition Plus 2.0 TDI AT</td>\n",
              "      <td>Kolkata</td>\n",
              "      <td>2013</td>\n",
              "      <td>775000</td>\n",
              "      <td>1</td>\n",
              "      <td>1968.0</td>\n",
              "      <td>141.0</td>\n",
              "      <td>5.0</td>\n",
              "      <td>7.5</td>\n",
              "      <td>21.444444</td>\n",
              "      <td>Skoda</td>\n",
              "      <td>1</td>\n",
              "      <td>0</td>\n",
              "      <td>0</td>\n",
              "    </tr>\n",
              "    <tr>\n",
              "      <th>1860</th>\n",
              "      <td>Volkswagen Vento Diesel Highline</td>\n",
              "      <td>Chennai</td>\n",
              "      <td>2013</td>\n",
              "      <td>720000</td>\n",
              "      <td>1</td>\n",
              "      <td>1598.0</td>\n",
              "      <td>103.6</td>\n",
              "      <td>5.0</td>\n",
              "      <td>5.9</td>\n",
              "      <td>22.822222</td>\n",
              "      <td>Volkswagen</td>\n",
              "      <td>1</td>\n",
              "      <td>0</td>\n",
              "      <td>1</td>\n",
              "    </tr>\n",
              "    <tr>\n",
              "      <th>358</th>\n",
              "      <td>Hyundai i10 Magna 1.2</td>\n",
              "      <td>Chennai</td>\n",
              "      <td>2009</td>\n",
              "      <td>620000</td>\n",
              "      <td>1</td>\n",
              "      <td>1197.0</td>\n",
              "      <td>78.9</td>\n",
              "      <td>5.0</td>\n",
              "      <td>2.7</td>\n",
              "      <td>20.360000</td>\n",
              "      <td>Hyundai</td>\n",
              "      <td>0</td>\n",
              "      <td>1</td>\n",
              "      <td>1</td>\n",
              "    </tr>\n",
              "    <tr>\n",
              "      <th>3092</th>\n",
              "      <td>Honda City i VTEC SV</td>\n",
              "      <td>Kolkata</td>\n",
              "      <td>2015</td>\n",
              "      <td>480000</td>\n",
              "      <td>1</td>\n",
              "      <td>1497.0</td>\n",
              "      <td>117.3</td>\n",
              "      <td>5.0</td>\n",
              "      <td>5.0</td>\n",
              "      <td>17.400000</td>\n",
              "      <td>Honda</td>\n",
              "      <td>0</td>\n",
              "      <td>1</td>\n",
              "      <td>1</td>\n",
              "    </tr>\n",
              "  </tbody>\n",
              "</table>\n",
              "</div>"
            ],
            "text/plain": [
              "                                        Name  ... Transmission_Manual\n",
              "2328               BMW X5 xDrive 30d M Sport  ...                   0\n",
              "340   Skoda Octavia Ambition Plus 2.0 TDI AT  ...                   0\n",
              "1860        Volkswagen Vento Diesel Highline  ...                   1\n",
              "358                    Hyundai i10 Magna 1.2  ...                   1\n",
              "3092                    Honda City i VTEC SV  ...                   1\n",
              "\n",
              "[5 rows x 14 columns]"
            ]
          },
          "metadata": {
            "tags": []
          },
          "execution_count": 1847
        }
      ]
    },
    {
      "cell_type": "markdown",
      "metadata": {
        "id": "9Dz_YLr4NeHx"
      },
      "source": [
        "走行距離650万kmはおそらく値段650万ルピーと混同した誤入力だと思われるのでこの行を削除します。\r\n",
        "\r\n",
        "その下の77.5万kmについては、ありうる数字なのでそのまま使います。\r\n",
        "\r\n",
        "####参考文献"
      ]
    },
    {
      "cell_type": "markdown",
      "metadata": {
        "id": "uqBqZg-aNZDc"
      },
      "source": [
        "9.   くるまのニュース\r\n",
        "  \r\n",
        "  クルマの走行距離の限界は？ 90万キロ超のクルマも実在!? 自動車の寿命っていったいいつ？\r\n",
        "  \r\n",
        "  https://kuruma-news.jp/post/235572\r\n",
        "\r\n",
        "  [アクセス日　2021/02/02]\r\n",
        "\r\n",
        "\r\n"
      ]
    },
    {
      "cell_type": "markdown",
      "metadata": {
        "id": "uTJMSKiAQUpx"
      },
      "source": [
        "####外れ値を含む行の削除"
      ]
    },
    {
      "cell_type": "code",
      "metadata": {
        "colab": {
          "base_uri": "https://localhost:8080/"
        },
        "id": "RU-OJdH_Iv2J",
        "outputId": "67f07e80-d6ca-48d8-930c-7f00cbebd01c"
      },
      "source": [
        "df=df[df['Kilometers_Driven']<1000000]\r\n",
        "df.describe()"
      ],
      "execution_count": null,
      "outputs": [
        {
          "output_type": "execute_result",
          "data": {
            "text/html": [
              "<div>\n",
              "<style scoped>\n",
              "    .dataframe tbody tr th:only-of-type {\n",
              "        vertical-align: middle;\n",
              "    }\n",
              "\n",
              "    .dataframe tbody tr th {\n",
              "        vertical-align: top;\n",
              "    }\n",
              "\n",
              "    .dataframe thead th {\n",
              "        text-align: right;\n",
              "    }\n",
              "</style>\n",
              "<table border=\"1\" class=\"dataframe\">\n",
              "  <thead>\n",
              "    <tr style=\"text-align: right;\">\n",
              "      <th></th>\n",
              "      <th>Year</th>\n",
              "      <th>Kilometers_Driven</th>\n",
              "      <th>Owner_Type</th>\n",
              "      <th>Engine</th>\n",
              "      <th>Power</th>\n",
              "      <th>Seats</th>\n",
              "      <th>Price</th>\n",
              "      <th>Mileage_kmpd</th>\n",
              "      <th>Fuel_Type_Diesel</th>\n",
              "      <th>Fuel_Type_Petrol</th>\n",
              "      <th>Transmission_Manual</th>\n",
              "    </tr>\n",
              "  </thead>\n",
              "  <tbody>\n",
              "    <tr>\n",
              "      <th>count</th>\n",
              "      <td>5868.000000</td>\n",
              "      <td>5868.000000</td>\n",
              "      <td>5868.000000</td>\n",
              "      <td>5868.000000</td>\n",
              "      <td>5868.000000</td>\n",
              "      <td>5868.000000</td>\n",
              "      <td>5868.000000</td>\n",
              "      <td>5868.000000</td>\n",
              "      <td>5868.000000</td>\n",
              "      <td>5868.000000</td>\n",
              "      <td>5868.000000</td>\n",
              "    </tr>\n",
              "    <tr>\n",
              "      <th>mean</th>\n",
              "      <td>2013.474097</td>\n",
              "      <td>57268.062713</td>\n",
              "      <td>1.195467</td>\n",
              "      <td>1621.421438</td>\n",
              "      <td>112.934789</td>\n",
              "      <td>5.284254</td>\n",
              "      <td>9.512682</td>\n",
              "      <td>19.416901</td>\n",
              "      <td>0.537832</td>\n",
              "      <td>0.451091</td>\n",
              "      <td>0.713701</td>\n",
              "    </tr>\n",
              "    <tr>\n",
              "      <th>std</th>\n",
              "      <td>3.160473</td>\n",
              "      <td>37798.479330</td>\n",
              "      <td>0.446336</td>\n",
              "      <td>597.986537</td>\n",
              "      <td>53.740006</td>\n",
              "      <td>0.805625</td>\n",
              "      <td>11.146773</td>\n",
              "      <td>4.673889</td>\n",
              "      <td>0.498609</td>\n",
              "      <td>0.497645</td>\n",
              "      <td>0.452069</td>\n",
              "    </tr>\n",
              "    <tr>\n",
              "      <th>min</th>\n",
              "      <td>1998.000000</td>\n",
              "      <td>171.000000</td>\n",
              "      <td>1.000000</td>\n",
              "      <td>624.000000</td>\n",
              "      <td>34.200000</td>\n",
              "      <td>2.000000</td>\n",
              "      <td>0.440000</td>\n",
              "      <td>6.400000</td>\n",
              "      <td>0.000000</td>\n",
              "      <td>0.000000</td>\n",
              "      <td>0.000000</td>\n",
              "    </tr>\n",
              "    <tr>\n",
              "      <th>25%</th>\n",
              "      <td>2012.000000</td>\n",
              "      <td>33541.750000</td>\n",
              "      <td>1.000000</td>\n",
              "      <td>1198.000000</td>\n",
              "      <td>75.000000</td>\n",
              "      <td>5.000000</td>\n",
              "      <td>3.500000</td>\n",
              "      <td>16.100000</td>\n",
              "      <td>0.000000</td>\n",
              "      <td>0.000000</td>\n",
              "      <td>0.000000</td>\n",
              "    </tr>\n",
              "    <tr>\n",
              "      <th>50%</th>\n",
              "      <td>2014.000000</td>\n",
              "      <td>52609.000000</td>\n",
              "      <td>1.000000</td>\n",
              "      <td>1493.000000</td>\n",
              "      <td>94.000000</td>\n",
              "      <td>5.000000</td>\n",
              "      <td>5.700000</td>\n",
              "      <td>18.900000</td>\n",
              "      <td>1.000000</td>\n",
              "      <td>0.000000</td>\n",
              "      <td>1.000000</td>\n",
              "    </tr>\n",
              "    <tr>\n",
              "      <th>75%</th>\n",
              "      <td>2016.000000</td>\n",
              "      <td>72402.750000</td>\n",
              "      <td>1.000000</td>\n",
              "      <td>1984.000000</td>\n",
              "      <td>138.100000</td>\n",
              "      <td>5.000000</td>\n",
              "      <td>9.990000</td>\n",
              "      <td>22.644444</td>\n",
              "      <td>1.000000</td>\n",
              "      <td>1.000000</td>\n",
              "      <td>1.000000</td>\n",
              "    </tr>\n",
              "    <tr>\n",
              "      <th>max</th>\n",
              "      <td>2019.000000</td>\n",
              "      <td>775000.000000</td>\n",
              "      <td>4.000000</td>\n",
              "      <td>5998.000000</td>\n",
              "      <td>560.000000</td>\n",
              "      <td>10.000000</td>\n",
              "      <td>160.000000</td>\n",
              "      <td>31.555556</td>\n",
              "      <td>1.000000</td>\n",
              "      <td>1.000000</td>\n",
              "      <td>1.000000</td>\n",
              "    </tr>\n",
              "  </tbody>\n",
              "</table>\n",
              "</div>"
            ],
            "text/plain": [
              "              Year  Kilometers_Driven  ...  Fuel_Type_Petrol  Transmission_Manual\n",
              "count  5868.000000        5868.000000  ...       5868.000000          5868.000000\n",
              "mean   2013.474097       57268.062713  ...          0.451091             0.713701\n",
              "std       3.160473       37798.479330  ...          0.497645             0.452069\n",
              "min    1998.000000         171.000000  ...          0.000000             0.000000\n",
              "25%    2012.000000       33541.750000  ...          0.000000             0.000000\n",
              "50%    2014.000000       52609.000000  ...          0.000000             1.000000\n",
              "75%    2016.000000       72402.750000  ...          1.000000             1.000000\n",
              "max    2019.000000      775000.000000  ...          1.000000             1.000000\n",
              "\n",
              "[8 rows x 11 columns]"
            ]
          },
          "metadata": {
            "tags": []
          },
          "execution_count": 1848
        }
      ]
    },
    {
      "cell_type": "code",
      "metadata": {
        "colab": {
          "base_uri": "https://localhost:8080/"
        },
        "id": "KLvm-fx9a7Vo",
        "outputId": "0f110986-1748-4de1-bc15-e479ea5ba486"
      },
      "source": [
        "plt.figure(figsize=(12,8))\r\n",
        "plt.hist(df['Price'],bins=100)\r\n",
        "plt.show()"
      ],
      "execution_count": null,
      "outputs": [
        {
          "output_type": "display_data",
          "data": {
            "image/png": "[encoded data removed]",
            "text/plain": [
              "<Figure size 864x576 with 1 Axes>"
            ]
          },
          "metadata": {
            "tags": []
          }
        }
      ]
    },
    {
      "cell_type": "markdown",
      "metadata": {
        "id": "VGOpE5nAamko"
      },
      "source": [
        "理想的な分布ではありませんが、今回は明らかな誤入力以外の外れ値は削除せずそのままデータとして扱うことにます。\r\n",
        "\r\n",
        "外れ値の除外が終わりました。"
      ]
    },
    {
      "cell_type": "markdown",
      "metadata": {
        "id": "M6RPGT7ZgrdX"
      },
      "source": [
        "##訓練データとテストデータの分割"
      ]
    },
    {
      "cell_type": "code",
      "metadata": {
        "colab": {
          "base_uri": "https://localhost:8080/"
        },
        "id": "0XNHk1VOihgN",
        "outputId": "998ec106-5881-422d-e28b-7c60f314d6eb"
      },
      "source": [
        "df.head()"
      ],
      "execution_count": null,
      "outputs": [
        {
          "output_type": "execute_result",
          "data": {
            "text/html": [
              "<div>\n",
              "<style scoped>\n",
              "    .dataframe tbody tr th:only-of-type {\n",
              "        vertical-align: middle;\n",
              "    }\n",
              "\n",
              "    .dataframe tbody tr th {\n",
              "        vertical-align: top;\n",
              "    }\n",
              "\n",
              "    .dataframe thead th {\n",
              "        text-align: right;\n",
              "    }\n",
              "</style>\n",
              "<table border=\"1\" class=\"dataframe\">\n",
              "  <thead>\n",
              "    <tr style=\"text-align: right;\">\n",
              "      <th></th>\n",
              "      <th>Name</th>\n",
              "      <th>Location</th>\n",
              "      <th>Year</th>\n",
              "      <th>Kilometers_Driven</th>\n",
              "      <th>Owner_Type</th>\n",
              "      <th>Engine</th>\n",
              "      <th>Power</th>\n",
              "      <th>Seats</th>\n",
              "      <th>Price</th>\n",
              "      <th>Mileage_kmpd</th>\n",
              "      <th>Manufacturer</th>\n",
              "      <th>Fuel_Type_Diesel</th>\n",
              "      <th>Fuel_Type_Petrol</th>\n",
              "      <th>Transmission_Manual</th>\n",
              "    </tr>\n",
              "  </thead>\n",
              "  <tbody>\n",
              "    <tr>\n",
              "      <th>0</th>\n",
              "      <td>Maruti Wagon R LXI CNG</td>\n",
              "      <td>Mumbai</td>\n",
              "      <td>2010</td>\n",
              "      <td>72000</td>\n",
              "      <td>1</td>\n",
              "      <td>998.0</td>\n",
              "      <td>58.16</td>\n",
              "      <td>5.0</td>\n",
              "      <td>1.75</td>\n",
              "      <td>17.733333</td>\n",
              "      <td>Maruti</td>\n",
              "      <td>0</td>\n",
              "      <td>0</td>\n",
              "      <td>1</td>\n",
              "    </tr>\n",
              "    <tr>\n",
              "      <th>1</th>\n",
              "      <td>Hyundai Creta 1.6 CRDi SX Option</td>\n",
              "      <td>Pune</td>\n",
              "      <td>2015</td>\n",
              "      <td>41000</td>\n",
              "      <td>1</td>\n",
              "      <td>1582.0</td>\n",
              "      <td>126.20</td>\n",
              "      <td>5.0</td>\n",
              "      <td>12.50</td>\n",
              "      <td>21.855556</td>\n",
              "      <td>Hyundai</td>\n",
              "      <td>1</td>\n",
              "      <td>0</td>\n",
              "      <td>1</td>\n",
              "    </tr>\n",
              "    <tr>\n",
              "      <th>2</th>\n",
              "      <td>Honda Jazz V</td>\n",
              "      <td>Chennai</td>\n",
              "      <td>2011</td>\n",
              "      <td>46000</td>\n",
              "      <td>1</td>\n",
              "      <td>1199.0</td>\n",
              "      <td>88.70</td>\n",
              "      <td>5.0</td>\n",
              "      <td>4.50</td>\n",
              "      <td>18.200000</td>\n",
              "      <td>Honda</td>\n",
              "      <td>0</td>\n",
              "      <td>1</td>\n",
              "      <td>1</td>\n",
              "    </tr>\n",
              "    <tr>\n",
              "      <th>3</th>\n",
              "      <td>Maruti Ertiga VDI</td>\n",
              "      <td>Chennai</td>\n",
              "      <td>2012</td>\n",
              "      <td>87000</td>\n",
              "      <td>1</td>\n",
              "      <td>1248.0</td>\n",
              "      <td>88.76</td>\n",
              "      <td>7.0</td>\n",
              "      <td>6.00</td>\n",
              "      <td>23.077778</td>\n",
              "      <td>Maruti</td>\n",
              "      <td>1</td>\n",
              "      <td>0</td>\n",
              "      <td>1</td>\n",
              "    </tr>\n",
              "    <tr>\n",
              "      <th>4</th>\n",
              "      <td>Audi A4 New 2.0 TDI Multitronic</td>\n",
              "      <td>Coimbatore</td>\n",
              "      <td>2013</td>\n",
              "      <td>40670</td>\n",
              "      <td>2</td>\n",
              "      <td>1968.0</td>\n",
              "      <td>140.80</td>\n",
              "      <td>5.0</td>\n",
              "      <td>17.74</td>\n",
              "      <td>16.888889</td>\n",
              "      <td>Audi</td>\n",
              "      <td>1</td>\n",
              "      <td>0</td>\n",
              "      <td>0</td>\n",
              "    </tr>\n",
              "  </tbody>\n",
              "</table>\n",
              "</div>"
            ],
            "text/plain": [
              "                               Name  ... Transmission_Manual\n",
              "0            Maruti Wagon R LXI CNG  ...                   1\n",
              "1  Hyundai Creta 1.6 CRDi SX Option  ...                   1\n",
              "2                      Honda Jazz V  ...                   1\n",
              "3                 Maruti Ertiga VDI  ...                   1\n",
              "4   Audi A4 New 2.0 TDI Multitronic  ...                   0\n",
              "\n",
              "[5 rows x 14 columns]"
            ]
          },
          "metadata": {
            "tags": []
          },
          "execution_count": 1850
        }
      ]
    },
    {
      "cell_type": "markdown",
      "metadata": {
        "id": "liNOIiw334tK"
      },
      "source": [
        "train_test_splitを用いてランダムに訓練データとテストデータを分割します。\r\n",
        "\r\n",
        "特徴量を持つpd.DataFrameをX、目的変数である正解ラベルを持つpd.Seriesをyとします。"
      ]
    },
    {
      "cell_type": "code",
      "metadata": {
        "id": "70JGE2iagrEs"
      },
      "source": [
        "X=df.drop(columns=['Name','Price'])\r\n",
        "y=df['Price']\r\n",
        "\r\n",
        "from sklearn.model_selection import train_test_split\r\n",
        "X_train,X_test,y_train,y_test=train_test_split(X,y,test_size=0.2,random_state=0)\r\n"
      ],
      "execution_count": null,
      "outputs": []
    },
    {
      "cell_type": "markdown",
      "metadata": {
        "id": "uHMiL9tSQzNt"
      },
      "source": [
        "##'Manufacturer','Location'のTarget Encoding"
      ]
    },
    {
      "cell_type": "markdown",
      "metadata": {
        "id": "lw2_EIzhyc7S"
      },
      "source": [
        "後回しにしていた'Manufacturer','Location'のTarget Encodingを行います。\r\n",
        "\r\n",
        "Leakageを避けるため、各グループ(各メーカーや各地域)内の値段の平均を訓練データから求め、それを用いて訓練データもテストデータもエンコーディングする関数を作ります。\r\n",
        "\r\n",
        "前回のコードではテストデータに「訓練データにはないグループ（車種や地域）」が含まれていた場合エンコーディングできなかったので、その場合には訓練データ全体の'Price'の平均でエンコーディングするように変更します。"
      ]
    },
    {
      "cell_type": "code",
      "metadata": {
        "id": "8TFM0WbsOMGD"
      },
      "source": [
        "def target_encoder(X_train,X_test,y_train,y_test,col,label='Price'):\r\n",
        "  train=pd.concat([X_train,y_train],axis=1)\r\n",
        "  test=pd.concat([X_test,y_test],axis=1)   #一度特徴量と目的変数の列を連結\r\n",
        "\r\n",
        "  train[str(col)+'_code']=train.groupby(col).transform(np.mean)[label]  #訓練データから求めた各グループの'Price'の平均で訓練データをエンコ-ディング\r\n",
        "  agg_seri=train.groupby(col).agg(np.mean)[label]  #訓練データから求めた各グループの'Price'の平均を表にしたもの(indexはグループラベル文字列)\r\n",
        "  print(agg_seri) #エンコーディングの際の対応表を確認\r\n",
        "\r\n",
        "  test[str(col)+'_code']=test[col]\r\n",
        "  na_list=[]\r\n",
        "  \r\n",
        "  for i in test[col].unique():\r\n",
        "    if i in agg_seri.index:\r\n",
        "      test[str(col)+'_code']=test[str(col)+'_code'].str.replace(i ,str(agg_seri[i]))  #訓練データから求めた各グループの平均でテストデータをエンコ-ディング\r\n",
        "    else:\r\n",
        "      na_list.append(i)\r\n",
        "      test[str(col)+'_code']=test[str(col)+'_code'].str.replace(i ,str(train[label].mean()))   #テストデータに存在し、訓練データにはなかったグループには仕方ないので訓練データ全体の'Price'の平均を適用\r\n",
        "  \"\"\"\r\n",
        "  #代替アルゴリズム\r\n",
        "  for i in test.index:\r\n",
        "    colstr=test.at[i,str(col)+'_code']\r\n",
        "    if colstr in agg_seri.index:\r\n",
        "      test.at[i,str(col)+'_code']=agg_seri[colstr]\r\n",
        "    elif colstr in na_list:\r\n",
        "      test.at[i,str(col)+'_code']=train[label].mean()\r\n",
        "    else:\r\n",
        "      na_list.append(colstr)\r\n",
        "      test.at[i,str(col)+'_code']=train[label].mean()\r\n",
        "  \"\"\"\r\n",
        "\r\n",
        "  test[str(col)+'_code']=test[str(col)+'_code'].astype(float)\r\n",
        "  if len(na_list)>0:\r\n",
        "    print(na_list,\"グループは訓練データに含まれず、訓練データ全体の'\"+label+\"'の平均\",train[label].mean(),\" を適用\")\r\n",
        "\r\n",
        "  X_train_re=train.drop(columns=[col,y_train.name])\r\n",
        "  y_train_re=train[y_train.name]\r\n",
        "  X_test_re=test.drop(columns=[col,y_test.name])\r\n",
        "  y_test_re=test[y_test.name]\r\n",
        "  train_re=pd.concat([X_train_re,y_train_re],axis=1)\r\n",
        "  test_re=pd.concat([X_test_re,y_test_re],axis=1)\r\n",
        "  X_re=pd.concat([X_train_re,X_test_re],axis=0)\r\n",
        "  y_re=pd.concat([y_train_re,y_test_re],axis=0)\r\n",
        "  df_re=pd.concat([X_re,y_re],axis=1)\r\n",
        "\r\n",
        "  return df_re,X_re,y_re,train_re,test_re,X_train_re,X_test_re,y_train_re,y_test_re\r\n",
        "\r\n",
        "  \"\"\"\r\n",
        "  #あまり意味がないので削除\r\n",
        "  #以下は間違ったコードがないかの確認。なければ df_re,X_re,y_re,train_re,test_re,X_train_re,X_test_re,y_train_re,y_test_re を返します。\r\n",
        "  \r\n",
        "  print(\"\")\r\n",
        "  print(\"--------------------------------------------------\")\r\n",
        "  print(\"\")\r\n",
        "\r\n",
        "  df=pd.concat([train,test],axis=0)\r\n",
        "  alert_count=[]\r\n",
        "\r\n",
        "  for i in df[col].unique():\r\n",
        "    df_man=df[df[col]==i]\r\n",
        "    alert=0\r\n",
        "    \r\n",
        "    for j in df_man[str(col)+'_code']:\r\n",
        "      if j != agg_seri[i]:\r\n",
        "        alert+=1\r\n",
        "    \r\n",
        "    if alert>0:\r\n",
        "      alert_count.append([i,alert])\r\n",
        "\r\n",
        "  if alert_count==[]:\r\n",
        "    print(\"問題なくエンコーディングできました。\")\r\n",
        "    return df_re,X_re,y_re,train_re,test_re,X_train_re,X_test_re,y_train_re,y_test_re\r\n",
        "  \r\n",
        "  else:\r\n",
        "    print(\"以下のグループ内でそれぞれ間違ったコードがあります。\")\r\n",
        "    print(\"\")\r\n",
        "    df_alert=pd.DataFrame(alert_count, columns=['グループラベル', '間違ったコードの出現回数'])\r\n",
        "    print(df_alert)\r\n",
        "  \"\"\"\r\n",
        "  \r\n"
      ],
      "execution_count": null,
      "outputs": []
    },
    {
      "cell_type": "markdown",
      "metadata": {
        "id": "azh2TINi44wD"
      },
      "source": [
        "'Manufacturer','Location'のTarget Encodingを実行します。"
      ]
    },
    {
      "cell_type": "code",
      "metadata": {
        "colab": {
          "base_uri": "https://localhost:8080/"
        },
        "id": "3rTP5psQ4LmW",
        "outputId": "f6f940f7-8517-4f83-b598-dee3624a9445"
      },
      "source": [
        "df,X,y,train,test,X_train,X_test,y_train,y_test=target_encoder(X_train,X_test,y_train,y_test,'Manufacturer')"
      ],
      "execution_count": null,
      "outputs": [
        {
          "output_type": "stream",
          "text": [
            "Manufacturer\n",
            "Ambassador         1.350000\n",
            "Audi              26.154293\n",
            "BMW               25.404484\n",
            "Bentley           59.000000\n",
            "Chevrolet          3.081553\n",
            "Datsun             3.049231\n",
            "Fiat               3.002143\n",
            "Force             12.000000\n",
            "Ford               7.232863\n",
            "Honda              5.386385\n",
            "Hyundai            5.563180\n",
            "Isuzu             14.696667\n",
            "Jaguar            37.340286\n",
            "Jeep              18.824545\n",
            "Lamborghini      120.000000\n",
            "Land              43.118293\n",
            "Mahindra           8.124455\n",
            "Maruti             4.512379\n",
            "Mercedes-Benz     26.765574\n",
            "Mini              26.253043\n",
            "Mitsubishi         9.465000\n",
            "Nissan             4.937500\n",
            "Porsche           49.204375\n",
            "Renault            5.659826\n",
            "Skoda              7.934565\n",
            "Tata               3.519189\n",
            "Toyota            11.864379\n",
            "Volkswagen         5.117984\n",
            "Volvo             19.335000\n",
            "Name: Price, dtype: float64\n"
          ],
          "name": "stdout"
        }
      ]
    },
    {
      "cell_type": "code",
      "metadata": {
        "colab": {
          "base_uri": "https://localhost:8080/"
        },
        "id": "2Fy6bfFp4k4l",
        "outputId": "daa2c456-9068-4ffc-e918-a7d229176e28"
      },
      "source": [
        "df,X,y,train,test,X_train,X_test,y_train,y_test=target_encoder(X_train,X_test,y_train,y_test,'Location')"
      ],
      "execution_count": null,
      "outputs": [
        {
          "output_type": "stream",
          "text": [
            "Location\n",
            "Ahmedabad      8.352542\n",
            "Bangalore     13.898686\n",
            "Chennai        7.556005\n",
            "Coimbatore    15.538733\n",
            "Delhi         10.017449\n",
            "Hyderabad     10.364122\n",
            "Jaipur         6.058416\n",
            "Kochi         10.938893\n",
            "Kolkata        5.946141\n",
            "Mumbai         9.603802\n",
            "Pune           6.782739\n",
            "Name: Price, dtype: float64\n"
          ],
          "name": "stdout"
        }
      ]
    },
    {
      "cell_type": "markdown",
      "metadata": {
        "id": "SjWo38NXbuVJ"
      },
      "source": [
        "##今回はXGBoostを用いるので標準化は行わず、PCAも今回は行わないことにします。"
      ]
    },
    {
      "cell_type": "markdown",
      "metadata": {
        "id": "-h9GzFtLbrzt"
      },
      "source": [
        "##モデル構築"
      ]
    },
    {
      "cell_type": "markdown",
      "metadata": {
        "id": "I3sK8wfkjWH-"
      },
      "source": [
        "###データ構造の確認"
      ]
    },
    {
      "cell_type": "code",
      "metadata": {
        "colab": {
          "base_uri": "https://localhost:8080/",
          "height": 201
        },
        "id": "CfJkz_H2cqtP",
        "outputId": "ccf1561d-82ec-4a82-a7f2-5d4575cf9673"
      },
      "source": [
        "train.head()"
      ],
      "execution_count": null,
      "outputs": [
        {
          "output_type": "execute_result",
          "data": {
            "text/html": [
              "<div>\n",
              "<style scoped>\n",
              "    .dataframe tbody tr th:only-of-type {\n",
              "        vertical-align: middle;\n",
              "    }\n",
              "\n",
              "    .dataframe tbody tr th {\n",
              "        vertical-align: top;\n",
              "    }\n",
              "\n",
              "    .dataframe thead th {\n",
              "        text-align: right;\n",
              "    }\n",
              "</style>\n",
              "<table border=\"1\" class=\"dataframe\">\n",
              "  <thead>\n",
              "    <tr style=\"text-align: right;\">\n",
              "      <th></th>\n",
              "      <th>Year</th>\n",
              "      <th>Kilometers_Driven</th>\n",
              "      <th>Owner_Type</th>\n",
              "      <th>Engine</th>\n",
              "      <th>Power</th>\n",
              "      <th>Seats</th>\n",
              "      <th>Mileage_kmpd</th>\n",
              "      <th>Fuel_Type_Diesel</th>\n",
              "      <th>Fuel_Type_Petrol</th>\n",
              "      <th>Transmission_Manual</th>\n",
              "      <th>Manufacturer_code</th>\n",
              "      <th>Location_code</th>\n",
              "      <th>Price</th>\n",
              "    </tr>\n",
              "  </thead>\n",
              "  <tbody>\n",
              "    <tr>\n",
              "      <th>1471</th>\n",
              "      <td>2015</td>\n",
              "      <td>22000</td>\n",
              "      <td>1</td>\n",
              "      <td>1198.0</td>\n",
              "      <td>74.0</td>\n",
              "      <td>5.0</td>\n",
              "      <td>16.470000</td>\n",
              "      <td>0</td>\n",
              "      <td>1</td>\n",
              "      <td>1</td>\n",
              "      <td>5.117984</td>\n",
              "      <td>5.946141</td>\n",
              "      <td>3.80</td>\n",
              "    </tr>\n",
              "    <tr>\n",
              "      <th>3674</th>\n",
              "      <td>2016</td>\n",
              "      <td>42225</td>\n",
              "      <td>1</td>\n",
              "      <td>1196.0</td>\n",
              "      <td>73.0</td>\n",
              "      <td>7.0</td>\n",
              "      <td>15.100000</td>\n",
              "      <td>0</td>\n",
              "      <td>1</td>\n",
              "      <td>1</td>\n",
              "      <td>4.512379</td>\n",
              "      <td>15.538733</td>\n",
              "      <td>4.30</td>\n",
              "    </tr>\n",
              "    <tr>\n",
              "      <th>1303</th>\n",
              "      <td>2012</td>\n",
              "      <td>44450</td>\n",
              "      <td>1</td>\n",
              "      <td>1995.0</td>\n",
              "      <td>190.0</td>\n",
              "      <td>5.0</td>\n",
              "      <td>24.977778</td>\n",
              "      <td>1</td>\n",
              "      <td>0</td>\n",
              "      <td>0</td>\n",
              "      <td>25.404484</td>\n",
              "      <td>15.538733</td>\n",
              "      <td>24.68</td>\n",
              "    </tr>\n",
              "    <tr>\n",
              "      <th>893</th>\n",
              "      <td>2010</td>\n",
              "      <td>95637</td>\n",
              "      <td>2</td>\n",
              "      <td>1495.0</td>\n",
              "      <td>93.7</td>\n",
              "      <td>5.0</td>\n",
              "      <td>8.800000</td>\n",
              "      <td>0</td>\n",
              "      <td>0</td>\n",
              "      <td>1</td>\n",
              "      <td>5.563180</td>\n",
              "      <td>10.364122</td>\n",
              "      <td>1.90</td>\n",
              "    </tr>\n",
              "    <tr>\n",
              "      <th>4506</th>\n",
              "      <td>2016</td>\n",
              "      <td>6714</td>\n",
              "      <td>1</td>\n",
              "      <td>1198.0</td>\n",
              "      <td>86.7</td>\n",
              "      <td>5.0</td>\n",
              "      <td>18.000000</td>\n",
              "      <td>0</td>\n",
              "      <td>1</td>\n",
              "      <td>1</td>\n",
              "      <td>5.386385</td>\n",
              "      <td>6.058416</td>\n",
              "      <td>4.75</td>\n",
              "    </tr>\n",
              "  </tbody>\n",
              "</table>\n",
              "</div>"
            ],
            "text/plain": [
              "      Year  Kilometers_Driven  ...  Location_code  Price\n",
              "1471  2015              22000  ...       5.946141   3.80\n",
              "3674  2016              42225  ...      15.538733   4.30\n",
              "1303  2012              44450  ...      15.538733  24.68\n",
              "893   2010              95637  ...      10.364122   1.90\n",
              "4506  2016               6714  ...       6.058416   4.75\n",
              "\n",
              "[5 rows x 13 columns]"
            ]
          },
          "metadata": {
            "tags": []
          },
          "execution_count": 1855
        }
      ]
    },
    {
      "cell_type": "code",
      "metadata": {
        "colab": {
          "base_uri": "https://localhost:8080/",
          "height": 201
        },
        "id": "HTKfjqVoc2o7",
        "outputId": "83f12d99-72d2-42e9-8931-fb8ad34c4a3b"
      },
      "source": [
        "test.head()"
      ],
      "execution_count": null,
      "outputs": [
        {
          "output_type": "execute_result",
          "data": {
            "text/html": [
              "<div>\n",
              "<style scoped>\n",
              "    .dataframe tbody tr th:only-of-type {\n",
              "        vertical-align: middle;\n",
              "    }\n",
              "\n",
              "    .dataframe tbody tr th {\n",
              "        vertical-align: top;\n",
              "    }\n",
              "\n",
              "    .dataframe thead th {\n",
              "        text-align: right;\n",
              "    }\n",
              "</style>\n",
              "<table border=\"1\" class=\"dataframe\">\n",
              "  <thead>\n",
              "    <tr style=\"text-align: right;\">\n",
              "      <th></th>\n",
              "      <th>Year</th>\n",
              "      <th>Kilometers_Driven</th>\n",
              "      <th>Owner_Type</th>\n",
              "      <th>Engine</th>\n",
              "      <th>Power</th>\n",
              "      <th>Seats</th>\n",
              "      <th>Mileage_kmpd</th>\n",
              "      <th>Fuel_Type_Diesel</th>\n",
              "      <th>Fuel_Type_Petrol</th>\n",
              "      <th>Transmission_Manual</th>\n",
              "      <th>Manufacturer_code</th>\n",
              "      <th>Location_code</th>\n",
              "      <th>Price</th>\n",
              "    </tr>\n",
              "  </thead>\n",
              "  <tbody>\n",
              "    <tr>\n",
              "      <th>3716</th>\n",
              "      <td>2015</td>\n",
              "      <td>63818</td>\n",
              "      <td>1</td>\n",
              "      <td>1497.0</td>\n",
              "      <td>117.30</td>\n",
              "      <td>5.0</td>\n",
              "      <td>17.400000</td>\n",
              "      <td>0</td>\n",
              "      <td>1</td>\n",
              "      <td>1</td>\n",
              "      <td>5.386385</td>\n",
              "      <td>10.938893</td>\n",
              "      <td>6.57</td>\n",
              "    </tr>\n",
              "    <tr>\n",
              "      <th>2119</th>\n",
              "      <td>2007</td>\n",
              "      <td>1261</td>\n",
              "      <td>1</td>\n",
              "      <td>1194.0</td>\n",
              "      <td>94.68</td>\n",
              "      <td>5.0</td>\n",
              "      <td>19.000000</td>\n",
              "      <td>0</td>\n",
              "      <td>1</td>\n",
              "      <td>1</td>\n",
              "      <td>7.232863</td>\n",
              "      <td>9.603802</td>\n",
              "      <td>6.00</td>\n",
              "    </tr>\n",
              "    <tr>\n",
              "      <th>4535</th>\n",
              "      <td>2010</td>\n",
              "      <td>39800</td>\n",
              "      <td>1</td>\n",
              "      <td>1198.0</td>\n",
              "      <td>90.00</td>\n",
              "      <td>5.0</td>\n",
              "      <td>16.000000</td>\n",
              "      <td>0</td>\n",
              "      <td>1</td>\n",
              "      <td>1</td>\n",
              "      <td>5.386385</td>\n",
              "      <td>5.946141</td>\n",
              "      <td>1.99</td>\n",
              "    </tr>\n",
              "    <tr>\n",
              "      <th>1867</th>\n",
              "      <td>2016</td>\n",
              "      <td>55700</td>\n",
              "      <td>1</td>\n",
              "      <td>1498.0</td>\n",
              "      <td>98.60</td>\n",
              "      <td>5.0</td>\n",
              "      <td>28.888889</td>\n",
              "      <td>1</td>\n",
              "      <td>0</td>\n",
              "      <td>1</td>\n",
              "      <td>5.386385</td>\n",
              "      <td>10.938893</td>\n",
              "      <td>7.52</td>\n",
              "    </tr>\n",
              "    <tr>\n",
              "      <th>1371</th>\n",
              "      <td>2012</td>\n",
              "      <td>65900</td>\n",
              "      <td>1</td>\n",
              "      <td>1582.0</td>\n",
              "      <td>126.32</td>\n",
              "      <td>5.0</td>\n",
              "      <td>24.800000</td>\n",
              "      <td>1</td>\n",
              "      <td>0</td>\n",
              "      <td>1</td>\n",
              "      <td>5.563180</td>\n",
              "      <td>6.058416</td>\n",
              "      <td>5.75</td>\n",
              "    </tr>\n",
              "  </tbody>\n",
              "</table>\n",
              "</div>"
            ],
            "text/plain": [
              "      Year  Kilometers_Driven  ...  Location_code  Price\n",
              "3716  2015              63818  ...      10.938893   6.57\n",
              "2119  2007               1261  ...       9.603802   6.00\n",
              "4535  2010              39800  ...       5.946141   1.99\n",
              "1867  2016              55700  ...      10.938893   7.52\n",
              "1371  2012              65900  ...       6.058416   5.75\n",
              "\n",
              "[5 rows x 13 columns]"
            ]
          },
          "metadata": {
            "tags": []
          },
          "execution_count": 1856
        }
      ]
    },
    {
      "cell_type": "code",
      "metadata": {
        "colab": {
          "base_uri": "https://localhost:8080/"
        },
        "id": "7qrW3utDdJeA",
        "outputId": "1be9dc24-fb12-42c5-d6a2-3e1f4efcc80e"
      },
      "source": [
        "train.info()"
      ],
      "execution_count": null,
      "outputs": [
        {
          "output_type": "stream",
          "text": [
            "<class 'pandas.core.frame.DataFrame'>\n",
            "Int64Index: 4694 entries, 1471 to 2807\n",
            "Data columns (total 13 columns):\n",
            " #   Column               Non-Null Count  Dtype  \n",
            "---  ------               --------------  -----  \n",
            " 0   Year                 4694 non-null   int64  \n",
            " 1   Kilometers_Driven    4694 non-null   int64  \n",
            " 2   Owner_Type           4694 non-null   int64  \n",
            " 3   Engine               4694 non-null   float64\n",
            " 4   Power                4694 non-null   float64\n",
            " 5   Seats                4694 non-null   float64\n",
            " 6   Mileage_kmpd         4694 non-null   float64\n",
            " 7   Fuel_Type_Diesel     4694 non-null   uint8  \n",
            " 8   Fuel_Type_Petrol     4694 non-null   uint8  \n",
            " 9   Transmission_Manual  4694 non-null   uint8  \n",
            " 10  Manufacturer_code    4694 non-null   float64\n",
            " 11  Location_code        4694 non-null   float64\n",
            " 12  Price                4694 non-null   float64\n",
            "dtypes: float64(7), int64(3), uint8(3)\n",
            "memory usage: 417.1 KB\n"
          ],
          "name": "stdout"
        }
      ]
    },
    {
      "cell_type": "markdown",
      "metadata": {
        "id": "SBWdg6_rOLzH"
      },
      "source": [
        "特徴量が多いですが、一般にXGBoostは不要な特徴量を追加しても精度が落ちにくいので、今回はこのまま学習を行います。"
      ]
    },
    {
      "cell_type": "markdown",
      "metadata": {
        "id": "KXA7cHhnclAP"
      },
      "source": [
        "###モデルの学習"
      ]
    },
    {
      "cell_type": "markdown",
      "metadata": {
        "id": "OGrrgZyE6EUL"
      },
      "source": [
        "特徴量X_trainと目的変数y_trainを用いて学習を行います。\r\n",
        "\r\n",
        "引数max_depthの値の決定については後述のmax_depthとMAEのグラフを参考にしています。"
      ]
    },
    {
      "cell_type": "code",
      "metadata": {
        "colab": {
          "base_uri": "https://localhost:8080/"
        },
        "id": "p3_mX_1nbrU4",
        "outputId": "58ab96e6-c0f7-4771-ba10-3afc34ee5c39"
      },
      "source": [
        "import xgboost\r\n",
        "\r\n",
        "xgb=xgboost.XGBRegressor(max_depth=8) \r\n",
        "\r\n",
        "xgb.fit(X_train,y_train)"
      ],
      "execution_count": null,
      "outputs": [
        {
          "output_type": "stream",
          "text": [
            "[04:07:21] WARNING: /workspace/src/objective/regression_obj.cu:152: reg:linear is now deprecated in favor of reg:squarederror.\n"
          ],
          "name": "stdout"
        },
        {
          "output_type": "execute_result",
          "data": {
            "text/plain": [
              "XGBRegressor(base_score=0.5, booster='gbtree', colsample_bylevel=1,\n",
              "             colsample_bynode=1, colsample_bytree=1, gamma=0,\n",
              "             importance_type='gain', learning_rate=0.1, max_delta_step=0,\n",
              "             max_depth=8, min_child_weight=1, missing=None, n_estimators=100,\n",
              "             n_jobs=1, nthread=None, objective='reg:linear', random_state=0,\n",
              "             reg_alpha=0, reg_lambda=1, scale_pos_weight=1, seed=None,\n",
              "             silent=None, subsample=1, verbosity=1)"
            ]
          },
          "metadata": {
            "tags": []
          },
          "execution_count": 1858
        }
      ]
    },
    {
      "cell_type": "markdown",
      "metadata": {
        "id": "avbD-L-WpbBw"
      },
      "source": [
        "###モデルの推論と検証"
      ]
    },
    {
      "cell_type": "markdown",
      "metadata": {
        "id": "45dCNC7P5sE_"
      },
      "source": [
        "学習したモデルを用いて推論を行い、平均絶対誤差(MAE)を表示させます。"
      ]
    },
    {
      "cell_type": "code",
      "metadata": {
        "colab": {
          "base_uri": "https://localhost:8080/"
        },
        "id": "h2Kv5lpvcjfz",
        "outputId": "286d391b-5e59-4127-99d8-7796f9ae5c1c"
      },
      "source": [
        "from sklearn.metrics import mean_absolute_error\r\n",
        "\r\n",
        "y_train_pred=xgb.predict(X_train)\r\n",
        "print('trainMAE',mean_absolute_error(y_train,y_train_pred))\r\n",
        "y_test_pred=xgb.predict(X_test)\r\n",
        "print('testMAE',mean_absolute_error(y_test,y_test_pred))\r\n"
      ],
      "execution_count": null,
      "outputs": [
        {
          "output_type": "stream",
          "text": [
            "trainMAE 0.46004618532768354\n",
            "testMAE 1.1074625461532066\n"
          ],
          "name": "stdout"
        }
      ]
    },
    {
      "cell_type": "markdown",
      "metadata": {
        "id": "_YJmkTt_7eIG"
      },
      "source": [
        "テストデータにおいて平均して11万ルピーほどの誤差が出ています。\r\n",
        "\r\n",
        "値段の高い高級車を除外せずにモデルを構築したので、MAEはこのくらいで妥当な結果だと思われます。\r\n",
        "\r\n",
        "値段の大小がかなりあるので、平均絶対誤差率(MAPE)(%)で表示してみます。"
      ]
    },
    {
      "cell_type": "code",
      "metadata": {
        "colab": {
          "base_uri": "https://localhost:8080/"
        },
        "id": "xfYsVUnF81Ig",
        "outputId": "9aaecba7-47e9-44e6-97ec-8e270c1539ee"
      },
      "source": [
        "print('trainMAPE',np.mean(np.abs((y_train_pred - y_train) / y_train)) * 100)\r\n",
        "print('testMAPE',np.mean(np.abs((y_test_pred - y_test) / y_test)) * 100)"
      ],
      "execution_count": null,
      "outputs": [
        {
          "output_type": "stream",
          "text": [
            "trainMAPE 7.275939814473377\n",
            "testMAPE 13.162527085586268\n"
          ],
          "name": "stdout"
        }
      ]
    },
    {
      "cell_type": "markdown",
      "metadata": {
        "id": "9zFKhLcdWWMy"
      },
      "source": [
        "おおむね良い結果です。"
      ]
    },
    {
      "cell_type": "markdown",
      "metadata": {
        "id": "58cQmMpO6b4U"
      },
      "source": [
        "残差プロットを表示させます。灰色の線は補助線です"
      ]
    },
    {
      "cell_type": "code",
      "metadata": {
        "colab": {
          "base_uri": "https://localhost:8080/",
          "height": 493
        },
        "id": "yZYdHPoofzCh",
        "outputId": "69a459e6-1bd3-42b5-9eac-03b1b31c132a"
      },
      "source": [
        "plt.figure(figsize=(30,10))\r\n",
        "plt.scatter(y_train_pred,(y_train_pred-y_train),c='red',label='training data',s=2)\r\n",
        "plt.scatter(y_test_pred,(y_test_pred-y_test),c='blue',label='test data',s=2)\r\n",
        "plt.hlines(y=0,xmin=0,xmax=100,color='black') \r\n",
        "x1=np.linspace(0, 20, 100)\r\n",
        "x2=np.linspace(0, 30, 100)\r\n",
        "plt.plot(x1, x1,c=\"gray\")\r\n",
        "plt.plot(x2, -x2,c=\"gray\")\r\n",
        "plt.legend(loc='upper left')                                                                     \r\n",
        "plt.xlabel('Predicted values(10⁵INR)')\r\n",
        "plt.ylabel('Residuals(10⁵INR)')\r\n",
        "plt.ylim(-20,20)\r\n",
        "plt.xlim(0,120)\r\n",
        "plt.show()"
      ],
      "execution_count": null,
      "outputs": [
        {
          "output_type": "display_data",
          "data": {
            "image/png": "[encoded data removed]",
            "text/plain": [
              "<Figure size 2160x720 with 1 Axes>"
            ]
          },
          "metadata": {
            "tags": []
          }
        }
      ]
    },
    {
      "cell_type": "markdown",
      "metadata": {
        "id": "3WoGY8yiXeZH"
      },
      "source": [
        "値段の低い領域のみ表示してみます。"
      ]
    },
    {
      "cell_type": "code",
      "metadata": {
        "colab": {
          "base_uri": "https://localhost:8080/",
          "height": 497
        },
        "id": "7sInpP0FXW-S",
        "outputId": "68edcc3e-60f4-48e3-b272-8d929c8119ed"
      },
      "source": [
        "plt.figure(figsize=(16,8))\r\n",
        "plt.scatter(y_train_pred,(y_train_pred-y_train),c='red',label='training data',s=2)\r\n",
        "plt.scatter(y_test_pred,(y_test_pred-y_test),c='blue',label='test data',s=2)\r\n",
        "plt.hlines(y=0,xmin=0,xmax=100,color='black') \r\n",
        "x1=np.linspace(0, 20, 100)\r\n",
        "x2=np.linspace(0, 30, 100)\r\n",
        "plt.plot(x1, x1,c=\"gray\")\r\n",
        "plt.plot(x2, -x2,c=\"gray\")\r\n",
        "plt.legend(loc='upper left')                                                                     \r\n",
        "plt.xlabel('Predicted values(10⁵INR)')\r\n",
        "plt.ylabel('Residuals(10⁵INR)')\r\n",
        "plt.xlim(0,10)\r\n",
        "plt.ylim(-5,5)\r\n",
        "plt.show()"
      ],
      "execution_count": null,
      "outputs": [
        {
          "output_type": "display_data",
          "data": {
            "image/png": "[encoded data removed]",
            "text/plain": [
              "<Figure size 1152x576 with 1 Axes>"
            ]
          },
          "metadata": {
            "tags": []
          }
        }
      ]
    },
    {
      "cell_type": "markdown",
      "metadata": {
        "id": "VVKn9AXda-Wn"
      },
      "source": [
        "残差プロットが無相関である、つまり系統誤差が見られないので、良い結果です。\r\n",
        "\r\n",
        "ただ、値段の低い領域での精度を上げるには、'Price'の最大値をもっと低く設定することが必要でしょう。"
      ]
    },
    {
      "cell_type": "markdown",
      "metadata": {
        "id": "cF9hIENtEZVn"
      },
      "source": [
        "引数max_depthとMAE,MAPEの関係をグラフにしてみます。"
      ]
    },
    {
      "cell_type": "code",
      "metadata": {
        "colab": {
          "base_uri": "https://localhost:8080/",
          "height": 1000
        },
        "id": "kIUFYhuIqWAS",
        "outputId": "30272592-b43a-4ef3-8f74-8ba1e1539c2d"
      },
      "source": [
        "max=14\r\n",
        "trainMAE=[]\r\n",
        "testMAE=[]\r\n",
        "trainMAPE=[]\r\n",
        "testMAPE=[]\r\n",
        "for i in range(3,max):\r\n",
        "  xgb_gra=xgboost.XGBRegressor(max_depth=i) \r\n",
        "  xgb_gra.fit(X_train,y_train)\r\n",
        "  y_train_pred_gra=xgb_gra.predict(X_train)\r\n",
        "  y_test_pred_gra=xgb_gra.predict(X_test)\r\n",
        "  trainMAE.append(mean_absolute_error(y_train,y_train_pred_gra))\r\n",
        "  testMAE.append(mean_absolute_error(y_test,y_test_pred_gra))\r\n",
        "  trainMAPE.append(np.mean(np.abs((y_train_pred_gra - y_train) / y_train)) * 100)\r\n",
        "  testMAPE.append(np.mean(np.abs((y_test_pred_gra - y_test) / y_test)) * 100)\r\n",
        "plt.figure(figsize=(8,8))\r\n",
        "plt.plot(np.arange(3,max), np.array(trainMAE),marker=\"o\",color=\"pink\",label='trainMAE')\r\n",
        "plt.plot(np.arange(3,max), np.array(testMAE),marker=\"o\",color=\"red\",label='testMAE')\r\n",
        "plt.legend(loc='lower left')                                                                     \r\n",
        "plt.xlabel('max_depth')\r\n",
        "plt.ylabel('MAE(10⁵INR)')\r\n",
        "plt.show()\r\n",
        "\r\n",
        "plt.figure(figsize=(8,8))\r\n",
        "plt.plot(np.arange(3,max), np.array(trainMAPE),marker=\"^\",color=\"skyblue\",label='trainMAPE')\r\n",
        "plt.plot(np.arange(3,max), np.array(testMAPE),marker=\"^\",color=\"blue\",label='testMAPE')\r\n",
        "plt.legend(loc='lower left')                                                                     \r\n",
        "plt.xlabel('max_depth')\r\n",
        "plt.ylabel('MAPE(%)')\r\n",
        "plt.show()\r\n",
        "\r\n"
      ],
      "execution_count": null,
      "outputs": [
        {
          "output_type": "stream",
          "text": [
            "[04:07:22] WARNING: /workspace/src/objective/regression_obj.cu:152: reg:linear is now deprecated in favor of reg:squarederror.\n",
            "[04:07:22] WARNING: /workspace/src/objective/regression_obj.cu:152: reg:linear is now deprecated in favor of reg:squarederror.\n",
            "[04:07:23] WARNING: /workspace/src/objective/regression_obj.cu:152: reg:linear is now deprecated in favor of reg:squarederror.\n",
            "[04:07:23] WARNING: /workspace/src/objective/regression_obj.cu:152: reg:linear is now deprecated in favor of reg:squarederror.\n",
            "[04:07:24] WARNING: /workspace/src/objective/regression_obj.cu:152: reg:linear is now deprecated in favor of reg:squarederror.\n",
            "[04:07:25] WARNING: /workspace/src/objective/regression_obj.cu:152: reg:linear is now deprecated in favor of reg:squarederror.\n",
            "[04:07:25] WARNING: /workspace/src/objective/regression_obj.cu:152: reg:linear is now deprecated in favor of reg:squarederror.\n",
            "[04:07:26] WARNING: /workspace/src/objective/regression_obj.cu:152: reg:linear is now deprecated in favor of reg:squarederror.\n",
            "[04:07:27] WARNING: /workspace/src/objective/regression_obj.cu:152: reg:linear is now deprecated in favor of reg:squarederror.\n",
            "[04:07:28] WARNING: /workspace/src/objective/regression_obj.cu:152: reg:linear is now deprecated in favor of reg:squarederror.\n",
            "[04:07:30] WARNING: /workspace/src/objective/regression_obj.cu:152: reg:linear is now deprecated in favor of reg:squarederror.\n"
          ],
          "name": "stdout"
        },
        {
          "output_type": "display_data",
          "data": {
            "image/png": "[encoded data removed]",
            "text/plain": [
              "<Figure size 576x576 with 1 Axes>"
            ]
          },
          "metadata": {
            "tags": []
          }
        },
        {
          "output_type": "display_data",
          "data": {
            "image/png": "[encoded data removed]",
            "text/plain": [
              "<Figure size 576x576 with 1 Axes>"
            ]
          },
          "metadata": {
            "tags": []
          }
        }
      ]
    },
    {
      "cell_type": "markdown",
      "metadata": {
        "id": "kJkCsp6JuMLy"
      },
      "source": [
        "上のグラフよりmax_depth=8が適正だと考えられます。"
      ]
    }
  ]
}