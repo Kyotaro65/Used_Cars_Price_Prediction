{
  "nbformat": 4,
  "nbformat_minor": 0,
  "metadata": {
    "colab": {
      "name": "Used_Cars_Price_Pred.ipynb",
      "provenance": [],
      "collapsed_sections": [
        "uYhKnXeuZLAq",
        "WtpJUSxaZLAx",
        "hxMQNfPkZLAy",
        "6VKpn2DPZLA1",
        "OQtNm-2KZLA5",
        "MuTdPtFDZLA6",
        "bJTziH5AZLA8",
        "JzBEjNIXZLA8",
        "JHer_otoZLA9",
        "ZB3s5IJ1ZLA_",
        "17tT5OtOZLA_",
        "tLujRbIHZLA_",
        "x-wRt0vqZLBD",
        "prmlSD-0ZLBE",
        "lRnnn5PtZLBF",
        "2xi61ifsZLBI",
        "LmBoB5zrZLBJ",
        "bYk_mh3HZLBJ",
        "CGW5eUfQZLBL",
        "WHdnA5C1ZLBM",
        "H3WUfUsKZLBM",
        "mUy2YsyvZLBM",
        "v4GQS-gWZLBO",
        "yhpn0U6hZLBP",
        "HsTRzi_XZLBP",
        "o4xMiBMCGuGX",
        "rCIMDxYrZLBQ",
        "Q0lwhwiIZLBQ",
        "v9asGmcuHq_N",
        "NkZ2rbwsH1eg",
        "3vzw8_QYZLBS",
        "5x2sIh8XINDC",
        "_ujqgxakZLBT",
        "5ncgxf3PZLBV",
        "PpMbj4fYZLBW",
        "SjWo38NXbuVJ",
        "5p_cigGH0yJI",
        "xdonu2SSZLBX",
        "0At5E8sTZLBX",
        "lfutQ2K_ZLBY",
        "AJkEY3jVZLBZ"
      ],
      "include_colab_link": true
    },
    "kernelspec": {
      "name": "python3",
      "display_name": "Python 3"
    }
  },
  "cells": [
    {
      "cell_type": "markdown",
      "metadata": {
        "id": "view-in-github",
        "colab_type": "text"
      },
      "source": [
        "<a href=\"https://colab.research.google.com/github/Kyotaro65/Used_Cars_Price_Prediction/blob/linear_non-PCA/Used_Cars_Price_Pred.ipynb\" target=\"_parent\"><img src=\"https://colab.research.google.com/assets/colab-badge.svg\" alt=\"Open In Colab\"/></a>"
      ]
    },
    {
      "cell_type": "markdown",
      "metadata": {
        "id": "uYhKnXeuZLAq"
      },
      "source": [
        "# Used Cars Price Prediction"
      ]
    },
    {
      "cell_type": "markdown",
      "metadata": {
        "id": "WtpJUSxaZLAx"
      },
      "source": [
        "##準備"
      ]
    },
    {
      "cell_type": "markdown",
      "metadata": {
        "id": "hxMQNfPkZLAy"
      },
      "source": [
        "###インポートなど"
      ]
    },
    {
      "cell_type": "code",
      "metadata": {
        "colab": {
          "base_uri": "https://localhost:8080/"
        },
        "id": "IACGo_omZLAz",
        "outputId": "db2c60df-f004-4ee1-967d-8f34d1154eab"
      },
      "source": [
        "#これを実行して指示に従い、ドライブをマウントしてください\r\n",
        "from google.colab import drive\r\n",
        "drive.mount('/content/drive')"
      ],
      "execution_count": 1889,
      "outputs": [
        {
          "output_type": "stream",
          "text": [
            "Drive already mounted at /content/drive; to attempt to forcibly remount, call drive.mount(\"/content/drive\", force_remount=True).\n"
          ],
          "name": "stdout"
        }
      ]
    },
    {
      "cell_type": "code",
      "metadata": {
        "id": "-LGiELQnZLA0"
      },
      "source": [
        "#必要なモジュールのインポート\r\n",
        "import numpy as np\r\n",
        "import pandas as pd\r\n",
        "import matplotlib.pyplot as plt\r\n",
        "import seaborn as sns\r\n",
        "sns.set_style('whitegrid')"
      ],
      "execution_count": 1890,
      "outputs": []
    },
    {
      "cell_type": "code",
      "metadata": {
        "colab": {
          "base_uri": "https://localhost:8080/"
        },
        "id": "naaxY7zfZLA1",
        "outputId": "623dfc5f-c04c-4722-9e6d-1d983c8696b3"
      },
      "source": [
        "#train-data.csvのパスを作るための処理\r\n",
        "path=!find / -name 'Used_Cars_Price_Prediction'\r\n",
        "print(path[-1])"
      ],
      "execution_count": 1891,
      "outputs": [
        {
          "output_type": "stream",
          "text": [
            "/content/drive/MyDrive/github/Used_Cars_Price_Prediction\n"
          ],
          "name": "stdout"
        }
      ]
    },
    {
      "cell_type": "markdown",
      "metadata": {
        "id": "6VKpn2DPZLA1"
      },
      "source": [
        "### データの読み込みと確認"
      ]
    },
    {
      "cell_type": "markdown",
      "metadata": {
        "id": "EENyfWp0ZLA2"
      },
      "source": [
        "データの取得元はkaggle上の以下のページです。\r\n",
        "\r\n",
        "https://www.kaggle.com/avikasliwal/used-cars-price-prediction"
      ]
    },
    {
      "cell_type": "code",
      "metadata": {
        "colab": {
          "base_uri": "https://localhost:8080/",
          "height": 0
        },
        "id": "7MuOcOCVZLA2",
        "outputId": "8256bea9-a3d7-48cc-d2cc-9d258407fe01"
      },
      "source": [
        "#CSVファイルをpandas.DataFrameにします。\r\n",
        "df=pd.read_csv(path[-1]+'/train-data.csv')\r\n",
        "df.head()"
      ],
      "execution_count": 1892,
      "outputs": [
        {
          "output_type": "execute_result",
          "data": {
            "text/html": [
              "<div>\n",
              "<style scoped>\n",
              "    .dataframe tbody tr th:only-of-type {\n",
              "        vertical-align: middle;\n",
              "    }\n",
              "\n",
              "    .dataframe tbody tr th {\n",
              "        vertical-align: top;\n",
              "    }\n",
              "\n",
              "    .dataframe thead th {\n",
              "        text-align: right;\n",
              "    }\n",
              "</style>\n",
              "<table border=\"1\" class=\"dataframe\">\n",
              "  <thead>\n",
              "    <tr style=\"text-align: right;\">\n",
              "      <th></th>\n",
              "      <th>Unnamed: 0</th>\n",
              "      <th>Name</th>\n",
              "      <th>Location</th>\n",
              "      <th>Year</th>\n",
              "      <th>Kilometers_Driven</th>\n",
              "      <th>Fuel_Type</th>\n",
              "      <th>Transmission</th>\n",
              "      <th>Owner_Type</th>\n",
              "      <th>Mileage</th>\n",
              "      <th>Engine</th>\n",
              "      <th>Power</th>\n",
              "      <th>Seats</th>\n",
              "      <th>New_Price</th>\n",
              "      <th>Price</th>\n",
              "    </tr>\n",
              "  </thead>\n",
              "  <tbody>\n",
              "    <tr>\n",
              "      <th>0</th>\n",
              "      <td>0</td>\n",
              "      <td>Maruti Wagon R LXI CNG</td>\n",
              "      <td>Mumbai</td>\n",
              "      <td>2010</td>\n",
              "      <td>72000</td>\n",
              "      <td>CNG</td>\n",
              "      <td>Manual</td>\n",
              "      <td>First</td>\n",
              "      <td>26.6 km/kg</td>\n",
              "      <td>998 CC</td>\n",
              "      <td>58.16 bhp</td>\n",
              "      <td>5.0</td>\n",
              "      <td>NaN</td>\n",
              "      <td>1.75</td>\n",
              "    </tr>\n",
              "    <tr>\n",
              "      <th>1</th>\n",
              "      <td>1</td>\n",
              "      <td>Hyundai Creta 1.6 CRDi SX Option</td>\n",
              "      <td>Pune</td>\n",
              "      <td>2015</td>\n",
              "      <td>41000</td>\n",
              "      <td>Diesel</td>\n",
              "      <td>Manual</td>\n",
              "      <td>First</td>\n",
              "      <td>19.67 kmpl</td>\n",
              "      <td>1582 CC</td>\n",
              "      <td>126.2 bhp</td>\n",
              "      <td>5.0</td>\n",
              "      <td>NaN</td>\n",
              "      <td>12.50</td>\n",
              "    </tr>\n",
              "    <tr>\n",
              "      <th>2</th>\n",
              "      <td>2</td>\n",
              "      <td>Honda Jazz V</td>\n",
              "      <td>Chennai</td>\n",
              "      <td>2011</td>\n",
              "      <td>46000</td>\n",
              "      <td>Petrol</td>\n",
              "      <td>Manual</td>\n",
              "      <td>First</td>\n",
              "      <td>18.2 kmpl</td>\n",
              "      <td>1199 CC</td>\n",
              "      <td>88.7 bhp</td>\n",
              "      <td>5.0</td>\n",
              "      <td>8.61 Lakh</td>\n",
              "      <td>4.50</td>\n",
              "    </tr>\n",
              "    <tr>\n",
              "      <th>3</th>\n",
              "      <td>3</td>\n",
              "      <td>Maruti Ertiga VDI</td>\n",
              "      <td>Chennai</td>\n",
              "      <td>2012</td>\n",
              "      <td>87000</td>\n",
              "      <td>Diesel</td>\n",
              "      <td>Manual</td>\n",
              "      <td>First</td>\n",
              "      <td>20.77 kmpl</td>\n",
              "      <td>1248 CC</td>\n",
              "      <td>88.76 bhp</td>\n",
              "      <td>7.0</td>\n",
              "      <td>NaN</td>\n",
              "      <td>6.00</td>\n",
              "    </tr>\n",
              "    <tr>\n",
              "      <th>4</th>\n",
              "      <td>4</td>\n",
              "      <td>Audi A4 New 2.0 TDI Multitronic</td>\n",
              "      <td>Coimbatore</td>\n",
              "      <td>2013</td>\n",
              "      <td>40670</td>\n",
              "      <td>Diesel</td>\n",
              "      <td>Automatic</td>\n",
              "      <td>Second</td>\n",
              "      <td>15.2 kmpl</td>\n",
              "      <td>1968 CC</td>\n",
              "      <td>140.8 bhp</td>\n",
              "      <td>5.0</td>\n",
              "      <td>NaN</td>\n",
              "      <td>17.74</td>\n",
              "    </tr>\n",
              "  </tbody>\n",
              "</table>\n",
              "</div>"
            ],
            "text/plain": [
              "   Unnamed: 0                              Name  ...  New_Price  Price\n",
              "0           0            Maruti Wagon R LXI CNG  ...        NaN   1.75\n",
              "1           1  Hyundai Creta 1.6 CRDi SX Option  ...        NaN  12.50\n",
              "2           2                      Honda Jazz V  ...  8.61 Lakh   4.50\n",
              "3           3                 Maruti Ertiga VDI  ...        NaN   6.00\n",
              "4           4   Audi A4 New 2.0 TDI Multitronic  ...        NaN  17.74\n",
              "\n",
              "[5 rows x 14 columns]"
            ]
          },
          "metadata": {
            "tags": []
          },
          "execution_count": 1892
        }
      ]
    },
    {
      "cell_type": "markdown",
      "metadata": {
        "id": "cKYuspVDZLA3"
      },
      "source": [
        "上記のように、行が各中古車を表し、列にはその中古車の各データが書かれています。"
      ]
    },
    {
      "cell_type": "markdown",
      "metadata": {
        "id": "wsmdvfefZLA3"
      },
      "source": [
        "もし、上のデータ読み込みがうまくいかない場合は画面の左側のフォルダアイコンをクリックし、\r\n",
        "\r\n",
        "drive>MyDrive>...\r\n",
        "\r\n",
        "と開いていってUsed_Cars_Price_Predictionフォルダ内のtrain-data.csvファイルを見つけてください。これを右クリックし、「パスをコピー」を選んで下記のコードの1行目の(' ')の中に張り付けてください。\r\n",
        "\r\n",
        "df=pd.read_csv('/content/drive/MyDrive/.../Used_Cars_Price_Prediction/train-data.csv')\r\n",
        "\r\n",
        "という形にして、2行ともコメントアウト(#)を外して実行してください。"
      ]
    },
    {
      "cell_type": "code",
      "metadata": {
        "id": "mlYcF81-ZLA3"
      },
      "source": [
        "#df=pd.read_csv('')\r\n",
        "#df.head()"
      ],
      "execution_count": 1893,
      "outputs": []
    },
    {
      "cell_type": "code",
      "metadata": {
        "colab": {
          "base_uri": "https://localhost:8080/"
        },
        "id": "LiD-X8ZkZLA4",
        "outputId": "84fb23ef-4d2e-4ab5-99c4-e9afd26c4db8"
      },
      "source": [
        "#列の一覧を確認\r\n",
        "df.columns"
      ],
      "execution_count": 1894,
      "outputs": [
        {
          "output_type": "execute_result",
          "data": {
            "text/plain": [
              "Index(['Unnamed: 0', 'Name', 'Location', 'Year', 'Kilometers_Driven',\n",
              "       'Fuel_Type', 'Transmission', 'Owner_Type', 'Mileage', 'Engine', 'Power',\n",
              "       'Seats', 'New_Price', 'Price'],\n",
              "      dtype='object')"
            ]
          },
          "metadata": {
            "tags": []
          },
          "execution_count": 1894
        }
      ]
    },
    {
      "cell_type": "markdown",
      "metadata": {
        "id": "FmZVaWJFZLA4"
      },
      "source": [
        "各列は、行番号　,　車種名　,　中古車の所在地(インド国内の地域)　,　年(西暦)　　 総走行距離(km)　,　燃料の種類　,　マニュアルまたはオートマ　,　前オーナー人数　,　燃費(km/Lまたはkm/kg)　,　排気量(cc)　,　馬力(bhp)　,　席数　,　値段(十万インド・ルピー≓14万円)　を表しています。\r\n",
        "\r\n",
        "各列(各特徴量)の説明は[kaggle上のページ](https://www.kaggle.com/avikasliwal/used-cars-price-prediction)に記載してあります。"
      ]
    },
    {
      "cell_type": "markdown",
      "metadata": {
        "id": "wDeUyz4SZLA4"
      },
      "source": [
        "まず、'Unnamed: 0'の列はその行の番号を表しているだけなので切り落とします。"
      ]
    },
    {
      "cell_type": "code",
      "metadata": {
        "id": "R6XhFPqlZLA5"
      },
      "source": [
        "df=df.drop(columns='Unnamed: 0')"
      ],
      "execution_count": 1895,
      "outputs": []
    },
    {
      "cell_type": "code",
      "metadata": {
        "colab": {
          "base_uri": "https://localhost:8080/"
        },
        "id": "ZKaAXqGCZLA5",
        "outputId": "c1f57eea-c7b0-49be-e3fc-5225f561e1df"
      },
      "source": [
        "#(行数,列数)を確認\r\n",
        "df.shape"
      ],
      "execution_count": 1896,
      "outputs": [
        {
          "output_type": "execute_result",
          "data": {
            "text/plain": [
              "(6019, 13)"
            ]
          },
          "metadata": {
            "tags": []
          },
          "execution_count": 1896
        }
      ]
    },
    {
      "cell_type": "code",
      "metadata": {
        "colab": {
          "base_uri": "https://localhost:8080/"
        },
        "id": "UOvjOoWrZLA5",
        "outputId": "e404869d-c7dd-42a5-d2a3-ac6581cc4112"
      },
      "source": [
        "#データの型と欠損値を確認\r\n",
        "df.info()"
      ],
      "execution_count": 1897,
      "outputs": [
        {
          "output_type": "stream",
          "text": [
            "<class 'pandas.core.frame.DataFrame'>\n",
            "RangeIndex: 6019 entries, 0 to 6018\n",
            "Data columns (total 13 columns):\n",
            " #   Column             Non-Null Count  Dtype  \n",
            "---  ------             --------------  -----  \n",
            " 0   Name               6019 non-null   object \n",
            " 1   Location           6019 non-null   object \n",
            " 2   Year               6019 non-null   int64  \n",
            " 3   Kilometers_Driven  6019 non-null   int64  \n",
            " 4   Fuel_Type          6019 non-null   object \n",
            " 5   Transmission       6019 non-null   object \n",
            " 6   Owner_Type         6019 non-null   object \n",
            " 7   Mileage            6017 non-null   object \n",
            " 8   Engine             5983 non-null   object \n",
            " 9   Power              5983 non-null   object \n",
            " 10  Seats              5977 non-null   float64\n",
            " 11  New_Price          824 non-null    object \n",
            " 12  Price              6019 non-null   float64\n",
            "dtypes: float64(2), int64(2), object(9)\n",
            "memory usage: 611.4+ KB\n"
          ],
          "name": "stdout"
        }
      ]
    },
    {
      "cell_type": "markdown",
      "metadata": {
        "id": "OQtNm-2KZLA5"
      },
      "source": [
        "##前処理"
      ]
    },
    {
      "cell_type": "markdown",
      "metadata": {
        "id": "MuTdPtFDZLA6"
      },
      "source": [
        "###欠損値の処理\r\n",
        "欠損値となっているデータをどう扱うか決めていきます。"
      ]
    },
    {
      "cell_type": "code",
      "metadata": {
        "colab": {
          "base_uri": "https://localhost:8080/"
        },
        "id": "SlMuq63fZLA6",
        "outputId": "c6eae56a-82fc-40a9-b688-394b551678db"
      },
      "source": [
        "#各列で、欠損値の数を数えます\r\n",
        "df.isnull().sum()"
      ],
      "execution_count": 1898,
      "outputs": [
        {
          "output_type": "execute_result",
          "data": {
            "text/plain": [
              "Name                    0\n",
              "Location                0\n",
              "Year                    0\n",
              "Kilometers_Driven       0\n",
              "Fuel_Type               0\n",
              "Transmission            0\n",
              "Owner_Type              0\n",
              "Mileage                 2\n",
              "Engine                 36\n",
              "Power                  36\n",
              "Seats                  42\n",
              "New_Price            5195\n",
              "Price                   0\n",
              "dtype: int64"
            ]
          },
          "metadata": {
            "tags": []
          },
          "execution_count": 1898
        }
      ]
    },
    {
      "cell_type": "markdown",
      "metadata": {
        "id": "wO8V1N-rZLA6"
      },
      "source": [
        "'New_Price'の列は欠損値が多すぎて意味をなさないのでこの列を切り落とします。"
      ]
    },
    {
      "cell_type": "code",
      "metadata": {
        "id": "Yk7SoezVZLA7"
      },
      "source": [
        "df=df.drop(columns='New_Price')"
      ],
      "execution_count": 1899,
      "outputs": []
    },
    {
      "cell_type": "markdown",
      "metadata": {
        "id": "cBpQM2GJZLA7"
      },
      "source": [
        "'Mileage','Engine','Power','Seats'の列は欠損値がそれほど多くないので、欠損値を含む行をすべて削除してしまいます。"
      ]
    },
    {
      "cell_type": "code",
      "metadata": {
        "colab": {
          "base_uri": "https://localhost:8080/"
        },
        "id": "eOwFhKFDZLA7",
        "outputId": "3656a743-6078-417d-943c-93ac184c4d89"
      },
      "source": [
        "df=df.dropna()\r\n",
        "df.shape"
      ],
      "execution_count": 1900,
      "outputs": [
        {
          "output_type": "execute_result",
          "data": {
            "text/plain": [
              "(5975, 12)"
            ]
          },
          "metadata": {
            "tags": []
          },
          "execution_count": 1900
        }
      ]
    },
    {
      "cell_type": "code",
      "metadata": {
        "colab": {
          "base_uri": "https://localhost:8080/"
        },
        "id": "QWLNQdlcZLA7",
        "outputId": "850de2e1-fa7c-4e8a-922d-d9500362002b"
      },
      "source": [
        "df.info()"
      ],
      "execution_count": 1901,
      "outputs": [
        {
          "output_type": "stream",
          "text": [
            "<class 'pandas.core.frame.DataFrame'>\n",
            "Int64Index: 5975 entries, 0 to 6018\n",
            "Data columns (total 12 columns):\n",
            " #   Column             Non-Null Count  Dtype  \n",
            "---  ------             --------------  -----  \n",
            " 0   Name               5975 non-null   object \n",
            " 1   Location           5975 non-null   object \n",
            " 2   Year               5975 non-null   int64  \n",
            " 3   Kilometers_Driven  5975 non-null   int64  \n",
            " 4   Fuel_Type          5975 non-null   object \n",
            " 5   Transmission       5975 non-null   object \n",
            " 6   Owner_Type         5975 non-null   object \n",
            " 7   Mileage            5975 non-null   object \n",
            " 8   Engine             5975 non-null   object \n",
            " 9   Power              5975 non-null   object \n",
            " 10  Seats              5975 non-null   float64\n",
            " 11  Price              5975 non-null   float64\n",
            "dtypes: float64(2), int64(2), object(8)\n",
            "memory usage: 606.8+ KB\n"
          ],
          "name": "stdout"
        }
      ]
    },
    {
      "cell_type": "code",
      "metadata": {
        "colab": {
          "base_uri": "https://localhost:8080/"
        },
        "id": "SV2SK3erZLA8",
        "outputId": "828302d0-b019-4b4a-fed3-5afd73585892"
      },
      "source": [
        "df.isnull().sum()"
      ],
      "execution_count": 1902,
      "outputs": [
        {
          "output_type": "execute_result",
          "data": {
            "text/plain": [
              "Name                 0\n",
              "Location             0\n",
              "Year                 0\n",
              "Kilometers_Driven    0\n",
              "Fuel_Type            0\n",
              "Transmission         0\n",
              "Owner_Type           0\n",
              "Mileage              0\n",
              "Engine               0\n",
              "Power                0\n",
              "Seats                0\n",
              "Price                0\n",
              "dtype: int64"
            ]
          },
          "metadata": {
            "tags": []
          },
          "execution_count": 1902
        }
      ]
    },
    {
      "cell_type": "markdown",
      "metadata": {
        "id": "XPHJe2VQZLA8"
      },
      "source": [
        "これで欠損値がなくなったことが確認できました。"
      ]
    },
    {
      "cell_type": "markdown",
      "metadata": {
        "id": "bJTziH5AZLA8"
      },
      "source": [
        "### 各列を使用可能な数値データに変換"
      ]
    },
    {
      "cell_type": "markdown",
      "metadata": {
        "id": "JzBEjNIXZLA8"
      },
      "source": [
        "#### 'Owner_Type'について\r\n"
      ]
    },
    {
      "cell_type": "markdown",
      "metadata": {
        "id": "Tz83y2IKZLA8"
      },
      "source": [
        "'Owner_Type'は、[kaggle上のページ](https://www.kaggle.com/avikasliwal/used-cars-price-prediction)の説明より、前のオーナーの数を表します。\r\n",
        "\r\n",
        "序数で書かれているので、First,Second,...を、数値型の1,2,...に変換します。\r\n",
        "\r\n",
        "まず、どんな値を取っているのか調べます。"
      ]
    },
    {
      "cell_type": "code",
      "metadata": {
        "colab": {
          "base_uri": "https://localhost:8080/"
        },
        "id": "u1_4S2vTZLA9",
        "outputId": "3ae6846a-cf36-4ded-f80b-3b350e62c938"
      },
      "source": [
        "df['Owner_Type'].value_counts()"
      ],
      "execution_count": 1903,
      "outputs": [
        {
          "output_type": "execute_result",
          "data": {
            "text/plain": [
              "First             4903\n",
              "Second             953\n",
              "Third              111\n",
              "Fourth & Above       8\n",
              "Name: Owner_Type, dtype: int64"
            ]
          },
          "metadata": {
            "tags": []
          },
          "execution_count": 1903
        }
      ]
    },
    {
      "cell_type": "markdown",
      "metadata": {
        "id": "mi8wH0acZLA9"
      },
      "source": [
        "取る値とその回数が確認できたので、First,Second,Third,Fourth & Aboveを、それぞれ1,2,3,4に変換することにします。\r\n",
        "\r\n",
        "数値は整数型にします。\r\n",
        "\r\n"
      ]
    },
    {
      "cell_type": "code",
      "metadata": {
        "colab": {
          "base_uri": "https://localhost:8080/",
          "height": 0
        },
        "id": "eGy7q_uRZLA9",
        "outputId": "6d8cf392-467a-4414-c3fd-b04ef8c2632d"
      },
      "source": [
        "df['Owner_Type'] = df['Owner_Type'].str.replace('First','1').replace('Second','2').replace('Third','3').replace('Fourth & Above','4')\r\n",
        "df['Owner_Type'] = df['Owner_Type'].astype(int)\r\n",
        "df.head()"
      ],
      "execution_count": 1904,
      "outputs": [
        {
          "output_type": "execute_result",
          "data": {
            "text/html": [
              "<div>\n",
              "<style scoped>\n",
              "    .dataframe tbody tr th:only-of-type {\n",
              "        vertical-align: middle;\n",
              "    }\n",
              "\n",
              "    .dataframe tbody tr th {\n",
              "        vertical-align: top;\n",
              "    }\n",
              "\n",
              "    .dataframe thead th {\n",
              "        text-align: right;\n",
              "    }\n",
              "</style>\n",
              "<table border=\"1\" class=\"dataframe\">\n",
              "  <thead>\n",
              "    <tr style=\"text-align: right;\">\n",
              "      <th></th>\n",
              "      <th>Name</th>\n",
              "      <th>Location</th>\n",
              "      <th>Year</th>\n",
              "      <th>Kilometers_Driven</th>\n",
              "      <th>Fuel_Type</th>\n",
              "      <th>Transmission</th>\n",
              "      <th>Owner_Type</th>\n",
              "      <th>Mileage</th>\n",
              "      <th>Engine</th>\n",
              "      <th>Power</th>\n",
              "      <th>Seats</th>\n",
              "      <th>Price</th>\n",
              "    </tr>\n",
              "  </thead>\n",
              "  <tbody>\n",
              "    <tr>\n",
              "      <th>0</th>\n",
              "      <td>Maruti Wagon R LXI CNG</td>\n",
              "      <td>Mumbai</td>\n",
              "      <td>2010</td>\n",
              "      <td>72000</td>\n",
              "      <td>CNG</td>\n",
              "      <td>Manual</td>\n",
              "      <td>1</td>\n",
              "      <td>26.6 km/kg</td>\n",
              "      <td>998 CC</td>\n",
              "      <td>58.16 bhp</td>\n",
              "      <td>5.0</td>\n",
              "      <td>1.75</td>\n",
              "    </tr>\n",
              "    <tr>\n",
              "      <th>1</th>\n",
              "      <td>Hyundai Creta 1.6 CRDi SX Option</td>\n",
              "      <td>Pune</td>\n",
              "      <td>2015</td>\n",
              "      <td>41000</td>\n",
              "      <td>Diesel</td>\n",
              "      <td>Manual</td>\n",
              "      <td>1</td>\n",
              "      <td>19.67 kmpl</td>\n",
              "      <td>1582 CC</td>\n",
              "      <td>126.2 bhp</td>\n",
              "      <td>5.0</td>\n",
              "      <td>12.50</td>\n",
              "    </tr>\n",
              "    <tr>\n",
              "      <th>2</th>\n",
              "      <td>Honda Jazz V</td>\n",
              "      <td>Chennai</td>\n",
              "      <td>2011</td>\n",
              "      <td>46000</td>\n",
              "      <td>Petrol</td>\n",
              "      <td>Manual</td>\n",
              "      <td>1</td>\n",
              "      <td>18.2 kmpl</td>\n",
              "      <td>1199 CC</td>\n",
              "      <td>88.7 bhp</td>\n",
              "      <td>5.0</td>\n",
              "      <td>4.50</td>\n",
              "    </tr>\n",
              "    <tr>\n",
              "      <th>3</th>\n",
              "      <td>Maruti Ertiga VDI</td>\n",
              "      <td>Chennai</td>\n",
              "      <td>2012</td>\n",
              "      <td>87000</td>\n",
              "      <td>Diesel</td>\n",
              "      <td>Manual</td>\n",
              "      <td>1</td>\n",
              "      <td>20.77 kmpl</td>\n",
              "      <td>1248 CC</td>\n",
              "      <td>88.76 bhp</td>\n",
              "      <td>7.0</td>\n",
              "      <td>6.00</td>\n",
              "    </tr>\n",
              "    <tr>\n",
              "      <th>4</th>\n",
              "      <td>Audi A4 New 2.0 TDI Multitronic</td>\n",
              "      <td>Coimbatore</td>\n",
              "      <td>2013</td>\n",
              "      <td>40670</td>\n",
              "      <td>Diesel</td>\n",
              "      <td>Automatic</td>\n",
              "      <td>2</td>\n",
              "      <td>15.2 kmpl</td>\n",
              "      <td>1968 CC</td>\n",
              "      <td>140.8 bhp</td>\n",
              "      <td>5.0</td>\n",
              "      <td>17.74</td>\n",
              "    </tr>\n",
              "  </tbody>\n",
              "</table>\n",
              "</div>"
            ],
            "text/plain": [
              "                               Name    Location  Year  ...      Power Seats  Price\n",
              "0            Maruti Wagon R LXI CNG      Mumbai  2010  ...  58.16 bhp   5.0   1.75\n",
              "1  Hyundai Creta 1.6 CRDi SX Option        Pune  2015  ...  126.2 bhp   5.0  12.50\n",
              "2                      Honda Jazz V     Chennai  2011  ...   88.7 bhp   5.0   4.50\n",
              "3                 Maruti Ertiga VDI     Chennai  2012  ...  88.76 bhp   7.0   6.00\n",
              "4   Audi A4 New 2.0 TDI Multitronic  Coimbatore  2013  ...  140.8 bhp   5.0  17.74\n",
              "\n",
              "[5 rows x 12 columns]"
            ]
          },
          "metadata": {
            "tags": []
          },
          "execution_count": 1904
        }
      ]
    },
    {
      "cell_type": "markdown",
      "metadata": {
        "id": "JHer_otoZLA9"
      },
      "source": [
        "####'Mileage'について\r\n",
        "0行目は単位km/kgで、1～4行目はkmplつまりkm/Lで書かれていることが確認できます。\r\n",
        "\r\n",
        "まず、それぞれの単位で書かれたデータの数を数えます。"
      ]
    },
    {
      "cell_type": "code",
      "metadata": {
        "colab": {
          "base_uri": "https://localhost:8080/"
        },
        "id": "tikdF3v4ZLA9",
        "outputId": "16502529-fa03-4bef-b4c2-459661218264"
      },
      "source": [
        "kmpkg=0\r\n",
        "kmpl=0\r\n",
        "other_mi=0\r\n",
        "for i in df['Mileage']:\r\n",
        "    if str(i).endswith(\" km/kg\"):\r\n",
        "      kmpkg+=1\r\n",
        "    elif str(i).endswith(\" kmpl\"):\r\n",
        "      kmpl+=1\r\n",
        "    else:\r\n",
        "      other_mi+=1\r\n",
        "\r\n",
        "print(\"km/kgで書かれたデータは\",kmpkg,\"コ\")\r\n",
        "print(\"km/Lで書かれたデータは\",kmpl,\"コ\")\r\n",
        "print(\"それ以外の単位で書かれたデータは\",other_mi,\"コ\")"
      ],
      "execution_count": 1905,
      "outputs": [
        {
          "output_type": "stream",
          "text": [
            "km/kgで書かれたデータは 66 コ\n",
            "km/Lで書かれたデータは 5909 コ\n",
            "それ以外の単位で書かれたデータは 0 コ\n"
          ],
          "name": "stdout"
        }
      ]
    },
    {
      "cell_type": "markdown",
      "metadata": {
        "id": "oUzt05d_ZLA-"
      },
      "source": [
        "燃費の単位は燃料の種類によって違うことが考えられるので、まずデータ全体で各燃料種類の車の数を数えます。"
      ]
    },
    {
      "cell_type": "code",
      "metadata": {
        "colab": {
          "base_uri": "https://localhost:8080/"
        },
        "id": "PfcBa-FbZLA-",
        "outputId": "d6949a7b-2b94-4773-d461-5c96fa671f47"
      },
      "source": [
        "df['Fuel_Type'].value_counts()"
      ],
      "execution_count": 1906,
      "outputs": [
        {
          "output_type": "execute_result",
          "data": {
            "text/plain": [
              "Diesel    3195\n",
              "Petrol    2714\n",
              "CNG         56\n",
              "LPG         10\n",
              "Name: Fuel_Type, dtype: int64"
            ]
          },
          "metadata": {
            "tags": []
          },
          "execution_count": 1906
        }
      ]
    },
    {
      "cell_type": "markdown",
      "metadata": {
        "id": "jTL8lm-NZLA-"
      },
      "source": [
        "次に燃費の単位ごとに各燃料種類の車の数を数えます。"
      ]
    },
    {
      "cell_type": "code",
      "metadata": {
        "colab": {
          "base_uri": "https://localhost:8080/"
        },
        "id": "4MwqMGxVZLA-",
        "outputId": "e7b5513f-f1c4-4fd7-8e58-dd9e2711ffc2"
      },
      "source": [
        "df_kmpkg=df.query('Mileage.str.endswith(\"km/kg\")',engine='python')\r\n",
        "df_kmpl=df.query('Mileage.str.endswith(\"kmpl\")',engine='python')\r\n",
        "\r\n",
        "print(\"km/kgで書かれた中古車の燃料種類\")\r\n",
        "print(df_kmpkg['Fuel_Type'].value_counts())\r\n",
        "print(\"-----------------------------------\")\r\n",
        "print(\"km/Lで書かれた中古車の燃料種類\")\r\n",
        "print(df_kmpl['Fuel_Type'].value_counts())"
      ],
      "execution_count": 1907,
      "outputs": [
        {
          "output_type": "stream",
          "text": [
            "km/kgで書かれた中古車の燃料種類\n",
            "CNG    56\n",
            "LPG    10\n",
            "Name: Fuel_Type, dtype: int64\n",
            "-----------------------------------\n",
            "km/Lで書かれた中古車の燃料種類\n",
            "Diesel    3195\n",
            "Petrol    2714\n",
            "Name: Fuel_Type, dtype: int64\n"
          ],
          "name": "stdout"
        }
      ]
    },
    {
      "cell_type": "markdown",
      "metadata": {
        "id": "mvAc6Q3BZLA_"
      },
      "source": [
        "km/kgで書かれているのはCNGとLPGの車\r\n",
        "\r\n",
        "㎞/Lで書かれているのは軽油とガソリンの車\r\n",
        "\r\n",
        "とわかります。\r\n",
        "\r\n",
        "\r\n",
        "\r\n"
      ]
    },
    {
      "cell_type": "markdown",
      "metadata": {
        "id": "ZB3s5IJ1ZLA_"
      },
      "source": [
        "##### 'Mileage'の単位換算\r\n",
        "Petrol: 0.9\\$/L , Diesel: 1.0\\$/L , CNG: 1.5\\$/kg , LPG: 1.5\\$/kg"
      ]
    },
    {
      "cell_type": "markdown",
      "metadata": {
        "id": "17tT5OtOZLA_"
      },
      "source": [
        "全てを一律に比べるため、今回は燃料1USドル分で走れる距離(km/\\$)を燃費の単位とします。\r\n",
        "\r\n",
        "そのために各燃料の単価を求めます。\r\n",
        "\r\n",
        "'Location'から分かる通りインドの市場、[データの更新時期は2019年](https://www.kaggle.com/avikasliwal/used-cars-price-prediction)なので、\r\n",
        "\r\n",
        "今回、2019年のガソリンと自動車用軽油にはインドの価格を用います。\r\n",
        "\r\n",
        "2019/12/09時点で1L当たりガソリンは75ルピー、軽油は66.04ルピーで、当時のレート(1ルピー=0.014USD)から、それぞれ1.0\\$/L,0.9\\$/Lです。\r\n",
        "\r\n",
        "\r\n",
        "CNGとLPGはインドの価格に関する資料が見つからなかったので、国内の小売価格を参考にします。\r\n",
        "\r\n",
        "<br>\r\n",
        "\r\n",
        "*   ガソリン(Petrol): 1.0 \\$/L\r\n",
        "*   自動車用軽油(Diesel): 0.9 \\$/L\r\n",
        "*   圧縮天然ガス(CNG): 1.5 \\$/kg\r\n",
        "*   液化石油ガス(オートガス,LPG): 1.5 \\$/kg\r\n",
        "\r\n",
        "<br>\r\n",
        "(説明)\r\n",
        "\r\n",
        "\r\n",
        "CNGはメタン(ガス密度約0.7kg/m³)を主成分とした天然ガスを20MPaで圧縮したものです。\r\n",
        "\r\n",
        "価格は105円/m³(標準状態) , ガス密度は標準状態でメタンと同じ0.7kg/m³として、\r\n",
        "\r\n",
        "150円/kg ≓ 1.5\\$/kg\r\n",
        "\r\n",
        "<br>\r\n",
        "\r\n",
        "LPG(オートガス)はブタン(液密度約580kg/m³)が主成分です。\r\n",
        "\r\n",
        "価格は86円/L , 液密度は580kg/m³ , 1m³=1000L として、\r\n",
        "\r\n",
        "約148円/kg ≓ 1.5\\$/kg\r\n",
        "\r\n",
        "<br>\r\n",
        "\r\n",
        "######参考文献\r\n",
        "\r\n",
        "\r\n",
        "\r\n",
        "  \r\n",
        "\r\n",
        "\r\n",
        "\r\n",
        "\r\n",
        "\r\n",
        "\r\n",
        "\r\n",
        "\r\n"
      ]
    },
    {
      "cell_type": "markdown",
      "metadata": {
        "id": "4MCz3Dh9ZLA_"
      },
      "source": [
        "1. NNA ASIA   アジア経済ニュース\r\n",
        "\r\n",
        "  ガソリンが75ルピーに値上がり、１年ぶり (2019/12/11（水）)\r\n",
        "  \r\n",
        "  https://www.nna.jp/news/show/1984842\r\n",
        "\r\n",
        "  [アクセス日: 2021/01/30]\r\n",
        "\r\n",
        "2.   大阪ガス\r\n",
        "\r\n",
        "  天然ガス自動車＞CNG基本単価\r\n",
        "\r\n",
        "  https://ene.osakagas.co.jp/product/ngv/users/cng_price.html\r\n",
        "\r\n",
        "  [アクセス日: 2021/01/30]\r\n",
        "\r\n",
        "3.  国際石油開発帝石\r\n",
        "\r\n",
        "  天然ガスの成分構造\r\n",
        "\r\n",
        "  https://www.inpex.co.jp/museum/01/02.html\r\n",
        "\r\n",
        "  [アクセス日: 2021/01/30]\r\n",
        "\r\n",
        "4.  JOGMEC 独立行政法人石油天然ガス・金属鉱物資源機構\r\n",
        "\r\n",
        "  石油・天然ガス資源情報\r\n",
        "\r\n",
        "  圧縮天然ガス\r\n",
        "\r\n",
        "  https://oilgas-info.jogmec.go.jp/termlist/1000201/1000216.html\r\n",
        "\r\n",
        "  [アクセス日: 2021/01/30]\r\n",
        "　\r\n",
        "5.  日本LPガス協会\r\n",
        "\r\n",
        "  LPガスの概要＞LPガスの性質\r\n",
        "\r\n",
        "  https://www.j-lpgas.gr.jp/intr/seishitsu.html\r\n",
        "\r\n",
        "  [アクセス日: 2021/01/30]\r\n",
        "\r\n",
        "6. 財団法人 日本エネルギー経済研究所 石油情報センター\r\n",
        "\r\n",
        "  価格情報＞オートガス\r\n",
        "\r\n",
        "  https://oil-info.ieej.or.jp/price/price.html\r\n",
        "\r\n",
        "  https://oil-info.ieej.or.jp/price/data/autogas.xls\r\n",
        "\r\n",
        "  [アクセス日: 2021/01/30]\r\n",
        "\r\n",
        "7. JPH10121069A - オートガス組成物 - Google Patents\r\n",
        "\r\n",
        "  https://patents.google.com/patent/JPH10121069A/ja\r\n",
        "\r\n",
        "  [アクセス日: 2021/01/30]"
      ]
    },
    {
      "cell_type": "markdown",
      "metadata": {
        "id": "tLujRbIHZLA_"
      },
      "source": [
        "##### 'Mileage'の値の書き換え"
      ]
    },
    {
      "cell_type": "code",
      "metadata": {
        "id": "iww1cytpZLA_"
      },
      "source": [
        "#以下の4値を書き換えると各燃料の単価を変更できます。\r\n",
        "pet_dpl=1.0\r\n",
        "die_dpl=0.9\r\n",
        "cng_dpkg=1.5\r\n",
        "lpg_dpkg=1.5\r\n",
        "#国内のみでも試算"
      ],
      "execution_count": 1908,
      "outputs": []
    },
    {
      "cell_type": "markdown",
      "metadata": {
        "id": "yQReBm_DZLBA"
      },
      "source": [
        "'Mileage'から単位表記を消し、さらに数値として扱うため浮動小数点型に変換したものを、新たに'Mileage_flo'列として加えます。"
      ]
    },
    {
      "cell_type": "code",
      "metadata": {
        "colab": {
          "base_uri": "https://localhost:8080/",
          "height": 0
        },
        "id": "7SkBEkqlZLBA",
        "outputId": "05c528b8-2348-4b40-bce8-e983b08dcfb1"
      },
      "source": [
        "df['Mileage_flo'] = df['Mileage'].str.replace(' kmpl','')\r\n",
        "df['Mileage_flo'] = df['Mileage_flo'].str.replace(' km/kg','')\r\n",
        "df['Mileage_flo'] = df['Mileage_flo'].astype(float)\r\n",
        "df.head()"
      ],
      "execution_count": 1909,
      "outputs": [
        {
          "output_type": "execute_result",
          "data": {
            "text/html": [
              "<div>\n",
              "<style scoped>\n",
              "    .dataframe tbody tr th:only-of-type {\n",
              "        vertical-align: middle;\n",
              "    }\n",
              "\n",
              "    .dataframe tbody tr th {\n",
              "        vertical-align: top;\n",
              "    }\n",
              "\n",
              "    .dataframe thead th {\n",
              "        text-align: right;\n",
              "    }\n",
              "</style>\n",
              "<table border=\"1\" class=\"dataframe\">\n",
              "  <thead>\n",
              "    <tr style=\"text-align: right;\">\n",
              "      <th></th>\n",
              "      <th>Name</th>\n",
              "      <th>Location</th>\n",
              "      <th>Year</th>\n",
              "      <th>Kilometers_Driven</th>\n",
              "      <th>Fuel_Type</th>\n",
              "      <th>Transmission</th>\n",
              "      <th>Owner_Type</th>\n",
              "      <th>Mileage</th>\n",
              "      <th>Engine</th>\n",
              "      <th>Power</th>\n",
              "      <th>Seats</th>\n",
              "      <th>Price</th>\n",
              "      <th>Mileage_flo</th>\n",
              "    </tr>\n",
              "  </thead>\n",
              "  <tbody>\n",
              "    <tr>\n",
              "      <th>0</th>\n",
              "      <td>Maruti Wagon R LXI CNG</td>\n",
              "      <td>Mumbai</td>\n",
              "      <td>2010</td>\n",
              "      <td>72000</td>\n",
              "      <td>CNG</td>\n",
              "      <td>Manual</td>\n",
              "      <td>1</td>\n",
              "      <td>26.6 km/kg</td>\n",
              "      <td>998 CC</td>\n",
              "      <td>58.16 bhp</td>\n",
              "      <td>5.0</td>\n",
              "      <td>1.75</td>\n",
              "      <td>26.60</td>\n",
              "    </tr>\n",
              "    <tr>\n",
              "      <th>1</th>\n",
              "      <td>Hyundai Creta 1.6 CRDi SX Option</td>\n",
              "      <td>Pune</td>\n",
              "      <td>2015</td>\n",
              "      <td>41000</td>\n",
              "      <td>Diesel</td>\n",
              "      <td>Manual</td>\n",
              "      <td>1</td>\n",
              "      <td>19.67 kmpl</td>\n",
              "      <td>1582 CC</td>\n",
              "      <td>126.2 bhp</td>\n",
              "      <td>5.0</td>\n",
              "      <td>12.50</td>\n",
              "      <td>19.67</td>\n",
              "    </tr>\n",
              "    <tr>\n",
              "      <th>2</th>\n",
              "      <td>Honda Jazz V</td>\n",
              "      <td>Chennai</td>\n",
              "      <td>2011</td>\n",
              "      <td>46000</td>\n",
              "      <td>Petrol</td>\n",
              "      <td>Manual</td>\n",
              "      <td>1</td>\n",
              "      <td>18.2 kmpl</td>\n",
              "      <td>1199 CC</td>\n",
              "      <td>88.7 bhp</td>\n",
              "      <td>5.0</td>\n",
              "      <td>4.50</td>\n",
              "      <td>18.20</td>\n",
              "    </tr>\n",
              "    <tr>\n",
              "      <th>3</th>\n",
              "      <td>Maruti Ertiga VDI</td>\n",
              "      <td>Chennai</td>\n",
              "      <td>2012</td>\n",
              "      <td>87000</td>\n",
              "      <td>Diesel</td>\n",
              "      <td>Manual</td>\n",
              "      <td>1</td>\n",
              "      <td>20.77 kmpl</td>\n",
              "      <td>1248 CC</td>\n",
              "      <td>88.76 bhp</td>\n",
              "      <td>7.0</td>\n",
              "      <td>6.00</td>\n",
              "      <td>20.77</td>\n",
              "    </tr>\n",
              "    <tr>\n",
              "      <th>4</th>\n",
              "      <td>Audi A4 New 2.0 TDI Multitronic</td>\n",
              "      <td>Coimbatore</td>\n",
              "      <td>2013</td>\n",
              "      <td>40670</td>\n",
              "      <td>Diesel</td>\n",
              "      <td>Automatic</td>\n",
              "      <td>2</td>\n",
              "      <td>15.2 kmpl</td>\n",
              "      <td>1968 CC</td>\n",
              "      <td>140.8 bhp</td>\n",
              "      <td>5.0</td>\n",
              "      <td>17.74</td>\n",
              "      <td>15.20</td>\n",
              "    </tr>\n",
              "  </tbody>\n",
              "</table>\n",
              "</div>"
            ],
            "text/plain": [
              "                               Name    Location  ...  Price  Mileage_flo\n",
              "0            Maruti Wagon R LXI CNG      Mumbai  ...   1.75        26.60\n",
              "1  Hyundai Creta 1.6 CRDi SX Option        Pune  ...  12.50        19.67\n",
              "2                      Honda Jazz V     Chennai  ...   4.50        18.20\n",
              "3                 Maruti Ertiga VDI     Chennai  ...   6.00        20.77\n",
              "4   Audi A4 New 2.0 TDI Multitronic  Coimbatore  ...  17.74        15.20\n",
              "\n",
              "[5 rows x 13 columns]"
            ]
          },
          "metadata": {
            "tags": []
          },
          "execution_count": 1909
        }
      ]
    },
    {
      "cell_type": "markdown",
      "metadata": {
        "id": "JqDrHiHHZLBA"
      },
      "source": [
        "変換してしまう前に外れ値がないか確認します。"
      ]
    },
    {
      "cell_type": "code",
      "metadata": {
        "colab": {
          "base_uri": "https://localhost:8080/"
        },
        "id": "4owbaaWvZLBA",
        "outputId": "23f0a6b3-2fd8-497c-c11b-40f4cfc384c9"
      },
      "source": [
        "df['Mileage_flo'].describe()"
      ],
      "execution_count": 1910,
      "outputs": [
        {
          "output_type": "execute_result",
          "data": {
            "text/plain": [
              "count    5975.000000\n",
              "mean       18.179408\n",
              "std         4.521801\n",
              "min         0.000000\n",
              "25%        15.200000\n",
              "50%        18.160000\n",
              "75%        21.100000\n",
              "max        33.540000\n",
              "Name: Mileage_flo, dtype: float64"
            ]
          },
          "metadata": {
            "tags": []
          },
          "execution_count": 1910
        }
      ]
    },
    {
      "cell_type": "markdown",
      "metadata": {
        "id": "uEf_7G81ZLBA"
      },
      "source": [
        "最小値が0になっているのが異常です。0となっている車の数を数えます。"
      ]
    },
    {
      "cell_type": "code",
      "metadata": {
        "colab": {
          "base_uri": "https://localhost:8080/"
        },
        "id": "ML13bfrdZLBB",
        "outputId": "eb93ee9f-d0b1-409a-b5d2-17b693197a4b"
      },
      "source": [
        "zero_cou=0\r\n",
        "a=[]\r\n",
        "for i in df['Mileage_flo']:\r\n",
        "  if i==0:\r\n",
        "    zero_cou+=1\r\n",
        "\r\n",
        "print(zero_cou)"
      ],
      "execution_count": 1911,
      "outputs": [
        {
          "output_type": "stream",
          "text": [
            "56\n"
          ],
          "name": "stdout"
        }
      ]
    },
    {
      "cell_type": "markdown",
      "metadata": {
        "id": "jTqvx_C0ZLBB"
      },
      "source": [
        "0の車を除いて調べます。"
      ]
    },
    {
      "cell_type": "code",
      "metadata": {
        "colab": {
          "base_uri": "https://localhost:8080/"
        },
        "id": "PBoTBErFZLBB",
        "outputId": "f0e88be0-9aa3-4ddc-811f-165ab90dbe94"
      },
      "source": [
        "df_not_m0=df[df['Mileage_flo']>0]\r\n",
        "df_not_m0['Mileage_flo'].describe()"
      ],
      "execution_count": 1912,
      "outputs": [
        {
          "output_type": "execute_result",
          "data": {
            "text/plain": [
              "count    5919.000000\n",
              "mean       18.351404\n",
              "std         4.181298\n",
              "min         6.400000\n",
              "25%        15.300000\n",
              "50%        18.200000\n",
              "75%        21.100000\n",
              "max        33.540000\n",
              "Name: Mileage_flo, dtype: float64"
            ]
          },
          "metadata": {
            "tags": []
          },
          "execution_count": 1912
        }
      ]
    },
    {
      "cell_type": "markdown",
      "metadata": {
        "id": "T-CqhOzRZLBB"
      },
      "source": [
        "'Mileage'が0となっている車を除けば異常はなさそうです。\r\n",
        "'Mileage'が0となっているのはデータが取れないほど走行距離が短い可能性などが考えられるので、その車の走行距離を調べます。"
      ]
    },
    {
      "cell_type": "code",
      "metadata": {
        "colab": {
          "base_uri": "https://localhost:8080/"
        },
        "id": "O-cJDSo8ZLBB",
        "outputId": "ced04a73-ad06-4ad2-b4af-b26138707e31"
      },
      "source": [
        "df_m0=df[df['Mileage_flo']==0]\r\n",
        "df_m0['Kilometers_Driven'].value_counts()\r\n"
      ],
      "execution_count": 1913,
      "outputs": [
        {
          "output_type": "execute_result",
          "data": {
            "text/plain": [
              "70000     4\n",
              "85000     2\n",
              "58000     2\n",
              "120000    2\n",
              "119203    1\n",
              "42021     1\n",
              "75000     1\n",
              "58163     1\n",
              "46000     1\n",
              "67000     1\n",
              "105000    1\n",
              "53000     1\n",
              "89000     1\n",
              "87591     1\n",
              "20000     1\n",
              "24720     1\n",
              "27833     1\n",
              "93000     1\n",
              "63000     1\n",
              "139000    1\n",
              "4000      1\n",
              "60170     1\n",
              "15369     1\n",
              "13190     1\n",
              "227000    1\n",
              "45500     1\n",
              "69000     1\n",
              "200000    1\n",
              "65400     1\n",
              "26000     1\n",
              "74483     1\n",
              "22769     1\n",
              "54000     1\n",
              "167000    1\n",
              "20842     1\n",
              "72000     1\n",
              "33000     1\n",
              "65000     1\n",
              "82000     1\n",
              "103000    1\n",
              "8682      1\n",
              "61449     1\n",
              "66000     1\n",
              "99000     1\n",
              "51019     1\n",
              "125000    1\n",
              "215750    1\n",
              "35268     1\n",
              "50243     1\n",
              "96000     1\n",
              "Name: Kilometers_Driven, dtype: int64"
            ]
          },
          "metadata": {
            "tags": []
          },
          "execution_count": 1913
        }
      ]
    },
    {
      "cell_type": "markdown",
      "metadata": {
        "id": "cTbUZrLLZLBC"
      },
      "source": [
        "走行距離に特に異常はなさそうなので、単純に'Mileage'を取得できなかった、つまり欠損値と見ることにします。\r\n",
        "\r\n",
        "車種によってある程度'Mileage'は定まると考えられるます。'Mileage'が0となっている車と、'Mileage'が0となっていない車の間で、共通する車種ががないかどうか調べます。"
      ]
    },
    {
      "cell_type": "code",
      "metadata": {
        "colab": {
          "base_uri": "https://localhost:8080/"
        },
        "id": "TMizEDoDZLBC",
        "outputId": "1f5c4e13-b034-4232-b8f9-35cf4206fedf"
      },
      "source": [
        "m0_name_list=df_m0['Name'].unique().tolist()\r\n",
        "print(m0_name_list)\r\n",
        "df_m0name=df_not_m0[df_not_m0['Name'].isin(a)]\r\n",
        "df_m0name.shape"
      ],
      "execution_count": 1914,
      "outputs": [
        {
          "output_type": "stream",
          "text": [
            "['Land Rover Freelander 2 TD4 SE', 'Mercedes-Benz C-Class Progressive C 220d', 'Hyundai Santro Xing XL', 'Volkswagen Jetta 2007-2011 1.9 L TDI', 'Hyundai Santro GLS I - Euro I', 'Mercedes-Benz New C-Class Progressive C 200', 'Hyundai Santro LS zipPlus', 'Hyundai Santro Xing XP', 'Mercedes-Benz M-Class ML 350 4Matic', 'Smart Fortwo CDI AT', 'Hyundai Santro Xing GL', 'Land Rover Freelander 2 TD4 S', 'Hyundai Santro GLS I - Euro II', 'Maruti Baleno Vxi', 'Hyundai Santro DX', 'Mahindra Jeep MM 550 PE', 'Toyota Qualis RS E2', 'Hyundai Santro AT', 'Skoda Superb 3.6 V6 FSI', 'Hyundai Santro GS', 'Audi A7 2011-2015 Sportback', 'Hyundai Santro GS zipDrive - Euro II', 'Fiat Siena 1.2 ELX', 'Land Rover Freelander 2 TD4 HSE', 'Hyundai Santro LP - Euro II', 'Toyota Qualis Fleet A3', 'Mahindra Jeep MM 540 DP']\n"
          ],
          "name": "stdout"
        },
        {
          "output_type": "execute_result",
          "data": {
            "text/plain": [
              "(0, 13)"
            ]
          },
          "metadata": {
            "tags": []
          },
          "execution_count": 1914
        }
      ]
    },
    {
      "cell_type": "markdown",
      "metadata": {
        "id": "G-j3tC2RZLBC"
      },
      "source": [
        "上記のdf_m0nameが0行である、つまり共通する車種は1つもないので、今回は、'Mileage'が欠損値0となっているものは埋めずに、その行ごと削除してしまいます。"
      ]
    },
    {
      "cell_type": "code",
      "metadata": {
        "id": "yEGH_10QZLBC"
      },
      "source": [
        "df=df_not_m0"
      ],
      "execution_count": 1915,
      "outputs": []
    },
    {
      "cell_type": "markdown",
      "metadata": {
        "id": "h_Bk-V2sZLBC"
      },
      "source": [
        "'Mileage_kmpd'列の値について、燃料種類ごとに、km/\\$単位の燃費に変換します。"
      ]
    },
    {
      "cell_type": "code",
      "metadata": {
        "colab": {
          "base_uri": "https://localhost:8080/",
          "height": 0
        },
        "id": "WfST8DT5ZLBC",
        "outputId": "71acdbe3-7ec6-4c1e-901a-8b77d440c11b"
      },
      "source": [
        "for i in df.index:\r\n",
        "  if df.at[i,'Fuel_Type']=='Petrol':\r\n",
        "    df.at[i,'Mileage_kmpd']=df.at[i,'Mileage_flo']/pet_dpl\r\n",
        "  elif df.at[i,'Fuel_Type']=='Diesel':\r\n",
        "    df.at[i,'Mileage_kmpd']=df.at[i,'Mileage_flo']/die_dpl\r\n",
        "  elif df.at[i,'Fuel_Type']=='CNG':\r\n",
        "    df.at[i,'Mileage_kmpd']=df.at[i,'Mileage_flo']/cng_dpkg\r\n",
        "  elif df.at[i,'Fuel_Type']=='LPG':\r\n",
        "    df.at[i,'Mileage_kmpd']=df.at[i,'Mileage_flo']/pet_dpl\r\n",
        "  else:\r\n",
        "    print(i+\"行目の車はその他の燃料を用いています!!\")\r\n",
        "\r\n",
        "df.head()"
      ],
      "execution_count": 1916,
      "outputs": [
        {
          "output_type": "execute_result",
          "data": {
            "text/html": [
              "<div>\n",
              "<style scoped>\n",
              "    .dataframe tbody tr th:only-of-type {\n",
              "        vertical-align: middle;\n",
              "    }\n",
              "\n",
              "    .dataframe tbody tr th {\n",
              "        vertical-align: top;\n",
              "    }\n",
              "\n",
              "    .dataframe thead th {\n",
              "        text-align: right;\n",
              "    }\n",
              "</style>\n",
              "<table border=\"1\" class=\"dataframe\">\n",
              "  <thead>\n",
              "    <tr style=\"text-align: right;\">\n",
              "      <th></th>\n",
              "      <th>Name</th>\n",
              "      <th>Location</th>\n",
              "      <th>Year</th>\n",
              "      <th>Kilometers_Driven</th>\n",
              "      <th>Fuel_Type</th>\n",
              "      <th>Transmission</th>\n",
              "      <th>Owner_Type</th>\n",
              "      <th>Mileage</th>\n",
              "      <th>Engine</th>\n",
              "      <th>Power</th>\n",
              "      <th>Seats</th>\n",
              "      <th>Price</th>\n",
              "      <th>Mileage_flo</th>\n",
              "      <th>Mileage_kmpd</th>\n",
              "    </tr>\n",
              "  </thead>\n",
              "  <tbody>\n",
              "    <tr>\n",
              "      <th>0</th>\n",
              "      <td>Maruti Wagon R LXI CNG</td>\n",
              "      <td>Mumbai</td>\n",
              "      <td>2010</td>\n",
              "      <td>72000</td>\n",
              "      <td>CNG</td>\n",
              "      <td>Manual</td>\n",
              "      <td>1</td>\n",
              "      <td>26.6 km/kg</td>\n",
              "      <td>998 CC</td>\n",
              "      <td>58.16 bhp</td>\n",
              "      <td>5.0</td>\n",
              "      <td>1.75</td>\n",
              "      <td>26.60</td>\n",
              "      <td>17.733333</td>\n",
              "    </tr>\n",
              "    <tr>\n",
              "      <th>1</th>\n",
              "      <td>Hyundai Creta 1.6 CRDi SX Option</td>\n",
              "      <td>Pune</td>\n",
              "      <td>2015</td>\n",
              "      <td>41000</td>\n",
              "      <td>Diesel</td>\n",
              "      <td>Manual</td>\n",
              "      <td>1</td>\n",
              "      <td>19.67 kmpl</td>\n",
              "      <td>1582 CC</td>\n",
              "      <td>126.2 bhp</td>\n",
              "      <td>5.0</td>\n",
              "      <td>12.50</td>\n",
              "      <td>19.67</td>\n",
              "      <td>21.855556</td>\n",
              "    </tr>\n",
              "    <tr>\n",
              "      <th>2</th>\n",
              "      <td>Honda Jazz V</td>\n",
              "      <td>Chennai</td>\n",
              "      <td>2011</td>\n",
              "      <td>46000</td>\n",
              "      <td>Petrol</td>\n",
              "      <td>Manual</td>\n",
              "      <td>1</td>\n",
              "      <td>18.2 kmpl</td>\n",
              "      <td>1199 CC</td>\n",
              "      <td>88.7 bhp</td>\n",
              "      <td>5.0</td>\n",
              "      <td>4.50</td>\n",
              "      <td>18.20</td>\n",
              "      <td>18.200000</td>\n",
              "    </tr>\n",
              "    <tr>\n",
              "      <th>3</th>\n",
              "      <td>Maruti Ertiga VDI</td>\n",
              "      <td>Chennai</td>\n",
              "      <td>2012</td>\n",
              "      <td>87000</td>\n",
              "      <td>Diesel</td>\n",
              "      <td>Manual</td>\n",
              "      <td>1</td>\n",
              "      <td>20.77 kmpl</td>\n",
              "      <td>1248 CC</td>\n",
              "      <td>88.76 bhp</td>\n",
              "      <td>7.0</td>\n",
              "      <td>6.00</td>\n",
              "      <td>20.77</td>\n",
              "      <td>23.077778</td>\n",
              "    </tr>\n",
              "    <tr>\n",
              "      <th>4</th>\n",
              "      <td>Audi A4 New 2.0 TDI Multitronic</td>\n",
              "      <td>Coimbatore</td>\n",
              "      <td>2013</td>\n",
              "      <td>40670</td>\n",
              "      <td>Diesel</td>\n",
              "      <td>Automatic</td>\n",
              "      <td>2</td>\n",
              "      <td>15.2 kmpl</td>\n",
              "      <td>1968 CC</td>\n",
              "      <td>140.8 bhp</td>\n",
              "      <td>5.0</td>\n",
              "      <td>17.74</td>\n",
              "      <td>15.20</td>\n",
              "      <td>16.888889</td>\n",
              "    </tr>\n",
              "  </tbody>\n",
              "</table>\n",
              "</div>"
            ],
            "text/plain": [
              "                               Name    Location  ...  Mileage_flo  Mileage_kmpd\n",
              "0            Maruti Wagon R LXI CNG      Mumbai  ...        26.60     17.733333\n",
              "1  Hyundai Creta 1.6 CRDi SX Option        Pune  ...        19.67     21.855556\n",
              "2                      Honda Jazz V     Chennai  ...        18.20     18.200000\n",
              "3                 Maruti Ertiga VDI     Chennai  ...        20.77     23.077778\n",
              "4   Audi A4 New 2.0 TDI Multitronic  Coimbatore  ...        15.20     16.888889\n",
              "\n",
              "[5 rows x 14 columns]"
            ]
          },
          "metadata": {
            "tags": []
          },
          "execution_count": 1916
        }
      ]
    },
    {
      "cell_type": "markdown",
      "metadata": {
        "id": "teGjLo6HZLBD"
      },
      "source": [
        "'Mileage_kmpd'列が正しく追加できているのが確認できます。\r\n",
        "不要になった'Mileage'と'Mileage_flo'を削除します。"
      ]
    },
    {
      "cell_type": "code",
      "metadata": {
        "id": "NDJLP9vWZLBD"
      },
      "source": [
        "df=df.drop(columns=['Mileage','Mileage_flo'])"
      ],
      "execution_count": 1917,
      "outputs": []
    },
    {
      "cell_type": "markdown",
      "metadata": {
        "id": "x-wRt0vqZLBD"
      },
      "source": [
        "####'Engine'について"
      ]
    },
    {
      "cell_type": "markdown",
      "metadata": {
        "id": "T43SiE-3ZLBD"
      },
      "source": [
        "単位が統一されているか確認します。"
      ]
    },
    {
      "cell_type": "code",
      "metadata": {
        "colab": {
          "base_uri": "https://localhost:8080/"
        },
        "id": "VE-BAzfjZLBD",
        "outputId": "b91a2f50-f00c-4fc8-a901-85b3ca734495"
      },
      "source": [
        "cc=0\r\n",
        "other_en=0\r\n",
        "for i in df['Engine']:\r\n",
        "    if str(i).endswith(\" CC\"):\r\n",
        "      cc+=1\r\n",
        "    else:\r\n",
        "      other_en+=1\r\n",
        "\r\n",
        "print(\"bhpで書かれたデータは\",cc,\"コ\")\r\n",
        "print(\"それ以外の単位で書かれたデータは\",other_en,\"コ\")"
      ],
      "execution_count": 1918,
      "outputs": [
        {
          "output_type": "stream",
          "text": [
            "bhpで書かれたデータは 5919 コ\n",
            "それ以外の単位で書かれたデータは 0 コ\n"
          ],
          "name": "stdout"
        }
      ]
    },
    {
      "cell_type": "markdown",
      "metadata": {
        "id": "G0qsJkVOZLBE"
      },
      "source": [
        "単位はccのみで書かれているので、そのまま単位のみ切り落とします。"
      ]
    },
    {
      "cell_type": "code",
      "metadata": {
        "colab": {
          "base_uri": "https://localhost:8080/",
          "height": 0
        },
        "id": "yu4y_z5iZLBE",
        "outputId": "f361f63e-12ca-4bc5-8715-5aabb846f9d5"
      },
      "source": [
        "df['Engine'] = df['Engine'].str.replace(' CC','')\r\n",
        "df['Engine'] = df['Engine'].astype(float)\r\n",
        "df.head()"
      ],
      "execution_count": 1919,
      "outputs": [
        {
          "output_type": "execute_result",
          "data": {
            "text/html": [
              "<div>\n",
              "<style scoped>\n",
              "    .dataframe tbody tr th:only-of-type {\n",
              "        vertical-align: middle;\n",
              "    }\n",
              "\n",
              "    .dataframe tbody tr th {\n",
              "        vertical-align: top;\n",
              "    }\n",
              "\n",
              "    .dataframe thead th {\n",
              "        text-align: right;\n",
              "    }\n",
              "</style>\n",
              "<table border=\"1\" class=\"dataframe\">\n",
              "  <thead>\n",
              "    <tr style=\"text-align: right;\">\n",
              "      <th></th>\n",
              "      <th>Name</th>\n",
              "      <th>Location</th>\n",
              "      <th>Year</th>\n",
              "      <th>Kilometers_Driven</th>\n",
              "      <th>Fuel_Type</th>\n",
              "      <th>Transmission</th>\n",
              "      <th>Owner_Type</th>\n",
              "      <th>Engine</th>\n",
              "      <th>Power</th>\n",
              "      <th>Seats</th>\n",
              "      <th>Price</th>\n",
              "      <th>Mileage_kmpd</th>\n",
              "    </tr>\n",
              "  </thead>\n",
              "  <tbody>\n",
              "    <tr>\n",
              "      <th>0</th>\n",
              "      <td>Maruti Wagon R LXI CNG</td>\n",
              "      <td>Mumbai</td>\n",
              "      <td>2010</td>\n",
              "      <td>72000</td>\n",
              "      <td>CNG</td>\n",
              "      <td>Manual</td>\n",
              "      <td>1</td>\n",
              "      <td>998.0</td>\n",
              "      <td>58.16 bhp</td>\n",
              "      <td>5.0</td>\n",
              "      <td>1.75</td>\n",
              "      <td>17.733333</td>\n",
              "    </tr>\n",
              "    <tr>\n",
              "      <th>1</th>\n",
              "      <td>Hyundai Creta 1.6 CRDi SX Option</td>\n",
              "      <td>Pune</td>\n",
              "      <td>2015</td>\n",
              "      <td>41000</td>\n",
              "      <td>Diesel</td>\n",
              "      <td>Manual</td>\n",
              "      <td>1</td>\n",
              "      <td>1582.0</td>\n",
              "      <td>126.2 bhp</td>\n",
              "      <td>5.0</td>\n",
              "      <td>12.50</td>\n",
              "      <td>21.855556</td>\n",
              "    </tr>\n",
              "    <tr>\n",
              "      <th>2</th>\n",
              "      <td>Honda Jazz V</td>\n",
              "      <td>Chennai</td>\n",
              "      <td>2011</td>\n",
              "      <td>46000</td>\n",
              "      <td>Petrol</td>\n",
              "      <td>Manual</td>\n",
              "      <td>1</td>\n",
              "      <td>1199.0</td>\n",
              "      <td>88.7 bhp</td>\n",
              "      <td>5.0</td>\n",
              "      <td>4.50</td>\n",
              "      <td>18.200000</td>\n",
              "    </tr>\n",
              "    <tr>\n",
              "      <th>3</th>\n",
              "      <td>Maruti Ertiga VDI</td>\n",
              "      <td>Chennai</td>\n",
              "      <td>2012</td>\n",
              "      <td>87000</td>\n",
              "      <td>Diesel</td>\n",
              "      <td>Manual</td>\n",
              "      <td>1</td>\n",
              "      <td>1248.0</td>\n",
              "      <td>88.76 bhp</td>\n",
              "      <td>7.0</td>\n",
              "      <td>6.00</td>\n",
              "      <td>23.077778</td>\n",
              "    </tr>\n",
              "    <tr>\n",
              "      <th>4</th>\n",
              "      <td>Audi A4 New 2.0 TDI Multitronic</td>\n",
              "      <td>Coimbatore</td>\n",
              "      <td>2013</td>\n",
              "      <td>40670</td>\n",
              "      <td>Diesel</td>\n",
              "      <td>Automatic</td>\n",
              "      <td>2</td>\n",
              "      <td>1968.0</td>\n",
              "      <td>140.8 bhp</td>\n",
              "      <td>5.0</td>\n",
              "      <td>17.74</td>\n",
              "      <td>16.888889</td>\n",
              "    </tr>\n",
              "  </tbody>\n",
              "</table>\n",
              "</div>"
            ],
            "text/plain": [
              "                               Name    Location  ...  Price  Mileage_kmpd\n",
              "0            Maruti Wagon R LXI CNG      Mumbai  ...   1.75     17.733333\n",
              "1  Hyundai Creta 1.6 CRDi SX Option        Pune  ...  12.50     21.855556\n",
              "2                      Honda Jazz V     Chennai  ...   4.50     18.200000\n",
              "3                 Maruti Ertiga VDI     Chennai  ...   6.00     23.077778\n",
              "4   Audi A4 New 2.0 TDI Multitronic  Coimbatore  ...  17.74     16.888889\n",
              "\n",
              "[5 rows x 12 columns]"
            ]
          },
          "metadata": {
            "tags": []
          },
          "execution_count": 1919
        }
      ]
    },
    {
      "cell_type": "markdown",
      "metadata": {
        "id": "prmlSD-0ZLBE"
      },
      "source": [
        "####'Power'について"
      ]
    },
    {
      "cell_type": "markdown",
      "metadata": {
        "id": "44buCoD7ZLBF"
      },
      "source": [
        "欠損値の削除の際には欠損値として検出されませんでしたが、'Power'の値がnull bhpとなっているところが確認できます。また、単位も統一されているかどうか確認します。"
      ]
    },
    {
      "cell_type": "code",
      "metadata": {
        "colab": {
          "base_uri": "https://localhost:8080/"
        },
        "id": "-c5AJ_K0ZLBF",
        "outputId": "78ec9dee-0b09-4360-e309-eed3d003f8c1"
      },
      "source": [
        "null_bhp=0\r\n",
        "bhp=0\r\n",
        "other_po=0\r\n",
        "for i in df['Power']:\r\n",
        "  if str(i)==\"null bhp\":\r\n",
        "    null_bhp+=1\r\n",
        "  elif str(i).endswith(\" bhp\"):\r\n",
        "      bhp+=1\r\n",
        "  else:\r\n",
        "      other_po+=1\r\n",
        "\r\n",
        "print(\"null bhpは\",null_bhp,\"コ\")\r\n",
        "print(\"bhpで書かれたデータは\",bhp,\"コ\")\r\n",
        "print(\"それ以外の単位で書かれたデータは\",other_po,\"コ\")"
      ],
      "execution_count": 1920,
      "outputs": [
        {
          "output_type": "stream",
          "text": [
            "null bhpは 75 コ\n",
            "bhpで書かれたデータは 5844 コ\n",
            "それ以外の単位で書かれたデータは 0 コ\n"
          ],
          "name": "stdout"
        }
      ]
    },
    {
      "cell_type": "markdown",
      "metadata": {
        "id": "N_1XC1O9ZLBF"
      },
      "source": [
        "単位はbhpのみで書かれているので、そのまま単位を切り落とします。\r\n",
        "\r\n",
        "ちなみに、1bhp(英馬力)=1.013PS(仏馬力)=745W=641kcal/h"
      ]
    },
    {
      "cell_type": "code",
      "metadata": {
        "colab": {
          "base_uri": "https://localhost:8080/",
          "height": 0
        },
        "id": "tCCdtvjJZLBF",
        "outputId": "b5438221-307b-4854-af05-621e4e51c04d"
      },
      "source": [
        "df['Power'] = df['Power'].str.replace(' bhp','')\r\n",
        "df.head()"
      ],
      "execution_count": 1921,
      "outputs": [
        {
          "output_type": "execute_result",
          "data": {
            "text/html": [
              "<div>\n",
              "<style scoped>\n",
              "    .dataframe tbody tr th:only-of-type {\n",
              "        vertical-align: middle;\n",
              "    }\n",
              "\n",
              "    .dataframe tbody tr th {\n",
              "        vertical-align: top;\n",
              "    }\n",
              "\n",
              "    .dataframe thead th {\n",
              "        text-align: right;\n",
              "    }\n",
              "</style>\n",
              "<table border=\"1\" class=\"dataframe\">\n",
              "  <thead>\n",
              "    <tr style=\"text-align: right;\">\n",
              "      <th></th>\n",
              "      <th>Name</th>\n",
              "      <th>Location</th>\n",
              "      <th>Year</th>\n",
              "      <th>Kilometers_Driven</th>\n",
              "      <th>Fuel_Type</th>\n",
              "      <th>Transmission</th>\n",
              "      <th>Owner_Type</th>\n",
              "      <th>Engine</th>\n",
              "      <th>Power</th>\n",
              "      <th>Seats</th>\n",
              "      <th>Price</th>\n",
              "      <th>Mileage_kmpd</th>\n",
              "    </tr>\n",
              "  </thead>\n",
              "  <tbody>\n",
              "    <tr>\n",
              "      <th>0</th>\n",
              "      <td>Maruti Wagon R LXI CNG</td>\n",
              "      <td>Mumbai</td>\n",
              "      <td>2010</td>\n",
              "      <td>72000</td>\n",
              "      <td>CNG</td>\n",
              "      <td>Manual</td>\n",
              "      <td>1</td>\n",
              "      <td>998.0</td>\n",
              "      <td>58.16</td>\n",
              "      <td>5.0</td>\n",
              "      <td>1.75</td>\n",
              "      <td>17.733333</td>\n",
              "    </tr>\n",
              "    <tr>\n",
              "      <th>1</th>\n",
              "      <td>Hyundai Creta 1.6 CRDi SX Option</td>\n",
              "      <td>Pune</td>\n",
              "      <td>2015</td>\n",
              "      <td>41000</td>\n",
              "      <td>Diesel</td>\n",
              "      <td>Manual</td>\n",
              "      <td>1</td>\n",
              "      <td>1582.0</td>\n",
              "      <td>126.2</td>\n",
              "      <td>5.0</td>\n",
              "      <td>12.50</td>\n",
              "      <td>21.855556</td>\n",
              "    </tr>\n",
              "    <tr>\n",
              "      <th>2</th>\n",
              "      <td>Honda Jazz V</td>\n",
              "      <td>Chennai</td>\n",
              "      <td>2011</td>\n",
              "      <td>46000</td>\n",
              "      <td>Petrol</td>\n",
              "      <td>Manual</td>\n",
              "      <td>1</td>\n",
              "      <td>1199.0</td>\n",
              "      <td>88.7</td>\n",
              "      <td>5.0</td>\n",
              "      <td>4.50</td>\n",
              "      <td>18.200000</td>\n",
              "    </tr>\n",
              "    <tr>\n",
              "      <th>3</th>\n",
              "      <td>Maruti Ertiga VDI</td>\n",
              "      <td>Chennai</td>\n",
              "      <td>2012</td>\n",
              "      <td>87000</td>\n",
              "      <td>Diesel</td>\n",
              "      <td>Manual</td>\n",
              "      <td>1</td>\n",
              "      <td>1248.0</td>\n",
              "      <td>88.76</td>\n",
              "      <td>7.0</td>\n",
              "      <td>6.00</td>\n",
              "      <td>23.077778</td>\n",
              "    </tr>\n",
              "    <tr>\n",
              "      <th>4</th>\n",
              "      <td>Audi A4 New 2.0 TDI Multitronic</td>\n",
              "      <td>Coimbatore</td>\n",
              "      <td>2013</td>\n",
              "      <td>40670</td>\n",
              "      <td>Diesel</td>\n",
              "      <td>Automatic</td>\n",
              "      <td>2</td>\n",
              "      <td>1968.0</td>\n",
              "      <td>140.8</td>\n",
              "      <td>5.0</td>\n",
              "      <td>17.74</td>\n",
              "      <td>16.888889</td>\n",
              "    </tr>\n",
              "  </tbody>\n",
              "</table>\n",
              "</div>"
            ],
            "text/plain": [
              "                               Name    Location  ...  Price  Mileage_kmpd\n",
              "0            Maruti Wagon R LXI CNG      Mumbai  ...   1.75     17.733333\n",
              "1  Hyundai Creta 1.6 CRDi SX Option        Pune  ...  12.50     21.855556\n",
              "2                      Honda Jazz V     Chennai  ...   4.50     18.200000\n",
              "3                 Maruti Ertiga VDI     Chennai  ...   6.00     23.077778\n",
              "4   Audi A4 New 2.0 TDI Multitronic  Coimbatore  ...  17.74     16.888889\n",
              "\n",
              "[5 rows x 12 columns]"
            ]
          },
          "metadata": {
            "tags": []
          },
          "execution_count": 1921
        }
      ]
    },
    {
      "cell_type": "markdown",
      "metadata": {
        "id": "lRnnn5PtZLBF"
      },
      "source": [
        "#####null bhpの扱い"
      ]
    },
    {
      "cell_type": "markdown",
      "metadata": {
        "id": "Q2hNT69TZLBG"
      },
      "source": [
        "馬力は車種によってある程度定まると考えられるので、nullとなっている車の車種を調べます。"
      ]
    },
    {
      "cell_type": "code",
      "metadata": {
        "colab": {
          "base_uri": "https://localhost:8080/"
        },
        "id": "eCJiUhA4ZLBG",
        "outputId": "706c4fbf-996e-4e42-84df-29bf6c6d1b61"
      },
      "source": [
        "df_nullbhp=df[df['Power']==\"null\"]\r\n",
        "print(df_nullbhp['Name'].value_counts())"
      ],
      "execution_count": 1922,
      "outputs": [
        {
          "output_type": "stream",
          "text": [
            "Maruti Swift VDI BSIV                      11\n",
            "Hyundai Santro Xing XL eRLX Euro III        7\n",
            "Toyota Etios GD                             6\n",
            "Hyundai Santro Xing XO eRLX Euro II         5\n",
            "Hyundai Santro Xing XO                      5\n",
            "Maruti Swift VDI BSIV W ABS                 5\n",
            "Toyota Etios Liva GD                        5\n",
            "Tata Indica DLS                             3\n",
            "Mercedes-Benz E-Class 220 CDI               2\n",
            "Hyundai Santro Xing XG eRLX Euro III        2\n",
            "Toyota Etios Liva G                         2\n",
            "Ford Fiesta 1.4 SXi TDCi                    2\n",
            "Maruti Esteem Vxi                           2\n",
            "Ford Endeavour XLT TDCi 4X4                 1\n",
            "Honda CR-V Sport                            1\n",
            "Maruti Esteem LX BSII                       1\n",
            "Nissan Micra Diesel                         1\n",
            "Hyundai Santro Xing XO CNG                  1\n",
            "Audi A4 3.2 FSI Tiptronic Quattro           1\n",
            "Hyundai Santro Xing XL AT eRLX Euro III     1\n",
            "Nissan Teana 230jM                          1\n",
            "Skoda Laura Classic 1.8 TSI                 1\n",
            "Porsche Cayman 2009-2012 S                  1\n",
            "Maruti 1000 AC                              1\n",
            "Mahindra Bolero ZLX                         1\n",
            "Fiat Petra 1.2 EL                           1\n",
            "Chevrolet Optra 1.6 Elite                   1\n",
            "Ford Fiesta 1.6 SXI ABS Duratec             1\n",
            "Hyundai Santro Xing XL AT eRLX Euro II      1\n",
            "Maruti Baleno LXI - BSIII                   1\n",
            "Porsche Cayman 2009-2012 S tiptronic        1\n",
            "Name: Name, dtype: int64\n"
          ],
          "name": "stdout"
        }
      ]
    },
    {
      "cell_type": "markdown",
      "metadata": {
        "id": "pa1lJm2pZLBG"
      },
      "source": [
        "このようにnullの多い車種もあるようです。\r\n",
        "\r\n",
        "nullを最も多くもつ車種Maruti Swift VDI BSIVを例にとって、その車種全体での'Power'の値を見てみましょう。"
      ]
    },
    {
      "cell_type": "code",
      "metadata": {
        "colab": {
          "base_uri": "https://localhost:8080/"
        },
        "id": "TnjcdG7zZLBG",
        "outputId": "817da628-f136-4ed1-c51c-b0cf13f83051"
      },
      "source": [
        "df[df['Name']==\"Maruti Swift VDI BSIV\"]['Power'].value_counts()"
      ],
      "execution_count": 1923,
      "outputs": [
        {
          "output_type": "execute_result",
          "data": {
            "text/plain": [
              "74      20\n",
              "null    11\n",
              "Name: Power, dtype: int64"
            ]
          },
          "metadata": {
            "tags": []
          },
          "execution_count": 1923
        }
      ]
    },
    {
      "cell_type": "markdown",
      "metadata": {
        "id": "4GdXc91bZLBG"
      },
      "source": [
        "上記の例のように、同じ車種の中でも'Power'が入力されている行と欠損している行があります。\r\n",
        "\r\n",
        "各車種でnullでない'Power'の平均値を取って埋め,\r\n",
        "それによって埋まらないときはその行自体を削除しようと思います。"
      ]
    },
    {
      "cell_type": "markdown",
      "metadata": {
        "id": "W0ICoS_5ZLBG"
      },
      "source": [
        "まず、　'Power'がnullである車の'Name'の配列、'Power、'Name''、データフレーム　を引数に渡せば、\r\n",
        "\r\n",
        "車を車種ごとに分けてnull埋めに使う各平均値を算出し、nullを埋めてくれる関数を作ります。"
      ]
    },
    {
      "cell_type": "code",
      "metadata": {
        "id": "XJdb6TkyZLBH"
      },
      "source": [
        "def fill_null(name_array,df,colnull='Power',colname='Name'):\r\n",
        "\r\n",
        "  for na in name_array:\r\n",
        "    po_seri_each = df[(df[colname]==na) & (df[colnull]!=\"null\")][colnull]  #'Power'がnullである車と車種が共通するが、'Power'がnullでない車たちの'Power'の値の配列\r\n",
        "    po_seri_each = po_seri_each.astype(float)\r\n",
        "\r\n",
        "    if len(po_seri_each)>0:  #「'Power'がnullである車と車種が共通するが、'Power'がnullでない車」が存在するとき\r\n",
        "      ave = po_seri_each.mean()  #null埋めに用いる平均値\r\n",
        "      null_index = df[(df[colname]==na) & (df[colnull]==\"null\")].index  #今回の車種で、'Power'がnullである車たちの行番号\r\n",
        "\r\n",
        "      for i in null_index:\r\n",
        "        df.at[i,colnull]=ave  #aveでnullを埋める作業\r\n",
        "\r\n",
        "  return df"
      ],
      "execution_count": 1924,
      "outputs": []
    },
    {
      "cell_type": "markdown",
      "metadata": {
        "id": "ZGX4iNULZLBH"
      },
      "source": [
        "'Power'がnullである車の'Name'の配列　を作ります。"
      ]
    },
    {
      "cell_type": "code",
      "metadata": {
        "id": "ONP9ERUyZLBH"
      },
      "source": [
        "ponull_name_array=df_nullbhp['Name'].unique()"
      ],
      "execution_count": 1925,
      "outputs": []
    },
    {
      "cell_type": "markdown",
      "metadata": {
        "id": "re_78c78ZLBH"
      },
      "source": [
        "関数を呼び出し、null埋めを実行します。"
      ]
    },
    {
      "cell_type": "code",
      "metadata": {
        "colab": {
          "base_uri": "https://localhost:8080/",
          "height": 0
        },
        "id": "_WfAesuxZLBH",
        "outputId": "d89b5d67-2e62-4455-dcb3-c2357317dd38"
      },
      "source": [
        "df=fill_null(ponull_name_array,df)\r\n",
        "df.head()"
      ],
      "execution_count": 1926,
      "outputs": [
        {
          "output_type": "execute_result",
          "data": {
            "text/html": [
              "<div>\n",
              "<style scoped>\n",
              "    .dataframe tbody tr th:only-of-type {\n",
              "        vertical-align: middle;\n",
              "    }\n",
              "\n",
              "    .dataframe tbody tr th {\n",
              "        vertical-align: top;\n",
              "    }\n",
              "\n",
              "    .dataframe thead th {\n",
              "        text-align: right;\n",
              "    }\n",
              "</style>\n",
              "<table border=\"1\" class=\"dataframe\">\n",
              "  <thead>\n",
              "    <tr style=\"text-align: right;\">\n",
              "      <th></th>\n",
              "      <th>Name</th>\n",
              "      <th>Location</th>\n",
              "      <th>Year</th>\n",
              "      <th>Kilometers_Driven</th>\n",
              "      <th>Fuel_Type</th>\n",
              "      <th>Transmission</th>\n",
              "      <th>Owner_Type</th>\n",
              "      <th>Engine</th>\n",
              "      <th>Power</th>\n",
              "      <th>Seats</th>\n",
              "      <th>Price</th>\n",
              "      <th>Mileage_kmpd</th>\n",
              "    </tr>\n",
              "  </thead>\n",
              "  <tbody>\n",
              "    <tr>\n",
              "      <th>0</th>\n",
              "      <td>Maruti Wagon R LXI CNG</td>\n",
              "      <td>Mumbai</td>\n",
              "      <td>2010</td>\n",
              "      <td>72000</td>\n",
              "      <td>CNG</td>\n",
              "      <td>Manual</td>\n",
              "      <td>1</td>\n",
              "      <td>998.0</td>\n",
              "      <td>58.16</td>\n",
              "      <td>5.0</td>\n",
              "      <td>1.75</td>\n",
              "      <td>17.733333</td>\n",
              "    </tr>\n",
              "    <tr>\n",
              "      <th>1</th>\n",
              "      <td>Hyundai Creta 1.6 CRDi SX Option</td>\n",
              "      <td>Pune</td>\n",
              "      <td>2015</td>\n",
              "      <td>41000</td>\n",
              "      <td>Diesel</td>\n",
              "      <td>Manual</td>\n",
              "      <td>1</td>\n",
              "      <td>1582.0</td>\n",
              "      <td>126.2</td>\n",
              "      <td>5.0</td>\n",
              "      <td>12.50</td>\n",
              "      <td>21.855556</td>\n",
              "    </tr>\n",
              "    <tr>\n",
              "      <th>2</th>\n",
              "      <td>Honda Jazz V</td>\n",
              "      <td>Chennai</td>\n",
              "      <td>2011</td>\n",
              "      <td>46000</td>\n",
              "      <td>Petrol</td>\n",
              "      <td>Manual</td>\n",
              "      <td>1</td>\n",
              "      <td>1199.0</td>\n",
              "      <td>88.7</td>\n",
              "      <td>5.0</td>\n",
              "      <td>4.50</td>\n",
              "      <td>18.200000</td>\n",
              "    </tr>\n",
              "    <tr>\n",
              "      <th>3</th>\n",
              "      <td>Maruti Ertiga VDI</td>\n",
              "      <td>Chennai</td>\n",
              "      <td>2012</td>\n",
              "      <td>87000</td>\n",
              "      <td>Diesel</td>\n",
              "      <td>Manual</td>\n",
              "      <td>1</td>\n",
              "      <td>1248.0</td>\n",
              "      <td>88.76</td>\n",
              "      <td>7.0</td>\n",
              "      <td>6.00</td>\n",
              "      <td>23.077778</td>\n",
              "    </tr>\n",
              "    <tr>\n",
              "      <th>4</th>\n",
              "      <td>Audi A4 New 2.0 TDI Multitronic</td>\n",
              "      <td>Coimbatore</td>\n",
              "      <td>2013</td>\n",
              "      <td>40670</td>\n",
              "      <td>Diesel</td>\n",
              "      <td>Automatic</td>\n",
              "      <td>2</td>\n",
              "      <td>1968.0</td>\n",
              "      <td>140.8</td>\n",
              "      <td>5.0</td>\n",
              "      <td>17.74</td>\n",
              "      <td>16.888889</td>\n",
              "    </tr>\n",
              "  </tbody>\n",
              "</table>\n",
              "</div>"
            ],
            "text/plain": [
              "                               Name    Location  ...  Price  Mileage_kmpd\n",
              "0            Maruti Wagon R LXI CNG      Mumbai  ...   1.75     17.733333\n",
              "1  Hyundai Creta 1.6 CRDi SX Option        Pune  ...  12.50     21.855556\n",
              "2                      Honda Jazz V     Chennai  ...   4.50     18.200000\n",
              "3                 Maruti Ertiga VDI     Chennai  ...   6.00     23.077778\n",
              "4   Audi A4 New 2.0 TDI Multitronic  Coimbatore  ...  17.74     16.888889\n",
              "\n",
              "[5 rows x 12 columns]"
            ]
          },
          "metadata": {
            "tags": []
          },
          "execution_count": 1926
        }
      ]
    },
    {
      "cell_type": "markdown",
      "metadata": {
        "id": "REbdVuF9ZLBI"
      },
      "source": [
        "残ったnullを確認します。"
      ]
    },
    {
      "cell_type": "code",
      "metadata": {
        "colab": {
          "base_uri": "https://localhost:8080/"
        },
        "id": "5NhikWKCZLBI",
        "outputId": "ef9449ce-390d-4896-9ee2-729ee00fdab2"
      },
      "source": [
        "df_null=df[df['Power']==\"null\"]\r\n",
        "print(\"残ったnullの数は\",df_null.shape[0],\"コ\")\r\n",
        "print(\"---------------------------------------------------------\")\r\n",
        "print(df_null['Name'].value_counts())"
      ],
      "execution_count": 1927,
      "outputs": [
        {
          "output_type": "stream",
          "text": [
            "残ったnullの数は 50 コ\n",
            "---------------------------------------------------------\n",
            "Hyundai Santro Xing XL eRLX Euro III       7\n",
            "Hyundai Santro Xing XO eRLX Euro II        5\n",
            "Hyundai Santro Xing XO                     5\n",
            "Maruti Swift VDI BSIV W ABS                5\n",
            "Tata Indica DLS                            3\n",
            "Mercedes-Benz E-Class 220 CDI              2\n",
            "Hyundai Santro Xing XG eRLX Euro III       2\n",
            "Ford Fiesta 1.4 SXi TDCi                   2\n",
            "Maruti Esteem Vxi                          2\n",
            "Honda CR-V Sport                           1\n",
            "Hyundai Santro Xing XO CNG                 1\n",
            "Ford Endeavour XLT TDCi 4X4                1\n",
            "Maruti Esteem LX BSII                      1\n",
            "Nissan Micra Diesel                        1\n",
            "Audi A4 3.2 FSI Tiptronic Quattro          1\n",
            "Hyundai Santro Xing XL AT eRLX Euro III    1\n",
            "Maruti 1000 AC                             1\n",
            "Porsche Cayman 2009-2012 S                 1\n",
            "Skoda Laura Classic 1.8 TSI                1\n",
            "Maruti Baleno LXI - BSIII                  1\n",
            "Porsche Cayman 2009-2012 S tiptronic       1\n",
            "Fiat Petra 1.2 EL                          1\n",
            "Chevrolet Optra 1.6 Elite                  1\n",
            "Ford Fiesta 1.6 SXI ABS Duratec            1\n",
            "Hyundai Santro Xing XL AT eRLX Euro II     1\n",
            "Nissan Teana 230jM                         1\n",
            "Name: Name, dtype: int64\n"
          ],
          "name": "stdout"
        }
      ]
    },
    {
      "cell_type": "markdown",
      "metadata": {
        "id": "kd8_jrbmZLBI"
      },
      "source": [
        "割と残ってしまいましたが、今回はこのままnullを埋められなかった行を削除します。"
      ]
    },
    {
      "cell_type": "code",
      "metadata": {
        "id": "hZYHmvPcZLBI"
      },
      "source": [
        "df=df[df['Power']!=\"null\"]"
      ],
      "execution_count": 1928,
      "outputs": []
    },
    {
      "cell_type": "markdown",
      "metadata": {
        "id": "2xi61ifsZLBI"
      },
      "source": [
        "#####'Power'の値を浮動小数点型に変換します。"
      ]
    },
    {
      "cell_type": "code",
      "metadata": {
        "colab": {
          "base_uri": "https://localhost:8080/",
          "height": 0
        },
        "id": "pD84br5yZLBI",
        "outputId": "ad5c65c6-e45f-4329-aa00-fdc9a64326a9"
      },
      "source": [
        "df['Power'] = df['Power'].astype(float)\r\n",
        "df.head()"
      ],
      "execution_count": 1929,
      "outputs": [
        {
          "output_type": "execute_result",
          "data": {
            "text/html": [
              "<div>\n",
              "<style scoped>\n",
              "    .dataframe tbody tr th:only-of-type {\n",
              "        vertical-align: middle;\n",
              "    }\n",
              "\n",
              "    .dataframe tbody tr th {\n",
              "        vertical-align: top;\n",
              "    }\n",
              "\n",
              "    .dataframe thead th {\n",
              "        text-align: right;\n",
              "    }\n",
              "</style>\n",
              "<table border=\"1\" class=\"dataframe\">\n",
              "  <thead>\n",
              "    <tr style=\"text-align: right;\">\n",
              "      <th></th>\n",
              "      <th>Name</th>\n",
              "      <th>Location</th>\n",
              "      <th>Year</th>\n",
              "      <th>Kilometers_Driven</th>\n",
              "      <th>Fuel_Type</th>\n",
              "      <th>Transmission</th>\n",
              "      <th>Owner_Type</th>\n",
              "      <th>Engine</th>\n",
              "      <th>Power</th>\n",
              "      <th>Seats</th>\n",
              "      <th>Price</th>\n",
              "      <th>Mileage_kmpd</th>\n",
              "    </tr>\n",
              "  </thead>\n",
              "  <tbody>\n",
              "    <tr>\n",
              "      <th>0</th>\n",
              "      <td>Maruti Wagon R LXI CNG</td>\n",
              "      <td>Mumbai</td>\n",
              "      <td>2010</td>\n",
              "      <td>72000</td>\n",
              "      <td>CNG</td>\n",
              "      <td>Manual</td>\n",
              "      <td>1</td>\n",
              "      <td>998.0</td>\n",
              "      <td>58.16</td>\n",
              "      <td>5.0</td>\n",
              "      <td>1.75</td>\n",
              "      <td>17.733333</td>\n",
              "    </tr>\n",
              "    <tr>\n",
              "      <th>1</th>\n",
              "      <td>Hyundai Creta 1.6 CRDi SX Option</td>\n",
              "      <td>Pune</td>\n",
              "      <td>2015</td>\n",
              "      <td>41000</td>\n",
              "      <td>Diesel</td>\n",
              "      <td>Manual</td>\n",
              "      <td>1</td>\n",
              "      <td>1582.0</td>\n",
              "      <td>126.20</td>\n",
              "      <td>5.0</td>\n",
              "      <td>12.50</td>\n",
              "      <td>21.855556</td>\n",
              "    </tr>\n",
              "    <tr>\n",
              "      <th>2</th>\n",
              "      <td>Honda Jazz V</td>\n",
              "      <td>Chennai</td>\n",
              "      <td>2011</td>\n",
              "      <td>46000</td>\n",
              "      <td>Petrol</td>\n",
              "      <td>Manual</td>\n",
              "      <td>1</td>\n",
              "      <td>1199.0</td>\n",
              "      <td>88.70</td>\n",
              "      <td>5.0</td>\n",
              "      <td>4.50</td>\n",
              "      <td>18.200000</td>\n",
              "    </tr>\n",
              "    <tr>\n",
              "      <th>3</th>\n",
              "      <td>Maruti Ertiga VDI</td>\n",
              "      <td>Chennai</td>\n",
              "      <td>2012</td>\n",
              "      <td>87000</td>\n",
              "      <td>Diesel</td>\n",
              "      <td>Manual</td>\n",
              "      <td>1</td>\n",
              "      <td>1248.0</td>\n",
              "      <td>88.76</td>\n",
              "      <td>7.0</td>\n",
              "      <td>6.00</td>\n",
              "      <td>23.077778</td>\n",
              "    </tr>\n",
              "    <tr>\n",
              "      <th>4</th>\n",
              "      <td>Audi A4 New 2.0 TDI Multitronic</td>\n",
              "      <td>Coimbatore</td>\n",
              "      <td>2013</td>\n",
              "      <td>40670</td>\n",
              "      <td>Diesel</td>\n",
              "      <td>Automatic</td>\n",
              "      <td>2</td>\n",
              "      <td>1968.0</td>\n",
              "      <td>140.80</td>\n",
              "      <td>5.0</td>\n",
              "      <td>17.74</td>\n",
              "      <td>16.888889</td>\n",
              "    </tr>\n",
              "  </tbody>\n",
              "</table>\n",
              "</div>"
            ],
            "text/plain": [
              "                               Name    Location  ...  Price  Mileage_kmpd\n",
              "0            Maruti Wagon R LXI CNG      Mumbai  ...   1.75     17.733333\n",
              "1  Hyundai Creta 1.6 CRDi SX Option        Pune  ...  12.50     21.855556\n",
              "2                      Honda Jazz V     Chennai  ...   4.50     18.200000\n",
              "3                 Maruti Ertiga VDI     Chennai  ...   6.00     23.077778\n",
              "4   Audi A4 New 2.0 TDI Multitronic  Coimbatore  ...  17.74     16.888889\n",
              "\n",
              "[5 rows x 12 columns]"
            ]
          },
          "metadata": {
            "tags": []
          },
          "execution_count": 1929
        }
      ]
    },
    {
      "cell_type": "markdown",
      "metadata": {
        "id": "YtizEVg7ZLBI"
      },
      "source": [
        "これで'Power'の列も使用可能な数値データに変換できました。"
      ]
    },
    {
      "cell_type": "markdown",
      "metadata": {
        "id": "LmBoB5zrZLBJ"
      },
      "source": [
        "####'Name','Location'について"
      ]
    },
    {
      "cell_type": "markdown",
      "metadata": {
        "id": "bYk_mh3HZLBJ"
      },
      "source": [
        "#####'Name'の処理"
      ]
    },
    {
      "cell_type": "markdown",
      "metadata": {
        "id": "aPAq1lN7ZLBJ"
      },
      "source": [
        "車種は無視して、メーカー('Name'の先頭)のみについて考えることにします。\r\n",
        "まずは'Name'を半角スペースで分割してデータフレームdf_name_splitに格納します。"
      ]
    },
    {
      "cell_type": "code",
      "metadata": {
        "colab": {
          "base_uri": "https://localhost:8080/",
          "height": 0
        },
        "id": "hv5CJ5uxZLBJ",
        "outputId": "c1f9648c-0a1b-4385-e268-6e6eac0f393b"
      },
      "source": [
        "df_name_split=df['Name'].str.split(' ', expand=True)\r\n",
        "print(df['Name'].head())\r\n",
        "df_name_split.head()"
      ],
      "execution_count": 1930,
      "outputs": [
        {
          "output_type": "stream",
          "text": [
            "0              Maruti Wagon R LXI CNG\n",
            "1    Hyundai Creta 1.6 CRDi SX Option\n",
            "2                        Honda Jazz V\n",
            "3                   Maruti Ertiga VDI\n",
            "4     Audi A4 New 2.0 TDI Multitronic\n",
            "Name: Name, dtype: object\n"
          ],
          "name": "stdout"
        },
        {
          "output_type": "execute_result",
          "data": {
            "text/html": [
              "<div>\n",
              "<style scoped>\n",
              "    .dataframe tbody tr th:only-of-type {\n",
              "        vertical-align: middle;\n",
              "    }\n",
              "\n",
              "    .dataframe tbody tr th {\n",
              "        vertical-align: top;\n",
              "    }\n",
              "\n",
              "    .dataframe thead th {\n",
              "        text-align: right;\n",
              "    }\n",
              "</style>\n",
              "<table border=\"1\" class=\"dataframe\">\n",
              "  <thead>\n",
              "    <tr style=\"text-align: right;\">\n",
              "      <th></th>\n",
              "      <th>0</th>\n",
              "      <th>1</th>\n",
              "      <th>2</th>\n",
              "      <th>3</th>\n",
              "      <th>4</th>\n",
              "      <th>5</th>\n",
              "      <th>6</th>\n",
              "      <th>7</th>\n",
              "      <th>8</th>\n",
              "      <th>9</th>\n",
              "    </tr>\n",
              "  </thead>\n",
              "  <tbody>\n",
              "    <tr>\n",
              "      <th>0</th>\n",
              "      <td>Maruti</td>\n",
              "      <td>Wagon</td>\n",
              "      <td>R</td>\n",
              "      <td>LXI</td>\n",
              "      <td>CNG</td>\n",
              "      <td>None</td>\n",
              "      <td>None</td>\n",
              "      <td>None</td>\n",
              "      <td>None</td>\n",
              "      <td>None</td>\n",
              "    </tr>\n",
              "    <tr>\n",
              "      <th>1</th>\n",
              "      <td>Hyundai</td>\n",
              "      <td>Creta</td>\n",
              "      <td>1.6</td>\n",
              "      <td>CRDi</td>\n",
              "      <td>SX</td>\n",
              "      <td>Option</td>\n",
              "      <td>None</td>\n",
              "      <td>None</td>\n",
              "      <td>None</td>\n",
              "      <td>None</td>\n",
              "    </tr>\n",
              "    <tr>\n",
              "      <th>2</th>\n",
              "      <td>Honda</td>\n",
              "      <td>Jazz</td>\n",
              "      <td>V</td>\n",
              "      <td>None</td>\n",
              "      <td>None</td>\n",
              "      <td>None</td>\n",
              "      <td>None</td>\n",
              "      <td>None</td>\n",
              "      <td>None</td>\n",
              "      <td>None</td>\n",
              "    </tr>\n",
              "    <tr>\n",
              "      <th>3</th>\n",
              "      <td>Maruti</td>\n",
              "      <td>Ertiga</td>\n",
              "      <td>VDI</td>\n",
              "      <td>None</td>\n",
              "      <td>None</td>\n",
              "      <td>None</td>\n",
              "      <td>None</td>\n",
              "      <td>None</td>\n",
              "      <td>None</td>\n",
              "      <td>None</td>\n",
              "    </tr>\n",
              "    <tr>\n",
              "      <th>4</th>\n",
              "      <td>Audi</td>\n",
              "      <td>A4</td>\n",
              "      <td>New</td>\n",
              "      <td>2.0</td>\n",
              "      <td>TDI</td>\n",
              "      <td>Multitronic</td>\n",
              "      <td>None</td>\n",
              "      <td>None</td>\n",
              "      <td>None</td>\n",
              "      <td>None</td>\n",
              "    </tr>\n",
              "  </tbody>\n",
              "</table>\n",
              "</div>"
            ],
            "text/plain": [
              "         0       1    2     3     4            5     6     7     8     9\n",
              "0   Maruti   Wagon    R   LXI   CNG         None  None  None  None  None\n",
              "1  Hyundai   Creta  1.6  CRDi    SX       Option  None  None  None  None\n",
              "2    Honda    Jazz    V  None  None         None  None  None  None  None\n",
              "3   Maruti  Ertiga  VDI  None  None         None  None  None  None  None\n",
              "4     Audi      A4  New   2.0   TDI  Multitronic  None  None  None  None"
            ]
          },
          "metadata": {
            "tags": []
          },
          "execution_count": 1930
        }
      ]
    },
    {
      "cell_type": "markdown",
      "metadata": {
        "id": "GBKfkboDZLBJ"
      },
      "source": [
        "正しく分割できていそうです。\r\n",
        "df_name_splitの1列目がメーカーの情報を持つので、これをdfの新たな列'Manufacturer'として追加します。"
      ]
    },
    {
      "cell_type": "code",
      "metadata": {
        "colab": {
          "base_uri": "https://localhost:8080/"
        },
        "id": "8RS_T5c0ZLBJ",
        "outputId": "19eed99c-8c03-40a0-eb28-3780bfd78851"
      },
      "source": [
        "df['Manufacturer']=df_name_split.loc[:,0]\r\n",
        "df['Manufacturer'].value_counts()"
      ],
      "execution_count": 1931,
      "outputs": [
        {
          "output_type": "execute_result",
          "data": {
            "text/plain": [
              "Maruti           1186\n",
              "Hyundai          1051\n",
              "Honda             600\n",
              "Toyota            407\n",
              "Volkswagen        314\n",
              "Mercedes-Benz     304\n",
              "Ford              294\n",
              "Mahindra          269\n",
              "BMW               262\n",
              "Audi              234\n",
              "Tata              183\n",
              "Skoda             170\n",
              "Renault           145\n",
              "Chevrolet         120\n",
              "Nissan             89\n",
              "Land               51\n",
              "Jaguar             40\n",
              "Mitsubishi         27\n",
              "Mini               26\n",
              "Fiat               23\n",
              "Volvo              21\n",
              "Porsche            16\n",
              "Jeep               15\n",
              "Datsun             13\n",
              "Force               3\n",
              "ISUZU               2\n",
              "Ambassador          1\n",
              "Lamborghini         1\n",
              "Isuzu               1\n",
              "Bentley             1\n",
              "Name: Manufacturer, dtype: int64"
            ]
          },
          "metadata": {
            "tags": []
          },
          "execution_count": 1931
        }
      ]
    },
    {
      "cell_type": "markdown",
      "metadata": {
        "id": "cbC0kNhRZLBK"
      },
      "source": [
        "\"ISUZU\"と\"Isuzu\"があるので\"Isuzu\"に統一します。"
      ]
    },
    {
      "cell_type": "code",
      "metadata": {
        "id": "MtUEaQmYZLBK"
      },
      "source": [
        "df['Manufacturer'] = df['Manufacturer'].str.replace('ISUZU','Isuzu')"
      ],
      "execution_count": 1932,
      "outputs": []
    },
    {
      "cell_type": "markdown",
      "metadata": {
        "id": "nJOlujnMZLBK"
      },
      "source": [
        "'Manufacturer'が'によって'Price'がどう変わってくるか調べるため、箱ひげ図を表示させます。\r\n",
        "\r\n",
        "今後も使うため、平均値付きの箱ひげ図を表示させる関数を作ります。"
      ]
    },
    {
      "cell_type": "code",
      "metadata": {
        "id": "NkJV2ltSZLBK"
      },
      "source": [
        "def box_plot(df,xcol,ycol='Price',size=(12,8),sym=None):\r\n",
        "  plt.figure(figsize=size)\r\n",
        "  sns.boxplot(data=df,x=xcol, y=ycol,sym=sym,showmeans=True,meanprops=dict(markersize=10,markeredgecolor='r', markerfacecolor='r'))\r\n",
        "  plt.xlabel(xcol)\r\n",
        "  plt.ylabel(ycol)\r\n",
        "  plt.title(\"Boxplot \"+str(xcol)+\" - \"+str(ycol))\r\n",
        "  plt.show()"
      ],
      "execution_count": 1933,
      "outputs": []
    },
    {
      "cell_type": "code",
      "metadata": {
        "colab": {
          "base_uri": "https://localhost:8080/",
          "height": 0
        },
        "id": "YTY5glOeZLBK",
        "outputId": "ec0f6685-d22a-4704-eafb-c1acdb38bc29"
      },
      "source": [
        "box_plot(df,'Manufacturer',size=(30,8))"
      ],
      "execution_count": 1934,
      "outputs": [
        {
          "output_type": "display_data",
          "data": {
            "image/png": "[encoded data removed]",
            "text/plain": [
              "<Figure size 2160x576 with 1 Axes>"
            ]
          },
          "metadata": {
            "tags": []
          }
        }
      ]
    },
    {
      "cell_type": "markdown",
      "metadata": {
        "id": "zsE4kRV3ZLBK"
      },
      "source": [
        "外れ値を表示しない設定で見てみます。見やすいように\"Lamborghini\"も除外します。"
      ]
    },
    {
      "cell_type": "code",
      "metadata": {
        "colab": {
          "base_uri": "https://localhost:8080/",
          "height": 0
        },
        "id": "4hfeEtyKZLBK",
        "outputId": "c7562b96-9751-4eba-a8fb-45791ff006e3"
      },
      "source": [
        "df_nolam=df[df['Manufacturer']!=\"Lamborghini\"]\r\n",
        "box_plot(df_nolam,'Manufacturer','Price',(30,12),\"\")"
      ],
      "execution_count": 1935,
      "outputs": [
        {
          "output_type": "display_data",
          "data": {
            "image/png": "[encoded data removed]",
            "text/plain": [
              "<Figure size 2160x864 with 1 Axes>"
            ]
          },
          "metadata": {
            "tags": []
          }
        }
      ]
    },
    {
      "cell_type": "markdown",
      "metadata": {
        "id": "wq4uLWQiZLBL"
      },
      "source": [
        "メーカーによって値の分布が違いますが、項目数が多いので、Target Encodingを用いて、各メーカーの値段の平均値によって数値化することにします。"
      ]
    },
    {
      "cell_type": "markdown",
      "metadata": {
        "id": "CGW5eUfQZLBL"
      },
      "source": [
        "#####'Location'について\r\n"
      ]
    },
    {
      "cell_type": "code",
      "metadata": {
        "colab": {
          "base_uri": "https://localhost:8080/"
        },
        "id": "hhV3VJptZLBL",
        "outputId": "83fdeea1-bf49-4798-a1e1-50c90eaa3558"
      },
      "source": [
        "df['Location'].unique()"
      ],
      "execution_count": 1936,
      "outputs": [
        {
          "output_type": "execute_result",
          "data": {
            "text/plain": [
              "array(['Mumbai', 'Pune', 'Chennai', 'Coimbatore', 'Hyderabad', 'Jaipur',\n",
              "       'Kochi', 'Kolkata', 'Delhi', 'Bangalore', 'Ahmedabad'],\n",
              "      dtype=object)"
            ]
          },
          "metadata": {
            "tags": []
          },
          "execution_count": 1936
        }
      ]
    },
    {
      "cell_type": "code",
      "metadata": {
        "colab": {
          "base_uri": "https://localhost:8080/"
        },
        "id": "Q_SHhkgUZLBL",
        "outputId": "208a39dc-8923-46c5-ed73-471b27b5c8ef"
      },
      "source": [
        "df['Location'].value_counts()"
      ],
      "execution_count": 1937,
      "outputs": [
        {
          "output_type": "execute_result",
          "data": {
            "text/plain": [
              "Mumbai        775\n",
              "Hyderabad     716\n",
              "Kochi         643\n",
              "Coimbatore    628\n",
              "Pune          594\n",
              "Delhi         546\n",
              "Kolkata       523\n",
              "Chennai       478\n",
              "Jaipur        401\n",
              "Bangalore     347\n",
              "Ahmedabad     218\n",
              "Name: Location, dtype: int64"
            ]
          },
          "metadata": {
            "tags": []
          },
          "execution_count": 1937
        }
      ]
    },
    {
      "cell_type": "markdown",
      "metadata": {
        "id": "6bLcXsJsZLBL"
      },
      "source": [
        "'Location'ごとに値段の分布を見てみます。"
      ]
    },
    {
      "cell_type": "code",
      "metadata": {
        "colab": {
          "base_uri": "https://localhost:8080/",
          "height": 0
        },
        "id": "CngH1Gz3ZLBL",
        "outputId": "5210320e-fac9-4a7b-f1e6-0ab5c69611b0"
      },
      "source": [
        "box_plot(df,'Location')"
      ],
      "execution_count": 1938,
      "outputs": [
        {
          "output_type": "display_data",
          "data": {
            "image/png": "[encoded data removed]",
            "text/plain": [
              "<Figure size 864x576 with 1 Axes>"
            ]
          },
          "metadata": {
            "tags": []
          }
        }
      ]
    },
    {
      "cell_type": "markdown",
      "metadata": {
        "id": "QOKbwSqMZLBM"
      },
      "source": [
        "外れ値の存在により分布が縮小されて見づらいので、外れ値を表示しない設定にします。"
      ]
    },
    {
      "cell_type": "code",
      "metadata": {
        "colab": {
          "base_uri": "https://localhost:8080/",
          "height": 0
        },
        "id": "0U2mEdJ8ZLBM",
        "outputId": "174fd1b9-3b57-4687-bbba-2dbd16766715"
      },
      "source": [
        "box_plot(df,'Location',sym=\"\")"
      ],
      "execution_count": 1939,
      "outputs": [
        {
          "output_type": "display_data",
          "data": {
            "image/png": "[encoded data removed]",
            "text/plain": [
              "<Figure size 864x576 with 1 Axes>"
            ]
          },
          "metadata": {
            "tags": []
          }
        }
      ]
    },
    {
      "cell_type": "markdown",
      "metadata": {
        "id": "bEzR6M-bZLBM"
      },
      "source": [
        "平均値がそれぞれの分布の違いを正当に評価しているように見えます。ですので、Target Encodingを用いて、各地域での値段の平均値によって数値化することにします。"
      ]
    },
    {
      "cell_type": "markdown",
      "metadata": {
        "id": "WHdnA5C1ZLBM"
      },
      "source": [
        "#####'Location'と、'Name'から抽出した'Manufacturer'については、どちらもTarget Encodingをすることにしましたが、訓練データのみでエンコーディングの学習を行うことと、外れ値の影響を考えなければならないので、後に数値化の実行を行います。"
      ]
    },
    {
      "cell_type": "markdown",
      "metadata": {
        "id": "H3WUfUsKZLBM"
      },
      "source": [
        "#### 'Fuel_Type','Transmisson'について"
      ]
    },
    {
      "cell_type": "markdown",
      "metadata": {
        "id": "efvVTAoyZLBM"
      },
      "source": [
        "どちらもカテゴリ変数なのでダミー変数に変換しようと思います。\r\n"
      ]
    },
    {
      "cell_type": "markdown",
      "metadata": {
        "id": "mUy2YsyvZLBM"
      },
      "source": [
        "#####'Fuel_Type'の処理"
      ]
    },
    {
      "cell_type": "markdown",
      "metadata": {
        "id": "pZ-nyOoFZLBN"
      },
      "source": [
        "'Fuel_Type'は値の種類が多く、このままダミー変数に変換すると特徴量が増えすぎるので、項目を減らせないか考えます。\r\n",
        "\r\n",
        "まず、'Fuel_Type'が'によって'Price'がどう変わってくるか調べるため、箱ひげ図を表示させます。"
      ]
    },
    {
      "cell_type": "code",
      "metadata": {
        "colab": {
          "base_uri": "https://localhost:8080/",
          "height": 0
        },
        "id": "FAk6gMe0ZLBN",
        "outputId": "ee341a69-0e4e-4eb1-fec0-69069ae87b07"
      },
      "source": [
        "box_plot(df,'Fuel_Type',size=(8,8))"
      ],
      "execution_count": 1940,
      "outputs": [
        {
          "output_type": "display_data",
          "data": {
            "image/png": "[encoded data removed]",
            "text/plain": [
              "<Figure size 576x576 with 1 Axes>"
            ]
          },
          "metadata": {
            "tags": []
          }
        }
      ]
    },
    {
      "cell_type": "markdown",
      "metadata": {
        "id": "AWQIAqKbZLBN"
      },
      "source": [
        "外れ値の存在により分布が縮小されて見づらいので、外れ値を表示しない設定にします。"
      ]
    },
    {
      "cell_type": "code",
      "metadata": {
        "colab": {
          "base_uri": "https://localhost:8080/",
          "height": 0
        },
        "id": "VwxkpD91ZLBN",
        "outputId": "20817cf1-ffe5-4c3a-e64d-5416f7961ea5"
      },
      "source": [
        "box_plot(df,'Fuel_Type',size=(8,12),sym=\"\")"
      ],
      "execution_count": 1941,
      "outputs": [
        {
          "output_type": "display_data",
          "data": {
            "image/png": "[encoded data removed]",
            "text/plain": [
              "<Figure size 576x864 with 1 Axes>"
            ]
          },
          "metadata": {
            "tags": []
          }
        }
      ]
    },
    {
      "cell_type": "markdown",
      "metadata": {
        "id": "-CygjOMwZLBN"
      },
      "source": [
        "LPGとCNGでは分布に大差がないように見えるのでこの2つのみで確認してみます。"
      ]
    },
    {
      "cell_type": "code",
      "metadata": {
        "colab": {
          "base_uri": "https://localhost:8080/",
          "height": 0
        },
        "id": "jvpwUXd6ZLBN",
        "outputId": "cf08245f-a493-4e7b-ef85-7ce288e20485"
      },
      "source": [
        "df_cnglpg=df[(df['Fuel_Type']==\"CNG\") | (df['Fuel_Type']==\"LPG\")]\r\n",
        "box_plot(df_cnglpg,'Fuel_Type','Price',(8,8))"
      ],
      "execution_count": 1942,
      "outputs": [
        {
          "output_type": "display_data",
          "data": {
            "image/png": "[encoded data removed]",
            "text/plain": [
              "<Figure size 576x576 with 1 Axes>"
            ]
          },
          "metadata": {
            "tags": []
          }
        }
      ]
    },
    {
      "cell_type": "markdown",
      "metadata": {
        "id": "w0tsBsc2ZLBO"
      },
      "source": [
        "'Fuel_Type'をダミー変数に変換するときに特徴量が増えすぎるのを防ぐため、上記のように分布の差が少ないCNGとLPGはまとめます。"
      ]
    },
    {
      "cell_type": "code",
      "metadata": {
        "colab": {
          "base_uri": "https://localhost:8080/",
          "height": 0
        },
        "id": "WJY0X-llZLBO",
        "outputId": "c8d6bf6e-96bd-4ffa-a672-f7de47738854"
      },
      "source": [
        "df['Fuel_Type']=df['Fuel_Type'].str.replace('CNG','CNGorLPG').replace('LPG','CNGorLPG')\r\n",
        "df.head()"
      ],
      "execution_count": 1943,
      "outputs": [
        {
          "output_type": "execute_result",
          "data": {
            "text/html": [
              "<div>\n",
              "<style scoped>\n",
              "    .dataframe tbody tr th:only-of-type {\n",
              "        vertical-align: middle;\n",
              "    }\n",
              "\n",
              "    .dataframe tbody tr th {\n",
              "        vertical-align: top;\n",
              "    }\n",
              "\n",
              "    .dataframe thead th {\n",
              "        text-align: right;\n",
              "    }\n",
              "</style>\n",
              "<table border=\"1\" class=\"dataframe\">\n",
              "  <thead>\n",
              "    <tr style=\"text-align: right;\">\n",
              "      <th></th>\n",
              "      <th>Name</th>\n",
              "      <th>Location</th>\n",
              "      <th>Year</th>\n",
              "      <th>Kilometers_Driven</th>\n",
              "      <th>Fuel_Type</th>\n",
              "      <th>Transmission</th>\n",
              "      <th>Owner_Type</th>\n",
              "      <th>Engine</th>\n",
              "      <th>Power</th>\n",
              "      <th>Seats</th>\n",
              "      <th>Price</th>\n",
              "      <th>Mileage_kmpd</th>\n",
              "      <th>Manufacturer</th>\n",
              "    </tr>\n",
              "  </thead>\n",
              "  <tbody>\n",
              "    <tr>\n",
              "      <th>0</th>\n",
              "      <td>Maruti Wagon R LXI CNG</td>\n",
              "      <td>Mumbai</td>\n",
              "      <td>2010</td>\n",
              "      <td>72000</td>\n",
              "      <td>CNGorLPG</td>\n",
              "      <td>Manual</td>\n",
              "      <td>1</td>\n",
              "      <td>998.0</td>\n",
              "      <td>58.16</td>\n",
              "      <td>5.0</td>\n",
              "      <td>1.75</td>\n",
              "      <td>17.733333</td>\n",
              "      <td>Maruti</td>\n",
              "    </tr>\n",
              "    <tr>\n",
              "      <th>1</th>\n",
              "      <td>Hyundai Creta 1.6 CRDi SX Option</td>\n",
              "      <td>Pune</td>\n",
              "      <td>2015</td>\n",
              "      <td>41000</td>\n",
              "      <td>Diesel</td>\n",
              "      <td>Manual</td>\n",
              "      <td>1</td>\n",
              "      <td>1582.0</td>\n",
              "      <td>126.20</td>\n",
              "      <td>5.0</td>\n",
              "      <td>12.50</td>\n",
              "      <td>21.855556</td>\n",
              "      <td>Hyundai</td>\n",
              "    </tr>\n",
              "    <tr>\n",
              "      <th>2</th>\n",
              "      <td>Honda Jazz V</td>\n",
              "      <td>Chennai</td>\n",
              "      <td>2011</td>\n",
              "      <td>46000</td>\n",
              "      <td>Petrol</td>\n",
              "      <td>Manual</td>\n",
              "      <td>1</td>\n",
              "      <td>1199.0</td>\n",
              "      <td>88.70</td>\n",
              "      <td>5.0</td>\n",
              "      <td>4.50</td>\n",
              "      <td>18.200000</td>\n",
              "      <td>Honda</td>\n",
              "    </tr>\n",
              "    <tr>\n",
              "      <th>3</th>\n",
              "      <td>Maruti Ertiga VDI</td>\n",
              "      <td>Chennai</td>\n",
              "      <td>2012</td>\n",
              "      <td>87000</td>\n",
              "      <td>Diesel</td>\n",
              "      <td>Manual</td>\n",
              "      <td>1</td>\n",
              "      <td>1248.0</td>\n",
              "      <td>88.76</td>\n",
              "      <td>7.0</td>\n",
              "      <td>6.00</td>\n",
              "      <td>23.077778</td>\n",
              "      <td>Maruti</td>\n",
              "    </tr>\n",
              "    <tr>\n",
              "      <th>4</th>\n",
              "      <td>Audi A4 New 2.0 TDI Multitronic</td>\n",
              "      <td>Coimbatore</td>\n",
              "      <td>2013</td>\n",
              "      <td>40670</td>\n",
              "      <td>Diesel</td>\n",
              "      <td>Automatic</td>\n",
              "      <td>2</td>\n",
              "      <td>1968.0</td>\n",
              "      <td>140.80</td>\n",
              "      <td>5.0</td>\n",
              "      <td>17.74</td>\n",
              "      <td>16.888889</td>\n",
              "      <td>Audi</td>\n",
              "    </tr>\n",
              "  </tbody>\n",
              "</table>\n",
              "</div>"
            ],
            "text/plain": [
              "                               Name    Location  ...  Mileage_kmpd  Manufacturer\n",
              "0            Maruti Wagon R LXI CNG      Mumbai  ...     17.733333        Maruti\n",
              "1  Hyundai Creta 1.6 CRDi SX Option        Pune  ...     21.855556       Hyundai\n",
              "2                      Honda Jazz V     Chennai  ...     18.200000         Honda\n",
              "3                 Maruti Ertiga VDI     Chennai  ...     23.077778        Maruti\n",
              "4   Audi A4 New 2.0 TDI Multitronic  Coimbatore  ...     16.888889          Audi\n",
              "\n",
              "[5 rows x 13 columns]"
            ]
          },
          "metadata": {
            "tags": []
          },
          "execution_count": 1943
        }
      ]
    },
    {
      "cell_type": "markdown",
      "metadata": {
        "id": "v4GQS-gWZLBO"
      },
      "source": [
        "#####pd.get_dummiesを使って'Fuel_Type','Transmission'をダミー変数に変換した新たなデータフレームを作成し、そのデータフレームを元のデータフレームに連結します。"
      ]
    },
    {
      "cell_type": "code",
      "metadata": {
        "colab": {
          "base_uri": "https://localhost:8080/",
          "height": 0
        },
        "id": "eXp_FXmOZLBO",
        "outputId": "78b3f64a-e3d6-4e47-da00-a7ebc34d7e30"
      },
      "source": [
        "df_dum=pd.get_dummies(df[['Fuel_Type','Transmission']], drop_first=True)\r\n",
        "df_dum.head()"
      ],
      "execution_count": 1944,
      "outputs": [
        {
          "output_type": "execute_result",
          "data": {
            "text/html": [
              "<div>\n",
              "<style scoped>\n",
              "    .dataframe tbody tr th:only-of-type {\n",
              "        vertical-align: middle;\n",
              "    }\n",
              "\n",
              "    .dataframe tbody tr th {\n",
              "        vertical-align: top;\n",
              "    }\n",
              "\n",
              "    .dataframe thead th {\n",
              "        text-align: right;\n",
              "    }\n",
              "</style>\n",
              "<table border=\"1\" class=\"dataframe\">\n",
              "  <thead>\n",
              "    <tr style=\"text-align: right;\">\n",
              "      <th></th>\n",
              "      <th>Fuel_Type_Diesel</th>\n",
              "      <th>Fuel_Type_Petrol</th>\n",
              "      <th>Transmission_Manual</th>\n",
              "    </tr>\n",
              "  </thead>\n",
              "  <tbody>\n",
              "    <tr>\n",
              "      <th>0</th>\n",
              "      <td>0</td>\n",
              "      <td>0</td>\n",
              "      <td>1</td>\n",
              "    </tr>\n",
              "    <tr>\n",
              "      <th>1</th>\n",
              "      <td>1</td>\n",
              "      <td>0</td>\n",
              "      <td>1</td>\n",
              "    </tr>\n",
              "    <tr>\n",
              "      <th>2</th>\n",
              "      <td>0</td>\n",
              "      <td>1</td>\n",
              "      <td>1</td>\n",
              "    </tr>\n",
              "    <tr>\n",
              "      <th>3</th>\n",
              "      <td>1</td>\n",
              "      <td>0</td>\n",
              "      <td>1</td>\n",
              "    </tr>\n",
              "    <tr>\n",
              "      <th>4</th>\n",
              "      <td>1</td>\n",
              "      <td>0</td>\n",
              "      <td>0</td>\n",
              "    </tr>\n",
              "  </tbody>\n",
              "</table>\n",
              "</div>"
            ],
            "text/plain": [
              "   Fuel_Type_Diesel  Fuel_Type_Petrol  Transmission_Manual\n",
              "0                 0                 0                    1\n",
              "1                 1                 0                    1\n",
              "2                 0                 1                    1\n",
              "3                 1                 0                    1\n",
              "4                 1                 0                    0"
            ]
          },
          "metadata": {
            "tags": []
          },
          "execution_count": 1944
        }
      ]
    },
    {
      "cell_type": "code",
      "metadata": {
        "colab": {
          "base_uri": "https://localhost:8080/",
          "height": 0
        },
        "id": "6FCjG7YAZLBO",
        "outputId": "7fbbf3af-676b-49f1-faef-f0c76fb6fb37"
      },
      "source": [
        "df=pd.concat([df, df_dum],axis=1)\r\n",
        "df.head()"
      ],
      "execution_count": 1945,
      "outputs": [
        {
          "output_type": "execute_result",
          "data": {
            "text/html": [
              "<div>\n",
              "<style scoped>\n",
              "    .dataframe tbody tr th:only-of-type {\n",
              "        vertical-align: middle;\n",
              "    }\n",
              "\n",
              "    .dataframe tbody tr th {\n",
              "        vertical-align: top;\n",
              "    }\n",
              "\n",
              "    .dataframe thead th {\n",
              "        text-align: right;\n",
              "    }\n",
              "</style>\n",
              "<table border=\"1\" class=\"dataframe\">\n",
              "  <thead>\n",
              "    <tr style=\"text-align: right;\">\n",
              "      <th></th>\n",
              "      <th>Name</th>\n",
              "      <th>Location</th>\n",
              "      <th>Year</th>\n",
              "      <th>Kilometers_Driven</th>\n",
              "      <th>Fuel_Type</th>\n",
              "      <th>Transmission</th>\n",
              "      <th>Owner_Type</th>\n",
              "      <th>Engine</th>\n",
              "      <th>Power</th>\n",
              "      <th>Seats</th>\n",
              "      <th>Price</th>\n",
              "      <th>Mileage_kmpd</th>\n",
              "      <th>Manufacturer</th>\n",
              "      <th>Fuel_Type_Diesel</th>\n",
              "      <th>Fuel_Type_Petrol</th>\n",
              "      <th>Transmission_Manual</th>\n",
              "    </tr>\n",
              "  </thead>\n",
              "  <tbody>\n",
              "    <tr>\n",
              "      <th>0</th>\n",
              "      <td>Maruti Wagon R LXI CNG</td>\n",
              "      <td>Mumbai</td>\n",
              "      <td>2010</td>\n",
              "      <td>72000</td>\n",
              "      <td>CNGorLPG</td>\n",
              "      <td>Manual</td>\n",
              "      <td>1</td>\n",
              "      <td>998.0</td>\n",
              "      <td>58.16</td>\n",
              "      <td>5.0</td>\n",
              "      <td>1.75</td>\n",
              "      <td>17.733333</td>\n",
              "      <td>Maruti</td>\n",
              "      <td>0</td>\n",
              "      <td>0</td>\n",
              "      <td>1</td>\n",
              "    </tr>\n",
              "    <tr>\n",
              "      <th>1</th>\n",
              "      <td>Hyundai Creta 1.6 CRDi SX Option</td>\n",
              "      <td>Pune</td>\n",
              "      <td>2015</td>\n",
              "      <td>41000</td>\n",
              "      <td>Diesel</td>\n",
              "      <td>Manual</td>\n",
              "      <td>1</td>\n",
              "      <td>1582.0</td>\n",
              "      <td>126.20</td>\n",
              "      <td>5.0</td>\n",
              "      <td>12.50</td>\n",
              "      <td>21.855556</td>\n",
              "      <td>Hyundai</td>\n",
              "      <td>1</td>\n",
              "      <td>0</td>\n",
              "      <td>1</td>\n",
              "    </tr>\n",
              "    <tr>\n",
              "      <th>2</th>\n",
              "      <td>Honda Jazz V</td>\n",
              "      <td>Chennai</td>\n",
              "      <td>2011</td>\n",
              "      <td>46000</td>\n",
              "      <td>Petrol</td>\n",
              "      <td>Manual</td>\n",
              "      <td>1</td>\n",
              "      <td>1199.0</td>\n",
              "      <td>88.70</td>\n",
              "      <td>5.0</td>\n",
              "      <td>4.50</td>\n",
              "      <td>18.200000</td>\n",
              "      <td>Honda</td>\n",
              "      <td>0</td>\n",
              "      <td>1</td>\n",
              "      <td>1</td>\n",
              "    </tr>\n",
              "    <tr>\n",
              "      <th>3</th>\n",
              "      <td>Maruti Ertiga VDI</td>\n",
              "      <td>Chennai</td>\n",
              "      <td>2012</td>\n",
              "      <td>87000</td>\n",
              "      <td>Diesel</td>\n",
              "      <td>Manual</td>\n",
              "      <td>1</td>\n",
              "      <td>1248.0</td>\n",
              "      <td>88.76</td>\n",
              "      <td>7.0</td>\n",
              "      <td>6.00</td>\n",
              "      <td>23.077778</td>\n",
              "      <td>Maruti</td>\n",
              "      <td>1</td>\n",
              "      <td>0</td>\n",
              "      <td>1</td>\n",
              "    </tr>\n",
              "    <tr>\n",
              "      <th>4</th>\n",
              "      <td>Audi A4 New 2.0 TDI Multitronic</td>\n",
              "      <td>Coimbatore</td>\n",
              "      <td>2013</td>\n",
              "      <td>40670</td>\n",
              "      <td>Diesel</td>\n",
              "      <td>Automatic</td>\n",
              "      <td>2</td>\n",
              "      <td>1968.0</td>\n",
              "      <td>140.80</td>\n",
              "      <td>5.0</td>\n",
              "      <td>17.74</td>\n",
              "      <td>16.888889</td>\n",
              "      <td>Audi</td>\n",
              "      <td>1</td>\n",
              "      <td>0</td>\n",
              "      <td>0</td>\n",
              "    </tr>\n",
              "  </tbody>\n",
              "</table>\n",
              "</div>"
            ],
            "text/plain": [
              "                               Name  ... Transmission_Manual\n",
              "0            Maruti Wagon R LXI CNG  ...                   1\n",
              "1  Hyundai Creta 1.6 CRDi SX Option  ...                   1\n",
              "2                      Honda Jazz V  ...                   1\n",
              "3                 Maruti Ertiga VDI  ...                   1\n",
              "4   Audi A4 New 2.0 TDI Multitronic  ...                   0\n",
              "\n",
              "[5 rows x 16 columns]"
            ]
          },
          "metadata": {
            "tags": []
          },
          "execution_count": 1945
        }
      ]
    },
    {
      "cell_type": "markdown",
      "metadata": {
        "id": "6JhK-z6tZLBO"
      },
      "source": [
        "正しく変換された列（'Fuel_Type_Diesel','Fuel_Type_Petrol','Transmission_Manual\t'）が追加されているので、\r\n",
        "\r\n",
        "不要になった'Fuel_Type','Transmission'を削除します。"
      ]
    },
    {
      "cell_type": "code",
      "metadata": {
        "colab": {
          "base_uri": "https://localhost:8080/",
          "height": 0
        },
        "id": "p0K3qJj2ZLBP",
        "outputId": "9d523b9c-32f0-480c-dc37-e1ef95fa3592"
      },
      "source": [
        "df=df.drop(columns=['Fuel_Type','Transmission'])\r\n",
        "df.head()"
      ],
      "execution_count": 1946,
      "outputs": [
        {
          "output_type": "execute_result",
          "data": {
            "text/html": [
              "<div>\n",
              "<style scoped>\n",
              "    .dataframe tbody tr th:only-of-type {\n",
              "        vertical-align: middle;\n",
              "    }\n",
              "\n",
              "    .dataframe tbody tr th {\n",
              "        vertical-align: top;\n",
              "    }\n",
              "\n",
              "    .dataframe thead th {\n",
              "        text-align: right;\n",
              "    }\n",
              "</style>\n",
              "<table border=\"1\" class=\"dataframe\">\n",
              "  <thead>\n",
              "    <tr style=\"text-align: right;\">\n",
              "      <th></th>\n",
              "      <th>Name</th>\n",
              "      <th>Location</th>\n",
              "      <th>Year</th>\n",
              "      <th>Kilometers_Driven</th>\n",
              "      <th>Owner_Type</th>\n",
              "      <th>Engine</th>\n",
              "      <th>Power</th>\n",
              "      <th>Seats</th>\n",
              "      <th>Price</th>\n",
              "      <th>Mileage_kmpd</th>\n",
              "      <th>Manufacturer</th>\n",
              "      <th>Fuel_Type_Diesel</th>\n",
              "      <th>Fuel_Type_Petrol</th>\n",
              "      <th>Transmission_Manual</th>\n",
              "    </tr>\n",
              "  </thead>\n",
              "  <tbody>\n",
              "    <tr>\n",
              "      <th>0</th>\n",
              "      <td>Maruti Wagon R LXI CNG</td>\n",
              "      <td>Mumbai</td>\n",
              "      <td>2010</td>\n",
              "      <td>72000</td>\n",
              "      <td>1</td>\n",
              "      <td>998.0</td>\n",
              "      <td>58.16</td>\n",
              "      <td>5.0</td>\n",
              "      <td>1.75</td>\n",
              "      <td>17.733333</td>\n",
              "      <td>Maruti</td>\n",
              "      <td>0</td>\n",
              "      <td>0</td>\n",
              "      <td>1</td>\n",
              "    </tr>\n",
              "    <tr>\n",
              "      <th>1</th>\n",
              "      <td>Hyundai Creta 1.6 CRDi SX Option</td>\n",
              "      <td>Pune</td>\n",
              "      <td>2015</td>\n",
              "      <td>41000</td>\n",
              "      <td>1</td>\n",
              "      <td>1582.0</td>\n",
              "      <td>126.20</td>\n",
              "      <td>5.0</td>\n",
              "      <td>12.50</td>\n",
              "      <td>21.855556</td>\n",
              "      <td>Hyundai</td>\n",
              "      <td>1</td>\n",
              "      <td>0</td>\n",
              "      <td>1</td>\n",
              "    </tr>\n",
              "    <tr>\n",
              "      <th>2</th>\n",
              "      <td>Honda Jazz V</td>\n",
              "      <td>Chennai</td>\n",
              "      <td>2011</td>\n",
              "      <td>46000</td>\n",
              "      <td>1</td>\n",
              "      <td>1199.0</td>\n",
              "      <td>88.70</td>\n",
              "      <td>5.0</td>\n",
              "      <td>4.50</td>\n",
              "      <td>18.200000</td>\n",
              "      <td>Honda</td>\n",
              "      <td>0</td>\n",
              "      <td>1</td>\n",
              "      <td>1</td>\n",
              "    </tr>\n",
              "    <tr>\n",
              "      <th>3</th>\n",
              "      <td>Maruti Ertiga VDI</td>\n",
              "      <td>Chennai</td>\n",
              "      <td>2012</td>\n",
              "      <td>87000</td>\n",
              "      <td>1</td>\n",
              "      <td>1248.0</td>\n",
              "      <td>88.76</td>\n",
              "      <td>7.0</td>\n",
              "      <td>6.00</td>\n",
              "      <td>23.077778</td>\n",
              "      <td>Maruti</td>\n",
              "      <td>1</td>\n",
              "      <td>0</td>\n",
              "      <td>1</td>\n",
              "    </tr>\n",
              "    <tr>\n",
              "      <th>4</th>\n",
              "      <td>Audi A4 New 2.0 TDI Multitronic</td>\n",
              "      <td>Coimbatore</td>\n",
              "      <td>2013</td>\n",
              "      <td>40670</td>\n",
              "      <td>2</td>\n",
              "      <td>1968.0</td>\n",
              "      <td>140.80</td>\n",
              "      <td>5.0</td>\n",
              "      <td>17.74</td>\n",
              "      <td>16.888889</td>\n",
              "      <td>Audi</td>\n",
              "      <td>1</td>\n",
              "      <td>0</td>\n",
              "      <td>0</td>\n",
              "    </tr>\n",
              "  </tbody>\n",
              "</table>\n",
              "</div>"
            ],
            "text/plain": [
              "                               Name  ... Transmission_Manual\n",
              "0            Maruti Wagon R LXI CNG  ...                   1\n",
              "1  Hyundai Creta 1.6 CRDi SX Option  ...                   1\n",
              "2                      Honda Jazz V  ...                   1\n",
              "3                 Maruti Ertiga VDI  ...                   1\n",
              "4   Audi A4 New 2.0 TDI Multitronic  ...                   0\n",
              "\n",
              "[5 rows x 14 columns]"
            ]
          },
          "metadata": {
            "tags": []
          },
          "execution_count": 1946
        }
      ]
    },
    {
      "cell_type": "markdown",
      "metadata": {
        "id": "yhpn0U6hZLBP"
      },
      "source": [
        "####'Year','Kilometers_Driven'については整数型のまま扱います。'Seats','Price'についてはもとから浮動小数点型なので問題ありません。"
      ]
    },
    {
      "cell_type": "code",
      "metadata": {
        "colab": {
          "base_uri": "https://localhost:8080/"
        },
        "id": "e0imOrwpZLBP",
        "outputId": "4111e796-800b-487e-ef33-6e14311a122b"
      },
      "source": [
        "df.info()"
      ],
      "execution_count": 1947,
      "outputs": [
        {
          "output_type": "stream",
          "text": [
            "<class 'pandas.core.frame.DataFrame'>\n",
            "Int64Index: 5869 entries, 0 to 6018\n",
            "Data columns (total 14 columns):\n",
            " #   Column               Non-Null Count  Dtype  \n",
            "---  ------               --------------  -----  \n",
            " 0   Name                 5869 non-null   object \n",
            " 1   Location             5869 non-null   object \n",
            " 2   Year                 5869 non-null   int64  \n",
            " 3   Kilometers_Driven    5869 non-null   int64  \n",
            " 4   Owner_Type           5869 non-null   int64  \n",
            " 5   Engine               5869 non-null   float64\n",
            " 6   Power                5869 non-null   float64\n",
            " 7   Seats                5869 non-null   float64\n",
            " 8   Price                5869 non-null   float64\n",
            " 9   Mileage_kmpd         5869 non-null   float64\n",
            " 10  Manufacturer         5869 non-null   object \n",
            " 11  Fuel_Type_Diesel     5869 non-null   uint8  \n",
            " 12  Fuel_Type_Petrol     5869 non-null   uint8  \n",
            " 13  Transmission_Manual  5869 non-null   uint8  \n",
            "dtypes: float64(5), int64(3), object(3), uint8(3)\n",
            "memory usage: 727.4+ KB\n"
          ],
          "name": "stdout"
        }
      ]
    },
    {
      "cell_type": "markdown",
      "metadata": {
        "id": "HsTRzi_XZLBP"
      },
      "source": [
        "###外れ値の除外"
      ]
    },
    {
      "cell_type": "markdown",
      "metadata": {
        "id": "o4xMiBMCGuGX"
      },
      "source": [
        "####各列の統計量の確認"
      ]
    },
    {
      "cell_type": "code",
      "metadata": {
        "colab": {
          "base_uri": "https://localhost:8080/",
          "height": 0
        },
        "id": "vC8Rz146ZLBQ",
        "outputId": "9f48b11f-7b7b-43a1-ef9e-a4140c63272c"
      },
      "source": [
        "df.describe()"
      ],
      "execution_count": 1948,
      "outputs": [
        {
          "output_type": "execute_result",
          "data": {
            "text/html": [
              "<div>\n",
              "<style scoped>\n",
              "    .dataframe tbody tr th:only-of-type {\n",
              "        vertical-align: middle;\n",
              "    }\n",
              "\n",
              "    .dataframe tbody tr th {\n",
              "        vertical-align: top;\n",
              "    }\n",
              "\n",
              "    .dataframe thead th {\n",
              "        text-align: right;\n",
              "    }\n",
              "</style>\n",
              "<table border=\"1\" class=\"dataframe\">\n",
              "  <thead>\n",
              "    <tr style=\"text-align: right;\">\n",
              "      <th></th>\n",
              "      <th>Year</th>\n",
              "      <th>Kilometers_Driven</th>\n",
              "      <th>Owner_Type</th>\n",
              "      <th>Engine</th>\n",
              "      <th>Power</th>\n",
              "      <th>Seats</th>\n",
              "      <th>Price</th>\n",
              "      <th>Mileage_kmpd</th>\n",
              "      <th>Fuel_Type_Diesel</th>\n",
              "      <th>Fuel_Type_Petrol</th>\n",
              "      <th>Transmission_Manual</th>\n",
              "    </tr>\n",
              "  </thead>\n",
              "  <tbody>\n",
              "    <tr>\n",
              "      <th>count</th>\n",
              "      <td>5869.000000</td>\n",
              "      <td>5.869000e+03</td>\n",
              "      <td>5869.000000</td>\n",
              "      <td>5869.000000</td>\n",
              "      <td>5869.000000</td>\n",
              "      <td>5869.000000</td>\n",
              "      <td>5869.000000</td>\n",
              "      <td>5869.000000</td>\n",
              "      <td>5869.000000</td>\n",
              "      <td>5869.000000</td>\n",
              "      <td>5869.000000</td>\n",
              "    </tr>\n",
              "    <tr>\n",
              "      <th>mean</th>\n",
              "      <td>2013.474698</td>\n",
              "      <td>5.836582e+04</td>\n",
              "      <td>1.195434</td>\n",
              "      <td>1621.655137</td>\n",
              "      <td>112.959506</td>\n",
              "      <td>5.284205</td>\n",
              "      <td>9.522137</td>\n",
              "      <td>19.416616</td>\n",
              "      <td>0.537911</td>\n",
              "      <td>0.451014</td>\n",
              "      <td>0.713580</td>\n",
              "    </tr>\n",
              "    <tr>\n",
              "      <th>std</th>\n",
              "      <td>3.160539</td>\n",
              "      <td>9.220104e+04</td>\n",
              "      <td>0.446305</td>\n",
              "      <td>598.203558</td>\n",
              "      <td>53.768780</td>\n",
              "      <td>0.805565</td>\n",
              "      <td>11.169332</td>\n",
              "      <td>4.673542</td>\n",
              "      <td>0.498603</td>\n",
              "      <td>0.497637</td>\n",
              "      <td>0.452127</td>\n",
              "    </tr>\n",
              "    <tr>\n",
              "      <th>min</th>\n",
              "      <td>1998.000000</td>\n",
              "      <td>1.710000e+02</td>\n",
              "      <td>1.000000</td>\n",
              "      <td>624.000000</td>\n",
              "      <td>34.200000</td>\n",
              "      <td>2.000000</td>\n",
              "      <td>0.440000</td>\n",
              "      <td>6.400000</td>\n",
              "      <td>0.000000</td>\n",
              "      <td>0.000000</td>\n",
              "      <td>0.000000</td>\n",
              "    </tr>\n",
              "    <tr>\n",
              "      <th>25%</th>\n",
              "      <td>2012.000000</td>\n",
              "      <td>3.355000e+04</td>\n",
              "      <td>1.000000</td>\n",
              "      <td>1198.000000</td>\n",
              "      <td>75.000000</td>\n",
              "      <td>5.000000</td>\n",
              "      <td>3.500000</td>\n",
              "      <td>16.100000</td>\n",
              "      <td>0.000000</td>\n",
              "      <td>0.000000</td>\n",
              "      <td>0.000000</td>\n",
              "    </tr>\n",
              "    <tr>\n",
              "      <th>50%</th>\n",
              "      <td>2014.000000</td>\n",
              "      <td>5.261800e+04</td>\n",
              "      <td>1.000000</td>\n",
              "      <td>1493.000000</td>\n",
              "      <td>94.000000</td>\n",
              "      <td>5.000000</td>\n",
              "      <td>5.700000</td>\n",
              "      <td>18.900000</td>\n",
              "      <td>1.000000</td>\n",
              "      <td>0.000000</td>\n",
              "      <td>1.000000</td>\n",
              "    </tr>\n",
              "    <tr>\n",
              "      <th>75%</th>\n",
              "      <td>2016.000000</td>\n",
              "      <td>7.241100e+04</td>\n",
              "      <td>1.000000</td>\n",
              "      <td>1984.000000</td>\n",
              "      <td>138.100000</td>\n",
              "      <td>5.000000</td>\n",
              "      <td>9.990000</td>\n",
              "      <td>22.644444</td>\n",
              "      <td>1.000000</td>\n",
              "      <td>1.000000</td>\n",
              "      <td>1.000000</td>\n",
              "    </tr>\n",
              "    <tr>\n",
              "      <th>max</th>\n",
              "      <td>2019.000000</td>\n",
              "      <td>6.500000e+06</td>\n",
              "      <td>4.000000</td>\n",
              "      <td>5998.000000</td>\n",
              "      <td>560.000000</td>\n",
              "      <td>10.000000</td>\n",
              "      <td>160.000000</td>\n",
              "      <td>31.555556</td>\n",
              "      <td>1.000000</td>\n",
              "      <td>1.000000</td>\n",
              "      <td>1.000000</td>\n",
              "    </tr>\n",
              "  </tbody>\n",
              "</table>\n",
              "</div>"
            ],
            "text/plain": [
              "              Year  Kilometers_Driven  ...  Fuel_Type_Petrol  Transmission_Manual\n",
              "count  5869.000000       5.869000e+03  ...       5869.000000          5869.000000\n",
              "mean   2013.474698       5.836582e+04  ...          0.451014             0.713580\n",
              "std       3.160539       9.220104e+04  ...          0.497637             0.452127\n",
              "min    1998.000000       1.710000e+02  ...          0.000000             0.000000\n",
              "25%    2012.000000       3.355000e+04  ...          0.000000             0.000000\n",
              "50%    2014.000000       5.261800e+04  ...          0.000000             1.000000\n",
              "75%    2016.000000       7.241100e+04  ...          1.000000             1.000000\n",
              "max    2019.000000       6.500000e+06  ...          1.000000             1.000000\n",
              "\n",
              "[8 rows x 11 columns]"
            ]
          },
          "metadata": {
            "tags": []
          },
          "execution_count": 1948
        }
      ]
    },
    {
      "cell_type": "markdown",
      "metadata": {
        "id": "rCIMDxYrZLBQ"
      },
      "source": [
        "'Owner_Type','Fuel_Type_Diesel','Fuel_Type_Petrol','Transmission_Manual'については、エンコーディングした後なので問題ありません。\r\n",
        "\r\n",
        "'Year','Engine','Power','Seats','Price','Mileage_kmpd'については、最大,最小ともに法外な値ではありませんが、\r\n",
        "\r\n",
        "'Price'の最大値付近については、一応誤入力でないかどうか、'Manufacturer'を確認し、高級車であるかどうか確認します。\r\n",
        "\r\n",
        "'Kilometers_Driven'については最大値が 650万km と大きすぎ、ギネス記録を超えています。\r\n",
        "\r\n",
        "#####参考文献"
      ]
    },
    {
      "cell_type": "markdown",
      "metadata": {
        "id": "6uOe3Dx-ZLBQ"
      },
      "source": [
        "\r\n",
        "\r\n",
        "8.    VOLVO\r\n",
        "  \r\n",
        "  Blog > 全店 > Whats VOLVO\r\n",
        "\r\n",
        "  1台の乗用車でもっとも長く走行したギネス記録を知っていますか？ (2018.04.19)\r\n",
        "\r\n",
        "  [サイトへのリンク https://www.sweden-cars.jp/blog/...](https://www.sweden-cars.jp/blog/1%E5%8F%B0%E3%81%AE%E4%B9%97%E7%94%A8%E8%BB%8A%E3%81%A7%E3%82%82%E3%81%A3%E3%81%A8%E3%82%82%E9%95%B7%E3%81%8F%E8%B5%B0%E8%A1%8C%E3%81%97%E3%81%9F%E3%82%AE%E3%83%8D%E3%82%B9%E8%A8%98%E9%8C%B2%E3%82%92%E7%9F%A5%E3%81%A3%E3%81%A6%E3%81%84%E3%81%BE%E3%81%99%E3%81%8B%EF%BC%9F/#:~:text=1%E5%8F%B0%E3%81%AE%E4%B9%97%E7%94%A8%E8%BB%8A%E3%81%8C,%E3%81%AB%E8%AA%8D%E5%AE%9A%E3%81%95%E3%82%8C%E3%81%BE%E3%81%97%E3%81%9F%E3%80%82)\r\n"
      ]
    },
    {
      "cell_type": "markdown",
      "metadata": {
        "id": "Q0lwhwiIZLBQ"
      },
      "source": [
        "####誤入力だと思われるものの削除"
      ]
    },
    {
      "cell_type": "markdown",
      "metadata": {
        "id": "v9asGmcuHq_N"
      },
      "source": [
        "#####'Price'の確認"
      ]
    },
    {
      "cell_type": "markdown",
      "metadata": {
        "id": "snqpa7oJHRYg"
      },
      "source": [
        "'Price'の大きい順に表示してみます。"
      ]
    },
    {
      "cell_type": "code",
      "metadata": {
        "colab": {
          "base_uri": "https://localhost:8080/",
          "height": 0
        },
        "id": "vU45OXZMZLBR",
        "outputId": "c98191b4-ff56-4c04-ad9e-8d161954c3f5"
      },
      "source": [
        "df_price=df.sort_values('Price',ascending=False)\r\n",
        "df_price.head(10)"
      ],
      "execution_count": 1949,
      "outputs": [
        {
          "output_type": "execute_result",
          "data": {
            "text/html": [
              "<div>\n",
              "<style scoped>\n",
              "    .dataframe tbody tr th:only-of-type {\n",
              "        vertical-align: middle;\n",
              "    }\n",
              "\n",
              "    .dataframe tbody tr th {\n",
              "        vertical-align: top;\n",
              "    }\n",
              "\n",
              "    .dataframe thead th {\n",
              "        text-align: right;\n",
              "    }\n",
              "</style>\n",
              "<table border=\"1\" class=\"dataframe\">\n",
              "  <thead>\n",
              "    <tr style=\"text-align: right;\">\n",
              "      <th></th>\n",
              "      <th>Name</th>\n",
              "      <th>Location</th>\n",
              "      <th>Year</th>\n",
              "      <th>Kilometers_Driven</th>\n",
              "      <th>Owner_Type</th>\n",
              "      <th>Engine</th>\n",
              "      <th>Power</th>\n",
              "      <th>Seats</th>\n",
              "      <th>Price</th>\n",
              "      <th>Mileage_kmpd</th>\n",
              "      <th>Manufacturer</th>\n",
              "      <th>Fuel_Type_Diesel</th>\n",
              "      <th>Fuel_Type_Petrol</th>\n",
              "      <th>Transmission_Manual</th>\n",
              "    </tr>\n",
              "  </thead>\n",
              "  <tbody>\n",
              "    <tr>\n",
              "      <th>4079</th>\n",
              "      <td>Land Rover Range Rover 3.0 Diesel LWB Vogue</td>\n",
              "      <td>Hyderabad</td>\n",
              "      <td>2017</td>\n",
              "      <td>25000</td>\n",
              "      <td>1</td>\n",
              "      <td>2993.0</td>\n",
              "      <td>255.00</td>\n",
              "      <td>5.0</td>\n",
              "      <td>160.00</td>\n",
              "      <td>14.811111</td>\n",
              "      <td>Land</td>\n",
              "      <td>1</td>\n",
              "      <td>0</td>\n",
              "      <td>0</td>\n",
              "    </tr>\n",
              "    <tr>\n",
              "      <th>5781</th>\n",
              "      <td>Lamborghini Gallardo Coupe</td>\n",
              "      <td>Delhi</td>\n",
              "      <td>2011</td>\n",
              "      <td>6500</td>\n",
              "      <td>3</td>\n",
              "      <td>5204.0</td>\n",
              "      <td>560.00</td>\n",
              "      <td>2.0</td>\n",
              "      <td>120.00</td>\n",
              "      <td>6.400000</td>\n",
              "      <td>Lamborghini</td>\n",
              "      <td>0</td>\n",
              "      <td>1</td>\n",
              "      <td>0</td>\n",
              "    </tr>\n",
              "    <tr>\n",
              "      <th>5919</th>\n",
              "      <td>Jaguar F Type 5.0 V8 S</td>\n",
              "      <td>Hyderabad</td>\n",
              "      <td>2015</td>\n",
              "      <td>8000</td>\n",
              "      <td>1</td>\n",
              "      <td>5000.0</td>\n",
              "      <td>488.10</td>\n",
              "      <td>2.0</td>\n",
              "      <td>100.00</td>\n",
              "      <td>12.500000</td>\n",
              "      <td>Jaguar</td>\n",
              "      <td>0</td>\n",
              "      <td>1</td>\n",
              "      <td>0</td>\n",
              "    </tr>\n",
              "    <tr>\n",
              "      <th>1505</th>\n",
              "      <td>Land Rover Range Rover Sport SE</td>\n",
              "      <td>Kochi</td>\n",
              "      <td>2019</td>\n",
              "      <td>26013</td>\n",
              "      <td>1</td>\n",
              "      <td>2993.0</td>\n",
              "      <td>255.00</td>\n",
              "      <td>5.0</td>\n",
              "      <td>97.07</td>\n",
              "      <td>14.055556</td>\n",
              "      <td>Land</td>\n",
              "      <td>1</td>\n",
              "      <td>0</td>\n",
              "      <td>0</td>\n",
              "    </tr>\n",
              "    <tr>\n",
              "      <th>1974</th>\n",
              "      <td>BMW 7 Series 740Li</td>\n",
              "      <td>Coimbatore</td>\n",
              "      <td>2018</td>\n",
              "      <td>28060</td>\n",
              "      <td>1</td>\n",
              "      <td>2979.0</td>\n",
              "      <td>320.00</td>\n",
              "      <td>5.0</td>\n",
              "      <td>93.67</td>\n",
              "      <td>12.050000</td>\n",
              "      <td>BMW</td>\n",
              "      <td>0</td>\n",
              "      <td>1</td>\n",
              "      <td>0</td>\n",
              "    </tr>\n",
              "    <tr>\n",
              "      <th>1984</th>\n",
              "      <td>BMW 7 Series 740Li</td>\n",
              "      <td>Bangalore</td>\n",
              "      <td>2017</td>\n",
              "      <td>17465</td>\n",
              "      <td>1</td>\n",
              "      <td>2979.0</td>\n",
              "      <td>320.00</td>\n",
              "      <td>5.0</td>\n",
              "      <td>93.00</td>\n",
              "      <td>12.050000</td>\n",
              "      <td>BMW</td>\n",
              "      <td>0</td>\n",
              "      <td>1</td>\n",
              "      <td>0</td>\n",
              "    </tr>\n",
              "    <tr>\n",
              "      <th>4691</th>\n",
              "      <td>Mercedes-Benz SLK-Class 55 AMG</td>\n",
              "      <td>Bangalore</td>\n",
              "      <td>2014</td>\n",
              "      <td>3000</td>\n",
              "      <td>2</td>\n",
              "      <td>5461.0</td>\n",
              "      <td>421.00</td>\n",
              "      <td>2.0</td>\n",
              "      <td>90.00</td>\n",
              "      <td>12.000000</td>\n",
              "      <td>Mercedes-Benz</td>\n",
              "      <td>0</td>\n",
              "      <td>1</td>\n",
              "      <td>0</td>\n",
              "    </tr>\n",
              "    <tr>\n",
              "      <th>5535</th>\n",
              "      <td>BMW X6 xDrive 40d M Sport</td>\n",
              "      <td>Ahmedabad</td>\n",
              "      <td>2015</td>\n",
              "      <td>97003</td>\n",
              "      <td>1</td>\n",
              "      <td>2993.0</td>\n",
              "      <td>308.43</td>\n",
              "      <td>5.0</td>\n",
              "      <td>85.00</td>\n",
              "      <td>17.633333</td>\n",
              "      <td>BMW</td>\n",
              "      <td>1</td>\n",
              "      <td>0</td>\n",
              "      <td>0</td>\n",
              "    </tr>\n",
              "    <tr>\n",
              "      <th>2095</th>\n",
              "      <td>Mercedes-Benz SLC 43 AMG</td>\n",
              "      <td>Coimbatore</td>\n",
              "      <td>2019</td>\n",
              "      <td>2526</td>\n",
              "      <td>1</td>\n",
              "      <td>2996.0</td>\n",
              "      <td>362.07</td>\n",
              "      <td>2.0</td>\n",
              "      <td>83.96</td>\n",
              "      <td>19.000000</td>\n",
              "      <td>Mercedes-Benz</td>\n",
              "      <td>0</td>\n",
              "      <td>1</td>\n",
              "      <td>0</td>\n",
              "    </tr>\n",
              "    <tr>\n",
              "      <th>1885</th>\n",
              "      <td>Mercedes-Benz GLS 350d Grand Edition</td>\n",
              "      <td>Delhi</td>\n",
              "      <td>2018</td>\n",
              "      <td>6000</td>\n",
              "      <td>1</td>\n",
              "      <td>2987.0</td>\n",
              "      <td>258.00</td>\n",
              "      <td>7.0</td>\n",
              "      <td>79.00</td>\n",
              "      <td>12.222222</td>\n",
              "      <td>Mercedes-Benz</td>\n",
              "      <td>1</td>\n",
              "      <td>0</td>\n",
              "      <td>0</td>\n",
              "    </tr>\n",
              "  </tbody>\n",
              "</table>\n",
              "</div>"
            ],
            "text/plain": [
              "                                             Name  ... Transmission_Manual\n",
              "4079  Land Rover Range Rover 3.0 Diesel LWB Vogue  ...                   0\n",
              "5781                   Lamborghini Gallardo Coupe  ...                   0\n",
              "5919                       Jaguar F Type 5.0 V8 S  ...                   0\n",
              "1505              Land Rover Range Rover Sport SE  ...                   0\n",
              "1974                           BMW 7 Series 740Li  ...                   0\n",
              "1984                           BMW 7 Series 740Li  ...                   0\n",
              "4691               Mercedes-Benz SLK-Class 55 AMG  ...                   0\n",
              "5535                    BMW X6 xDrive 40d M Sport  ...                   0\n",
              "2095                     Mercedes-Benz SLC 43 AMG  ...                   0\n",
              "1885         Mercedes-Benz GLS 350d Grand Edition  ...                   0\n",
              "\n",
              "[10 rows x 14 columns]"
            ]
          },
          "metadata": {
            "tags": []
          },
          "execution_count": 1949
        }
      ]
    },
    {
      "cell_type": "markdown",
      "metadata": {
        "id": "D1XuALx8ZLBR"
      },
      "source": [
        "高級車種が並んでいるので誤入力ではないないかと思います。\r\n",
        "\r\n",
        "'Manufacture'が\"Land\"になっている車ついては、\"Land Rover\"の\"Rover\"が落ちてしまった形です。\"Land Rover\"製でないものがないか確認します。"
      ]
    },
    {
      "cell_type": "code",
      "metadata": {
        "colab": {
          "base_uri": "https://localhost:8080/"
        },
        "id": "M6j7vwkSZLBR",
        "outputId": "ebd03c80-686c-4e55-c151-0a8c24351489"
      },
      "source": [
        "df_land=df_name_split[df_name_split[0]==\"Land\"]\r\n",
        "df_land[1].value_counts()"
      ],
      "execution_count": 1950,
      "outputs": [
        {
          "output_type": "execute_result",
          "data": {
            "text/plain": [
              "Rover    51\n",
              "Name: 1, dtype: int64"
            ]
          },
          "metadata": {
            "tags": []
          },
          "execution_count": 1950
        }
      ]
    },
    {
      "cell_type": "markdown",
      "metadata": {
        "id": "InL2XcS2ZLBR"
      },
      "source": [
        "'Manufacture'が\"Land\"になっている車はすべて\"Land Rover\"製であると確認できたので、\"Land\"が\"Land Rover\"を表すものとしてそのまま使います。"
      ]
    },
    {
      "cell_type": "markdown",
      "metadata": {
        "id": "NkZ2rbwsH1eg"
      },
      "source": [
        "#####'Kilometers_Driven'の確認"
      ]
    },
    {
      "cell_type": "code",
      "metadata": {
        "colab": {
          "base_uri": "https://localhost:8080/",
          "height": 0
        },
        "id": "G4wls901ZLBS",
        "outputId": "96e265af-d5bc-43ef-b9ce-5bfd1cf00f8b"
      },
      "source": [
        "df_kilo=df.sort_values('Kilometers_Driven',ascending=False)\r\n",
        "df_kilo.head()"
      ],
      "execution_count": 1951,
      "outputs": [
        {
          "output_type": "execute_result",
          "data": {
            "text/html": [
              "<div>\n",
              "<style scoped>\n",
              "    .dataframe tbody tr th:only-of-type {\n",
              "        vertical-align: middle;\n",
              "    }\n",
              "\n",
              "    .dataframe tbody tr th {\n",
              "        vertical-align: top;\n",
              "    }\n",
              "\n",
              "    .dataframe thead th {\n",
              "        text-align: right;\n",
              "    }\n",
              "</style>\n",
              "<table border=\"1\" class=\"dataframe\">\n",
              "  <thead>\n",
              "    <tr style=\"text-align: right;\">\n",
              "      <th></th>\n",
              "      <th>Name</th>\n",
              "      <th>Location</th>\n",
              "      <th>Year</th>\n",
              "      <th>Kilometers_Driven</th>\n",
              "      <th>Owner_Type</th>\n",
              "      <th>Engine</th>\n",
              "      <th>Power</th>\n",
              "      <th>Seats</th>\n",
              "      <th>Price</th>\n",
              "      <th>Mileage_kmpd</th>\n",
              "      <th>Manufacturer</th>\n",
              "      <th>Fuel_Type_Diesel</th>\n",
              "      <th>Fuel_Type_Petrol</th>\n",
              "      <th>Transmission_Manual</th>\n",
              "    </tr>\n",
              "  </thead>\n",
              "  <tbody>\n",
              "    <tr>\n",
              "      <th>2328</th>\n",
              "      <td>BMW X5 xDrive 30d M Sport</td>\n",
              "      <td>Chennai</td>\n",
              "      <td>2017</td>\n",
              "      <td>6500000</td>\n",
              "      <td>1</td>\n",
              "      <td>2993.0</td>\n",
              "      <td>258.0</td>\n",
              "      <td>5.0</td>\n",
              "      <td>65.0</td>\n",
              "      <td>17.744444</td>\n",
              "      <td>BMW</td>\n",
              "      <td>1</td>\n",
              "      <td>0</td>\n",
              "      <td>0</td>\n",
              "    </tr>\n",
              "    <tr>\n",
              "      <th>340</th>\n",
              "      <td>Skoda Octavia Ambition Plus 2.0 TDI AT</td>\n",
              "      <td>Kolkata</td>\n",
              "      <td>2013</td>\n",
              "      <td>775000</td>\n",
              "      <td>1</td>\n",
              "      <td>1968.0</td>\n",
              "      <td>141.0</td>\n",
              "      <td>5.0</td>\n",
              "      <td>7.5</td>\n",
              "      <td>21.444444</td>\n",
              "      <td>Skoda</td>\n",
              "      <td>1</td>\n",
              "      <td>0</td>\n",
              "      <td>0</td>\n",
              "    </tr>\n",
              "    <tr>\n",
              "      <th>1860</th>\n",
              "      <td>Volkswagen Vento Diesel Highline</td>\n",
              "      <td>Chennai</td>\n",
              "      <td>2013</td>\n",
              "      <td>720000</td>\n",
              "      <td>1</td>\n",
              "      <td>1598.0</td>\n",
              "      <td>103.6</td>\n",
              "      <td>5.0</td>\n",
              "      <td>5.9</td>\n",
              "      <td>22.822222</td>\n",
              "      <td>Volkswagen</td>\n",
              "      <td>1</td>\n",
              "      <td>0</td>\n",
              "      <td>1</td>\n",
              "    </tr>\n",
              "    <tr>\n",
              "      <th>358</th>\n",
              "      <td>Hyundai i10 Magna 1.2</td>\n",
              "      <td>Chennai</td>\n",
              "      <td>2009</td>\n",
              "      <td>620000</td>\n",
              "      <td>1</td>\n",
              "      <td>1197.0</td>\n",
              "      <td>78.9</td>\n",
              "      <td>5.0</td>\n",
              "      <td>2.7</td>\n",
              "      <td>20.360000</td>\n",
              "      <td>Hyundai</td>\n",
              "      <td>0</td>\n",
              "      <td>1</td>\n",
              "      <td>1</td>\n",
              "    </tr>\n",
              "    <tr>\n",
              "      <th>3092</th>\n",
              "      <td>Honda City i VTEC SV</td>\n",
              "      <td>Kolkata</td>\n",
              "      <td>2015</td>\n",
              "      <td>480000</td>\n",
              "      <td>1</td>\n",
              "      <td>1497.0</td>\n",
              "      <td>117.3</td>\n",
              "      <td>5.0</td>\n",
              "      <td>5.0</td>\n",
              "      <td>17.400000</td>\n",
              "      <td>Honda</td>\n",
              "      <td>0</td>\n",
              "      <td>1</td>\n",
              "      <td>1</td>\n",
              "    </tr>\n",
              "  </tbody>\n",
              "</table>\n",
              "</div>"
            ],
            "text/plain": [
              "                                        Name  ... Transmission_Manual\n",
              "2328               BMW X5 xDrive 30d M Sport  ...                   0\n",
              "340   Skoda Octavia Ambition Plus 2.0 TDI AT  ...                   0\n",
              "1860        Volkswagen Vento Diesel Highline  ...                   1\n",
              "358                    Hyundai i10 Magna 1.2  ...                   1\n",
              "3092                    Honda City i VTEC SV  ...                   1\n",
              "\n",
              "[5 rows x 14 columns]"
            ]
          },
          "metadata": {
            "tags": []
          },
          "execution_count": 1951
        }
      ]
    },
    {
      "cell_type": "markdown",
      "metadata": {
        "id": "3vzw8_QYZLBS"
      },
      "source": [
        "走行距離650万kmはおそらく値段650万ルピーと混同した誤入力だと思われるのでこの行を削除します。\r\n",
        "\r\n",
        "その下の77.5万kmについては、ありうる数字なのでそのまま使います。\r\n",
        "\r\n",
        "#####参考文献"
      ]
    },
    {
      "cell_type": "markdown",
      "metadata": {
        "id": "7w_LK9zCZLBS"
      },
      "source": [
        "9.   くるまのニュース\r\n",
        "  \r\n",
        "  クルマの走行距離の限界は？ 90万キロ超のクルマも実在!? 自動車の寿命っていったいいつ？\r\n",
        "  \r\n",
        "  https://kuruma-news.jp/post/235572\r\n",
        "\r\n",
        "  [アクセス日　2021/02/02]\r\n",
        "\r\n",
        "\r\n"
      ]
    },
    {
      "cell_type": "markdown",
      "metadata": {
        "id": "5x2sIh8XINDC"
      },
      "source": [
        "####'Kilometers_Driven'の誤入力の削除"
      ]
    },
    {
      "cell_type": "code",
      "metadata": {
        "colab": {
          "base_uri": "https://localhost:8080/",
          "height": 0
        },
        "id": "PZ62CxjDZLBS",
        "outputId": "7e342154-d73d-4c69-cc95-c4ddc58ccd68"
      },
      "source": [
        "df=df[df['Kilometers_Driven']<1000000]\r\n",
        "df.describe()"
      ],
      "execution_count": 1952,
      "outputs": [
        {
          "output_type": "execute_result",
          "data": {
            "text/html": [
              "<div>\n",
              "<style scoped>\n",
              "    .dataframe tbody tr th:only-of-type {\n",
              "        vertical-align: middle;\n",
              "    }\n",
              "\n",
              "    .dataframe tbody tr th {\n",
              "        vertical-align: top;\n",
              "    }\n",
              "\n",
              "    .dataframe thead th {\n",
              "        text-align: right;\n",
              "    }\n",
              "</style>\n",
              "<table border=\"1\" class=\"dataframe\">\n",
              "  <thead>\n",
              "    <tr style=\"text-align: right;\">\n",
              "      <th></th>\n",
              "      <th>Year</th>\n",
              "      <th>Kilometers_Driven</th>\n",
              "      <th>Owner_Type</th>\n",
              "      <th>Engine</th>\n",
              "      <th>Power</th>\n",
              "      <th>Seats</th>\n",
              "      <th>Price</th>\n",
              "      <th>Mileage_kmpd</th>\n",
              "      <th>Fuel_Type_Diesel</th>\n",
              "      <th>Fuel_Type_Petrol</th>\n",
              "      <th>Transmission_Manual</th>\n",
              "    </tr>\n",
              "  </thead>\n",
              "  <tbody>\n",
              "    <tr>\n",
              "      <th>count</th>\n",
              "      <td>5868.000000</td>\n",
              "      <td>5868.000000</td>\n",
              "      <td>5868.000000</td>\n",
              "      <td>5868.000000</td>\n",
              "      <td>5868.000000</td>\n",
              "      <td>5868.000000</td>\n",
              "      <td>5868.000000</td>\n",
              "      <td>5868.000000</td>\n",
              "      <td>5868.000000</td>\n",
              "      <td>5868.000000</td>\n",
              "      <td>5868.000000</td>\n",
              "    </tr>\n",
              "    <tr>\n",
              "      <th>mean</th>\n",
              "      <td>2013.474097</td>\n",
              "      <td>57268.062713</td>\n",
              "      <td>1.195467</td>\n",
              "      <td>1621.421438</td>\n",
              "      <td>112.934789</td>\n",
              "      <td>5.284254</td>\n",
              "      <td>9.512682</td>\n",
              "      <td>19.416901</td>\n",
              "      <td>0.537832</td>\n",
              "      <td>0.451091</td>\n",
              "      <td>0.713701</td>\n",
              "    </tr>\n",
              "    <tr>\n",
              "      <th>std</th>\n",
              "      <td>3.160473</td>\n",
              "      <td>37798.479330</td>\n",
              "      <td>0.446336</td>\n",
              "      <td>597.986537</td>\n",
              "      <td>53.740006</td>\n",
              "      <td>0.805625</td>\n",
              "      <td>11.146773</td>\n",
              "      <td>4.673889</td>\n",
              "      <td>0.498609</td>\n",
              "      <td>0.497645</td>\n",
              "      <td>0.452069</td>\n",
              "    </tr>\n",
              "    <tr>\n",
              "      <th>min</th>\n",
              "      <td>1998.000000</td>\n",
              "      <td>171.000000</td>\n",
              "      <td>1.000000</td>\n",
              "      <td>624.000000</td>\n",
              "      <td>34.200000</td>\n",
              "      <td>2.000000</td>\n",
              "      <td>0.440000</td>\n",
              "      <td>6.400000</td>\n",
              "      <td>0.000000</td>\n",
              "      <td>0.000000</td>\n",
              "      <td>0.000000</td>\n",
              "    </tr>\n",
              "    <tr>\n",
              "      <th>25%</th>\n",
              "      <td>2012.000000</td>\n",
              "      <td>33541.750000</td>\n",
              "      <td>1.000000</td>\n",
              "      <td>1198.000000</td>\n",
              "      <td>75.000000</td>\n",
              "      <td>5.000000</td>\n",
              "      <td>3.500000</td>\n",
              "      <td>16.100000</td>\n",
              "      <td>0.000000</td>\n",
              "      <td>0.000000</td>\n",
              "      <td>0.000000</td>\n",
              "    </tr>\n",
              "    <tr>\n",
              "      <th>50%</th>\n",
              "      <td>2014.000000</td>\n",
              "      <td>52609.000000</td>\n",
              "      <td>1.000000</td>\n",
              "      <td>1493.000000</td>\n",
              "      <td>94.000000</td>\n",
              "      <td>5.000000</td>\n",
              "      <td>5.700000</td>\n",
              "      <td>18.900000</td>\n",
              "      <td>1.000000</td>\n",
              "      <td>0.000000</td>\n",
              "      <td>1.000000</td>\n",
              "    </tr>\n",
              "    <tr>\n",
              "      <th>75%</th>\n",
              "      <td>2016.000000</td>\n",
              "      <td>72402.750000</td>\n",
              "      <td>1.000000</td>\n",
              "      <td>1984.000000</td>\n",
              "      <td>138.100000</td>\n",
              "      <td>5.000000</td>\n",
              "      <td>9.990000</td>\n",
              "      <td>22.644444</td>\n",
              "      <td>1.000000</td>\n",
              "      <td>1.000000</td>\n",
              "      <td>1.000000</td>\n",
              "    </tr>\n",
              "    <tr>\n",
              "      <th>max</th>\n",
              "      <td>2019.000000</td>\n",
              "      <td>775000.000000</td>\n",
              "      <td>4.000000</td>\n",
              "      <td>5998.000000</td>\n",
              "      <td>560.000000</td>\n",
              "      <td>10.000000</td>\n",
              "      <td>160.000000</td>\n",
              "      <td>31.555556</td>\n",
              "      <td>1.000000</td>\n",
              "      <td>1.000000</td>\n",
              "      <td>1.000000</td>\n",
              "    </tr>\n",
              "  </tbody>\n",
              "</table>\n",
              "</div>"
            ],
            "text/plain": [
              "              Year  Kilometers_Driven  ...  Fuel_Type_Petrol  Transmission_Manual\n",
              "count  5868.000000        5868.000000  ...       5868.000000          5868.000000\n",
              "mean   2013.474097       57268.062713  ...          0.451091             0.713701\n",
              "std       3.160473       37798.479330  ...          0.497645             0.452069\n",
              "min    1998.000000         171.000000  ...          0.000000             0.000000\n",
              "25%    2012.000000       33541.750000  ...          0.000000             0.000000\n",
              "50%    2014.000000       52609.000000  ...          0.000000             1.000000\n",
              "75%    2016.000000       72402.750000  ...          1.000000             1.000000\n",
              "max    2019.000000      775000.000000  ...          1.000000             1.000000\n",
              "\n",
              "[8 rows x 11 columns]"
            ]
          },
          "metadata": {
            "tags": []
          },
          "execution_count": 1952
        }
      ]
    },
    {
      "cell_type": "markdown",
      "metadata": {
        "id": "_ujqgxakZLBT"
      },
      "source": [
        "####外れ値を除外して'Price'の範囲を絞り込み"
      ]
    },
    {
      "cell_type": "code",
      "metadata": {
        "id": "s-wsUwRTZLBT"
      },
      "source": [
        "def histo(df,col='Price',size=(12,8),bins=100):\r\n",
        "  plt.figure(figsize=size)\r\n",
        "  plt.hist(df[col],bins=bins)\r\n",
        "  plt.xlabel(col)\r\n",
        "  plt.ylabel(\"Frequency\")\r\n",
        "  plt.title(\"Histogram of '\"+str(col)+\"'\")\r\n",
        "  plt.show()"
      ],
      "execution_count": 1953,
      "outputs": []
    },
    {
      "cell_type": "code",
      "metadata": {
        "colab": {
          "base_uri": "https://localhost:8080/",
          "height": 0
        },
        "id": "ASvloQdTM1ON",
        "outputId": "93f95510-2d9b-4398-b7b0-e00548a18ec4"
      },
      "source": [
        "histo(df)"
      ],
      "execution_count": 1954,
      "outputs": [
        {
          "output_type": "display_data",
          "data": {
            "image/png": "[encoded data removed]",
            "text/plain": [
              "<Figure size 864x576 with 1 Axes>"
            ]
          },
          "metadata": {
            "tags": []
          }
        }
      ]
    },
    {
      "cell_type": "markdown",
      "metadata": {
        "id": "NDK-R0QCDQ_v"
      },
      "source": [
        "今回用いる線形回帰モデルは外れ値に弱いので、 今回は値段の最大値を設け、高級車を除外します。\r\n",
        "\r\n",
        "'Price'が60未満のデータに絞ります。"
      ]
    },
    {
      "cell_type": "code",
      "metadata": {
        "id": "IZLa5vnINuS5",
        "colab": {
          "base_uri": "https://localhost:8080/",
          "height": 0
        },
        "outputId": "8959055d-eeac-4356-994b-f5a076e23053"
      },
      "source": [
        "df=df[df['Price']<60]\r\n",
        "histo(df)"
      ],
      "execution_count": 1955,
      "outputs": [
        {
          "output_type": "display_data",
          "data": {
            "image/png": "[encoded data removed]",
            "text/plain": [
              "<Figure size 864x576 with 1 Axes>"
            ]
          },
          "metadata": {
            "tags": []
          }
        }
      ]
    },
    {
      "cell_type": "markdown",
      "metadata": {
        "id": "TGui1-hKN2xp"
      },
      "source": [
        "まだかなり偏っているので、四分位範囲を用いてさらにデータを絞り込んでみます。\r\n",
        "\r\n",
        "まず、四分位範囲(IQR)の1.5倍を上下限として外れ値を落とす関数を作成します。"
      ]
    },
    {
      "cell_type": "code",
      "metadata": {
        "id": "KHTJpwCKN4hm"
      },
      "source": [
        "def outlier_iqr(df,columns=None):\r\n",
        "  if columns==None:\r\n",
        "    columns=df.columns #列を引数に渡さないときはすべての列で実行\r\n",
        "  \r\n",
        "  for col in columns: #列はリストで指定により複数列同時に処理可能\r\n",
        "    q1=df[col].describe()['25%']\r\n",
        "    q3=df[col].describe()['75%']\r\n",
        "    iqr=q3-q1\r\n",
        "\r\n",
        "    outlier_min=q1-iqr*1.5\r\n",
        "    outlier_max=q3+iqr*1.5\r\n",
        "\r\n",
        "    df=df[(df[col]>=outlier_min) & (df[col]<=outlier_max)]\r\n",
        "    \r\n",
        "  return df"
      ],
      "execution_count": 1956,
      "outputs": []
    },
    {
      "cell_type": "markdown",
      "metadata": {
        "id": "EpUbVH3nOEzj"
      },
      "source": [
        "上の関数を適用し、四分位範囲(IQR)の1.5倍を上下限として外れ値を落とします。 \r\n",
        "\r\n",
        "データフレームの行数や各特徴量分布の変化も確認します。\r\n",
        "\r\n"
      ]
    },
    {
      "cell_type": "code",
      "metadata": {
        "id": "_4JziP1nN7aJ",
        "colab": {
          "base_uri": "https://localhost:8080/"
        },
        "outputId": "e8930137-8b2b-416a-9586-873f599bd04f"
      },
      "source": [
        "print('before',df.shape)\r\n",
        "df =outlier_iqr( df,columns=['Price'])\r\n",
        "print('after',df.shape)"
      ],
      "execution_count": 1957,
      "outputs": [
        {
          "output_type": "stream",
          "text": [
            "before (5823, 14)\n",
            "after (5149, 14)\n"
          ],
          "name": "stdout"
        }
      ]
    },
    {
      "cell_type": "code",
      "metadata": {
        "colab": {
          "base_uri": "https://localhost:8080/",
          "height": 0
        },
        "id": "X3FK41_PGOxw",
        "outputId": "1ea576a6-bba5-4c83-a94e-8e69ed48fc61"
      },
      "source": [
        "df.describe()"
      ],
      "execution_count": 1958,
      "outputs": [
        {
          "output_type": "execute_result",
          "data": {
            "text/html": [
              "<div>\n",
              "<style scoped>\n",
              "    .dataframe tbody tr th:only-of-type {\n",
              "        vertical-align: middle;\n",
              "    }\n",
              "\n",
              "    .dataframe tbody tr th {\n",
              "        vertical-align: top;\n",
              "    }\n",
              "\n",
              "    .dataframe thead th {\n",
              "        text-align: right;\n",
              "    }\n",
              "</style>\n",
              "<table border=\"1\" class=\"dataframe\">\n",
              "  <thead>\n",
              "    <tr style=\"text-align: right;\">\n",
              "      <th></th>\n",
              "      <th>Year</th>\n",
              "      <th>Kilometers_Driven</th>\n",
              "      <th>Owner_Type</th>\n",
              "      <th>Engine</th>\n",
              "      <th>Power</th>\n",
              "      <th>Seats</th>\n",
              "      <th>Price</th>\n",
              "      <th>Mileage_kmpd</th>\n",
              "      <th>Fuel_Type_Diesel</th>\n",
              "      <th>Fuel_Type_Petrol</th>\n",
              "      <th>Transmission_Manual</th>\n",
              "    </tr>\n",
              "  </thead>\n",
              "  <tbody>\n",
              "    <tr>\n",
              "      <th>count</th>\n",
              "      <td>5149.000000</td>\n",
              "      <td>5149.000000</td>\n",
              "      <td>5149.000000</td>\n",
              "      <td>5149.000000</td>\n",
              "      <td>5149.000000</td>\n",
              "      <td>5149.000000</td>\n",
              "      <td>5149.000000</td>\n",
              "      <td>5149.000000</td>\n",
              "      <td>5149.000000</td>\n",
              "      <td>5149.000000</td>\n",
              "      <td>5149.000000</td>\n",
              "    </tr>\n",
              "    <tr>\n",
              "      <th>mean</th>\n",
              "      <td>2013.236551</td>\n",
              "      <td>59300.812002</td>\n",
              "      <td>1.206059</td>\n",
              "      <td>1504.184502</td>\n",
              "      <td>100.046028</td>\n",
              "      <td>5.282191</td>\n",
              "      <td>6.099367</td>\n",
              "      <td>19.792519</td>\n",
              "      <td>0.487862</td>\n",
              "      <td>0.499514</td>\n",
              "      <td>0.806759</td>\n",
              "    </tr>\n",
              "    <tr>\n",
              "      <th>std</th>\n",
              "      <td>3.207105</td>\n",
              "      <td>38950.320714</td>\n",
              "      <td>0.458531</td>\n",
              "      <td>489.789254</td>\n",
              "      <td>38.022607</td>\n",
              "      <td>0.777122</td>\n",
              "      <td>3.886772</td>\n",
              "      <td>4.667108</td>\n",
              "      <td>0.499901</td>\n",
              "      <td>0.500048</td>\n",
              "      <td>0.394879</td>\n",
              "    </tr>\n",
              "    <tr>\n",
              "      <th>min</th>\n",
              "      <td>1998.000000</td>\n",
              "      <td>171.000000</td>\n",
              "      <td>1.000000</td>\n",
              "      <td>624.000000</td>\n",
              "      <td>34.200000</td>\n",
              "      <td>4.000000</td>\n",
              "      <td>0.440000</td>\n",
              "      <td>8.300000</td>\n",
              "      <td>0.000000</td>\n",
              "      <td>0.000000</td>\n",
              "      <td>0.000000</td>\n",
              "    </tr>\n",
              "    <tr>\n",
              "      <th>25%</th>\n",
              "      <td>2011.000000</td>\n",
              "      <td>35000.000000</td>\n",
              "      <td>1.000000</td>\n",
              "      <td>1197.000000</td>\n",
              "      <td>74.000000</td>\n",
              "      <td>5.000000</td>\n",
              "      <td>3.300000</td>\n",
              "      <td>16.666667</td>\n",
              "      <td>0.000000</td>\n",
              "      <td>0.000000</td>\n",
              "      <td>1.000000</td>\n",
              "    </tr>\n",
              "    <tr>\n",
              "      <th>50%</th>\n",
              "      <td>2014.000000</td>\n",
              "      <td>55000.000000</td>\n",
              "      <td>1.000000</td>\n",
              "      <td>1396.000000</td>\n",
              "      <td>88.700000</td>\n",
              "      <td>5.000000</td>\n",
              "      <td>5.100000</td>\n",
              "      <td>18.900000</td>\n",
              "      <td>0.000000</td>\n",
              "      <td>0.000000</td>\n",
              "      <td>1.000000</td>\n",
              "    </tr>\n",
              "    <tr>\n",
              "      <th>75%</th>\n",
              "      <td>2016.000000</td>\n",
              "      <td>75000.000000</td>\n",
              "      <td>1.000000</td>\n",
              "      <td>1598.000000</td>\n",
              "      <td>118.000000</td>\n",
              "      <td>5.000000</td>\n",
              "      <td>7.690000</td>\n",
              "      <td>23.077778</td>\n",
              "      <td>1.000000</td>\n",
              "      <td>1.000000</td>\n",
              "      <td>1.000000</td>\n",
              "    </tr>\n",
              "    <tr>\n",
              "      <th>max</th>\n",
              "      <td>2019.000000</td>\n",
              "      <td>775000.000000</td>\n",
              "      <td>4.000000</td>\n",
              "      <td>4806.000000</td>\n",
              "      <td>500.000000</td>\n",
              "      <td>10.000000</td>\n",
              "      <td>19.050000</td>\n",
              "      <td>31.555556</td>\n",
              "      <td>1.000000</td>\n",
              "      <td>1.000000</td>\n",
              "      <td>1.000000</td>\n",
              "    </tr>\n",
              "  </tbody>\n",
              "</table>\n",
              "</div>"
            ],
            "text/plain": [
              "              Year  Kilometers_Driven  ...  Fuel_Type_Petrol  Transmission_Manual\n",
              "count  5149.000000        5149.000000  ...       5149.000000          5149.000000\n",
              "mean   2013.236551       59300.812002  ...          0.499514             0.806759\n",
              "std       3.207105       38950.320714  ...          0.500048             0.394879\n",
              "min    1998.000000         171.000000  ...          0.000000             0.000000\n",
              "25%    2011.000000       35000.000000  ...          0.000000             1.000000\n",
              "50%    2014.000000       55000.000000  ...          0.000000             1.000000\n",
              "75%    2016.000000       75000.000000  ...          1.000000             1.000000\n",
              "max    2019.000000      775000.000000  ...          1.000000             1.000000\n",
              "\n",
              "[8 rows x 11 columns]"
            ]
          },
          "metadata": {
            "tags": []
          },
          "execution_count": 1958
        }
      ]
    },
    {
      "cell_type": "code",
      "metadata": {
        "colab": {
          "base_uri": "https://localhost:8080/",
          "height": 0
        },
        "id": "JVGF0gmKEILL",
        "outputId": "7af6385b-4b46-482a-84e7-366c42510687"
      },
      "source": [
        "histo(df)"
      ],
      "execution_count": 1959,
      "outputs": [
        {
          "output_type": "display_data",
          "data": {
            "image/png": "[encoded data removed]",
            "text/plain": [
              "<Figure size 864x576 with 1 Axes>"
            ]
          },
          "metadata": {
            "tags": []
          }
        }
      ]
    },
    {
      "cell_type": "markdown",
      "metadata": {
        "id": "vBdTrzijFYrR"
      },
      "source": [
        "値段の最大値が19万ルピー(27万円ほど)になり、分布の偏りがかなり改善されました。\r\n",
        "\r\n",
        "ただし、高級車の推論には使えないモデルになります。"
      ]
    },
    {
      "cell_type": "markdown",
      "metadata": {
        "id": "5ncgxf3PZLBV"
      },
      "source": [
        "##訓練データとテストデータの分割"
      ]
    },
    {
      "cell_type": "code",
      "metadata": {
        "colab": {
          "base_uri": "https://localhost:8080/",
          "height": 0
        },
        "id": "vG-HswpVZLBV",
        "outputId": "9f3136fb-3ebf-460c-dcf8-9dcddaa1b7d0"
      },
      "source": [
        "df.head()"
      ],
      "execution_count": 1960,
      "outputs": [
        {
          "output_type": "execute_result",
          "data": {
            "text/html": [
              "<div>\n",
              "<style scoped>\n",
              "    .dataframe tbody tr th:only-of-type {\n",
              "        vertical-align: middle;\n",
              "    }\n",
              "\n",
              "    .dataframe tbody tr th {\n",
              "        vertical-align: top;\n",
              "    }\n",
              "\n",
              "    .dataframe thead th {\n",
              "        text-align: right;\n",
              "    }\n",
              "</style>\n",
              "<table border=\"1\" class=\"dataframe\">\n",
              "  <thead>\n",
              "    <tr style=\"text-align: right;\">\n",
              "      <th></th>\n",
              "      <th>Name</th>\n",
              "      <th>Location</th>\n",
              "      <th>Year</th>\n",
              "      <th>Kilometers_Driven</th>\n",
              "      <th>Owner_Type</th>\n",
              "      <th>Engine</th>\n",
              "      <th>Power</th>\n",
              "      <th>Seats</th>\n",
              "      <th>Price</th>\n",
              "      <th>Mileage_kmpd</th>\n",
              "      <th>Manufacturer</th>\n",
              "      <th>Fuel_Type_Diesel</th>\n",
              "      <th>Fuel_Type_Petrol</th>\n",
              "      <th>Transmission_Manual</th>\n",
              "    </tr>\n",
              "  </thead>\n",
              "  <tbody>\n",
              "    <tr>\n",
              "      <th>0</th>\n",
              "      <td>Maruti Wagon R LXI CNG</td>\n",
              "      <td>Mumbai</td>\n",
              "      <td>2010</td>\n",
              "      <td>72000</td>\n",
              "      <td>1</td>\n",
              "      <td>998.0</td>\n",
              "      <td>58.16</td>\n",
              "      <td>5.0</td>\n",
              "      <td>1.75</td>\n",
              "      <td>17.733333</td>\n",
              "      <td>Maruti</td>\n",
              "      <td>0</td>\n",
              "      <td>0</td>\n",
              "      <td>1</td>\n",
              "    </tr>\n",
              "    <tr>\n",
              "      <th>1</th>\n",
              "      <td>Hyundai Creta 1.6 CRDi SX Option</td>\n",
              "      <td>Pune</td>\n",
              "      <td>2015</td>\n",
              "      <td>41000</td>\n",
              "      <td>1</td>\n",
              "      <td>1582.0</td>\n",
              "      <td>126.20</td>\n",
              "      <td>5.0</td>\n",
              "      <td>12.50</td>\n",
              "      <td>21.855556</td>\n",
              "      <td>Hyundai</td>\n",
              "      <td>1</td>\n",
              "      <td>0</td>\n",
              "      <td>1</td>\n",
              "    </tr>\n",
              "    <tr>\n",
              "      <th>2</th>\n",
              "      <td>Honda Jazz V</td>\n",
              "      <td>Chennai</td>\n",
              "      <td>2011</td>\n",
              "      <td>46000</td>\n",
              "      <td>1</td>\n",
              "      <td>1199.0</td>\n",
              "      <td>88.70</td>\n",
              "      <td>5.0</td>\n",
              "      <td>4.50</td>\n",
              "      <td>18.200000</td>\n",
              "      <td>Honda</td>\n",
              "      <td>0</td>\n",
              "      <td>1</td>\n",
              "      <td>1</td>\n",
              "    </tr>\n",
              "    <tr>\n",
              "      <th>3</th>\n",
              "      <td>Maruti Ertiga VDI</td>\n",
              "      <td>Chennai</td>\n",
              "      <td>2012</td>\n",
              "      <td>87000</td>\n",
              "      <td>1</td>\n",
              "      <td>1248.0</td>\n",
              "      <td>88.76</td>\n",
              "      <td>7.0</td>\n",
              "      <td>6.00</td>\n",
              "      <td>23.077778</td>\n",
              "      <td>Maruti</td>\n",
              "      <td>1</td>\n",
              "      <td>0</td>\n",
              "      <td>1</td>\n",
              "    </tr>\n",
              "    <tr>\n",
              "      <th>4</th>\n",
              "      <td>Audi A4 New 2.0 TDI Multitronic</td>\n",
              "      <td>Coimbatore</td>\n",
              "      <td>2013</td>\n",
              "      <td>40670</td>\n",
              "      <td>2</td>\n",
              "      <td>1968.0</td>\n",
              "      <td>140.80</td>\n",
              "      <td>5.0</td>\n",
              "      <td>17.74</td>\n",
              "      <td>16.888889</td>\n",
              "      <td>Audi</td>\n",
              "      <td>1</td>\n",
              "      <td>0</td>\n",
              "      <td>0</td>\n",
              "    </tr>\n",
              "  </tbody>\n",
              "</table>\n",
              "</div>"
            ],
            "text/plain": [
              "                               Name  ... Transmission_Manual\n",
              "0            Maruti Wagon R LXI CNG  ...                   1\n",
              "1  Hyundai Creta 1.6 CRDi SX Option  ...                   1\n",
              "2                      Honda Jazz V  ...                   1\n",
              "3                 Maruti Ertiga VDI  ...                   1\n",
              "4   Audi A4 New 2.0 TDI Multitronic  ...                   0\n",
              "\n",
              "[5 rows x 14 columns]"
            ]
          },
          "metadata": {
            "tags": []
          },
          "execution_count": 1960
        }
      ]
    },
    {
      "cell_type": "markdown",
      "metadata": {
        "id": "lCPMpHrXZLBV"
      },
      "source": [
        "train_test_splitを用いてランダムに訓練データとテストデータを分割します。\r\n",
        "\r\n",
        "特徴量を持つpd.DataFrameをX、目的変数である正解ラベルを持つpd.Seriesをyとします。"
      ]
    },
    {
      "cell_type": "code",
      "metadata": {
        "id": "2nHqiZPIZLBV"
      },
      "source": [
        "X=df.drop(columns=['Name','Price'])\r\n",
        "y=df['Price']\r\n",
        "\r\n",
        "from sklearn.model_selection import train_test_split\r\n",
        "X_train,X_test,y_train,y_test=train_test_split(X,y,test_size=0.2,random_state=0)\r\n"
      ],
      "execution_count": 1961,
      "outputs": []
    },
    {
      "cell_type": "markdown",
      "metadata": {
        "id": "PpMbj4fYZLBW"
      },
      "source": [
        "##'Manufacturer','Location'のTarget Encoding"
      ]
    },
    {
      "cell_type": "markdown",
      "metadata": {
        "id": "RvXaMEn1ZLBW"
      },
      "source": [
        "後回しにしていた'Manufacturer','Location'のTarget Encodingを行います。\r\n",
        "\r\n",
        "Leakageを避けるため、各グループ(各メーカーや各地域)内の値段の平均を訓練データから求め、それを用いて訓練データもテストデータもエンコーディングする関数を作ります。\r\n",
        "\r\n",
        "テストデータに「訓練データにはないグループ（車種や地域）」が含まれていた場合は訓練データ全体の'Price'の平均でエンコーディングすることにします。"
      ]
    },
    {
      "cell_type": "code",
      "metadata": {
        "id": "YfW3a4CXQnVT"
      },
      "source": [
        "def target_encoder(X_train,X_test,y_train,y_test,col,label='Price'):\r\n",
        "  train=pd.concat([X_train,y_train],axis=1)\r\n",
        "  test=pd.concat([X_test,y_test],axis=1)   #一度特徴量と目的変数の列を連結\r\n",
        "\r\n",
        "  train[str(col)+'_code']=train.groupby(col).transform(np.mean)[label]  #訓練データから求めた各グループの'Price'の平均で訓練データをエンコ-ディング\r\n",
        "  agg_seri=train.groupby(col).agg(np.mean)[label]  #訓練データから求めた各グループの'Price'の平均を表にしたもの(indexはグループラベル文字列)\r\n",
        "  print(agg_seri) #エンコーディングの際の対応表を確認\r\n",
        "\r\n",
        "  test[str(col)+'_code']=test[col]\r\n",
        "  na_list=[]\r\n",
        "  \r\n",
        "  for i in test[col].unique():\r\n",
        "    if i in agg_seri.index:\r\n",
        "      test[str(col)+'_code']=test[str(col)+'_code'].str.replace(i ,str(agg_seri[i]))  #訓練データから求めた各グループの平均でテストデータをエンコ-ディング\r\n",
        "    else:\r\n",
        "      na_list.append(i)\r\n",
        "      test[str(col)+'_code']=test[str(col)+'_code'].str.replace(i ,str(train[label].mean()))   #テストデータに存在し、訓練データにはなかったグループには仕方ないので訓練データ全体の'Price'の平均を適用\r\n",
        "  \"\"\"\r\n",
        "  #代替アルゴリズム\r\n",
        "  for i in test.index:\r\n",
        "    colstr=test.at[i,str(col)+'_code']\r\n",
        "    if colstr in agg_seri.index:\r\n",
        "      test.at[i,str(col)+'_code']=agg_seri[colstr]\r\n",
        "    elif colstr in na_list:\r\n",
        "      test.at[i,str(col)+'_code']=train[label].mean()\r\n",
        "    else:\r\n",
        "      na_list.append(colstr)\r\n",
        "      test.at[i,str(col)+'_code']=train[label].mean()\r\n",
        "  \"\"\"\r\n",
        "\r\n",
        "  test[str(col)+'_code']=test[str(col)+'_code'].astype(float)\r\n",
        "  if len(na_list)>0:\r\n",
        "    print(na_list,\"グループは訓練データに含まれず、訓練データ全体の'\"+label+\"'の平均\",train[label].mean(),\" を適用\")\r\n",
        "\r\n",
        "  X_train_re=train.drop(columns=[col,y_train.name])\r\n",
        "  y_train_re=train[y_train.name]\r\n",
        "  X_test_re=test.drop(columns=[col,y_test.name])\r\n",
        "  y_test_re=test[y_test.name]\r\n",
        "  train_re=pd.concat([X_train_re,y_train_re],axis=1)\r\n",
        "  test_re=pd.concat([X_test_re,y_test_re],axis=1)\r\n",
        "  X_re=pd.concat([X_train_re,X_test_re],axis=0)\r\n",
        "  y_re=pd.concat([y_train_re,y_test_re],axis=0)\r\n",
        "  df_re=pd.concat([X_re,y_re],axis=1)\r\n",
        "\r\n",
        "  return df_re,X_re,y_re,train_re,test_re,X_train_re,X_test_re,y_train_re,y_test_re"
      ],
      "execution_count": 1962,
      "outputs": []
    },
    {
      "cell_type": "markdown",
      "metadata": {
        "id": "OxzFmpUnZLBW"
      },
      "source": [
        "'Manufacturer','Location'のTarget Encodingを実行します。"
      ]
    },
    {
      "cell_type": "code",
      "metadata": {
        "colab": {
          "base_uri": "https://localhost:8080/"
        },
        "id": "EwVx2v0UZLBW",
        "outputId": "8194bfef-2d12-4688-8208-c9bdd07092cc"
      },
      "source": [
        "df,X,y,train,test,X_train,X_test,y_train,y_test=target_encoder(X_train,X_test,y_train,y_test,'Manufacturer')"
      ],
      "execution_count": 1963,
      "outputs": [
        {
          "output_type": "stream",
          "text": [
            "Manufacturer\n",
            "Ambassador        1.350000\n",
            "Audi             14.062787\n",
            "BMW              13.348065\n",
            "Chevrolet         3.075957\n",
            "Datsun            3.007000\n",
            "Fiat              3.112778\n",
            "Force             9.333333\n",
            "Ford              5.015367\n",
            "Honda             5.510714\n",
            "Hyundai           5.489545\n",
            "Isuzu            12.045000\n",
            "Jaguar           16.290000\n",
            "Jeep             17.525000\n",
            "Land             15.826000\n",
            "Mahindra          8.011719\n",
            "Maruti            4.531959\n",
            "Mercedes-Benz    12.742430\n",
            "Mitsubishi        8.537143\n",
            "Nissan            4.764306\n",
            "Porsche           8.260000\n",
            "Renault           5.796754\n",
            "Skoda             7.129030\n",
            "Tata              3.576792\n",
            "Toyota            9.292500\n",
            "Volkswagen        5.182099\n",
            "Volvo            14.627000\n",
            "Name: Price, dtype: float64\n",
            "['Mini'] グループは訓練データに含まれず、訓練データ全体の'Price'の平均 6.108472930322935  を適用\n"
          ],
          "name": "stdout"
        }
      ]
    },
    {
      "cell_type": "code",
      "metadata": {
        "colab": {
          "base_uri": "https://localhost:8080/"
        },
        "id": "3KrPNZX_ZLBX",
        "outputId": "ad086717-d5c1-48d9-82f2-57efe266ed97"
      },
      "source": [
        "df,X,y,train,test,X_train,X_test,y_train,y_test=target_encoder(X_train,X_test,y_train,y_test,'Location')"
      ],
      "execution_count": 1964,
      "outputs": [
        {
          "output_type": "stream",
          "text": [
            "Location\n",
            "Ahmedabad     6.805697\n",
            "Bangalore     7.008077\n",
            "Chennai       5.416480\n",
            "Coimbatore    7.975818\n",
            "Delhi         6.324605\n",
            "Hyderabad     6.027090\n",
            "Jaipur        4.881975\n",
            "Kochi         7.086644\n",
            "Kolkata       4.694541\n",
            "Mumbai        6.223249\n",
            "Pune          5.409717\n",
            "Name: Price, dtype: float64\n"
          ],
          "name": "stdout"
        }
      ]
    },
    {
      "cell_type": "markdown",
      "metadata": {
        "id": "SjWo38NXbuVJ"
      },
      "source": [
        "##今回は線形回帰を用いるので標準化を行い、PCA及び次元削減は今回は行わずに試してみます。"
      ]
    },
    {
      "cell_type": "markdown",
      "metadata": {
        "id": "5p_cigGH0yJI"
      },
      "source": [
        "##標準化"
      ]
    },
    {
      "cell_type": "code",
      "metadata": {
        "colab": {
          "base_uri": "https://localhost:8080/",
          "height": 0
        },
        "id": "_GWSoYVD0efc",
        "outputId": "42ec4663-74c0-42e2-f5f4-24c28a235484"
      },
      "source": [
        "X_train.head()"
      ],
      "execution_count": 1965,
      "outputs": [
        {
          "output_type": "execute_result",
          "data": {
            "text/html": [
              "<div>\n",
              "<style scoped>\n",
              "    .dataframe tbody tr th:only-of-type {\n",
              "        vertical-align: middle;\n",
              "    }\n",
              "\n",
              "    .dataframe tbody tr th {\n",
              "        vertical-align: top;\n",
              "    }\n",
              "\n",
              "    .dataframe thead th {\n",
              "        text-align: right;\n",
              "    }\n",
              "</style>\n",
              "<table border=\"1\" class=\"dataframe\">\n",
              "  <thead>\n",
              "    <tr style=\"text-align: right;\">\n",
              "      <th></th>\n",
              "      <th>Year</th>\n",
              "      <th>Kilometers_Driven</th>\n",
              "      <th>Owner_Type</th>\n",
              "      <th>Engine</th>\n",
              "      <th>Power</th>\n",
              "      <th>Seats</th>\n",
              "      <th>Mileage_kmpd</th>\n",
              "      <th>Fuel_Type_Diesel</th>\n",
              "      <th>Fuel_Type_Petrol</th>\n",
              "      <th>Transmission_Manual</th>\n",
              "      <th>Manufacturer_code</th>\n",
              "      <th>Location_code</th>\n",
              "    </tr>\n",
              "  </thead>\n",
              "  <tbody>\n",
              "    <tr>\n",
              "      <th>4872</th>\n",
              "      <td>2008</td>\n",
              "      <td>50000</td>\n",
              "      <td>1</td>\n",
              "      <td>1396.0</td>\n",
              "      <td>53.5</td>\n",
              "      <td>5.0</td>\n",
              "      <td>19.111111</td>\n",
              "      <td>1</td>\n",
              "      <td>0</td>\n",
              "      <td>1</td>\n",
              "      <td>3.576792</td>\n",
              "      <td>4.694541</td>\n",
              "    </tr>\n",
              "    <tr>\n",
              "      <th>821</th>\n",
              "      <td>2011</td>\n",
              "      <td>47000</td>\n",
              "      <td>2</td>\n",
              "      <td>2143.0</td>\n",
              "      <td>203.0</td>\n",
              "      <td>5.0</td>\n",
              "      <td>15.788889</td>\n",
              "      <td>1</td>\n",
              "      <td>0</td>\n",
              "      <td>0</td>\n",
              "      <td>12.742430</td>\n",
              "      <td>6.223249</td>\n",
              "    </tr>\n",
              "    <tr>\n",
              "      <th>5658</th>\n",
              "      <td>2006</td>\n",
              "      <td>85000</td>\n",
              "      <td>2</td>\n",
              "      <td>1299.0</td>\n",
              "      <td>70.0</td>\n",
              "      <td>5.0</td>\n",
              "      <td>13.800000</td>\n",
              "      <td>0</td>\n",
              "      <td>1</td>\n",
              "      <td>1</td>\n",
              "      <td>5.015367</td>\n",
              "      <td>5.409717</td>\n",
              "    </tr>\n",
              "    <tr>\n",
              "      <th>5184</th>\n",
              "      <td>2016</td>\n",
              "      <td>18000</td>\n",
              "      <td>1</td>\n",
              "      <td>1498.0</td>\n",
              "      <td>97.7</td>\n",
              "      <td>5.0</td>\n",
              "      <td>16.950000</td>\n",
              "      <td>0</td>\n",
              "      <td>1</td>\n",
              "      <td>1</td>\n",
              "      <td>4.764306</td>\n",
              "      <td>5.416480</td>\n",
              "    </tr>\n",
              "    <tr>\n",
              "      <th>1052</th>\n",
              "      <td>2010</td>\n",
              "      <td>49000</td>\n",
              "      <td>1</td>\n",
              "      <td>2143.0</td>\n",
              "      <td>170.0</td>\n",
              "      <td>5.0</td>\n",
              "      <td>21.411111</td>\n",
              "      <td>1</td>\n",
              "      <td>0</td>\n",
              "      <td>0</td>\n",
              "      <td>12.742430</td>\n",
              "      <td>6.223249</td>\n",
              "    </tr>\n",
              "  </tbody>\n",
              "</table>\n",
              "</div>"
            ],
            "text/plain": [
              "      Year  Kilometers_Driven  ...  Manufacturer_code  Location_code\n",
              "4872  2008              50000  ...           3.576792       4.694541\n",
              "821   2011              47000  ...          12.742430       6.223249\n",
              "5658  2006              85000  ...           5.015367       5.409717\n",
              "5184  2016              18000  ...           4.764306       5.416480\n",
              "1052  2010              49000  ...          12.742430       6.223249\n",
              "\n",
              "[5 rows x 12 columns]"
            ]
          },
          "metadata": {
            "tags": []
          },
          "execution_count": 1965
        }
      ]
    },
    {
      "cell_type": "markdown",
      "metadata": {
        "id": "A7NJ3gv91KiF"
      },
      "source": [
        "PCAの前にsklearnのStandardScalerを用いて特徴量の標準化を行います。\r\n",
        "\r\n",
        "戻り値はndarryなので、データフレームに入れ直し、もとの列名を付けます。シャッフル前の行名(番号)は失われ、X_train,X_testともに0から順番通りの行番号が行名になってしまいます。"
      ]
    },
    {
      "cell_type": "code",
      "metadata": {
        "id": "kFzbqIoLCyqm"
      },
      "source": [
        "from sklearn.preprocessing import StandardScaler\n",
        "sc=StandardScaler()\n",
        "\n",
        "X_train_std=sc.fit_transform(X_train)\n",
        "X_test_std=sc.transform(X_test)\n",
        "X_train_std=pd.DataFrame(X_train_std,columns=X_train.columns)\n",
        "X_test_std=pd.DataFrame(X_test_std,columns=X_test.columns)"
      ],
      "execution_count": 1966,
      "outputs": []
    },
    {
      "cell_type": "code",
      "metadata": {
        "colab": {
          "base_uri": "https://localhost:8080/",
          "height": 0
        },
        "id": "hLa5QzRo7dVV",
        "outputId": "de118850-e7f7-49c3-d1b9-f02d5fb7b143"
      },
      "source": [
        "X_train_std.head()"
      ],
      "execution_count": 1967,
      "outputs": [
        {
          "output_type": "execute_result",
          "data": {
            "text/html": [
              "<div>\n",
              "<style scoped>\n",
              "    .dataframe tbody tr th:only-of-type {\n",
              "        vertical-align: middle;\n",
              "    }\n",
              "\n",
              "    .dataframe tbody tr th {\n",
              "        vertical-align: top;\n",
              "    }\n",
              "\n",
              "    .dataframe thead th {\n",
              "        text-align: right;\n",
              "    }\n",
              "</style>\n",
              "<table border=\"1\" class=\"dataframe\">\n",
              "  <thead>\n",
              "    <tr style=\"text-align: right;\">\n",
              "      <th></th>\n",
              "      <th>Year</th>\n",
              "      <th>Kilometers_Driven</th>\n",
              "      <th>Owner_Type</th>\n",
              "      <th>Engine</th>\n",
              "      <th>Power</th>\n",
              "      <th>Seats</th>\n",
              "      <th>Mileage_kmpd</th>\n",
              "      <th>Fuel_Type_Diesel</th>\n",
              "      <th>Fuel_Type_Petrol</th>\n",
              "      <th>Transmission_Manual</th>\n",
              "      <th>Manufacturer_code</th>\n",
              "      <th>Location_code</th>\n",
              "    </tr>\n",
              "  </thead>\n",
              "  <tbody>\n",
              "    <tr>\n",
              "      <th>0</th>\n",
              "      <td>-1.616997</td>\n",
              "      <td>-0.244735</td>\n",
              "      <td>-0.454856</td>\n",
              "      <td>-0.231678</td>\n",
              "      <td>-1.219349</td>\n",
              "      <td>-0.366899</td>\n",
              "      <td>-0.138372</td>\n",
              "      <td>1.020853</td>\n",
              "      <td>-0.993466</td>\n",
              "      <td>0.491335</td>\n",
              "      <td>-1.017948</td>\n",
              "      <td>-1.49911</td>\n",
              "    </tr>\n",
              "    <tr>\n",
              "      <th>1</th>\n",
              "      <td>-0.688760</td>\n",
              "      <td>-0.321743</td>\n",
              "      <td>1.726228</td>\n",
              "      <td>1.279797</td>\n",
              "      <td>2.662934</td>\n",
              "      <td>-0.366899</td>\n",
              "      <td>-0.849627</td>\n",
              "      <td>1.020853</td>\n",
              "      <td>-0.993466</td>\n",
              "      <td>-2.035270</td>\n",
              "      <td>2.667409</td>\n",
              "      <td>0.12169</td>\n",
              "    </tr>\n",
              "    <tr>\n",
              "      <th>2</th>\n",
              "      <td>-2.235822</td>\n",
              "      <td>0.653694</td>\n",
              "      <td>1.726228</td>\n",
              "      <td>-0.427947</td>\n",
              "      <td>-0.790870</td>\n",
              "      <td>-0.366899</td>\n",
              "      <td>-1.275428</td>\n",
              "      <td>-0.979573</td>\n",
              "      <td>1.006577</td>\n",
              "      <td>0.491335</td>\n",
              "      <td>-0.439521</td>\n",
              "      <td>-0.74085</td>\n",
              "    </tr>\n",
              "    <tr>\n",
              "      <th>3</th>\n",
              "      <td>0.858302</td>\n",
              "      <td>-1.066155</td>\n",
              "      <td>-0.454856</td>\n",
              "      <td>-0.025292</td>\n",
              "      <td>-0.071544</td>\n",
              "      <td>-0.366899</td>\n",
              "      <td>-0.601045</td>\n",
              "      <td>-0.979573</td>\n",
              "      <td>1.006577</td>\n",
              "      <td>0.491335</td>\n",
              "      <td>-0.540468</td>\n",
              "      <td>-0.73368</td>\n",
              "    </tr>\n",
              "    <tr>\n",
              "      <th>4</th>\n",
              "      <td>-0.998172</td>\n",
              "      <td>-0.270404</td>\n",
              "      <td>-0.454856</td>\n",
              "      <td>1.279797</td>\n",
              "      <td>1.805975</td>\n",
              "      <td>-0.366899</td>\n",
              "      <td>0.354035</td>\n",
              "      <td>1.020853</td>\n",
              "      <td>-0.993466</td>\n",
              "      <td>-2.035270</td>\n",
              "      <td>2.667409</td>\n",
              "      <td>0.12169</td>\n",
              "    </tr>\n",
              "  </tbody>\n",
              "</table>\n",
              "</div>"
            ],
            "text/plain": [
              "       Year  Kilometers_Driven  ...  Manufacturer_code  Location_code\n",
              "0 -1.616997          -0.244735  ...          -1.017948       -1.49911\n",
              "1 -0.688760          -0.321743  ...           2.667409        0.12169\n",
              "2 -2.235822           0.653694  ...          -0.439521       -0.74085\n",
              "3  0.858302          -1.066155  ...          -0.540468       -0.73368\n",
              "4 -0.998172          -0.270404  ...           2.667409        0.12169\n",
              "\n",
              "[5 rows x 12 columns]"
            ]
          },
          "metadata": {
            "tags": []
          },
          "execution_count": 1967
        }
      ]
    },
    {
      "cell_type": "markdown",
      "metadata": {
        "id": "b_lTfbV9-iGb"
      },
      "source": [
        "もとのデータフレームと見比べて、正しく標準化できているであろうことが確認できます。"
      ]
    },
    {
      "cell_type": "markdown",
      "metadata": {
        "id": "5zGU4viMBTkq"
      },
      "source": [
        "今後の操作における利便化のため、改めて訓練データ全体、テストデータ全体、特徴量データ全体、正解ラベルデータ全体、全体のデータを表すデータフレームを作ります。\r\n",
        "\r\n",
        "標準化の操作によってX_train,X_testはシャッフルされる前のもとの行名を保持せずにX_train,X_testともに0から順番通りの行番号が行名になってしまっており、y_train,y_testの行名が一致しない、訓練データとテストデータをつなげると行名が重複してしまうなどの不都合があるので、新しく訓練データ,テストデータの順に0～の行名をつけなおします。列名は変更しません。"
      ]
    },
    {
      "cell_type": "code",
      "metadata": {
        "id": "cdKLPa4q8Hvc"
      },
      "source": [
        "def concat(X_train,X_test,y_train,y_test):\r\n",
        "  list_df=[[X_train,X_test],[y_train,y_test]]\r\n",
        "  for xy in list_df:\r\n",
        "    xy[0].index=[i for i in range(0,xy[0].shape[0])]\r\n",
        "    xy[1].index=[i for i in range(xy[0].shape[0],(xy[0].shape[0]+xy[1].shape[0]))]\r\n",
        "  train_re=pd.concat([X_train,y_train],axis=1)\r\n",
        "  test_re=pd.concat([X_test,y_test],axis=1)\r\n",
        "  X_re=pd.concat([X_train,X_test],axis=0)\r\n",
        "  y_re=pd.concat([y_train,y_test],axis=0)\r\n",
        "  df_re=pd.concat([X_re,y_re],axis=1)\r\n",
        "  return X_train,X_test,y_train,y_test,train_re,test_re,X_re,y_re,df_re"
      ],
      "execution_count": 1968,
      "outputs": []
    },
    {
      "cell_type": "code",
      "metadata": {
        "id": "HfLGReSv8e76"
      },
      "source": [
        "X_train,X_test,y_train,y_test,train,test,X,y,df=concat(X_train_std,X_test_std,y_train,y_test)"
      ],
      "execution_count": 1969,
      "outputs": []
    },
    {
      "cell_type": "markdown",
      "metadata": {
        "id": "xdonu2SSZLBX"
      },
      "source": [
        "##モデル構築"
      ]
    },
    {
      "cell_type": "markdown",
      "metadata": {
        "id": "0At5E8sTZLBX"
      },
      "source": [
        "###データ構造の確認"
      ]
    },
    {
      "cell_type": "code",
      "metadata": {
        "id": "t5--gjHYZLBX",
        "colab": {
          "base_uri": "https://localhost:8080/",
          "height": 224
        },
        "outputId": "4de74c00-c604-4b0e-f544-9d9de78445d5"
      },
      "source": [
        "train.head()"
      ],
      "execution_count": 1970,
      "outputs": [
        {
          "output_type": "execute_result",
          "data": {
            "text/html": [
              "<div>\n",
              "<style scoped>\n",
              "    .dataframe tbody tr th:only-of-type {\n",
              "        vertical-align: middle;\n",
              "    }\n",
              "\n",
              "    .dataframe tbody tr th {\n",
              "        vertical-align: top;\n",
              "    }\n",
              "\n",
              "    .dataframe thead th {\n",
              "        text-align: right;\n",
              "    }\n",
              "</style>\n",
              "<table border=\"1\" class=\"dataframe\">\n",
              "  <thead>\n",
              "    <tr style=\"text-align: right;\">\n",
              "      <th></th>\n",
              "      <th>Year</th>\n",
              "      <th>Kilometers_Driven</th>\n",
              "      <th>Owner_Type</th>\n",
              "      <th>Engine</th>\n",
              "      <th>Power</th>\n",
              "      <th>Seats</th>\n",
              "      <th>Mileage_kmpd</th>\n",
              "      <th>Fuel_Type_Diesel</th>\n",
              "      <th>Fuel_Type_Petrol</th>\n",
              "      <th>Transmission_Manual</th>\n",
              "      <th>Manufacturer_code</th>\n",
              "      <th>Location_code</th>\n",
              "      <th>Price</th>\n",
              "    </tr>\n",
              "  </thead>\n",
              "  <tbody>\n",
              "    <tr>\n",
              "      <th>0</th>\n",
              "      <td>-1.616997</td>\n",
              "      <td>-0.244735</td>\n",
              "      <td>-0.454856</td>\n",
              "      <td>-0.231678</td>\n",
              "      <td>-1.219349</td>\n",
              "      <td>-0.366899</td>\n",
              "      <td>-0.138372</td>\n",
              "      <td>1.020853</td>\n",
              "      <td>-0.993466</td>\n",
              "      <td>0.491335</td>\n",
              "      <td>-1.017948</td>\n",
              "      <td>-1.49911</td>\n",
              "      <td>0.85</td>\n",
              "    </tr>\n",
              "    <tr>\n",
              "      <th>1</th>\n",
              "      <td>-0.688760</td>\n",
              "      <td>-0.321743</td>\n",
              "      <td>1.726228</td>\n",
              "      <td>1.279797</td>\n",
              "      <td>2.662934</td>\n",
              "      <td>-0.366899</td>\n",
              "      <td>-0.849627</td>\n",
              "      <td>1.020853</td>\n",
              "      <td>-0.993466</td>\n",
              "      <td>-2.035270</td>\n",
              "      <td>2.667409</td>\n",
              "      <td>0.12169</td>\n",
              "      <td>13.90</td>\n",
              "    </tr>\n",
              "    <tr>\n",
              "      <th>2</th>\n",
              "      <td>-2.235822</td>\n",
              "      <td>0.653694</td>\n",
              "      <td>1.726228</td>\n",
              "      <td>-0.427947</td>\n",
              "      <td>-0.790870</td>\n",
              "      <td>-0.366899</td>\n",
              "      <td>-1.275428</td>\n",
              "      <td>-0.979573</td>\n",
              "      <td>1.006577</td>\n",
              "      <td>0.491335</td>\n",
              "      <td>-0.439521</td>\n",
              "      <td>-0.74085</td>\n",
              "      <td>0.69</td>\n",
              "    </tr>\n",
              "    <tr>\n",
              "      <th>3</th>\n",
              "      <td>0.858302</td>\n",
              "      <td>-1.066155</td>\n",
              "      <td>-0.454856</td>\n",
              "      <td>-0.025292</td>\n",
              "      <td>-0.071544</td>\n",
              "      <td>-0.366899</td>\n",
              "      <td>-0.601045</td>\n",
              "      <td>-0.979573</td>\n",
              "      <td>1.006577</td>\n",
              "      <td>0.491335</td>\n",
              "      <td>-0.540468</td>\n",
              "      <td>-0.73368</td>\n",
              "      <td>7.50</td>\n",
              "    </tr>\n",
              "    <tr>\n",
              "      <th>4</th>\n",
              "      <td>-0.998172</td>\n",
              "      <td>-0.270404</td>\n",
              "      <td>-0.454856</td>\n",
              "      <td>1.279797</td>\n",
              "      <td>1.805975</td>\n",
              "      <td>-0.366899</td>\n",
              "      <td>0.354035</td>\n",
              "      <td>1.020853</td>\n",
              "      <td>-0.993466</td>\n",
              "      <td>-2.035270</td>\n",
              "      <td>2.667409</td>\n",
              "      <td>0.12169</td>\n",
              "      <td>8.95</td>\n",
              "    </tr>\n",
              "  </tbody>\n",
              "</table>\n",
              "</div>"
            ],
            "text/plain": [
              "       Year  Kilometers_Driven  ...  Location_code  Price\n",
              "0 -1.616997          -0.244735  ...       -1.49911   0.85\n",
              "1 -0.688760          -0.321743  ...        0.12169  13.90\n",
              "2 -2.235822           0.653694  ...       -0.74085   0.69\n",
              "3  0.858302          -1.066155  ...       -0.73368   7.50\n",
              "4 -0.998172          -0.270404  ...        0.12169   8.95\n",
              "\n",
              "[5 rows x 13 columns]"
            ]
          },
          "metadata": {
            "tags": []
          },
          "execution_count": 1970
        }
      ]
    },
    {
      "cell_type": "code",
      "metadata": {
        "id": "FZnx5o1EZLBX",
        "colab": {
          "base_uri": "https://localhost:8080/",
          "height": 224
        },
        "outputId": "690a68ec-0d65-4d12-d18b-fbc0aaa7b7b6"
      },
      "source": [
        "test.head()"
      ],
      "execution_count": 1971,
      "outputs": [
        {
          "output_type": "execute_result",
          "data": {
            "text/html": [
              "<div>\n",
              "<style scoped>\n",
              "    .dataframe tbody tr th:only-of-type {\n",
              "        vertical-align: middle;\n",
              "    }\n",
              "\n",
              "    .dataframe tbody tr th {\n",
              "        vertical-align: top;\n",
              "    }\n",
              "\n",
              "    .dataframe thead th {\n",
              "        text-align: right;\n",
              "    }\n",
              "</style>\n",
              "<table border=\"1\" class=\"dataframe\">\n",
              "  <thead>\n",
              "    <tr style=\"text-align: right;\">\n",
              "      <th></th>\n",
              "      <th>Year</th>\n",
              "      <th>Kilometers_Driven</th>\n",
              "      <th>Owner_Type</th>\n",
              "      <th>Engine</th>\n",
              "      <th>Power</th>\n",
              "      <th>Seats</th>\n",
              "      <th>Mileage_kmpd</th>\n",
              "      <th>Fuel_Type_Diesel</th>\n",
              "      <th>Fuel_Type_Petrol</th>\n",
              "      <th>Transmission_Manual</th>\n",
              "      <th>Manufacturer_code</th>\n",
              "      <th>Location_code</th>\n",
              "      <th>Price</th>\n",
              "    </tr>\n",
              "  </thead>\n",
              "  <tbody>\n",
              "    <tr>\n",
              "      <th>4119</th>\n",
              "      <td>1.477127</td>\n",
              "      <td>-1.367025</td>\n",
              "      <td>-0.454856</td>\n",
              "      <td>-1.439644</td>\n",
              "      <td>-1.215714</td>\n",
              "      <td>-0.366899</td>\n",
              "      <td>0.629973</td>\n",
              "      <td>-0.979573</td>\n",
              "      <td>1.006577</td>\n",
              "      <td>0.491335</td>\n",
              "      <td>-1.247053</td>\n",
              "      <td>1.037098</td>\n",
              "      <td>3.60</td>\n",
              "    </tr>\n",
              "    <tr>\n",
              "      <th>4120</th>\n",
              "      <td>0.239477</td>\n",
              "      <td>0.987396</td>\n",
              "      <td>-0.454856</td>\n",
              "      <td>-0.531141</td>\n",
              "      <td>-0.686996</td>\n",
              "      <td>-0.366899</td>\n",
              "      <td>1.217531</td>\n",
              "      <td>1.020853</td>\n",
              "      <td>-0.993466</td>\n",
              "      <td>0.491335</td>\n",
              "      <td>-0.633891</td>\n",
              "      <td>0.953798</td>\n",
              "      <td>6.10</td>\n",
              "    </tr>\n",
              "    <tr>\n",
              "      <th>4121</th>\n",
              "      <td>1.477127</td>\n",
              "      <td>-0.459305</td>\n",
              "      <td>-0.454856</td>\n",
              "      <td>-0.231678</td>\n",
              "      <td>-0.305260</td>\n",
              "      <td>-0.366899</td>\n",
              "      <td>0.855957</td>\n",
              "      <td>1.020853</td>\n",
              "      <td>-0.993466</td>\n",
              "      <td>0.491335</td>\n",
              "      <td>-0.248861</td>\n",
              "      <td>1.037098</td>\n",
              "      <td>10.82</td>\n",
              "    </tr>\n",
              "    <tr>\n",
              "      <th>4122</th>\n",
              "      <td>0.858302</td>\n",
              "      <td>0.114637</td>\n",
              "      <td>-0.454856</td>\n",
              "      <td>-1.036989</td>\n",
              "      <td>-0.867736</td>\n",
              "      <td>-0.366899</td>\n",
              "      <td>0.715609</td>\n",
              "      <td>-0.979573</td>\n",
              "      <td>1.006577</td>\n",
              "      <td>-2.035270</td>\n",
              "      <td>-0.633891</td>\n",
              "      <td>-0.740850</td>\n",
              "      <td>4.20</td>\n",
              "    </tr>\n",
              "    <tr>\n",
              "      <th>4123</th>\n",
              "      <td>0.239477</td>\n",
              "      <td>-0.587908</td>\n",
              "      <td>-0.454856</td>\n",
              "      <td>-0.632310</td>\n",
              "      <td>-0.354600</td>\n",
              "      <td>-0.366899</td>\n",
              "      <td>-0.697385</td>\n",
              "      <td>-0.979573</td>\n",
              "      <td>1.006577</td>\n",
              "      <td>-2.035270</td>\n",
              "      <td>-0.240349</td>\n",
              "      <td>0.121690</td>\n",
              "      <td>4.30</td>\n",
              "    </tr>\n",
              "  </tbody>\n",
              "</table>\n",
              "</div>"
            ],
            "text/plain": [
              "          Year  Kilometers_Driven  ...  Location_code  Price\n",
              "4119  1.477127          -1.367025  ...       1.037098   3.60\n",
              "4120  0.239477           0.987396  ...       0.953798   6.10\n",
              "4121  1.477127          -0.459305  ...       1.037098  10.82\n",
              "4122  0.858302           0.114637  ...      -0.740850   4.20\n",
              "4123  0.239477          -0.587908  ...       0.121690   4.30\n",
              "\n",
              "[5 rows x 13 columns]"
            ]
          },
          "metadata": {
            "tags": []
          },
          "execution_count": 1971
        }
      ]
    },
    {
      "cell_type": "code",
      "metadata": {
        "id": "WxlJpRq8ZLBY",
        "colab": {
          "base_uri": "https://localhost:8080/"
        },
        "outputId": "2b394b53-0fa7-4ab0-b409-a9f966d63a83"
      },
      "source": [
        "train.info()"
      ],
      "execution_count": 1972,
      "outputs": [
        {
          "output_type": "stream",
          "text": [
            "<class 'pandas.core.frame.DataFrame'>\n",
            "Int64Index: 4119 entries, 0 to 4118\n",
            "Data columns (total 13 columns):\n",
            " #   Column               Non-Null Count  Dtype  \n",
            "---  ------               --------------  -----  \n",
            " 0   Year                 4119 non-null   float64\n",
            " 1   Kilometers_Driven    4119 non-null   float64\n",
            " 2   Owner_Type           4119 non-null   float64\n",
            " 3   Engine               4119 non-null   float64\n",
            " 4   Power                4119 non-null   float64\n",
            " 5   Seats                4119 non-null   float64\n",
            " 6   Mileage_kmpd         4119 non-null   float64\n",
            " 7   Fuel_Type_Diesel     4119 non-null   float64\n",
            " 8   Fuel_Type_Petrol     4119 non-null   float64\n",
            " 9   Transmission_Manual  4119 non-null   float64\n",
            " 10  Manufacturer_code    4119 non-null   float64\n",
            " 11  Location_code        4119 non-null   float64\n",
            " 12  Price                4119 non-null   float64\n",
            "dtypes: float64(13)\n",
            "memory usage: 450.5 KB\n"
          ],
          "name": "stdout"
        }
      ]
    },
    {
      "cell_type": "code",
      "metadata": {
        "colab": {
          "base_uri": "https://localhost:8080/"
        },
        "id": "kobKQu8-9CRA",
        "outputId": "fe8e7144-7667-4dd7-b266-86653826ce7c"
      },
      "source": [
        "test.info()"
      ],
      "execution_count": 1973,
      "outputs": [
        {
          "output_type": "stream",
          "text": [
            "<class 'pandas.core.frame.DataFrame'>\n",
            "Int64Index: 1030 entries, 4119 to 5148\n",
            "Data columns (total 13 columns):\n",
            " #   Column               Non-Null Count  Dtype  \n",
            "---  ------               --------------  -----  \n",
            " 0   Year                 1030 non-null   float64\n",
            " 1   Kilometers_Driven    1030 non-null   float64\n",
            " 2   Owner_Type           1030 non-null   float64\n",
            " 3   Engine               1030 non-null   float64\n",
            " 4   Power                1030 non-null   float64\n",
            " 5   Seats                1030 non-null   float64\n",
            " 6   Mileage_kmpd         1030 non-null   float64\n",
            " 7   Fuel_Type_Diesel     1030 non-null   float64\n",
            " 8   Fuel_Type_Petrol     1030 non-null   float64\n",
            " 9   Transmission_Manual  1030 non-null   float64\n",
            " 10  Manufacturer_code    1030 non-null   float64\n",
            " 11  Location_code        1030 non-null   float64\n",
            " 12  Price                1030 non-null   float64\n",
            "dtypes: float64(13)\n",
            "memory usage: 112.7 KB\n"
          ],
          "name": "stdout"
        }
      ]
    },
    {
      "cell_type": "markdown",
      "metadata": {
        "id": "tXaBCmy2ZLBY"
      },
      "source": [
        "特徴量が多いですが、今回はこのまま線形回帰モデルでの学習を試してみます。"
      ]
    },
    {
      "cell_type": "markdown",
      "metadata": {
        "id": "lfutQ2K_ZLBY"
      },
      "source": [
        "###モデルの学習"
      ]
    },
    {
      "cell_type": "markdown",
      "metadata": {
        "id": "KHM8hE_gZLBY"
      },
      "source": [
        "特徴量X_trainと目的変数y_trainを用いて学習を行います。"
      ]
    },
    {
      "cell_type": "code",
      "metadata": {
        "id": "zJCavR7xZLBY",
        "colab": {
          "base_uri": "https://localhost:8080/"
        },
        "outputId": "985cdc3a-4f71-43de-8890-005b6a31567d"
      },
      "source": [
        "from sklearn import linear_model\r\n",
        "\r\n",
        "linear=linear_model.LinearRegression()\r\n",
        "\r\n",
        "linear.fit(X_train,y_train)"
      ],
      "execution_count": 1974,
      "outputs": [
        {
          "output_type": "execute_result",
          "data": {
            "text/plain": [
              "LinearRegression(copy_X=True, fit_intercept=True, n_jobs=None, normalize=False)"
            ]
          },
          "metadata": {
            "tags": []
          },
          "execution_count": 1974
        }
      ]
    },
    {
      "cell_type": "markdown",
      "metadata": {
        "id": "_aoJs6bqp8To"
      },
      "source": [
        "次元削減をしたときよりも計算コストが上がっています。"
      ]
    },
    {
      "cell_type": "markdown",
      "metadata": {
        "id": "wOvF0vJFiL5t"
      },
      "source": [
        "傾きと切片を確認(回帰係数)"
      ]
    },
    {
      "cell_type": "code",
      "metadata": {
        "id": "8799oC7GiK0w",
        "colab": {
          "base_uri": "https://localhost:8080/",
          "height": 452
        },
        "outputId": "9695831d-dc1c-415f-836d-59517845776d"
      },
      "source": [
        "df_coef=pd.DataFrame(linear.coef_,columns=[\"係数\"],index=X_train.columns)\r\n",
        "df_intercept=pd.DataFrame(linear.intercept_,columns=[\"係数\"],index=[\"切片\"])\r\n",
        "df_coefficient=pd.concat([df_coef,df_intercept])\r\n",
        "df_coefficient"
      ],
      "execution_count": 1975,
      "outputs": [
        {
          "output_type": "execute_result",
          "data": {
            "text/html": [
              "<div>\n",
              "<style scoped>\n",
              "    .dataframe tbody tr th:only-of-type {\n",
              "        vertical-align: middle;\n",
              "    }\n",
              "\n",
              "    .dataframe tbody tr th {\n",
              "        vertical-align: top;\n",
              "    }\n",
              "\n",
              "    .dataframe thead th {\n",
              "        text-align: right;\n",
              "    }\n",
              "</style>\n",
              "<table border=\"1\" class=\"dataframe\">\n",
              "  <thead>\n",
              "    <tr style=\"text-align: right;\">\n",
              "      <th></th>\n",
              "      <th>係数</th>\n",
              "    </tr>\n",
              "  </thead>\n",
              "  <tbody>\n",
              "    <tr>\n",
              "      <th>Year</th>\n",
              "      <td>1.697517</td>\n",
              "    </tr>\n",
              "    <tr>\n",
              "      <th>Kilometers_Driven</th>\n",
              "      <td>-0.119089</td>\n",
              "    </tr>\n",
              "    <tr>\n",
              "      <th>Owner_Type</th>\n",
              "      <td>-0.117434</td>\n",
              "    </tr>\n",
              "    <tr>\n",
              "      <th>Engine</th>\n",
              "      <td>0.092497</td>\n",
              "    </tr>\n",
              "    <tr>\n",
              "      <th>Power</th>\n",
              "      <td>1.347173</td>\n",
              "    </tr>\n",
              "    <tr>\n",
              "      <th>Seats</th>\n",
              "      <td>0.117868</td>\n",
              "    </tr>\n",
              "    <tr>\n",
              "      <th>Mileage_kmpd</th>\n",
              "      <td>-0.424789</td>\n",
              "    </tr>\n",
              "    <tr>\n",
              "      <th>Fuel_Type_Diesel</th>\n",
              "      <td>0.870739</td>\n",
              "    </tr>\n",
              "    <tr>\n",
              "      <th>Fuel_Type_Petrol</th>\n",
              "      <td>0.046142</td>\n",
              "    </tr>\n",
              "    <tr>\n",
              "      <th>Transmission_Manual</th>\n",
              "      <td>-0.404263</td>\n",
              "    </tr>\n",
              "    <tr>\n",
              "      <th>Manufacturer_code</th>\n",
              "      <td>1.218852</td>\n",
              "    </tr>\n",
              "    <tr>\n",
              "      <th>Location_code</th>\n",
              "      <td>0.332443</td>\n",
              "    </tr>\n",
              "    <tr>\n",
              "      <th>切片</th>\n",
              "      <td>6.108473</td>\n",
              "    </tr>\n",
              "  </tbody>\n",
              "</table>\n",
              "</div>"
            ],
            "text/plain": [
              "                           係数\n",
              "Year                 1.697517\n",
              "Kilometers_Driven   -0.119089\n",
              "Owner_Type          -0.117434\n",
              "Engine               0.092497\n",
              "Power                1.347173\n",
              "Seats                0.117868\n",
              "Mileage_kmpd        -0.424789\n",
              "Fuel_Type_Diesel     0.870739\n",
              "Fuel_Type_Petrol     0.046142\n",
              "Transmission_Manual -0.404263\n",
              "Manufacturer_code    1.218852\n",
              "Location_code        0.332443\n",
              "切片                   6.108473"
            ]
          },
          "metadata": {
            "tags": []
          },
          "execution_count": 1975
        }
      ]
    },
    {
      "cell_type": "markdown",
      "metadata": {
        "id": "AJkEY3jVZLBZ"
      },
      "source": [
        "###モデルの推論と検証"
      ]
    },
    {
      "cell_type": "markdown",
      "metadata": {
        "id": "kiVN0Tt8ZLBZ"
      },
      "source": [
        "学習したモデルを用いて推論を行い、平均絶対誤差(MAE)を表示させます。"
      ]
    },
    {
      "cell_type": "code",
      "metadata": {
        "id": "KyiXK5PkZLBZ",
        "colab": {
          "base_uri": "https://localhost:8080/"
        },
        "outputId": "4c0a3b52-0210-4d93-f09c-87601956a926"
      },
      "source": [
        "from sklearn.metrics import mean_absolute_error\r\n",
        "\r\n",
        "y_train_pred=linear.predict(X_train)\r\n",
        "print('trainMAE',mean_absolute_error(y_train,y_train_pred))\r\n",
        "y_test_pred=linear.predict(X_test)\r\n",
        "print('testMAE',mean_absolute_error(y_test,y_test_pred))\r\n"
      ],
      "execution_count": 1976,
      "outputs": [
        {
          "output_type": "stream",
          "text": [
            "trainMAE 1.3678403000386012\n",
            "testMAE 1.3112146850411734\n"
          ],
          "name": "stdout"
        }
      ]
    },
    {
      "cell_type": "markdown",
      "metadata": {
        "id": "S3vTdCNdZLBZ"
      },
      "source": [
        "テストデータにおいて平均して13万ルピーほどの誤差が出ています。\r\n",
        "\r\n",
        "計算コストは高くなった分、次元削減したとき(15万)に比べて少しだけ精度が良くなっています。ただ、XGBoostには及びません。\r\n",
        "\r\n",
        "平均絶対誤差率(MAPE)(%)で表示してみます。"
      ]
    },
    {
      "cell_type": "code",
      "metadata": {
        "id": "60j9FnxUZLBZ",
        "colab": {
          "base_uri": "https://localhost:8080/"
        },
        "outputId": "e0b68b57-eea0-43ce-9710-2ca002032b23"
      },
      "source": [
        "print('trainMAPE',np.mean(np.abs((y_train_pred - y_train) / y_train)) * 100)\r\n",
        "print('testMAPE',np.mean(np.abs((y_test_pred - y_test) / y_test)) * 100)"
      ],
      "execution_count": 1977,
      "outputs": [
        {
          "output_type": "stream",
          "text": [
            "trainMAPE 32.004512033845565\n",
            "testMAPE 29.41366785750659\n"
          ],
          "name": "stdout"
        }
      ]
    },
    {
      "cell_type": "markdown",
      "metadata": {
        "id": "aZcu_L3CZLBa"
      },
      "source": [
        "こちらも次元削減したとき(32%)に比べて少しだけ精度が良くなっています。"
      ]
    },
    {
      "cell_type": "markdown",
      "metadata": {
        "id": "opw56U5pZLBa"
      },
      "source": [
        "残差プロットを表示させます。灰色の線は補助線です"
      ]
    },
    {
      "cell_type": "code",
      "metadata": {
        "id": "pGTC9i-eZLBa",
        "colab": {
          "base_uri": "https://localhost:8080/",
          "height": 606
        },
        "outputId": "330492f5-76bf-4867-c771-a98b1d631cee"
      },
      "source": [
        "plt.figure(figsize=(10,10))\r\n",
        "plt.scatter(y_train_pred,(y_train_pred-y_train),c='red',label='training data',s=2)\r\n",
        "plt.scatter(y_test_pred,(y_test_pred-y_test),c='blue',label='test data',s=2)\r\n",
        "plt.hlines(y=0,xmin=0,xmax=20,color='black') \r\n",
        "x1=np.linspace(0, 10, 100)\r\n",
        "x2=np.linspace(0, 10, 100)\r\n",
        "plt.plot(x1, x1,c=\"gray\")\r\n",
        "plt.plot(x2, -x2,c=\"gray\")\r\n",
        "plt.legend(loc='upper left')                                                                     \r\n",
        "plt.xlabel('Predicted values(10⁵INR)')\r\n",
        "plt.ylabel('Residuals(10⁵INR)')\r\n",
        "plt.show()"
      ],
      "execution_count": 1978,
      "outputs": [
        {
          "output_type": "display_data",
          "data": {
            "image/png": "[encoded data removed]",
            "text/plain": [
              "<Figure size 720x720 with 1 Axes>"
            ]
          },
          "metadata": {
            "tags": []
          }
        }
      ]
    },
    {
      "cell_type": "markdown",
      "metadata": {
        "id": "EDJwEtXY9CRK"
      },
      "source": [
        "高級車を除外しなかったときに値段の低い領域のみ表示したときと同じ領域を表示してみます。"
      ]
    },
    {
      "cell_type": "code",
      "metadata": {
        "id": "D0SB1jmkZLBa",
        "colab": {
          "base_uri": "https://localhost:8080/",
          "height": 497
        },
        "outputId": "f35fd078-dadf-4fbc-d7b9-a7f89977310b"
      },
      "source": [
        "plt.figure(figsize=(16,8))\r\n",
        "plt.scatter(y_train_pred,(y_train_pred-y_train),c='red',label='training data',s=2)\r\n",
        "plt.scatter(y_test_pred,(y_test_pred-y_test),c='blue',label='test data',s=2)\r\n",
        "plt.hlines(y=0,xmin=0,xmax=100,color='black') \r\n",
        "x1=np.linspace(0, 20, 100)\r\n",
        "x2=np.linspace(0, 30, 100)\r\n",
        "plt.plot(x1, x1,c=\"gray\")\r\n",
        "plt.plot(x2, -x2,c=\"gray\")\r\n",
        "plt.legend(loc='upper left')                                                                     \r\n",
        "plt.xlabel('Predicted values(10⁵INR)')\r\n",
        "plt.ylabel('Residuals(10⁵INR)')\r\n",
        "plt.xlim(0,10)\r\n",
        "plt.ylim(-5,5)\r\n",
        "plt.show()"
      ],
      "execution_count": 1979,
      "outputs": [
        {
          "output_type": "display_data",
          "data": {
            "image/png": "[encoded data removed]",
            "text/plain": [
              "<Figure size 1152x576 with 1 Axes>"
            ]
          },
          "metadata": {
            "tags": []
          }
        }
      ]
    },
    {
      "cell_type": "markdown",
      "metadata": {
        "id": "Od__G7n3ZLBb"
      },
      "source": [
        "次元削減をした線形回帰のときと同じく、上の二つの残差プロットは概ね無相関ですが、若干正の相関があるようにも見えます。"
      ]
    },
    {
      "cell_type": "code",
      "metadata": {
        "colab": {
          "base_uri": "https://localhost:8080/"
        },
        "id": "1L8THVgckxdy",
        "outputId": "a97d1bff-5064-4149-a7ae-003249a70bdf"
      },
      "source": [
        "y_train_pred=pd.Series(y_train_pred)\r\n",
        "(y_train_pred-y_train).corr(y_train_pred)"
      ],
      "execution_count": 1980,
      "outputs": [
        {
          "output_type": "execute_result",
          "data": {
            "text/plain": [
              "-1.0343699693815751e-15"
            ]
          },
          "metadata": {
            "tags": []
          },
          "execution_count": 1980
        }
      ]
    },
    {
      "cell_type": "markdown",
      "metadata": {
        "id": "eH__Y4RnmVFw"
      },
      "source": [
        "相関係数を見てみるとそうでもないので、場所によってそう見えてしまうということだと思われます。"
      ]
    },
    {
      "cell_type": "markdown",
      "metadata": {
        "id": "8I1292zqmi6S"
      },
      "source": [
        "次元削減をした線形回帰のときと比べて目に見えるような違いはありません。計算コストも考慮すれば、次元削減をしたほうが良いように思います。\r\n",
        "\r\n",
        "ただ、不要な特徴量を削減しなかったことにより精度が落ちる、ということは起こりませんでした。"
      ]
    }
  ]
}