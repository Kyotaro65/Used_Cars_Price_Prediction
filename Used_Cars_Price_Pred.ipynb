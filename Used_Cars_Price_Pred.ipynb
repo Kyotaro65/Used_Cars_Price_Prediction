{
  "nbformat": 4,
  "nbformat_minor": 0,
  "metadata": {
    "colab": {
      "name": "Used_Cars_Price_Pred.ipynb",
      "provenance": [],
      "collapsed_sections": [
        "uYhKnXeuZLAq",
        "WtpJUSxaZLAx",
        "hxMQNfPkZLAy",
        "6VKpn2DPZLA1",
        "OQtNm-2KZLA5",
        "MuTdPtFDZLA6",
        "bJTziH5AZLA8",
        "JzBEjNIXZLA8",
        "JHer_otoZLA9",
        "ZB3s5IJ1ZLA_",
        "17tT5OtOZLA_",
        "tLujRbIHZLA_",
        "x-wRt0vqZLBD",
        "prmlSD-0ZLBE",
        "lRnnn5PtZLBF",
        "2xi61ifsZLBI",
        "LmBoB5zrZLBJ",
        "bYk_mh3HZLBJ",
        "CGW5eUfQZLBL",
        "WHdnA5C1ZLBM",
        "H3WUfUsKZLBM",
        "mUy2YsyvZLBM",
        "v4GQS-gWZLBO",
        "yhpn0U6hZLBP",
        "HsTRzi_XZLBP",
        "o4xMiBMCGuGX",
        "rCIMDxYrZLBQ",
        "Q0lwhwiIZLBQ",
        "v9asGmcuHq_N",
        "NkZ2rbwsH1eg",
        "3vzw8_QYZLBS",
        "5x2sIh8XINDC",
        "_ujqgxakZLBT",
        "5ncgxf3PZLBV",
        "PpMbj4fYZLBW",
        "L7YLCgAsZLBX",
        "xdonu2SSZLBX",
        "0At5E8sTZLBX",
        "lfutQ2K_ZLBY",
        "AJkEY3jVZLBZ"
      ],
      "include_colab_link": true
    },
    "kernelspec": {
      "name": "python3",
      "display_name": "Python 3"
    }
  },
  "cells": [
    {
      "cell_type": "markdown",
      "metadata": {
        "id": "view-in-github",
        "colab_type": "text"
      },
      "source": [
        "<a href=\"https://colab.research.google.com/github/Kyotaro65/Used_Cars_Price_Prediction/blob/narrow_down/Used_Cars_Price_Pred.ipynb\" target=\"_parent\"><img src=\"https://colab.research.google.com/assets/colab-badge.svg\" alt=\"Open In Colab\"/></a>"
      ]
    },
    {
      "cell_type": "markdown",
      "metadata": {
        "id": "uYhKnXeuZLAq"
      },
      "source": [
        "# Used Cars Price Prediction"
      ]
    },
    {
      "cell_type": "markdown",
      "metadata": {
        "id": "WtpJUSxaZLAx"
      },
      "source": [
        "##準備"
      ]
    },
    {
      "cell_type": "markdown",
      "metadata": {
        "id": "hxMQNfPkZLAy"
      },
      "source": [
        "###インポートなど"
      ]
    },
    {
      "cell_type": "code",
      "metadata": {
        "colab": {
          "base_uri": "https://localhost:8080/"
        },
        "id": "IACGo_omZLAz",
        "outputId": "aee22d78-d487-44fc-b2f7-1fa48ee3af24"
      },
      "source": [
        "#これを実行して指示に従い、ドライブをマウントしてください\r\n",
        "from google.colab import drive\r\n",
        "drive.mount('/content/drive')"
      ],
      "execution_count": 1173,
      "outputs": [
        {
          "output_type": "stream",
          "text": [
            "Drive already mounted at /content/drive; to attempt to forcibly remount, call drive.mount(\"/content/drive\", force_remount=True).\n"
          ],
          "name": "stdout"
        }
      ]
    },
    {
      "cell_type": "code",
      "metadata": {
        "id": "-LGiELQnZLA0"
      },
      "source": [
        "#必要なモジュールのインポート\r\n",
        "import numpy as np\r\n",
        "import pandas as pd\r\n",
        "import matplotlib.pyplot as plt\r\n",
        "import seaborn as sns\r\n",
        "sns.set_style('whitegrid')"
      ],
      "execution_count": 1174,
      "outputs": []
    },
    {
      "cell_type": "code",
      "metadata": {
        "colab": {
          "base_uri": "https://localhost:8080/"
        },
        "id": "naaxY7zfZLA1",
        "outputId": "c0931de1-1b92-4218-e92e-e612ba2be7fb"
      },
      "source": [
        "#train-data.csvのパスを作るための処理\r\n",
        "path=!find / -name 'Used_Cars_Price_Prediction'\r\n",
        "print(path[-1])"
      ],
      "execution_count": 1175,
      "outputs": [
        {
          "output_type": "stream",
          "text": [
            "/content/drive/MyDrive/github/Used_Cars_Price_Prediction\n"
          ],
          "name": "stdout"
        }
      ]
    },
    {
      "cell_type": "markdown",
      "metadata": {
        "id": "6VKpn2DPZLA1"
      },
      "source": [
        "### データの読み込みと確認"
      ]
    },
    {
      "cell_type": "markdown",
      "metadata": {
        "id": "EENyfWp0ZLA2"
      },
      "source": [
        "データの取得元はkaggle上の以下のページです。\r\n",
        "\r\n",
        "https://www.kaggle.com/avikasliwal/used-cars-price-prediction"
      ]
    },
    {
      "cell_type": "code",
      "metadata": {
        "colab": {
          "base_uri": "https://localhost:8080/",
          "height": 0
        },
        "id": "7MuOcOCVZLA2",
        "outputId": "35d92c30-be49-47c4-cd94-57a4c27a6154"
      },
      "source": [
        "#CSVファイルをpandas.DataFrameにします。\r\n",
        "df=pd.read_csv(path[-1]+'/train-data.csv')\r\n",
        "df.head()"
      ],
      "execution_count": 1176,
      "outputs": [
        {
          "output_type": "execute_result",
          "data": {
            "text/html": [
              "<div>\n",
              "<style scoped>\n",
              "    .dataframe tbody tr th:only-of-type {\n",
              "        vertical-align: middle;\n",
              "    }\n",
              "\n",
              "    .dataframe tbody tr th {\n",
              "        vertical-align: top;\n",
              "    }\n",
              "\n",
              "    .dataframe thead th {\n",
              "        text-align: right;\n",
              "    }\n",
              "</style>\n",
              "<table border=\"1\" class=\"dataframe\">\n",
              "  <thead>\n",
              "    <tr style=\"text-align: right;\">\n",
              "      <th></th>\n",
              "      <th>Unnamed: 0</th>\n",
              "      <th>Name</th>\n",
              "      <th>Location</th>\n",
              "      <th>Year</th>\n",
              "      <th>Kilometers_Driven</th>\n",
              "      <th>Fuel_Type</th>\n",
              "      <th>Transmission</th>\n",
              "      <th>Owner_Type</th>\n",
              "      <th>Mileage</th>\n",
              "      <th>Engine</th>\n",
              "      <th>Power</th>\n",
              "      <th>Seats</th>\n",
              "      <th>New_Price</th>\n",
              "      <th>Price</th>\n",
              "    </tr>\n",
              "  </thead>\n",
              "  <tbody>\n",
              "    <tr>\n",
              "      <th>0</th>\n",
              "      <td>0</td>\n",
              "      <td>Maruti Wagon R LXI CNG</td>\n",
              "      <td>Mumbai</td>\n",
              "      <td>2010</td>\n",
              "      <td>72000</td>\n",
              "      <td>CNG</td>\n",
              "      <td>Manual</td>\n",
              "      <td>First</td>\n",
              "      <td>26.6 km/kg</td>\n",
              "      <td>998 CC</td>\n",
              "      <td>58.16 bhp</td>\n",
              "      <td>5.0</td>\n",
              "      <td>NaN</td>\n",
              "      <td>1.75</td>\n",
              "    </tr>\n",
              "    <tr>\n",
              "      <th>1</th>\n",
              "      <td>1</td>\n",
              "      <td>Hyundai Creta 1.6 CRDi SX Option</td>\n",
              "      <td>Pune</td>\n",
              "      <td>2015</td>\n",
              "      <td>41000</td>\n",
              "      <td>Diesel</td>\n",
              "      <td>Manual</td>\n",
              "      <td>First</td>\n",
              "      <td>19.67 kmpl</td>\n",
              "      <td>1582 CC</td>\n",
              "      <td>126.2 bhp</td>\n",
              "      <td>5.0</td>\n",
              "      <td>NaN</td>\n",
              "      <td>12.50</td>\n",
              "    </tr>\n",
              "    <tr>\n",
              "      <th>2</th>\n",
              "      <td>2</td>\n",
              "      <td>Honda Jazz V</td>\n",
              "      <td>Chennai</td>\n",
              "      <td>2011</td>\n",
              "      <td>46000</td>\n",
              "      <td>Petrol</td>\n",
              "      <td>Manual</td>\n",
              "      <td>First</td>\n",
              "      <td>18.2 kmpl</td>\n",
              "      <td>1199 CC</td>\n",
              "      <td>88.7 bhp</td>\n",
              "      <td>5.0</td>\n",
              "      <td>8.61 Lakh</td>\n",
              "      <td>4.50</td>\n",
              "    </tr>\n",
              "    <tr>\n",
              "      <th>3</th>\n",
              "      <td>3</td>\n",
              "      <td>Maruti Ertiga VDI</td>\n",
              "      <td>Chennai</td>\n",
              "      <td>2012</td>\n",
              "      <td>87000</td>\n",
              "      <td>Diesel</td>\n",
              "      <td>Manual</td>\n",
              "      <td>First</td>\n",
              "      <td>20.77 kmpl</td>\n",
              "      <td>1248 CC</td>\n",
              "      <td>88.76 bhp</td>\n",
              "      <td>7.0</td>\n",
              "      <td>NaN</td>\n",
              "      <td>6.00</td>\n",
              "    </tr>\n",
              "    <tr>\n",
              "      <th>4</th>\n",
              "      <td>4</td>\n",
              "      <td>Audi A4 New 2.0 TDI Multitronic</td>\n",
              "      <td>Coimbatore</td>\n",
              "      <td>2013</td>\n",
              "      <td>40670</td>\n",
              "      <td>Diesel</td>\n",
              "      <td>Automatic</td>\n",
              "      <td>Second</td>\n",
              "      <td>15.2 kmpl</td>\n",
              "      <td>1968 CC</td>\n",
              "      <td>140.8 bhp</td>\n",
              "      <td>5.0</td>\n",
              "      <td>NaN</td>\n",
              "      <td>17.74</td>\n",
              "    </tr>\n",
              "  </tbody>\n",
              "</table>\n",
              "</div>"
            ],
            "text/plain": [
              "   Unnamed: 0                              Name  ...  New_Price  Price\n",
              "0           0            Maruti Wagon R LXI CNG  ...        NaN   1.75\n",
              "1           1  Hyundai Creta 1.6 CRDi SX Option  ...        NaN  12.50\n",
              "2           2                      Honda Jazz V  ...  8.61 Lakh   4.50\n",
              "3           3                 Maruti Ertiga VDI  ...        NaN   6.00\n",
              "4           4   Audi A4 New 2.0 TDI Multitronic  ...        NaN  17.74\n",
              "\n",
              "[5 rows x 14 columns]"
            ]
          },
          "metadata": {
            "tags": []
          },
          "execution_count": 1176
        }
      ]
    },
    {
      "cell_type": "markdown",
      "metadata": {
        "id": "cKYuspVDZLA3"
      },
      "source": [
        "上記のように、行が各中古車を表し、列にはその中古車の各データが書かれています。"
      ]
    },
    {
      "cell_type": "markdown",
      "metadata": {
        "id": "wsmdvfefZLA3"
      },
      "source": [
        "もし、上のデータ読み込みがうまくいかない場合は画面の左側のフォルダアイコンをクリックし、\r\n",
        "\r\n",
        "drive>MyDrive>...\r\n",
        "\r\n",
        "と開いていってUsed_Cars_Price_Predictionフォルダ内のtrain-data.csvファイルを見つけてください。これを右クリックし、「パスをコピー」を選んで下記のコードの1行目の(' ')の中に張り付けてください。\r\n",
        "\r\n",
        "df=pd.read_csv('/content/drive/MyDrive/.../Used_Cars_Price_Prediction/train-data.csv')\r\n",
        "\r\n",
        "という形にして、2行ともコメントアウト(#)を外して実行してください。"
      ]
    },
    {
      "cell_type": "code",
      "metadata": {
        "id": "mlYcF81-ZLA3"
      },
      "source": [
        "#df=pd.read_csv('')\r\n",
        "#df.head()"
      ],
      "execution_count": 1177,
      "outputs": []
    },
    {
      "cell_type": "code",
      "metadata": {
        "colab": {
          "base_uri": "https://localhost:8080/"
        },
        "id": "LiD-X8ZkZLA4",
        "outputId": "e80cbe5c-646a-41a7-a1ff-371f91900d48"
      },
      "source": [
        "#列の一覧を確認\r\n",
        "df.columns"
      ],
      "execution_count": 1178,
      "outputs": [
        {
          "output_type": "execute_result",
          "data": {
            "text/plain": [
              "Index(['Unnamed: 0', 'Name', 'Location', 'Year', 'Kilometers_Driven',\n",
              "       'Fuel_Type', 'Transmission', 'Owner_Type', 'Mileage', 'Engine', 'Power',\n",
              "       'Seats', 'New_Price', 'Price'],\n",
              "      dtype='object')"
            ]
          },
          "metadata": {
            "tags": []
          },
          "execution_count": 1178
        }
      ]
    },
    {
      "cell_type": "markdown",
      "metadata": {
        "id": "FmZVaWJFZLA4"
      },
      "source": [
        "各列は、行番号　,　車種名　,　中古車の所在地(インド国内の地域)　,　年(西暦)　　 総走行距離(km)　,　燃料の種類　,　マニュアルまたはオートマ　,　前オーナー人数　,　燃費(km/Lまたはkm/kg)　,　排気量(cc)　,　馬力(bhp)　,　席数　,　値段(十万インド・ルピー≓14万円)　を表しています。\r\n",
        "\r\n",
        "各列(各特徴量)の説明は[kaggle上のページ](https://www.kaggle.com/avikasliwal/used-cars-price-prediction)に記載してあります。"
      ]
    },
    {
      "cell_type": "markdown",
      "metadata": {
        "id": "wDeUyz4SZLA4"
      },
      "source": [
        "まず、'Unnamed: 0'の列はその行の番号を表しているだけなので切り落とします。"
      ]
    },
    {
      "cell_type": "code",
      "metadata": {
        "id": "R6XhFPqlZLA5"
      },
      "source": [
        "df=df.drop(columns='Unnamed: 0')"
      ],
      "execution_count": 1179,
      "outputs": []
    },
    {
      "cell_type": "code",
      "metadata": {
        "colab": {
          "base_uri": "https://localhost:8080/"
        },
        "id": "ZKaAXqGCZLA5",
        "outputId": "e8f5256b-7fca-4fd5-c585-986aa0069264"
      },
      "source": [
        "#(行数,列数)を確認\r\n",
        "df.shape"
      ],
      "execution_count": 1180,
      "outputs": [
        {
          "output_type": "execute_result",
          "data": {
            "text/plain": [
              "(6019, 13)"
            ]
          },
          "metadata": {
            "tags": []
          },
          "execution_count": 1180
        }
      ]
    },
    {
      "cell_type": "code",
      "metadata": {
        "colab": {
          "base_uri": "https://localhost:8080/"
        },
        "id": "UOvjOoWrZLA5",
        "outputId": "ffca7249-c0f7-4aa2-a652-443a6213aa1b"
      },
      "source": [
        "#データの型と欠損値を確認\r\n",
        "df.info()"
      ],
      "execution_count": 1181,
      "outputs": [
        {
          "output_type": "stream",
          "text": [
            "<class 'pandas.core.frame.DataFrame'>\n",
            "RangeIndex: 6019 entries, 0 to 6018\n",
            "Data columns (total 13 columns):\n",
            " #   Column             Non-Null Count  Dtype  \n",
            "---  ------             --------------  -----  \n",
            " 0   Name               6019 non-null   object \n",
            " 1   Location           6019 non-null   object \n",
            " 2   Year               6019 non-null   int64  \n",
            " 3   Kilometers_Driven  6019 non-null   int64  \n",
            " 4   Fuel_Type          6019 non-null   object \n",
            " 5   Transmission       6019 non-null   object \n",
            " 6   Owner_Type         6019 non-null   object \n",
            " 7   Mileage            6017 non-null   object \n",
            " 8   Engine             5983 non-null   object \n",
            " 9   Power              5983 non-null   object \n",
            " 10  Seats              5977 non-null   float64\n",
            " 11  New_Price          824 non-null    object \n",
            " 12  Price              6019 non-null   float64\n",
            "dtypes: float64(2), int64(2), object(9)\n",
            "memory usage: 611.4+ KB\n"
          ],
          "name": "stdout"
        }
      ]
    },
    {
      "cell_type": "markdown",
      "metadata": {
        "id": "OQtNm-2KZLA5"
      },
      "source": [
        "##前処理"
      ]
    },
    {
      "cell_type": "markdown",
      "metadata": {
        "id": "MuTdPtFDZLA6"
      },
      "source": [
        "###欠損値の処理\r\n",
        "欠損値となっているデータをどう扱うか決めていきます。"
      ]
    },
    {
      "cell_type": "code",
      "metadata": {
        "colab": {
          "base_uri": "https://localhost:8080/"
        },
        "id": "SlMuq63fZLA6",
        "outputId": "b32db807-7b7f-4d66-b1c6-5efda0378c6d"
      },
      "source": [
        "#各列で、欠損値の数を数えます\r\n",
        "df.isnull().sum()"
      ],
      "execution_count": 1182,
      "outputs": [
        {
          "output_type": "execute_result",
          "data": {
            "text/plain": [
              "Name                    0\n",
              "Location                0\n",
              "Year                    0\n",
              "Kilometers_Driven       0\n",
              "Fuel_Type               0\n",
              "Transmission            0\n",
              "Owner_Type              0\n",
              "Mileage                 2\n",
              "Engine                 36\n",
              "Power                  36\n",
              "Seats                  42\n",
              "New_Price            5195\n",
              "Price                   0\n",
              "dtype: int64"
            ]
          },
          "metadata": {
            "tags": []
          },
          "execution_count": 1182
        }
      ]
    },
    {
      "cell_type": "markdown",
      "metadata": {
        "id": "wO8V1N-rZLA6"
      },
      "source": [
        "'New_Price'の列は欠損値が多すぎて意味をなさないのでこの列を切り落とします。"
      ]
    },
    {
      "cell_type": "code",
      "metadata": {
        "id": "Yk7SoezVZLA7"
      },
      "source": [
        "df=df.drop(columns='New_Price')"
      ],
      "execution_count": 1183,
      "outputs": []
    },
    {
      "cell_type": "markdown",
      "metadata": {
        "id": "cBpQM2GJZLA7"
      },
      "source": [
        "'Mileage','Engine','Power','Seats'の列は欠損値がそれほど多くないので、欠損値を含む行をすべて削除してしまいます。"
      ]
    },
    {
      "cell_type": "code",
      "metadata": {
        "colab": {
          "base_uri": "https://localhost:8080/"
        },
        "id": "eOwFhKFDZLA7",
        "outputId": "9f2945bf-8f8b-4f52-d4ef-c19ad87de220"
      },
      "source": [
        "df=df.dropna()\r\n",
        "df.shape"
      ],
      "execution_count": 1184,
      "outputs": [
        {
          "output_type": "execute_result",
          "data": {
            "text/plain": [
              "(5975, 12)"
            ]
          },
          "metadata": {
            "tags": []
          },
          "execution_count": 1184
        }
      ]
    },
    {
      "cell_type": "code",
      "metadata": {
        "colab": {
          "base_uri": "https://localhost:8080/"
        },
        "id": "QWLNQdlcZLA7",
        "outputId": "09f986f7-790a-42a4-ff81-ecfa5514d0ea"
      },
      "source": [
        "df.info()"
      ],
      "execution_count": 1185,
      "outputs": [
        {
          "output_type": "stream",
          "text": [
            "<class 'pandas.core.frame.DataFrame'>\n",
            "Int64Index: 5975 entries, 0 to 6018\n",
            "Data columns (total 12 columns):\n",
            " #   Column             Non-Null Count  Dtype  \n",
            "---  ------             --------------  -----  \n",
            " 0   Name               5975 non-null   object \n",
            " 1   Location           5975 non-null   object \n",
            " 2   Year               5975 non-null   int64  \n",
            " 3   Kilometers_Driven  5975 non-null   int64  \n",
            " 4   Fuel_Type          5975 non-null   object \n",
            " 5   Transmission       5975 non-null   object \n",
            " 6   Owner_Type         5975 non-null   object \n",
            " 7   Mileage            5975 non-null   object \n",
            " 8   Engine             5975 non-null   object \n",
            " 9   Power              5975 non-null   object \n",
            " 10  Seats              5975 non-null   float64\n",
            " 11  Price              5975 non-null   float64\n",
            "dtypes: float64(2), int64(2), object(8)\n",
            "memory usage: 606.8+ KB\n"
          ],
          "name": "stdout"
        }
      ]
    },
    {
      "cell_type": "code",
      "metadata": {
        "colab": {
          "base_uri": "https://localhost:8080/"
        },
        "id": "SV2SK3erZLA8",
        "outputId": "16e5b71c-2bec-4c14-ced3-d87e9a325a92"
      },
      "source": [
        "df.isnull().sum()"
      ],
      "execution_count": 1186,
      "outputs": [
        {
          "output_type": "execute_result",
          "data": {
            "text/plain": [
              "Name                 0\n",
              "Location             0\n",
              "Year                 0\n",
              "Kilometers_Driven    0\n",
              "Fuel_Type            0\n",
              "Transmission         0\n",
              "Owner_Type           0\n",
              "Mileage              0\n",
              "Engine               0\n",
              "Power                0\n",
              "Seats                0\n",
              "Price                0\n",
              "dtype: int64"
            ]
          },
          "metadata": {
            "tags": []
          },
          "execution_count": 1186
        }
      ]
    },
    {
      "cell_type": "markdown",
      "metadata": {
        "id": "XPHJe2VQZLA8"
      },
      "source": [
        "これで欠損値がなくなったことが確認できました。"
      ]
    },
    {
      "cell_type": "markdown",
      "metadata": {
        "id": "bJTziH5AZLA8"
      },
      "source": [
        "### 各列を使用可能な数値データに変換"
      ]
    },
    {
      "cell_type": "markdown",
      "metadata": {
        "id": "JzBEjNIXZLA8"
      },
      "source": [
        "#### 'Owner_Type'について\r\n"
      ]
    },
    {
      "cell_type": "markdown",
      "metadata": {
        "id": "Tz83y2IKZLA8"
      },
      "source": [
        "'Owner_Type'は、[kaggle上のページ](https://www.kaggle.com/avikasliwal/used-cars-price-prediction)の説明より、前のオーナーの数を表します。\r\n",
        "\r\n",
        "序数で書かれているので、First,Second,...を、数値型の1,2,...に変換します。\r\n",
        "\r\n",
        "まず、どんな値を取っているのか調べます。"
      ]
    },
    {
      "cell_type": "code",
      "metadata": {
        "colab": {
          "base_uri": "https://localhost:8080/"
        },
        "id": "u1_4S2vTZLA9",
        "outputId": "21d8e12f-c055-4182-fb42-ad02d2ddf1e7"
      },
      "source": [
        "df['Owner_Type'].value_counts()"
      ],
      "execution_count": 1187,
      "outputs": [
        {
          "output_type": "execute_result",
          "data": {
            "text/plain": [
              "First             4903\n",
              "Second             953\n",
              "Third              111\n",
              "Fourth & Above       8\n",
              "Name: Owner_Type, dtype: int64"
            ]
          },
          "metadata": {
            "tags": []
          },
          "execution_count": 1187
        }
      ]
    },
    {
      "cell_type": "markdown",
      "metadata": {
        "id": "mi8wH0acZLA9"
      },
      "source": [
        "取る値とその回数が確認できたので、First,Second,Third,Fourth & Aboveを、それぞれ1,2,3,4に変換することにします。\r\n",
        "\r\n",
        "数値は整数型にします。\r\n",
        "\r\n"
      ]
    },
    {
      "cell_type": "code",
      "metadata": {
        "colab": {
          "base_uri": "https://localhost:8080/",
          "height": 0
        },
        "id": "eGy7q_uRZLA9",
        "outputId": "96653102-88a7-45be-8934-4868f6557d2c"
      },
      "source": [
        "df['Owner_Type'] = df['Owner_Type'].str.replace('First','1').replace('Second','2').replace('Third','3').replace('Fourth & Above','4')\r\n",
        "df['Owner_Type'] = df['Owner_Type'].astype(int)\r\n",
        "df.head()"
      ],
      "execution_count": 1188,
      "outputs": [
        {
          "output_type": "execute_result",
          "data": {
            "text/html": [
              "<div>\n",
              "<style scoped>\n",
              "    .dataframe tbody tr th:only-of-type {\n",
              "        vertical-align: middle;\n",
              "    }\n",
              "\n",
              "    .dataframe tbody tr th {\n",
              "        vertical-align: top;\n",
              "    }\n",
              "\n",
              "    .dataframe thead th {\n",
              "        text-align: right;\n",
              "    }\n",
              "</style>\n",
              "<table border=\"1\" class=\"dataframe\">\n",
              "  <thead>\n",
              "    <tr style=\"text-align: right;\">\n",
              "      <th></th>\n",
              "      <th>Name</th>\n",
              "      <th>Location</th>\n",
              "      <th>Year</th>\n",
              "      <th>Kilometers_Driven</th>\n",
              "      <th>Fuel_Type</th>\n",
              "      <th>Transmission</th>\n",
              "      <th>Owner_Type</th>\n",
              "      <th>Mileage</th>\n",
              "      <th>Engine</th>\n",
              "      <th>Power</th>\n",
              "      <th>Seats</th>\n",
              "      <th>Price</th>\n",
              "    </tr>\n",
              "  </thead>\n",
              "  <tbody>\n",
              "    <tr>\n",
              "      <th>0</th>\n",
              "      <td>Maruti Wagon R LXI CNG</td>\n",
              "      <td>Mumbai</td>\n",
              "      <td>2010</td>\n",
              "      <td>72000</td>\n",
              "      <td>CNG</td>\n",
              "      <td>Manual</td>\n",
              "      <td>1</td>\n",
              "      <td>26.6 km/kg</td>\n",
              "      <td>998 CC</td>\n",
              "      <td>58.16 bhp</td>\n",
              "      <td>5.0</td>\n",
              "      <td>1.75</td>\n",
              "    </tr>\n",
              "    <tr>\n",
              "      <th>1</th>\n",
              "      <td>Hyundai Creta 1.6 CRDi SX Option</td>\n",
              "      <td>Pune</td>\n",
              "      <td>2015</td>\n",
              "      <td>41000</td>\n",
              "      <td>Diesel</td>\n",
              "      <td>Manual</td>\n",
              "      <td>1</td>\n",
              "      <td>19.67 kmpl</td>\n",
              "      <td>1582 CC</td>\n",
              "      <td>126.2 bhp</td>\n",
              "      <td>5.0</td>\n",
              "      <td>12.50</td>\n",
              "    </tr>\n",
              "    <tr>\n",
              "      <th>2</th>\n",
              "      <td>Honda Jazz V</td>\n",
              "      <td>Chennai</td>\n",
              "      <td>2011</td>\n",
              "      <td>46000</td>\n",
              "      <td>Petrol</td>\n",
              "      <td>Manual</td>\n",
              "      <td>1</td>\n",
              "      <td>18.2 kmpl</td>\n",
              "      <td>1199 CC</td>\n",
              "      <td>88.7 bhp</td>\n",
              "      <td>5.0</td>\n",
              "      <td>4.50</td>\n",
              "    </tr>\n",
              "    <tr>\n",
              "      <th>3</th>\n",
              "      <td>Maruti Ertiga VDI</td>\n",
              "      <td>Chennai</td>\n",
              "      <td>2012</td>\n",
              "      <td>87000</td>\n",
              "      <td>Diesel</td>\n",
              "      <td>Manual</td>\n",
              "      <td>1</td>\n",
              "      <td>20.77 kmpl</td>\n",
              "      <td>1248 CC</td>\n",
              "      <td>88.76 bhp</td>\n",
              "      <td>7.0</td>\n",
              "      <td>6.00</td>\n",
              "    </tr>\n",
              "    <tr>\n",
              "      <th>4</th>\n",
              "      <td>Audi A4 New 2.0 TDI Multitronic</td>\n",
              "      <td>Coimbatore</td>\n",
              "      <td>2013</td>\n",
              "      <td>40670</td>\n",
              "      <td>Diesel</td>\n",
              "      <td>Automatic</td>\n",
              "      <td>2</td>\n",
              "      <td>15.2 kmpl</td>\n",
              "      <td>1968 CC</td>\n",
              "      <td>140.8 bhp</td>\n",
              "      <td>5.0</td>\n",
              "      <td>17.74</td>\n",
              "    </tr>\n",
              "  </tbody>\n",
              "</table>\n",
              "</div>"
            ],
            "text/plain": [
              "                               Name    Location  Year  ...      Power Seats  Price\n",
              "0            Maruti Wagon R LXI CNG      Mumbai  2010  ...  58.16 bhp   5.0   1.75\n",
              "1  Hyundai Creta 1.6 CRDi SX Option        Pune  2015  ...  126.2 bhp   5.0  12.50\n",
              "2                      Honda Jazz V     Chennai  2011  ...   88.7 bhp   5.0   4.50\n",
              "3                 Maruti Ertiga VDI     Chennai  2012  ...  88.76 bhp   7.0   6.00\n",
              "4   Audi A4 New 2.0 TDI Multitronic  Coimbatore  2013  ...  140.8 bhp   5.0  17.74\n",
              "\n",
              "[5 rows x 12 columns]"
            ]
          },
          "metadata": {
            "tags": []
          },
          "execution_count": 1188
        }
      ]
    },
    {
      "cell_type": "markdown",
      "metadata": {
        "id": "JHer_otoZLA9"
      },
      "source": [
        "####'Mileage'について\r\n",
        "0行目は単位km/kgで、1～4行目はkmplつまりkm/Lで書かれていることが確認できます。\r\n",
        "\r\n",
        "まず、それぞれの単位で書かれたデータの数を数えます。"
      ]
    },
    {
      "cell_type": "code",
      "metadata": {
        "colab": {
          "base_uri": "https://localhost:8080/"
        },
        "id": "tikdF3v4ZLA9",
        "outputId": "5dca3e35-ec64-47fe-956a-6042d2741ef8"
      },
      "source": [
        "kmpkg=0\r\n",
        "kmpl=0\r\n",
        "other_mi=0\r\n",
        "for i in df['Mileage']:\r\n",
        "    if str(i).endswith(\" km/kg\"):\r\n",
        "      kmpkg+=1\r\n",
        "    elif str(i).endswith(\" kmpl\"):\r\n",
        "      kmpl+=1\r\n",
        "    else:\r\n",
        "      other_mi+=1\r\n",
        "\r\n",
        "print(\"km/kgで書かれたデータは\",kmpkg,\"コ\")\r\n",
        "print(\"km/Lで書かれたデータは\",kmpl,\"コ\")\r\n",
        "print(\"それ以外の単位で書かれたデータは\",other_mi,\"コ\")"
      ],
      "execution_count": 1189,
      "outputs": [
        {
          "output_type": "stream",
          "text": [
            "km/kgで書かれたデータは 66 コ\n",
            "km/Lで書かれたデータは 5909 コ\n",
            "それ以外の単位で書かれたデータは 0 コ\n"
          ],
          "name": "stdout"
        }
      ]
    },
    {
      "cell_type": "markdown",
      "metadata": {
        "id": "oUzt05d_ZLA-"
      },
      "source": [
        "燃費の単位は燃料の種類によって違うことが考えられるので、まずデータ全体で各燃料種類の車の数を数えます。"
      ]
    },
    {
      "cell_type": "code",
      "metadata": {
        "colab": {
          "base_uri": "https://localhost:8080/"
        },
        "id": "PfcBa-FbZLA-",
        "outputId": "267e9041-ce03-4b16-8384-fab0c052c205"
      },
      "source": [
        "df['Fuel_Type'].value_counts()"
      ],
      "execution_count": 1190,
      "outputs": [
        {
          "output_type": "execute_result",
          "data": {
            "text/plain": [
              "Diesel    3195\n",
              "Petrol    2714\n",
              "CNG         56\n",
              "LPG         10\n",
              "Name: Fuel_Type, dtype: int64"
            ]
          },
          "metadata": {
            "tags": []
          },
          "execution_count": 1190
        }
      ]
    },
    {
      "cell_type": "markdown",
      "metadata": {
        "id": "jTL8lm-NZLA-"
      },
      "source": [
        "次に燃費の単位ごとに各燃料種類の車の数を数えます。"
      ]
    },
    {
      "cell_type": "code",
      "metadata": {
        "colab": {
          "base_uri": "https://localhost:8080/"
        },
        "id": "4MwqMGxVZLA-",
        "outputId": "959b9c93-ffdd-454c-ee4f-2bb000804481"
      },
      "source": [
        "df_kmpkg=df.query('Mileage.str.endswith(\"km/kg\")',engine='python')\r\n",
        "df_kmpl=df.query('Mileage.str.endswith(\"kmpl\")',engine='python')\r\n",
        "\r\n",
        "print(\"km/kgで書かれた中古車の燃料種類\")\r\n",
        "print(df_kmpkg['Fuel_Type'].value_counts())\r\n",
        "print(\"-----------------------------------\")\r\n",
        "print(\"km/Lで書かれた中古車の燃料種類\")\r\n",
        "print(df_kmpl['Fuel_Type'].value_counts())"
      ],
      "execution_count": 1191,
      "outputs": [
        {
          "output_type": "stream",
          "text": [
            "km/kgで書かれた中古車の燃料種類\n",
            "CNG    56\n",
            "LPG    10\n",
            "Name: Fuel_Type, dtype: int64\n",
            "-----------------------------------\n",
            "km/Lで書かれた中古車の燃料種類\n",
            "Diesel    3195\n",
            "Petrol    2714\n",
            "Name: Fuel_Type, dtype: int64\n"
          ],
          "name": "stdout"
        }
      ]
    },
    {
      "cell_type": "markdown",
      "metadata": {
        "id": "mvAc6Q3BZLA_"
      },
      "source": [
        "km/kgで書かれているのはCNGとLPGの車\r\n",
        "\r\n",
        "㎞/Lで書かれているのは軽油とガソリンの車\r\n",
        "\r\n",
        "とわかります。\r\n",
        "\r\n",
        "\r\n",
        "\r\n"
      ]
    },
    {
      "cell_type": "markdown",
      "metadata": {
        "id": "ZB3s5IJ1ZLA_"
      },
      "source": [
        "##### 'Mileage'の単位換算\r\n",
        "Petrol: 0.9\\$/L , Diesel: 1.0\\$/L , CNG: 1.5\\$/kg , LPG: 1.5\\$/kg"
      ]
    },
    {
      "cell_type": "markdown",
      "metadata": {
        "id": "17tT5OtOZLA_"
      },
      "source": [
        "全てを一律に比べるため、今回は燃料1USドル分で走れる距離(km/\\$)を燃費の単位とします。\r\n",
        "\r\n",
        "そのために各燃料の単価を求めます。\r\n",
        "\r\n",
        "'Location'から分かる通りインドの市場、[データの更新時期は2019年](https://www.kaggle.com/avikasliwal/used-cars-price-prediction)なので、\r\n",
        "\r\n",
        "今回、2019年のガソリンと自動車用軽油にはインドの価格を用います。\r\n",
        "\r\n",
        "2019/12/09時点で1L当たりガソリンは75ルピー、軽油は66.04ルピーで、当時のレート(1ルピー=0.014USD)から、それぞれ1.0\\$/L,0.9\\$/Lです。\r\n",
        "\r\n",
        "\r\n",
        "CNGとLPGはインドの価格に関する資料が見つからなかったので、国内の小売価格を参考にします。\r\n",
        "\r\n",
        "<br>\r\n",
        "\r\n",
        "*   ガソリン(Petrol): 1.0 \\$/L\r\n",
        "*   自動車用軽油(Diesel): 0.9 \\$/L\r\n",
        "*   圧縮天然ガス(CNG): 1.5 \\$/kg\r\n",
        "*   液化石油ガス(オートガス,LPG): 1.5 \\$/kg\r\n",
        "\r\n",
        "<br>\r\n",
        "(説明)\r\n",
        "\r\n",
        "\r\n",
        "CNGはメタン(ガス密度約0.7kg/m³)を主成分とした天然ガスを20MPaで圧縮したものです。\r\n",
        "\r\n",
        "価格は105円/m³(標準状態) , ガス密度は標準状態でメタンと同じ0.7kg/m³として、\r\n",
        "\r\n",
        "150円/kg ≓ 1.5\\$/kg\r\n",
        "\r\n",
        "<br>\r\n",
        "\r\n",
        "LPG(オートガス)はブタン(液密度約580kg/m³)が主成分です。\r\n",
        "\r\n",
        "価格は86円/L , 液密度は580kg/m³ , 1m³=1000L として、\r\n",
        "\r\n",
        "約148円/kg ≓ 1.5\\$/kg\r\n",
        "\r\n",
        "<br>\r\n",
        "\r\n",
        "######参考文献\r\n",
        "\r\n",
        "\r\n",
        "\r\n",
        "  \r\n",
        "\r\n",
        "\r\n",
        "\r\n",
        "\r\n",
        "\r\n",
        "\r\n",
        "\r\n",
        "\r\n"
      ]
    },
    {
      "cell_type": "markdown",
      "metadata": {
        "id": "4MCz3Dh9ZLA_"
      },
      "source": [
        "1. NNA ASIA   アジア経済ニュース\r\n",
        "\r\n",
        "  ガソリンが75ルピーに値上がり、１年ぶり (2019/12/11（水）)\r\n",
        "  \r\n",
        "  https://www.nna.jp/news/show/1984842\r\n",
        "\r\n",
        "  [アクセス日: 2021/01/30]\r\n",
        "\r\n",
        "2.   大阪ガス\r\n",
        "\r\n",
        "  天然ガス自動車＞CNG基本単価\r\n",
        "\r\n",
        "  https://ene.osakagas.co.jp/product/ngv/users/cng_price.html\r\n",
        "\r\n",
        "  [アクセス日: 2021/01/30]\r\n",
        "\r\n",
        "3.  国際石油開発帝石\r\n",
        "\r\n",
        "  天然ガスの成分構造\r\n",
        "\r\n",
        "  https://www.inpex.co.jp/museum/01/02.html\r\n",
        "\r\n",
        "  [アクセス日: 2021/01/30]\r\n",
        "\r\n",
        "4.  JOGMEC 独立行政法人石油天然ガス・金属鉱物資源機構\r\n",
        "\r\n",
        "  石油・天然ガス資源情報\r\n",
        "\r\n",
        "  圧縮天然ガス\r\n",
        "\r\n",
        "  https://oilgas-info.jogmec.go.jp/termlist/1000201/1000216.html\r\n",
        "\r\n",
        "  [アクセス日: 2021/01/30]\r\n",
        "　\r\n",
        "5.  日本LPガス協会\r\n",
        "\r\n",
        "  LPガスの概要＞LPガスの性質\r\n",
        "\r\n",
        "  https://www.j-lpgas.gr.jp/intr/seishitsu.html\r\n",
        "\r\n",
        "  [アクセス日: 2021/01/30]\r\n",
        "\r\n",
        "6. 財団法人 日本エネルギー経済研究所 石油情報センター\r\n",
        "\r\n",
        "  価格情報＞オートガス\r\n",
        "\r\n",
        "  https://oil-info.ieej.or.jp/price/price.html\r\n",
        "\r\n",
        "  https://oil-info.ieej.or.jp/price/data/autogas.xls\r\n",
        "\r\n",
        "  [アクセス日: 2021/01/30]\r\n",
        "\r\n",
        "7. JPH10121069A - オートガス組成物 - Google Patents\r\n",
        "\r\n",
        "  https://patents.google.com/patent/JPH10121069A/ja\r\n",
        "\r\n",
        "  [アクセス日: 2021/01/30]"
      ]
    },
    {
      "cell_type": "markdown",
      "metadata": {
        "id": "tLujRbIHZLA_"
      },
      "source": [
        "##### 'Mileage'の値の書き換え"
      ]
    },
    {
      "cell_type": "code",
      "metadata": {
        "id": "iww1cytpZLA_"
      },
      "source": [
        "#以下の4値を書き換えると各燃料の単価を変更できます。\r\n",
        "pet_dpl=1.0\r\n",
        "die_dpl=0.9\r\n",
        "cng_dpkg=1.5\r\n",
        "lpg_dpkg=1.5\r\n",
        "#国内のみでも試算"
      ],
      "execution_count": 1192,
      "outputs": []
    },
    {
      "cell_type": "markdown",
      "metadata": {
        "id": "yQReBm_DZLBA"
      },
      "source": [
        "'Mileage'から単位表記を消し、さらに数値として扱うため浮動小数点型に変換したものを、新たに'Mileage_flo'列として加えます。"
      ]
    },
    {
      "cell_type": "code",
      "metadata": {
        "colab": {
          "base_uri": "https://localhost:8080/",
          "height": 0
        },
        "id": "7SkBEkqlZLBA",
        "outputId": "324d5b50-b36d-4c7f-a02b-5ae2f4d19ac1"
      },
      "source": [
        "df['Mileage_flo'] = df['Mileage'].str.replace(' kmpl','')\r\n",
        "df['Mileage_flo'] = df['Mileage_flo'].str.replace(' km/kg','')\r\n",
        "df['Mileage_flo'] = df['Mileage_flo'].astype(float)\r\n",
        "df.head()"
      ],
      "execution_count": 1193,
      "outputs": [
        {
          "output_type": "execute_result",
          "data": {
            "text/html": [
              "<div>\n",
              "<style scoped>\n",
              "    .dataframe tbody tr th:only-of-type {\n",
              "        vertical-align: middle;\n",
              "    }\n",
              "\n",
              "    .dataframe tbody tr th {\n",
              "        vertical-align: top;\n",
              "    }\n",
              "\n",
              "    .dataframe thead th {\n",
              "        text-align: right;\n",
              "    }\n",
              "</style>\n",
              "<table border=\"1\" class=\"dataframe\">\n",
              "  <thead>\n",
              "    <tr style=\"text-align: right;\">\n",
              "      <th></th>\n",
              "      <th>Name</th>\n",
              "      <th>Location</th>\n",
              "      <th>Year</th>\n",
              "      <th>Kilometers_Driven</th>\n",
              "      <th>Fuel_Type</th>\n",
              "      <th>Transmission</th>\n",
              "      <th>Owner_Type</th>\n",
              "      <th>Mileage</th>\n",
              "      <th>Engine</th>\n",
              "      <th>Power</th>\n",
              "      <th>Seats</th>\n",
              "      <th>Price</th>\n",
              "      <th>Mileage_flo</th>\n",
              "    </tr>\n",
              "  </thead>\n",
              "  <tbody>\n",
              "    <tr>\n",
              "      <th>0</th>\n",
              "      <td>Maruti Wagon R LXI CNG</td>\n",
              "      <td>Mumbai</td>\n",
              "      <td>2010</td>\n",
              "      <td>72000</td>\n",
              "      <td>CNG</td>\n",
              "      <td>Manual</td>\n",
              "      <td>1</td>\n",
              "      <td>26.6 km/kg</td>\n",
              "      <td>998 CC</td>\n",
              "      <td>58.16 bhp</td>\n",
              "      <td>5.0</td>\n",
              "      <td>1.75</td>\n",
              "      <td>26.60</td>\n",
              "    </tr>\n",
              "    <tr>\n",
              "      <th>1</th>\n",
              "      <td>Hyundai Creta 1.6 CRDi SX Option</td>\n",
              "      <td>Pune</td>\n",
              "      <td>2015</td>\n",
              "      <td>41000</td>\n",
              "      <td>Diesel</td>\n",
              "      <td>Manual</td>\n",
              "      <td>1</td>\n",
              "      <td>19.67 kmpl</td>\n",
              "      <td>1582 CC</td>\n",
              "      <td>126.2 bhp</td>\n",
              "      <td>5.0</td>\n",
              "      <td>12.50</td>\n",
              "      <td>19.67</td>\n",
              "    </tr>\n",
              "    <tr>\n",
              "      <th>2</th>\n",
              "      <td>Honda Jazz V</td>\n",
              "      <td>Chennai</td>\n",
              "      <td>2011</td>\n",
              "      <td>46000</td>\n",
              "      <td>Petrol</td>\n",
              "      <td>Manual</td>\n",
              "      <td>1</td>\n",
              "      <td>18.2 kmpl</td>\n",
              "      <td>1199 CC</td>\n",
              "      <td>88.7 bhp</td>\n",
              "      <td>5.0</td>\n",
              "      <td>4.50</td>\n",
              "      <td>18.20</td>\n",
              "    </tr>\n",
              "    <tr>\n",
              "      <th>3</th>\n",
              "      <td>Maruti Ertiga VDI</td>\n",
              "      <td>Chennai</td>\n",
              "      <td>2012</td>\n",
              "      <td>87000</td>\n",
              "      <td>Diesel</td>\n",
              "      <td>Manual</td>\n",
              "      <td>1</td>\n",
              "      <td>20.77 kmpl</td>\n",
              "      <td>1248 CC</td>\n",
              "      <td>88.76 bhp</td>\n",
              "      <td>7.0</td>\n",
              "      <td>6.00</td>\n",
              "      <td>20.77</td>\n",
              "    </tr>\n",
              "    <tr>\n",
              "      <th>4</th>\n",
              "      <td>Audi A4 New 2.0 TDI Multitronic</td>\n",
              "      <td>Coimbatore</td>\n",
              "      <td>2013</td>\n",
              "      <td>40670</td>\n",
              "      <td>Diesel</td>\n",
              "      <td>Automatic</td>\n",
              "      <td>2</td>\n",
              "      <td>15.2 kmpl</td>\n",
              "      <td>1968 CC</td>\n",
              "      <td>140.8 bhp</td>\n",
              "      <td>5.0</td>\n",
              "      <td>17.74</td>\n",
              "      <td>15.20</td>\n",
              "    </tr>\n",
              "  </tbody>\n",
              "</table>\n",
              "</div>"
            ],
            "text/plain": [
              "                               Name    Location  ...  Price  Mileage_flo\n",
              "0            Maruti Wagon R LXI CNG      Mumbai  ...   1.75        26.60\n",
              "1  Hyundai Creta 1.6 CRDi SX Option        Pune  ...  12.50        19.67\n",
              "2                      Honda Jazz V     Chennai  ...   4.50        18.20\n",
              "3                 Maruti Ertiga VDI     Chennai  ...   6.00        20.77\n",
              "4   Audi A4 New 2.0 TDI Multitronic  Coimbatore  ...  17.74        15.20\n",
              "\n",
              "[5 rows x 13 columns]"
            ]
          },
          "metadata": {
            "tags": []
          },
          "execution_count": 1193
        }
      ]
    },
    {
      "cell_type": "markdown",
      "metadata": {
        "id": "JqDrHiHHZLBA"
      },
      "source": [
        "変換してしまう前に外れ値がないか確認します。"
      ]
    },
    {
      "cell_type": "code",
      "metadata": {
        "colab": {
          "base_uri": "https://localhost:8080/"
        },
        "id": "4owbaaWvZLBA",
        "outputId": "320f07ae-71b6-4ebb-e3d9-4d2ba391ebe5"
      },
      "source": [
        "df['Mileage_flo'].describe()"
      ],
      "execution_count": 1194,
      "outputs": [
        {
          "output_type": "execute_result",
          "data": {
            "text/plain": [
              "count    5975.000000\n",
              "mean       18.179408\n",
              "std         4.521801\n",
              "min         0.000000\n",
              "25%        15.200000\n",
              "50%        18.160000\n",
              "75%        21.100000\n",
              "max        33.540000\n",
              "Name: Mileage_flo, dtype: float64"
            ]
          },
          "metadata": {
            "tags": []
          },
          "execution_count": 1194
        }
      ]
    },
    {
      "cell_type": "markdown",
      "metadata": {
        "id": "uEf_7G81ZLBA"
      },
      "source": [
        "最小値が0になっているのが異常です。0となっている車の数を数えます。"
      ]
    },
    {
      "cell_type": "code",
      "metadata": {
        "colab": {
          "base_uri": "https://localhost:8080/"
        },
        "id": "ML13bfrdZLBB",
        "outputId": "13f5170c-6585-415c-f087-bb62c93a9da1"
      },
      "source": [
        "zero_cou=0\r\n",
        "a=[]\r\n",
        "for i in df['Mileage_flo']:\r\n",
        "  if i==0:\r\n",
        "    zero_cou+=1\r\n",
        "\r\n",
        "print(zero_cou)"
      ],
      "execution_count": 1195,
      "outputs": [
        {
          "output_type": "stream",
          "text": [
            "56\n"
          ],
          "name": "stdout"
        }
      ]
    },
    {
      "cell_type": "markdown",
      "metadata": {
        "id": "jTqvx_C0ZLBB"
      },
      "source": [
        "0の車を除いて調べます。"
      ]
    },
    {
      "cell_type": "code",
      "metadata": {
        "colab": {
          "base_uri": "https://localhost:8080/"
        },
        "id": "PBoTBErFZLBB",
        "outputId": "83e69318-c281-4647-d6b6-8949572c3a01"
      },
      "source": [
        "df_not_m0=df[df['Mileage_flo']>0]\r\n",
        "df_not_m0['Mileage_flo'].describe()"
      ],
      "execution_count": 1196,
      "outputs": [
        {
          "output_type": "execute_result",
          "data": {
            "text/plain": [
              "count    5919.000000\n",
              "mean       18.351404\n",
              "std         4.181298\n",
              "min         6.400000\n",
              "25%        15.300000\n",
              "50%        18.200000\n",
              "75%        21.100000\n",
              "max        33.540000\n",
              "Name: Mileage_flo, dtype: float64"
            ]
          },
          "metadata": {
            "tags": []
          },
          "execution_count": 1196
        }
      ]
    },
    {
      "cell_type": "markdown",
      "metadata": {
        "id": "T-CqhOzRZLBB"
      },
      "source": [
        "'Mileage'が0となっている車を除けば異常はなさそうです。\r\n",
        "'Mileage'が0となっているのはデータが取れないほど走行距離が短い可能性などが考えられるので、その車の走行距離を調べます。"
      ]
    },
    {
      "cell_type": "code",
      "metadata": {
        "colab": {
          "base_uri": "https://localhost:8080/"
        },
        "id": "O-cJDSo8ZLBB",
        "outputId": "9750a3da-237d-4780-9607-6260b2a94d9e"
      },
      "source": [
        "df_m0=df[df['Mileage_flo']==0]\r\n",
        "df_m0['Kilometers_Driven'].value_counts()\r\n"
      ],
      "execution_count": 1197,
      "outputs": [
        {
          "output_type": "execute_result",
          "data": {
            "text/plain": [
              "70000     4\n",
              "85000     2\n",
              "58000     2\n",
              "120000    2\n",
              "119203    1\n",
              "42021     1\n",
              "75000     1\n",
              "58163     1\n",
              "46000     1\n",
              "67000     1\n",
              "105000    1\n",
              "53000     1\n",
              "89000     1\n",
              "87591     1\n",
              "20000     1\n",
              "24720     1\n",
              "27833     1\n",
              "93000     1\n",
              "63000     1\n",
              "139000    1\n",
              "4000      1\n",
              "60170     1\n",
              "15369     1\n",
              "13190     1\n",
              "227000    1\n",
              "45500     1\n",
              "69000     1\n",
              "200000    1\n",
              "65400     1\n",
              "26000     1\n",
              "74483     1\n",
              "22769     1\n",
              "54000     1\n",
              "167000    1\n",
              "20842     1\n",
              "72000     1\n",
              "33000     1\n",
              "65000     1\n",
              "82000     1\n",
              "103000    1\n",
              "8682      1\n",
              "61449     1\n",
              "66000     1\n",
              "99000     1\n",
              "51019     1\n",
              "125000    1\n",
              "215750    1\n",
              "35268     1\n",
              "50243     1\n",
              "96000     1\n",
              "Name: Kilometers_Driven, dtype: int64"
            ]
          },
          "metadata": {
            "tags": []
          },
          "execution_count": 1197
        }
      ]
    },
    {
      "cell_type": "markdown",
      "metadata": {
        "id": "cTbUZrLLZLBC"
      },
      "source": [
        "走行距離に特に異常はなさそうなので、単純に'Mileage'を取得できなかった、つまり欠損値と見ることにします。\r\n",
        "\r\n",
        "車種によってある程度'Mileage'は定まると考えられるます。'Mileage'が0となっている車と、'Mileage'が0となっていない車の間で、共通する車種ががないかどうか調べます。"
      ]
    },
    {
      "cell_type": "code",
      "metadata": {
        "colab": {
          "base_uri": "https://localhost:8080/"
        },
        "id": "TMizEDoDZLBC",
        "outputId": "70b0934e-4a71-4637-cca8-c1bb609ede06"
      },
      "source": [
        "m0_name_list=df_m0['Name'].unique().tolist()\r\n",
        "print(m0_name_list)\r\n",
        "df_m0name=df_not_m0[df_not_m0['Name'].isin(a)]\r\n",
        "df_m0name.shape"
      ],
      "execution_count": 1198,
      "outputs": [
        {
          "output_type": "stream",
          "text": [
            "['Land Rover Freelander 2 TD4 SE', 'Mercedes-Benz C-Class Progressive C 220d', 'Hyundai Santro Xing XL', 'Volkswagen Jetta 2007-2011 1.9 L TDI', 'Hyundai Santro GLS I - Euro I', 'Mercedes-Benz New C-Class Progressive C 200', 'Hyundai Santro LS zipPlus', 'Hyundai Santro Xing XP', 'Mercedes-Benz M-Class ML 350 4Matic', 'Smart Fortwo CDI AT', 'Hyundai Santro Xing GL', 'Land Rover Freelander 2 TD4 S', 'Hyundai Santro GLS I - Euro II', 'Maruti Baleno Vxi', 'Hyundai Santro DX', 'Mahindra Jeep MM 550 PE', 'Toyota Qualis RS E2', 'Hyundai Santro AT', 'Skoda Superb 3.6 V6 FSI', 'Hyundai Santro GS', 'Audi A7 2011-2015 Sportback', 'Hyundai Santro GS zipDrive - Euro II', 'Fiat Siena 1.2 ELX', 'Land Rover Freelander 2 TD4 HSE', 'Hyundai Santro LP - Euro II', 'Toyota Qualis Fleet A3', 'Mahindra Jeep MM 540 DP']\n"
          ],
          "name": "stdout"
        },
        {
          "output_type": "execute_result",
          "data": {
            "text/plain": [
              "(0, 13)"
            ]
          },
          "metadata": {
            "tags": []
          },
          "execution_count": 1198
        }
      ]
    },
    {
      "cell_type": "markdown",
      "metadata": {
        "id": "G-j3tC2RZLBC"
      },
      "source": [
        "上記のdf_m0nameが0行である、つまり共通する車種は1つもないので、今回は、'Mileage'が欠損値0となっているものは埋めずに、その行ごと削除してしまいます。"
      ]
    },
    {
      "cell_type": "code",
      "metadata": {
        "id": "yEGH_10QZLBC"
      },
      "source": [
        "df=df_not_m0"
      ],
      "execution_count": 1199,
      "outputs": []
    },
    {
      "cell_type": "markdown",
      "metadata": {
        "id": "h_Bk-V2sZLBC"
      },
      "source": [
        "'Mileage_kmpd'列の値について、燃料種類ごとに、km/\\$単位の燃費に変換します。"
      ]
    },
    {
      "cell_type": "code",
      "metadata": {
        "colab": {
          "base_uri": "https://localhost:8080/",
          "height": 0
        },
        "id": "WfST8DT5ZLBC",
        "outputId": "943f0da6-5bba-438e-ee70-d55ac9f38a13"
      },
      "source": [
        "for i in df.index:\r\n",
        "  if df.at[i,'Fuel_Type']=='Petrol':\r\n",
        "    df.at[i,'Mileage_kmpd']=df.at[i,'Mileage_flo']/pet_dpl\r\n",
        "  elif df.at[i,'Fuel_Type']=='Diesel':\r\n",
        "    df.at[i,'Mileage_kmpd']=df.at[i,'Mileage_flo']/die_dpl\r\n",
        "  elif df.at[i,'Fuel_Type']=='CNG':\r\n",
        "    df.at[i,'Mileage_kmpd']=df.at[i,'Mileage_flo']/cng_dpkg\r\n",
        "  elif df.at[i,'Fuel_Type']=='LPG':\r\n",
        "    df.at[i,'Mileage_kmpd']=df.at[i,'Mileage_flo']/pet_dpl\r\n",
        "  else:\r\n",
        "    print(i+\"行目の車はその他の燃料を用いています!!\")\r\n",
        "\r\n",
        "df.head()"
      ],
      "execution_count": 1200,
      "outputs": [
        {
          "output_type": "execute_result",
          "data": {
            "text/html": [
              "<div>\n",
              "<style scoped>\n",
              "    .dataframe tbody tr th:only-of-type {\n",
              "        vertical-align: middle;\n",
              "    }\n",
              "\n",
              "    .dataframe tbody tr th {\n",
              "        vertical-align: top;\n",
              "    }\n",
              "\n",
              "    .dataframe thead th {\n",
              "        text-align: right;\n",
              "    }\n",
              "</style>\n",
              "<table border=\"1\" class=\"dataframe\">\n",
              "  <thead>\n",
              "    <tr style=\"text-align: right;\">\n",
              "      <th></th>\n",
              "      <th>Name</th>\n",
              "      <th>Location</th>\n",
              "      <th>Year</th>\n",
              "      <th>Kilometers_Driven</th>\n",
              "      <th>Fuel_Type</th>\n",
              "      <th>Transmission</th>\n",
              "      <th>Owner_Type</th>\n",
              "      <th>Mileage</th>\n",
              "      <th>Engine</th>\n",
              "      <th>Power</th>\n",
              "      <th>Seats</th>\n",
              "      <th>Price</th>\n",
              "      <th>Mileage_flo</th>\n",
              "      <th>Mileage_kmpd</th>\n",
              "    </tr>\n",
              "  </thead>\n",
              "  <tbody>\n",
              "    <tr>\n",
              "      <th>0</th>\n",
              "      <td>Maruti Wagon R LXI CNG</td>\n",
              "      <td>Mumbai</td>\n",
              "      <td>2010</td>\n",
              "      <td>72000</td>\n",
              "      <td>CNG</td>\n",
              "      <td>Manual</td>\n",
              "      <td>1</td>\n",
              "      <td>26.6 km/kg</td>\n",
              "      <td>998 CC</td>\n",
              "      <td>58.16 bhp</td>\n",
              "      <td>5.0</td>\n",
              "      <td>1.75</td>\n",
              "      <td>26.60</td>\n",
              "      <td>17.733333</td>\n",
              "    </tr>\n",
              "    <tr>\n",
              "      <th>1</th>\n",
              "      <td>Hyundai Creta 1.6 CRDi SX Option</td>\n",
              "      <td>Pune</td>\n",
              "      <td>2015</td>\n",
              "      <td>41000</td>\n",
              "      <td>Diesel</td>\n",
              "      <td>Manual</td>\n",
              "      <td>1</td>\n",
              "      <td>19.67 kmpl</td>\n",
              "      <td>1582 CC</td>\n",
              "      <td>126.2 bhp</td>\n",
              "      <td>5.0</td>\n",
              "      <td>12.50</td>\n",
              "      <td>19.67</td>\n",
              "      <td>21.855556</td>\n",
              "    </tr>\n",
              "    <tr>\n",
              "      <th>2</th>\n",
              "      <td>Honda Jazz V</td>\n",
              "      <td>Chennai</td>\n",
              "      <td>2011</td>\n",
              "      <td>46000</td>\n",
              "      <td>Petrol</td>\n",
              "      <td>Manual</td>\n",
              "      <td>1</td>\n",
              "      <td>18.2 kmpl</td>\n",
              "      <td>1199 CC</td>\n",
              "      <td>88.7 bhp</td>\n",
              "      <td>5.0</td>\n",
              "      <td>4.50</td>\n",
              "      <td>18.20</td>\n",
              "      <td>18.200000</td>\n",
              "    </tr>\n",
              "    <tr>\n",
              "      <th>3</th>\n",
              "      <td>Maruti Ertiga VDI</td>\n",
              "      <td>Chennai</td>\n",
              "      <td>2012</td>\n",
              "      <td>87000</td>\n",
              "      <td>Diesel</td>\n",
              "      <td>Manual</td>\n",
              "      <td>1</td>\n",
              "      <td>20.77 kmpl</td>\n",
              "      <td>1248 CC</td>\n",
              "      <td>88.76 bhp</td>\n",
              "      <td>7.0</td>\n",
              "      <td>6.00</td>\n",
              "      <td>20.77</td>\n",
              "      <td>23.077778</td>\n",
              "    </tr>\n",
              "    <tr>\n",
              "      <th>4</th>\n",
              "      <td>Audi A4 New 2.0 TDI Multitronic</td>\n",
              "      <td>Coimbatore</td>\n",
              "      <td>2013</td>\n",
              "      <td>40670</td>\n",
              "      <td>Diesel</td>\n",
              "      <td>Automatic</td>\n",
              "      <td>2</td>\n",
              "      <td>15.2 kmpl</td>\n",
              "      <td>1968 CC</td>\n",
              "      <td>140.8 bhp</td>\n",
              "      <td>5.0</td>\n",
              "      <td>17.74</td>\n",
              "      <td>15.20</td>\n",
              "      <td>16.888889</td>\n",
              "    </tr>\n",
              "  </tbody>\n",
              "</table>\n",
              "</div>"
            ],
            "text/plain": [
              "                               Name    Location  ...  Mileage_flo  Mileage_kmpd\n",
              "0            Maruti Wagon R LXI CNG      Mumbai  ...        26.60     17.733333\n",
              "1  Hyundai Creta 1.6 CRDi SX Option        Pune  ...        19.67     21.855556\n",
              "2                      Honda Jazz V     Chennai  ...        18.20     18.200000\n",
              "3                 Maruti Ertiga VDI     Chennai  ...        20.77     23.077778\n",
              "4   Audi A4 New 2.0 TDI Multitronic  Coimbatore  ...        15.20     16.888889\n",
              "\n",
              "[5 rows x 14 columns]"
            ]
          },
          "metadata": {
            "tags": []
          },
          "execution_count": 1200
        }
      ]
    },
    {
      "cell_type": "markdown",
      "metadata": {
        "id": "teGjLo6HZLBD"
      },
      "source": [
        "'Mileage_kmpd'列が正しく追加できているのが確認できます。\r\n",
        "不要になった'Mileage'と'Mileage_flo'を削除します。"
      ]
    },
    {
      "cell_type": "code",
      "metadata": {
        "id": "NDJLP9vWZLBD"
      },
      "source": [
        "df=df.drop(columns=['Mileage','Mileage_flo'])"
      ],
      "execution_count": 1201,
      "outputs": []
    },
    {
      "cell_type": "markdown",
      "metadata": {
        "id": "x-wRt0vqZLBD"
      },
      "source": [
        "####'Engine'について"
      ]
    },
    {
      "cell_type": "markdown",
      "metadata": {
        "id": "T43SiE-3ZLBD"
      },
      "source": [
        "単位が統一されているか確認します。"
      ]
    },
    {
      "cell_type": "code",
      "metadata": {
        "colab": {
          "base_uri": "https://localhost:8080/"
        },
        "id": "VE-BAzfjZLBD",
        "outputId": "e14e70e3-289f-41c9-dc0c-bd81889b8f40"
      },
      "source": [
        "cc=0\r\n",
        "other_en=0\r\n",
        "for i in df['Engine']:\r\n",
        "    if str(i).endswith(\" CC\"):\r\n",
        "      cc+=1\r\n",
        "    else:\r\n",
        "      other_en+=1\r\n",
        "\r\n",
        "print(\"bhpで書かれたデータは\",cc,\"コ\")\r\n",
        "print(\"それ以外の単位で書かれたデータは\",other_en,\"コ\")"
      ],
      "execution_count": 1202,
      "outputs": [
        {
          "output_type": "stream",
          "text": [
            "bhpで書かれたデータは 5919 コ\n",
            "それ以外の単位で書かれたデータは 0 コ\n"
          ],
          "name": "stdout"
        }
      ]
    },
    {
      "cell_type": "markdown",
      "metadata": {
        "id": "G0qsJkVOZLBE"
      },
      "source": [
        "単位はccのみで書かれているので、そのまま単位のみ切り落とします。"
      ]
    },
    {
      "cell_type": "code",
      "metadata": {
        "colab": {
          "base_uri": "https://localhost:8080/",
          "height": 0
        },
        "id": "yu4y_z5iZLBE",
        "outputId": "00095e8d-e279-4fd2-b0c8-dabe75333936"
      },
      "source": [
        "df['Engine'] = df['Engine'].str.replace(' CC','')\r\n",
        "df['Engine'] = df['Engine'].astype(float)\r\n",
        "df.head()"
      ],
      "execution_count": 1203,
      "outputs": [
        {
          "output_type": "execute_result",
          "data": {
            "text/html": [
              "<div>\n",
              "<style scoped>\n",
              "    .dataframe tbody tr th:only-of-type {\n",
              "        vertical-align: middle;\n",
              "    }\n",
              "\n",
              "    .dataframe tbody tr th {\n",
              "        vertical-align: top;\n",
              "    }\n",
              "\n",
              "    .dataframe thead th {\n",
              "        text-align: right;\n",
              "    }\n",
              "</style>\n",
              "<table border=\"1\" class=\"dataframe\">\n",
              "  <thead>\n",
              "    <tr style=\"text-align: right;\">\n",
              "      <th></th>\n",
              "      <th>Name</th>\n",
              "      <th>Location</th>\n",
              "      <th>Year</th>\n",
              "      <th>Kilometers_Driven</th>\n",
              "      <th>Fuel_Type</th>\n",
              "      <th>Transmission</th>\n",
              "      <th>Owner_Type</th>\n",
              "      <th>Engine</th>\n",
              "      <th>Power</th>\n",
              "      <th>Seats</th>\n",
              "      <th>Price</th>\n",
              "      <th>Mileage_kmpd</th>\n",
              "    </tr>\n",
              "  </thead>\n",
              "  <tbody>\n",
              "    <tr>\n",
              "      <th>0</th>\n",
              "      <td>Maruti Wagon R LXI CNG</td>\n",
              "      <td>Mumbai</td>\n",
              "      <td>2010</td>\n",
              "      <td>72000</td>\n",
              "      <td>CNG</td>\n",
              "      <td>Manual</td>\n",
              "      <td>1</td>\n",
              "      <td>998.0</td>\n",
              "      <td>58.16 bhp</td>\n",
              "      <td>5.0</td>\n",
              "      <td>1.75</td>\n",
              "      <td>17.733333</td>\n",
              "    </tr>\n",
              "    <tr>\n",
              "      <th>1</th>\n",
              "      <td>Hyundai Creta 1.6 CRDi SX Option</td>\n",
              "      <td>Pune</td>\n",
              "      <td>2015</td>\n",
              "      <td>41000</td>\n",
              "      <td>Diesel</td>\n",
              "      <td>Manual</td>\n",
              "      <td>1</td>\n",
              "      <td>1582.0</td>\n",
              "      <td>126.2 bhp</td>\n",
              "      <td>5.0</td>\n",
              "      <td>12.50</td>\n",
              "      <td>21.855556</td>\n",
              "    </tr>\n",
              "    <tr>\n",
              "      <th>2</th>\n",
              "      <td>Honda Jazz V</td>\n",
              "      <td>Chennai</td>\n",
              "      <td>2011</td>\n",
              "      <td>46000</td>\n",
              "      <td>Petrol</td>\n",
              "      <td>Manual</td>\n",
              "      <td>1</td>\n",
              "      <td>1199.0</td>\n",
              "      <td>88.7 bhp</td>\n",
              "      <td>5.0</td>\n",
              "      <td>4.50</td>\n",
              "      <td>18.200000</td>\n",
              "    </tr>\n",
              "    <tr>\n",
              "      <th>3</th>\n",
              "      <td>Maruti Ertiga VDI</td>\n",
              "      <td>Chennai</td>\n",
              "      <td>2012</td>\n",
              "      <td>87000</td>\n",
              "      <td>Diesel</td>\n",
              "      <td>Manual</td>\n",
              "      <td>1</td>\n",
              "      <td>1248.0</td>\n",
              "      <td>88.76 bhp</td>\n",
              "      <td>7.0</td>\n",
              "      <td>6.00</td>\n",
              "      <td>23.077778</td>\n",
              "    </tr>\n",
              "    <tr>\n",
              "      <th>4</th>\n",
              "      <td>Audi A4 New 2.0 TDI Multitronic</td>\n",
              "      <td>Coimbatore</td>\n",
              "      <td>2013</td>\n",
              "      <td>40670</td>\n",
              "      <td>Diesel</td>\n",
              "      <td>Automatic</td>\n",
              "      <td>2</td>\n",
              "      <td>1968.0</td>\n",
              "      <td>140.8 bhp</td>\n",
              "      <td>5.0</td>\n",
              "      <td>17.74</td>\n",
              "      <td>16.888889</td>\n",
              "    </tr>\n",
              "  </tbody>\n",
              "</table>\n",
              "</div>"
            ],
            "text/plain": [
              "                               Name    Location  ...  Price  Mileage_kmpd\n",
              "0            Maruti Wagon R LXI CNG      Mumbai  ...   1.75     17.733333\n",
              "1  Hyundai Creta 1.6 CRDi SX Option        Pune  ...  12.50     21.855556\n",
              "2                      Honda Jazz V     Chennai  ...   4.50     18.200000\n",
              "3                 Maruti Ertiga VDI     Chennai  ...   6.00     23.077778\n",
              "4   Audi A4 New 2.0 TDI Multitronic  Coimbatore  ...  17.74     16.888889\n",
              "\n",
              "[5 rows x 12 columns]"
            ]
          },
          "metadata": {
            "tags": []
          },
          "execution_count": 1203
        }
      ]
    },
    {
      "cell_type": "markdown",
      "metadata": {
        "id": "prmlSD-0ZLBE"
      },
      "source": [
        "####'Power'について"
      ]
    },
    {
      "cell_type": "markdown",
      "metadata": {
        "id": "44buCoD7ZLBF"
      },
      "source": [
        "欠損値の削除の際には欠損値として検出されませんでしたが、'Power'の値がnull bhpとなっているところが確認できます。また、単位も統一されているかどうか確認します。"
      ]
    },
    {
      "cell_type": "code",
      "metadata": {
        "colab": {
          "base_uri": "https://localhost:8080/"
        },
        "id": "-c5AJ_K0ZLBF",
        "outputId": "1fbacd30-6f57-4906-f749-60f25747ff23"
      },
      "source": [
        "null_bhp=0\r\n",
        "bhp=0\r\n",
        "other_po=0\r\n",
        "for i in df['Power']:\r\n",
        "  if str(i)==\"null bhp\":\r\n",
        "    null_bhp+=1\r\n",
        "  elif str(i).endswith(\" bhp\"):\r\n",
        "      bhp+=1\r\n",
        "  else:\r\n",
        "      other_po+=1\r\n",
        "\r\n",
        "print(\"null bhpは\",null_bhp,\"コ\")\r\n",
        "print(\"bhpで書かれたデータは\",bhp,\"コ\")\r\n",
        "print(\"それ以外の単位で書かれたデータは\",other_po,\"コ\")"
      ],
      "execution_count": 1204,
      "outputs": [
        {
          "output_type": "stream",
          "text": [
            "null bhpは 75 コ\n",
            "bhpで書かれたデータは 5844 コ\n",
            "それ以外の単位で書かれたデータは 0 コ\n"
          ],
          "name": "stdout"
        }
      ]
    },
    {
      "cell_type": "markdown",
      "metadata": {
        "id": "N_1XC1O9ZLBF"
      },
      "source": [
        "単位はbhpのみで書かれているので、そのまま単位を切り落とします。\r\n",
        "\r\n",
        "ちなみに、1bhp(英馬力)=1.013PS(仏馬力)=745W=641kcal/h"
      ]
    },
    {
      "cell_type": "code",
      "metadata": {
        "colab": {
          "base_uri": "https://localhost:8080/",
          "height": 0
        },
        "id": "tCCdtvjJZLBF",
        "outputId": "5d55bb11-7912-4255-d727-e7eca5e4bc2c"
      },
      "source": [
        "df['Power'] = df['Power'].str.replace(' bhp','')\r\n",
        "df.head()"
      ],
      "execution_count": 1205,
      "outputs": [
        {
          "output_type": "execute_result",
          "data": {
            "text/html": [
              "<div>\n",
              "<style scoped>\n",
              "    .dataframe tbody tr th:only-of-type {\n",
              "        vertical-align: middle;\n",
              "    }\n",
              "\n",
              "    .dataframe tbody tr th {\n",
              "        vertical-align: top;\n",
              "    }\n",
              "\n",
              "    .dataframe thead th {\n",
              "        text-align: right;\n",
              "    }\n",
              "</style>\n",
              "<table border=\"1\" class=\"dataframe\">\n",
              "  <thead>\n",
              "    <tr style=\"text-align: right;\">\n",
              "      <th></th>\n",
              "      <th>Name</th>\n",
              "      <th>Location</th>\n",
              "      <th>Year</th>\n",
              "      <th>Kilometers_Driven</th>\n",
              "      <th>Fuel_Type</th>\n",
              "      <th>Transmission</th>\n",
              "      <th>Owner_Type</th>\n",
              "      <th>Engine</th>\n",
              "      <th>Power</th>\n",
              "      <th>Seats</th>\n",
              "      <th>Price</th>\n",
              "      <th>Mileage_kmpd</th>\n",
              "    </tr>\n",
              "  </thead>\n",
              "  <tbody>\n",
              "    <tr>\n",
              "      <th>0</th>\n",
              "      <td>Maruti Wagon R LXI CNG</td>\n",
              "      <td>Mumbai</td>\n",
              "      <td>2010</td>\n",
              "      <td>72000</td>\n",
              "      <td>CNG</td>\n",
              "      <td>Manual</td>\n",
              "      <td>1</td>\n",
              "      <td>998.0</td>\n",
              "      <td>58.16</td>\n",
              "      <td>5.0</td>\n",
              "      <td>1.75</td>\n",
              "      <td>17.733333</td>\n",
              "    </tr>\n",
              "    <tr>\n",
              "      <th>1</th>\n",
              "      <td>Hyundai Creta 1.6 CRDi SX Option</td>\n",
              "      <td>Pune</td>\n",
              "      <td>2015</td>\n",
              "      <td>41000</td>\n",
              "      <td>Diesel</td>\n",
              "      <td>Manual</td>\n",
              "      <td>1</td>\n",
              "      <td>1582.0</td>\n",
              "      <td>126.2</td>\n",
              "      <td>5.0</td>\n",
              "      <td>12.50</td>\n",
              "      <td>21.855556</td>\n",
              "    </tr>\n",
              "    <tr>\n",
              "      <th>2</th>\n",
              "      <td>Honda Jazz V</td>\n",
              "      <td>Chennai</td>\n",
              "      <td>2011</td>\n",
              "      <td>46000</td>\n",
              "      <td>Petrol</td>\n",
              "      <td>Manual</td>\n",
              "      <td>1</td>\n",
              "      <td>1199.0</td>\n",
              "      <td>88.7</td>\n",
              "      <td>5.0</td>\n",
              "      <td>4.50</td>\n",
              "      <td>18.200000</td>\n",
              "    </tr>\n",
              "    <tr>\n",
              "      <th>3</th>\n",
              "      <td>Maruti Ertiga VDI</td>\n",
              "      <td>Chennai</td>\n",
              "      <td>2012</td>\n",
              "      <td>87000</td>\n",
              "      <td>Diesel</td>\n",
              "      <td>Manual</td>\n",
              "      <td>1</td>\n",
              "      <td>1248.0</td>\n",
              "      <td>88.76</td>\n",
              "      <td>7.0</td>\n",
              "      <td>6.00</td>\n",
              "      <td>23.077778</td>\n",
              "    </tr>\n",
              "    <tr>\n",
              "      <th>4</th>\n",
              "      <td>Audi A4 New 2.0 TDI Multitronic</td>\n",
              "      <td>Coimbatore</td>\n",
              "      <td>2013</td>\n",
              "      <td>40670</td>\n",
              "      <td>Diesel</td>\n",
              "      <td>Automatic</td>\n",
              "      <td>2</td>\n",
              "      <td>1968.0</td>\n",
              "      <td>140.8</td>\n",
              "      <td>5.0</td>\n",
              "      <td>17.74</td>\n",
              "      <td>16.888889</td>\n",
              "    </tr>\n",
              "  </tbody>\n",
              "</table>\n",
              "</div>"
            ],
            "text/plain": [
              "                               Name    Location  ...  Price  Mileage_kmpd\n",
              "0            Maruti Wagon R LXI CNG      Mumbai  ...   1.75     17.733333\n",
              "1  Hyundai Creta 1.6 CRDi SX Option        Pune  ...  12.50     21.855556\n",
              "2                      Honda Jazz V     Chennai  ...   4.50     18.200000\n",
              "3                 Maruti Ertiga VDI     Chennai  ...   6.00     23.077778\n",
              "4   Audi A4 New 2.0 TDI Multitronic  Coimbatore  ...  17.74     16.888889\n",
              "\n",
              "[5 rows x 12 columns]"
            ]
          },
          "metadata": {
            "tags": []
          },
          "execution_count": 1205
        }
      ]
    },
    {
      "cell_type": "markdown",
      "metadata": {
        "id": "lRnnn5PtZLBF"
      },
      "source": [
        "#####null bhpの扱い"
      ]
    },
    {
      "cell_type": "markdown",
      "metadata": {
        "id": "Q2hNT69TZLBG"
      },
      "source": [
        "馬力は車種によってある程度定まると考えられるので、nullとなっている車の車種を調べます。"
      ]
    },
    {
      "cell_type": "code",
      "metadata": {
        "colab": {
          "base_uri": "https://localhost:8080/"
        },
        "id": "eCJiUhA4ZLBG",
        "outputId": "d94c30db-eb3c-4bbb-bbd1-c94a1f839b13"
      },
      "source": [
        "df_nullbhp=df[df['Power']==\"null\"]\r\n",
        "print(df_nullbhp['Name'].value_counts())"
      ],
      "execution_count": 1206,
      "outputs": [
        {
          "output_type": "stream",
          "text": [
            "Maruti Swift VDI BSIV                      11\n",
            "Hyundai Santro Xing XL eRLX Euro III        7\n",
            "Toyota Etios GD                             6\n",
            "Hyundai Santro Xing XO eRLX Euro II         5\n",
            "Hyundai Santro Xing XO                      5\n",
            "Maruti Swift VDI BSIV W ABS                 5\n",
            "Toyota Etios Liva GD                        5\n",
            "Tata Indica DLS                             3\n",
            "Mercedes-Benz E-Class 220 CDI               2\n",
            "Hyundai Santro Xing XG eRLX Euro III        2\n",
            "Toyota Etios Liva G                         2\n",
            "Ford Fiesta 1.4 SXi TDCi                    2\n",
            "Maruti Esteem Vxi                           2\n",
            "Ford Endeavour XLT TDCi 4X4                 1\n",
            "Honda CR-V Sport                            1\n",
            "Maruti Esteem LX BSII                       1\n",
            "Nissan Micra Diesel                         1\n",
            "Hyundai Santro Xing XO CNG                  1\n",
            "Audi A4 3.2 FSI Tiptronic Quattro           1\n",
            "Hyundai Santro Xing XL AT eRLX Euro III     1\n",
            "Nissan Teana 230jM                          1\n",
            "Skoda Laura Classic 1.8 TSI                 1\n",
            "Porsche Cayman 2009-2012 S                  1\n",
            "Maruti 1000 AC                              1\n",
            "Mahindra Bolero ZLX                         1\n",
            "Fiat Petra 1.2 EL                           1\n",
            "Chevrolet Optra 1.6 Elite                   1\n",
            "Ford Fiesta 1.6 SXI ABS Duratec             1\n",
            "Hyundai Santro Xing XL AT eRLX Euro II      1\n",
            "Maruti Baleno LXI - BSIII                   1\n",
            "Porsche Cayman 2009-2012 S tiptronic        1\n",
            "Name: Name, dtype: int64\n"
          ],
          "name": "stdout"
        }
      ]
    },
    {
      "cell_type": "markdown",
      "metadata": {
        "id": "pa1lJm2pZLBG"
      },
      "source": [
        "このようにnullの多い車種もあるようです。\r\n",
        "\r\n",
        "nullを最も多くもつ車種Maruti Swift VDI BSIVを例にとって、その車種全体での'Power'の値を見てみましょう。"
      ]
    },
    {
      "cell_type": "code",
      "metadata": {
        "colab": {
          "base_uri": "https://localhost:8080/"
        },
        "id": "TnjcdG7zZLBG",
        "outputId": "9ee2455f-4915-461c-9d16-25d4227bbc16"
      },
      "source": [
        "df[df['Name']==\"Maruti Swift VDI BSIV\"]['Power'].value_counts()"
      ],
      "execution_count": 1207,
      "outputs": [
        {
          "output_type": "execute_result",
          "data": {
            "text/plain": [
              "74      20\n",
              "null    11\n",
              "Name: Power, dtype: int64"
            ]
          },
          "metadata": {
            "tags": []
          },
          "execution_count": 1207
        }
      ]
    },
    {
      "cell_type": "markdown",
      "metadata": {
        "id": "4GdXc91bZLBG"
      },
      "source": [
        "上記の例のように、同じ車種の中でも'Power'が入力されている行と欠損している行があります。\r\n",
        "\r\n",
        "各車種でnullでない'Power'の平均値を取って埋め,\r\n",
        "それによって埋まらないときはその行自体を削除しようと思います。"
      ]
    },
    {
      "cell_type": "markdown",
      "metadata": {
        "id": "W0ICoS_5ZLBG"
      },
      "source": [
        "まず、　'Power'がnullである車の'Name'の配列、'Power、'Name''、データフレーム　を引数に渡せば、\r\n",
        "\r\n",
        "車を車種ごとに分けてnull埋めに使う各平均値を算出し、nullを埋めてくれる関数を作ります。"
      ]
    },
    {
      "cell_type": "code",
      "metadata": {
        "id": "XJdb6TkyZLBH"
      },
      "source": [
        "def fill_null(name_array,df,colnull='Power',colname='Name'):\r\n",
        "\r\n",
        "  for na in name_array:\r\n",
        "    po_seri_each = df[(df[colname]==na) & (df[colnull]!=\"null\")][colnull]  #'Power'がnullである車と車種が共通するが、'Power'がnullでない車たちの'Power'の値の配列\r\n",
        "    po_seri_each = po_seri_each.astype(float)\r\n",
        "\r\n",
        "    if len(po_seri_each)>0:  #「'Power'がnullである車と車種が共通するが、'Power'がnullでない車」が存在するとき\r\n",
        "      ave = po_seri_each.mean()  #null埋めに用いる平均値\r\n",
        "      null_index = df[(df[colname]==na) & (df[colnull]==\"null\")].index  #今回の車種で、'Power'がnullである車たちの行番号\r\n",
        "\r\n",
        "      for i in null_index:\r\n",
        "        df.at[i,colnull]=ave  #aveでnullを埋める作業\r\n",
        "\r\n",
        "  return df"
      ],
      "execution_count": 1208,
      "outputs": []
    },
    {
      "cell_type": "markdown",
      "metadata": {
        "id": "ZGX4iNULZLBH"
      },
      "source": [
        "'Power'がnullである車の'Name'の配列　を作ります。"
      ]
    },
    {
      "cell_type": "code",
      "metadata": {
        "id": "ONP9ERUyZLBH"
      },
      "source": [
        "ponull_name_array=df_nullbhp['Name'].unique()"
      ],
      "execution_count": 1209,
      "outputs": []
    },
    {
      "cell_type": "markdown",
      "metadata": {
        "id": "re_78c78ZLBH"
      },
      "source": [
        "関数を呼び出し、null埋めを実行します。"
      ]
    },
    {
      "cell_type": "code",
      "metadata": {
        "colab": {
          "base_uri": "https://localhost:8080/",
          "height": 0
        },
        "id": "_WfAesuxZLBH",
        "outputId": "c187b557-8440-49ed-a3f3-e23a368a9a84"
      },
      "source": [
        "df=fill_null(ponull_name_array,df)\r\n",
        "df.head()"
      ],
      "execution_count": 1210,
      "outputs": [
        {
          "output_type": "execute_result",
          "data": {
            "text/html": [
              "<div>\n",
              "<style scoped>\n",
              "    .dataframe tbody tr th:only-of-type {\n",
              "        vertical-align: middle;\n",
              "    }\n",
              "\n",
              "    .dataframe tbody tr th {\n",
              "        vertical-align: top;\n",
              "    }\n",
              "\n",
              "    .dataframe thead th {\n",
              "        text-align: right;\n",
              "    }\n",
              "</style>\n",
              "<table border=\"1\" class=\"dataframe\">\n",
              "  <thead>\n",
              "    <tr style=\"text-align: right;\">\n",
              "      <th></th>\n",
              "      <th>Name</th>\n",
              "      <th>Location</th>\n",
              "      <th>Year</th>\n",
              "      <th>Kilometers_Driven</th>\n",
              "      <th>Fuel_Type</th>\n",
              "      <th>Transmission</th>\n",
              "      <th>Owner_Type</th>\n",
              "      <th>Engine</th>\n",
              "      <th>Power</th>\n",
              "      <th>Seats</th>\n",
              "      <th>Price</th>\n",
              "      <th>Mileage_kmpd</th>\n",
              "    </tr>\n",
              "  </thead>\n",
              "  <tbody>\n",
              "    <tr>\n",
              "      <th>0</th>\n",
              "      <td>Maruti Wagon R LXI CNG</td>\n",
              "      <td>Mumbai</td>\n",
              "      <td>2010</td>\n",
              "      <td>72000</td>\n",
              "      <td>CNG</td>\n",
              "      <td>Manual</td>\n",
              "      <td>1</td>\n",
              "      <td>998.0</td>\n",
              "      <td>58.16</td>\n",
              "      <td>5.0</td>\n",
              "      <td>1.75</td>\n",
              "      <td>17.733333</td>\n",
              "    </tr>\n",
              "    <tr>\n",
              "      <th>1</th>\n",
              "      <td>Hyundai Creta 1.6 CRDi SX Option</td>\n",
              "      <td>Pune</td>\n",
              "      <td>2015</td>\n",
              "      <td>41000</td>\n",
              "      <td>Diesel</td>\n",
              "      <td>Manual</td>\n",
              "      <td>1</td>\n",
              "      <td>1582.0</td>\n",
              "      <td>126.2</td>\n",
              "      <td>5.0</td>\n",
              "      <td>12.50</td>\n",
              "      <td>21.855556</td>\n",
              "    </tr>\n",
              "    <tr>\n",
              "      <th>2</th>\n",
              "      <td>Honda Jazz V</td>\n",
              "      <td>Chennai</td>\n",
              "      <td>2011</td>\n",
              "      <td>46000</td>\n",
              "      <td>Petrol</td>\n",
              "      <td>Manual</td>\n",
              "      <td>1</td>\n",
              "      <td>1199.0</td>\n",
              "      <td>88.7</td>\n",
              "      <td>5.0</td>\n",
              "      <td>4.50</td>\n",
              "      <td>18.200000</td>\n",
              "    </tr>\n",
              "    <tr>\n",
              "      <th>3</th>\n",
              "      <td>Maruti Ertiga VDI</td>\n",
              "      <td>Chennai</td>\n",
              "      <td>2012</td>\n",
              "      <td>87000</td>\n",
              "      <td>Diesel</td>\n",
              "      <td>Manual</td>\n",
              "      <td>1</td>\n",
              "      <td>1248.0</td>\n",
              "      <td>88.76</td>\n",
              "      <td>7.0</td>\n",
              "      <td>6.00</td>\n",
              "      <td>23.077778</td>\n",
              "    </tr>\n",
              "    <tr>\n",
              "      <th>4</th>\n",
              "      <td>Audi A4 New 2.0 TDI Multitronic</td>\n",
              "      <td>Coimbatore</td>\n",
              "      <td>2013</td>\n",
              "      <td>40670</td>\n",
              "      <td>Diesel</td>\n",
              "      <td>Automatic</td>\n",
              "      <td>2</td>\n",
              "      <td>1968.0</td>\n",
              "      <td>140.8</td>\n",
              "      <td>5.0</td>\n",
              "      <td>17.74</td>\n",
              "      <td>16.888889</td>\n",
              "    </tr>\n",
              "  </tbody>\n",
              "</table>\n",
              "</div>"
            ],
            "text/plain": [
              "                               Name    Location  ...  Price  Mileage_kmpd\n",
              "0            Maruti Wagon R LXI CNG      Mumbai  ...   1.75     17.733333\n",
              "1  Hyundai Creta 1.6 CRDi SX Option        Pune  ...  12.50     21.855556\n",
              "2                      Honda Jazz V     Chennai  ...   4.50     18.200000\n",
              "3                 Maruti Ertiga VDI     Chennai  ...   6.00     23.077778\n",
              "4   Audi A4 New 2.0 TDI Multitronic  Coimbatore  ...  17.74     16.888889\n",
              "\n",
              "[5 rows x 12 columns]"
            ]
          },
          "metadata": {
            "tags": []
          },
          "execution_count": 1210
        }
      ]
    },
    {
      "cell_type": "markdown",
      "metadata": {
        "id": "REbdVuF9ZLBI"
      },
      "source": [
        "残ったnullを確認します。"
      ]
    },
    {
      "cell_type": "code",
      "metadata": {
        "colab": {
          "base_uri": "https://localhost:8080/"
        },
        "id": "5NhikWKCZLBI",
        "outputId": "dc18e576-1a33-47f6-f4d9-ca9b199437e4"
      },
      "source": [
        "df_null=df[df['Power']==\"null\"]\r\n",
        "print(\"残ったnullの数は\",df_null.shape[0],\"コ\")\r\n",
        "print(\"---------------------------------------------------------\")\r\n",
        "print(df_null['Name'].value_counts())"
      ],
      "execution_count": 1211,
      "outputs": [
        {
          "output_type": "stream",
          "text": [
            "残ったnullの数は 50 コ\n",
            "---------------------------------------------------------\n",
            "Hyundai Santro Xing XL eRLX Euro III       7\n",
            "Hyundai Santro Xing XO eRLX Euro II        5\n",
            "Hyundai Santro Xing XO                     5\n",
            "Maruti Swift VDI BSIV W ABS                5\n",
            "Tata Indica DLS                            3\n",
            "Mercedes-Benz E-Class 220 CDI              2\n",
            "Hyundai Santro Xing XG eRLX Euro III       2\n",
            "Ford Fiesta 1.4 SXi TDCi                   2\n",
            "Maruti Esteem Vxi                          2\n",
            "Honda CR-V Sport                           1\n",
            "Hyundai Santro Xing XO CNG                 1\n",
            "Ford Endeavour XLT TDCi 4X4                1\n",
            "Maruti Esteem LX BSII                      1\n",
            "Nissan Micra Diesel                        1\n",
            "Audi A4 3.2 FSI Tiptronic Quattro          1\n",
            "Hyundai Santro Xing XL AT eRLX Euro III    1\n",
            "Maruti 1000 AC                             1\n",
            "Porsche Cayman 2009-2012 S                 1\n",
            "Skoda Laura Classic 1.8 TSI                1\n",
            "Maruti Baleno LXI - BSIII                  1\n",
            "Porsche Cayman 2009-2012 S tiptronic       1\n",
            "Fiat Petra 1.2 EL                          1\n",
            "Chevrolet Optra 1.6 Elite                  1\n",
            "Ford Fiesta 1.6 SXI ABS Duratec            1\n",
            "Hyundai Santro Xing XL AT eRLX Euro II     1\n",
            "Nissan Teana 230jM                         1\n",
            "Name: Name, dtype: int64\n"
          ],
          "name": "stdout"
        }
      ]
    },
    {
      "cell_type": "markdown",
      "metadata": {
        "id": "kd8_jrbmZLBI"
      },
      "source": [
        "割と残ってしまいましたが、今回はこのままnullを埋められなかった行を削除します。"
      ]
    },
    {
      "cell_type": "code",
      "metadata": {
        "id": "hZYHmvPcZLBI"
      },
      "source": [
        "df=df[df['Power']!=\"null\"]"
      ],
      "execution_count": 1212,
      "outputs": []
    },
    {
      "cell_type": "markdown",
      "metadata": {
        "id": "2xi61ifsZLBI"
      },
      "source": [
        "#####'Power'の値を浮動小数点型に変換します。"
      ]
    },
    {
      "cell_type": "code",
      "metadata": {
        "colab": {
          "base_uri": "https://localhost:8080/",
          "height": 0
        },
        "id": "pD84br5yZLBI",
        "outputId": "29b08411-843e-403c-cb14-bacb7b1f3292"
      },
      "source": [
        "df['Power'] = df['Power'].astype(float)\r\n",
        "df.head()"
      ],
      "execution_count": 1213,
      "outputs": [
        {
          "output_type": "execute_result",
          "data": {
            "text/html": [
              "<div>\n",
              "<style scoped>\n",
              "    .dataframe tbody tr th:only-of-type {\n",
              "        vertical-align: middle;\n",
              "    }\n",
              "\n",
              "    .dataframe tbody tr th {\n",
              "        vertical-align: top;\n",
              "    }\n",
              "\n",
              "    .dataframe thead th {\n",
              "        text-align: right;\n",
              "    }\n",
              "</style>\n",
              "<table border=\"1\" class=\"dataframe\">\n",
              "  <thead>\n",
              "    <tr style=\"text-align: right;\">\n",
              "      <th></th>\n",
              "      <th>Name</th>\n",
              "      <th>Location</th>\n",
              "      <th>Year</th>\n",
              "      <th>Kilometers_Driven</th>\n",
              "      <th>Fuel_Type</th>\n",
              "      <th>Transmission</th>\n",
              "      <th>Owner_Type</th>\n",
              "      <th>Engine</th>\n",
              "      <th>Power</th>\n",
              "      <th>Seats</th>\n",
              "      <th>Price</th>\n",
              "      <th>Mileage_kmpd</th>\n",
              "    </tr>\n",
              "  </thead>\n",
              "  <tbody>\n",
              "    <tr>\n",
              "      <th>0</th>\n",
              "      <td>Maruti Wagon R LXI CNG</td>\n",
              "      <td>Mumbai</td>\n",
              "      <td>2010</td>\n",
              "      <td>72000</td>\n",
              "      <td>CNG</td>\n",
              "      <td>Manual</td>\n",
              "      <td>1</td>\n",
              "      <td>998.0</td>\n",
              "      <td>58.16</td>\n",
              "      <td>5.0</td>\n",
              "      <td>1.75</td>\n",
              "      <td>17.733333</td>\n",
              "    </tr>\n",
              "    <tr>\n",
              "      <th>1</th>\n",
              "      <td>Hyundai Creta 1.6 CRDi SX Option</td>\n",
              "      <td>Pune</td>\n",
              "      <td>2015</td>\n",
              "      <td>41000</td>\n",
              "      <td>Diesel</td>\n",
              "      <td>Manual</td>\n",
              "      <td>1</td>\n",
              "      <td>1582.0</td>\n",
              "      <td>126.20</td>\n",
              "      <td>5.0</td>\n",
              "      <td>12.50</td>\n",
              "      <td>21.855556</td>\n",
              "    </tr>\n",
              "    <tr>\n",
              "      <th>2</th>\n",
              "      <td>Honda Jazz V</td>\n",
              "      <td>Chennai</td>\n",
              "      <td>2011</td>\n",
              "      <td>46000</td>\n",
              "      <td>Petrol</td>\n",
              "      <td>Manual</td>\n",
              "      <td>1</td>\n",
              "      <td>1199.0</td>\n",
              "      <td>88.70</td>\n",
              "      <td>5.0</td>\n",
              "      <td>4.50</td>\n",
              "      <td>18.200000</td>\n",
              "    </tr>\n",
              "    <tr>\n",
              "      <th>3</th>\n",
              "      <td>Maruti Ertiga VDI</td>\n",
              "      <td>Chennai</td>\n",
              "      <td>2012</td>\n",
              "      <td>87000</td>\n",
              "      <td>Diesel</td>\n",
              "      <td>Manual</td>\n",
              "      <td>1</td>\n",
              "      <td>1248.0</td>\n",
              "      <td>88.76</td>\n",
              "      <td>7.0</td>\n",
              "      <td>6.00</td>\n",
              "      <td>23.077778</td>\n",
              "    </tr>\n",
              "    <tr>\n",
              "      <th>4</th>\n",
              "      <td>Audi A4 New 2.0 TDI Multitronic</td>\n",
              "      <td>Coimbatore</td>\n",
              "      <td>2013</td>\n",
              "      <td>40670</td>\n",
              "      <td>Diesel</td>\n",
              "      <td>Automatic</td>\n",
              "      <td>2</td>\n",
              "      <td>1968.0</td>\n",
              "      <td>140.80</td>\n",
              "      <td>5.0</td>\n",
              "      <td>17.74</td>\n",
              "      <td>16.888889</td>\n",
              "    </tr>\n",
              "  </tbody>\n",
              "</table>\n",
              "</div>"
            ],
            "text/plain": [
              "                               Name    Location  ...  Price  Mileage_kmpd\n",
              "0            Maruti Wagon R LXI CNG      Mumbai  ...   1.75     17.733333\n",
              "1  Hyundai Creta 1.6 CRDi SX Option        Pune  ...  12.50     21.855556\n",
              "2                      Honda Jazz V     Chennai  ...   4.50     18.200000\n",
              "3                 Maruti Ertiga VDI     Chennai  ...   6.00     23.077778\n",
              "4   Audi A4 New 2.0 TDI Multitronic  Coimbatore  ...  17.74     16.888889\n",
              "\n",
              "[5 rows x 12 columns]"
            ]
          },
          "metadata": {
            "tags": []
          },
          "execution_count": 1213
        }
      ]
    },
    {
      "cell_type": "markdown",
      "metadata": {
        "id": "YtizEVg7ZLBI"
      },
      "source": [
        "これで'Power'の列も使用可能な数値データに変換できました。"
      ]
    },
    {
      "cell_type": "markdown",
      "metadata": {
        "id": "LmBoB5zrZLBJ"
      },
      "source": [
        "####'Name','Location'について"
      ]
    },
    {
      "cell_type": "markdown",
      "metadata": {
        "id": "bYk_mh3HZLBJ"
      },
      "source": [
        "#####'Name'の処理"
      ]
    },
    {
      "cell_type": "markdown",
      "metadata": {
        "id": "aPAq1lN7ZLBJ"
      },
      "source": [
        "車種は無視して、メーカー('Name'の先頭)のみについて考えることにします。\r\n",
        "まずは'Name'を半角スペースで分割してデータフレームdf_name_splitに格納します。"
      ]
    },
    {
      "cell_type": "code",
      "metadata": {
        "colab": {
          "base_uri": "https://localhost:8080/",
          "height": 0
        },
        "id": "hv5CJ5uxZLBJ",
        "outputId": "f7057ccd-af67-4a06-9fbd-1de3d5a2d724"
      },
      "source": [
        "df_name_split=df['Name'].str.split(' ', expand=True)\r\n",
        "print(df['Name'].head())\r\n",
        "df_name_split.head()"
      ],
      "execution_count": 1214,
      "outputs": [
        {
          "output_type": "stream",
          "text": [
            "0              Maruti Wagon R LXI CNG\n",
            "1    Hyundai Creta 1.6 CRDi SX Option\n",
            "2                        Honda Jazz V\n",
            "3                   Maruti Ertiga VDI\n",
            "4     Audi A4 New 2.0 TDI Multitronic\n",
            "Name: Name, dtype: object\n"
          ],
          "name": "stdout"
        },
        {
          "output_type": "execute_result",
          "data": {
            "text/html": [
              "<div>\n",
              "<style scoped>\n",
              "    .dataframe tbody tr th:only-of-type {\n",
              "        vertical-align: middle;\n",
              "    }\n",
              "\n",
              "    .dataframe tbody tr th {\n",
              "        vertical-align: top;\n",
              "    }\n",
              "\n",
              "    .dataframe thead th {\n",
              "        text-align: right;\n",
              "    }\n",
              "</style>\n",
              "<table border=\"1\" class=\"dataframe\">\n",
              "  <thead>\n",
              "    <tr style=\"text-align: right;\">\n",
              "      <th></th>\n",
              "      <th>0</th>\n",
              "      <th>1</th>\n",
              "      <th>2</th>\n",
              "      <th>3</th>\n",
              "      <th>4</th>\n",
              "      <th>5</th>\n",
              "      <th>6</th>\n",
              "      <th>7</th>\n",
              "      <th>8</th>\n",
              "      <th>9</th>\n",
              "    </tr>\n",
              "  </thead>\n",
              "  <tbody>\n",
              "    <tr>\n",
              "      <th>0</th>\n",
              "      <td>Maruti</td>\n",
              "      <td>Wagon</td>\n",
              "      <td>R</td>\n",
              "      <td>LXI</td>\n",
              "      <td>CNG</td>\n",
              "      <td>None</td>\n",
              "      <td>None</td>\n",
              "      <td>None</td>\n",
              "      <td>None</td>\n",
              "      <td>None</td>\n",
              "    </tr>\n",
              "    <tr>\n",
              "      <th>1</th>\n",
              "      <td>Hyundai</td>\n",
              "      <td>Creta</td>\n",
              "      <td>1.6</td>\n",
              "      <td>CRDi</td>\n",
              "      <td>SX</td>\n",
              "      <td>Option</td>\n",
              "      <td>None</td>\n",
              "      <td>None</td>\n",
              "      <td>None</td>\n",
              "      <td>None</td>\n",
              "    </tr>\n",
              "    <tr>\n",
              "      <th>2</th>\n",
              "      <td>Honda</td>\n",
              "      <td>Jazz</td>\n",
              "      <td>V</td>\n",
              "      <td>None</td>\n",
              "      <td>None</td>\n",
              "      <td>None</td>\n",
              "      <td>None</td>\n",
              "      <td>None</td>\n",
              "      <td>None</td>\n",
              "      <td>None</td>\n",
              "    </tr>\n",
              "    <tr>\n",
              "      <th>3</th>\n",
              "      <td>Maruti</td>\n",
              "      <td>Ertiga</td>\n",
              "      <td>VDI</td>\n",
              "      <td>None</td>\n",
              "      <td>None</td>\n",
              "      <td>None</td>\n",
              "      <td>None</td>\n",
              "      <td>None</td>\n",
              "      <td>None</td>\n",
              "      <td>None</td>\n",
              "    </tr>\n",
              "    <tr>\n",
              "      <th>4</th>\n",
              "      <td>Audi</td>\n",
              "      <td>A4</td>\n",
              "      <td>New</td>\n",
              "      <td>2.0</td>\n",
              "      <td>TDI</td>\n",
              "      <td>Multitronic</td>\n",
              "      <td>None</td>\n",
              "      <td>None</td>\n",
              "      <td>None</td>\n",
              "      <td>None</td>\n",
              "    </tr>\n",
              "  </tbody>\n",
              "</table>\n",
              "</div>"
            ],
            "text/plain": [
              "         0       1    2     3     4            5     6     7     8     9\n",
              "0   Maruti   Wagon    R   LXI   CNG         None  None  None  None  None\n",
              "1  Hyundai   Creta  1.6  CRDi    SX       Option  None  None  None  None\n",
              "2    Honda    Jazz    V  None  None         None  None  None  None  None\n",
              "3   Maruti  Ertiga  VDI  None  None         None  None  None  None  None\n",
              "4     Audi      A4  New   2.0   TDI  Multitronic  None  None  None  None"
            ]
          },
          "metadata": {
            "tags": []
          },
          "execution_count": 1214
        }
      ]
    },
    {
      "cell_type": "markdown",
      "metadata": {
        "id": "GBKfkboDZLBJ"
      },
      "source": [
        "正しく分割できていそうです。\r\n",
        "df_name_splitの1列目がメーカーの情報を持つので、これをdfの新たな列'Manufacturer'として追加します。"
      ]
    },
    {
      "cell_type": "code",
      "metadata": {
        "colab": {
          "base_uri": "https://localhost:8080/"
        },
        "id": "8RS_T5c0ZLBJ",
        "outputId": "3e1fed0c-7643-4dfc-e479-e850c268abc8"
      },
      "source": [
        "df['Manufacturer']=df_name_split.loc[:,0]\r\n",
        "df['Manufacturer'].value_counts()"
      ],
      "execution_count": 1215,
      "outputs": [
        {
          "output_type": "execute_result",
          "data": {
            "text/plain": [
              "Maruti           1186\n",
              "Hyundai          1051\n",
              "Honda             600\n",
              "Toyota            407\n",
              "Volkswagen        314\n",
              "Mercedes-Benz     304\n",
              "Ford              294\n",
              "Mahindra          269\n",
              "BMW               262\n",
              "Audi              234\n",
              "Tata              183\n",
              "Skoda             170\n",
              "Renault           145\n",
              "Chevrolet         120\n",
              "Nissan             89\n",
              "Land               51\n",
              "Jaguar             40\n",
              "Mitsubishi         27\n",
              "Mini               26\n",
              "Fiat               23\n",
              "Volvo              21\n",
              "Porsche            16\n",
              "Jeep               15\n",
              "Datsun             13\n",
              "Force               3\n",
              "ISUZU               2\n",
              "Ambassador          1\n",
              "Lamborghini         1\n",
              "Isuzu               1\n",
              "Bentley             1\n",
              "Name: Manufacturer, dtype: int64"
            ]
          },
          "metadata": {
            "tags": []
          },
          "execution_count": 1215
        }
      ]
    },
    {
      "cell_type": "markdown",
      "metadata": {
        "id": "cbC0kNhRZLBK"
      },
      "source": [
        "\"ISUZU\"と\"Isuzu\"があるので\"Isuzu\"に統一します。"
      ]
    },
    {
      "cell_type": "code",
      "metadata": {
        "id": "MtUEaQmYZLBK"
      },
      "source": [
        "df['Manufacturer'] = df['Manufacturer'].str.replace('ISUZU','Isuzu')"
      ],
      "execution_count": 1216,
      "outputs": []
    },
    {
      "cell_type": "markdown",
      "metadata": {
        "id": "nJOlujnMZLBK"
      },
      "source": [
        "'Manufacturer'が'によって'Price'がどう変わってくるか調べるため、箱ひげ図を表示させます。\r\n",
        "\r\n",
        "今後も使うため、平均値付きの箱ひげ図を表示させる関数を作ります。"
      ]
    },
    {
      "cell_type": "code",
      "metadata": {
        "id": "NkJV2ltSZLBK"
      },
      "source": [
        "def box_plot(df,xcol,ycol='Price',size=(12,8),sym=None):\r\n",
        "  plt.figure(figsize=size)\r\n",
        "  sns.boxplot(data=df,x=xcol, y=ycol,sym=sym,showmeans=True,meanprops=dict(markersize=10,markeredgecolor='r', markerfacecolor='r'))\r\n",
        "  plt.xlabel(xcol)\r\n",
        "  plt.ylabel(ycol)\r\n",
        "  plt.title(\"Boxplot \"+str(xcol)+\" - \"+str(ycol))\r\n",
        "  plt.show()"
      ],
      "execution_count": 1217,
      "outputs": []
    },
    {
      "cell_type": "code",
      "metadata": {
        "colab": {
          "base_uri": "https://localhost:8080/",
          "height": 0
        },
        "id": "YTY5glOeZLBK",
        "outputId": "8f25e12a-b9e5-4c6a-e2d0-37fa48729a93"
      },
      "source": [
        "box_plot(df,'Manufacturer',size=(30,8))"
      ],
      "execution_count": 1218,
      "outputs": [
        {
          "output_type": "display_data",
          "data": {
            "image/png": "[encoded data removed]",
            "text/plain": [
              "<Figure size 2160x576 with 1 Axes>"
            ]
          },
          "metadata": {
            "tags": []
          }
        }
      ]
    },
    {
      "cell_type": "markdown",
      "metadata": {
        "id": "zsE4kRV3ZLBK"
      },
      "source": [
        "外れ値を表示しない設定で見てみます。見やすいように\"Lamborghini\"も除外します。"
      ]
    },
    {
      "cell_type": "code",
      "metadata": {
        "colab": {
          "base_uri": "https://localhost:8080/",
          "height": 0
        },
        "id": "4hfeEtyKZLBK",
        "outputId": "6bca23cf-76ff-4a74-b5bc-a88c8a3e3465"
      },
      "source": [
        "df_nolam=df[df['Manufacturer']!=\"Lamborghini\"]\r\n",
        "box_plot(df_nolam,'Manufacturer','Price',(30,12),\"\")"
      ],
      "execution_count": 1219,
      "outputs": [
        {
          "output_type": "display_data",
          "data": {
            "image/png": "[encoded data removed]",
            "text/plain": [
              "<Figure size 2160x864 with 1 Axes>"
            ]
          },
          "metadata": {
            "tags": []
          }
        }
      ]
    },
    {
      "cell_type": "markdown",
      "metadata": {
        "id": "wq4uLWQiZLBL"
      },
      "source": [
        "メーカーによって値の分布が違いますが、項目数が多いので、Target Encodingを用いて、各メーカーの値段の平均値によって数値化することにします。"
      ]
    },
    {
      "cell_type": "markdown",
      "metadata": {
        "id": "CGW5eUfQZLBL"
      },
      "source": [
        "#####'Location'について\r\n"
      ]
    },
    {
      "cell_type": "code",
      "metadata": {
        "colab": {
          "base_uri": "https://localhost:8080/"
        },
        "id": "hhV3VJptZLBL",
        "outputId": "74ab312c-01f1-4066-bea4-e0df306a7fcb"
      },
      "source": [
        "df['Location'].unique()"
      ],
      "execution_count": 1220,
      "outputs": [
        {
          "output_type": "execute_result",
          "data": {
            "text/plain": [
              "array(['Mumbai', 'Pune', 'Chennai', 'Coimbatore', 'Hyderabad', 'Jaipur',\n",
              "       'Kochi', 'Kolkata', 'Delhi', 'Bangalore', 'Ahmedabad'],\n",
              "      dtype=object)"
            ]
          },
          "metadata": {
            "tags": []
          },
          "execution_count": 1220
        }
      ]
    },
    {
      "cell_type": "code",
      "metadata": {
        "colab": {
          "base_uri": "https://localhost:8080/"
        },
        "id": "Q_SHhkgUZLBL",
        "outputId": "728b0713-bdfa-4dc7-ce22-af5aceab2024"
      },
      "source": [
        "df['Location'].value_counts()"
      ],
      "execution_count": 1221,
      "outputs": [
        {
          "output_type": "execute_result",
          "data": {
            "text/plain": [
              "Mumbai        775\n",
              "Hyderabad     716\n",
              "Kochi         643\n",
              "Coimbatore    628\n",
              "Pune          594\n",
              "Delhi         546\n",
              "Kolkata       523\n",
              "Chennai       478\n",
              "Jaipur        401\n",
              "Bangalore     347\n",
              "Ahmedabad     218\n",
              "Name: Location, dtype: int64"
            ]
          },
          "metadata": {
            "tags": []
          },
          "execution_count": 1221
        }
      ]
    },
    {
      "cell_type": "markdown",
      "metadata": {
        "id": "6bLcXsJsZLBL"
      },
      "source": [
        "'Location'ごとに値段の分布を見てみます。"
      ]
    },
    {
      "cell_type": "code",
      "metadata": {
        "colab": {
          "base_uri": "https://localhost:8080/",
          "height": 0
        },
        "id": "CngH1Gz3ZLBL",
        "outputId": "be37b14f-bcda-4d8b-af29-cee83149b34b"
      },
      "source": [
        "box_plot(df,'Location')"
      ],
      "execution_count": 1222,
      "outputs": [
        {
          "output_type": "display_data",
          "data": {
            "image/png": "[encoded data removed]",
            "text/plain": [
              "<Figure size 864x576 with 1 Axes>"
            ]
          },
          "metadata": {
            "tags": []
          }
        }
      ]
    },
    {
      "cell_type": "markdown",
      "metadata": {
        "id": "QOKbwSqMZLBM"
      },
      "source": [
        "外れ値の存在により分布が縮小されて見づらいので、外れ値を表示しない設定にします。"
      ]
    },
    {
      "cell_type": "code",
      "metadata": {
        "colab": {
          "base_uri": "https://localhost:8080/",
          "height": 0
        },
        "id": "0U2mEdJ8ZLBM",
        "outputId": "76b53699-a2b9-4cef-da45-2f0eca1de08a"
      },
      "source": [
        "box_plot(df,'Location',sym=\"\")"
      ],
      "execution_count": 1223,
      "outputs": [
        {
          "output_type": "display_data",
          "data": {
            "image/png": "[encoded data removed]",
            "text/plain": [
              "<Figure size 864x576 with 1 Axes>"
            ]
          },
          "metadata": {
            "tags": []
          }
        }
      ]
    },
    {
      "cell_type": "markdown",
      "metadata": {
        "id": "bEzR6M-bZLBM"
      },
      "source": [
        "平均値がそれぞれの分布の違いを正当に評価しているように見えます。ですので、Target Encodingを用いて、各地域での値段の平均値によって数値化することにします。"
      ]
    },
    {
      "cell_type": "markdown",
      "metadata": {
        "id": "WHdnA5C1ZLBM"
      },
      "source": [
        "#####'Location'と、'Name'から抽出した'Manufacturer'については、どちらもTarget Encodingをすることにしましたが、訓練データのみでエンコーディングの学習を行うことと、外れ値の影響を考えなければならないので、後に数値化の実行を行います。"
      ]
    },
    {
      "cell_type": "markdown",
      "metadata": {
        "id": "H3WUfUsKZLBM"
      },
      "source": [
        "#### 'Fuel_Type','Transmisson'について"
      ]
    },
    {
      "cell_type": "markdown",
      "metadata": {
        "id": "efvVTAoyZLBM"
      },
      "source": [
        "どちらもカテゴリ変数なのでダミー変数に変換しようと思います。\r\n"
      ]
    },
    {
      "cell_type": "markdown",
      "metadata": {
        "id": "mUy2YsyvZLBM"
      },
      "source": [
        "#####'Fuel_Type'の処理"
      ]
    },
    {
      "cell_type": "markdown",
      "metadata": {
        "id": "pZ-nyOoFZLBN"
      },
      "source": [
        "'Fuel_Type'は値の種類が多く、このままダミー変数に変換すると特徴量が増えすぎるので、項目を減らせないか考えます。\r\n",
        "\r\n",
        "まず、'Fuel_Type'が'によって'Price'がどう変わってくるか調べるため、箱ひげ図を表示させます。"
      ]
    },
    {
      "cell_type": "code",
      "metadata": {
        "colab": {
          "base_uri": "https://localhost:8080/",
          "height": 0
        },
        "id": "FAk6gMe0ZLBN",
        "outputId": "3e937079-5bec-441c-946e-be696f3b9a58"
      },
      "source": [
        "box_plot(df,'Fuel_Type',size=(8,8))"
      ],
      "execution_count": 1224,
      "outputs": [
        {
          "output_type": "display_data",
          "data": {
            "image/png": "[encoded data removed]",
            "text/plain": [
              "<Figure size 576x576 with 1 Axes>"
            ]
          },
          "metadata": {
            "tags": []
          }
        }
      ]
    },
    {
      "cell_type": "markdown",
      "metadata": {
        "id": "AWQIAqKbZLBN"
      },
      "source": [
        "外れ値の存在により分布が縮小されて見づらいので、外れ値を表示しない設定にします。"
      ]
    },
    {
      "cell_type": "code",
      "metadata": {
        "colab": {
          "base_uri": "https://localhost:8080/",
          "height": 0
        },
        "id": "VwxkpD91ZLBN",
        "outputId": "1de0c28b-d0c8-491e-f640-4a7cb3b6be17"
      },
      "source": [
        "box_plot(df,'Fuel_Type',size=(8,12),sym=\"\")"
      ],
      "execution_count": 1225,
      "outputs": [
        {
          "output_type": "display_data",
          "data": {
            "image/png": "[encoded data removed]",
            "text/plain": [
              "<Figure size 576x864 with 1 Axes>"
            ]
          },
          "metadata": {
            "tags": []
          }
        }
      ]
    },
    {
      "cell_type": "markdown",
      "metadata": {
        "id": "-CygjOMwZLBN"
      },
      "source": [
        "LPGとCNGでは分布に大差がないように見えるのでこの2つのみで確認してみます。"
      ]
    },
    {
      "cell_type": "code",
      "metadata": {
        "colab": {
          "base_uri": "https://localhost:8080/",
          "height": 0
        },
        "id": "jvpwUXd6ZLBN",
        "outputId": "5aacc131-ef93-47a6-9aec-e9a2d3b491a1"
      },
      "source": [
        "df_cnglpg=df[(df['Fuel_Type']==\"CNG\") | (df['Fuel_Type']==\"LPG\")]\r\n",
        "box_plot(df_cnglpg,'Fuel_Type','Price',(8,8))"
      ],
      "execution_count": 1226,
      "outputs": [
        {
          "output_type": "display_data",
          "data": {
            "image/png": "[encoded data removed]",
            "text/plain": [
              "<Figure size 576x576 with 1 Axes>"
            ]
          },
          "metadata": {
            "tags": []
          }
        }
      ]
    },
    {
      "cell_type": "markdown",
      "metadata": {
        "id": "w0tsBsc2ZLBO"
      },
      "source": [
        "'Fuel_Type'をダミー変数に変換するときに特徴量が増えすぎるのを防ぐため、上記のように分布の差が少ないCNGとLPGはまとめます。"
      ]
    },
    {
      "cell_type": "code",
      "metadata": {
        "colab": {
          "base_uri": "https://localhost:8080/",
          "height": 0
        },
        "id": "WJY0X-llZLBO",
        "outputId": "f3176753-1b2a-4bbc-969d-bd66b54f5195"
      },
      "source": [
        "df['Fuel_Type']=df['Fuel_Type'].str.replace('CNG','CNGorLPG').replace('LPG','CNGorLPG')\r\n",
        "df.head()"
      ],
      "execution_count": 1227,
      "outputs": [
        {
          "output_type": "execute_result",
          "data": {
            "text/html": [
              "<div>\n",
              "<style scoped>\n",
              "    .dataframe tbody tr th:only-of-type {\n",
              "        vertical-align: middle;\n",
              "    }\n",
              "\n",
              "    .dataframe tbody tr th {\n",
              "        vertical-align: top;\n",
              "    }\n",
              "\n",
              "    .dataframe thead th {\n",
              "        text-align: right;\n",
              "    }\n",
              "</style>\n",
              "<table border=\"1\" class=\"dataframe\">\n",
              "  <thead>\n",
              "    <tr style=\"text-align: right;\">\n",
              "      <th></th>\n",
              "      <th>Name</th>\n",
              "      <th>Location</th>\n",
              "      <th>Year</th>\n",
              "      <th>Kilometers_Driven</th>\n",
              "      <th>Fuel_Type</th>\n",
              "      <th>Transmission</th>\n",
              "      <th>Owner_Type</th>\n",
              "      <th>Engine</th>\n",
              "      <th>Power</th>\n",
              "      <th>Seats</th>\n",
              "      <th>Price</th>\n",
              "      <th>Mileage_kmpd</th>\n",
              "      <th>Manufacturer</th>\n",
              "    </tr>\n",
              "  </thead>\n",
              "  <tbody>\n",
              "    <tr>\n",
              "      <th>0</th>\n",
              "      <td>Maruti Wagon R LXI CNG</td>\n",
              "      <td>Mumbai</td>\n",
              "      <td>2010</td>\n",
              "      <td>72000</td>\n",
              "      <td>CNGorLPG</td>\n",
              "      <td>Manual</td>\n",
              "      <td>1</td>\n",
              "      <td>998.0</td>\n",
              "      <td>58.16</td>\n",
              "      <td>5.0</td>\n",
              "      <td>1.75</td>\n",
              "      <td>17.733333</td>\n",
              "      <td>Maruti</td>\n",
              "    </tr>\n",
              "    <tr>\n",
              "      <th>1</th>\n",
              "      <td>Hyundai Creta 1.6 CRDi SX Option</td>\n",
              "      <td>Pune</td>\n",
              "      <td>2015</td>\n",
              "      <td>41000</td>\n",
              "      <td>Diesel</td>\n",
              "      <td>Manual</td>\n",
              "      <td>1</td>\n",
              "      <td>1582.0</td>\n",
              "      <td>126.20</td>\n",
              "      <td>5.0</td>\n",
              "      <td>12.50</td>\n",
              "      <td>21.855556</td>\n",
              "      <td>Hyundai</td>\n",
              "    </tr>\n",
              "    <tr>\n",
              "      <th>2</th>\n",
              "      <td>Honda Jazz V</td>\n",
              "      <td>Chennai</td>\n",
              "      <td>2011</td>\n",
              "      <td>46000</td>\n",
              "      <td>Petrol</td>\n",
              "      <td>Manual</td>\n",
              "      <td>1</td>\n",
              "      <td>1199.0</td>\n",
              "      <td>88.70</td>\n",
              "      <td>5.0</td>\n",
              "      <td>4.50</td>\n",
              "      <td>18.200000</td>\n",
              "      <td>Honda</td>\n",
              "    </tr>\n",
              "    <tr>\n",
              "      <th>3</th>\n",
              "      <td>Maruti Ertiga VDI</td>\n",
              "      <td>Chennai</td>\n",
              "      <td>2012</td>\n",
              "      <td>87000</td>\n",
              "      <td>Diesel</td>\n",
              "      <td>Manual</td>\n",
              "      <td>1</td>\n",
              "      <td>1248.0</td>\n",
              "      <td>88.76</td>\n",
              "      <td>7.0</td>\n",
              "      <td>6.00</td>\n",
              "      <td>23.077778</td>\n",
              "      <td>Maruti</td>\n",
              "    </tr>\n",
              "    <tr>\n",
              "      <th>4</th>\n",
              "      <td>Audi A4 New 2.0 TDI Multitronic</td>\n",
              "      <td>Coimbatore</td>\n",
              "      <td>2013</td>\n",
              "      <td>40670</td>\n",
              "      <td>Diesel</td>\n",
              "      <td>Automatic</td>\n",
              "      <td>2</td>\n",
              "      <td>1968.0</td>\n",
              "      <td>140.80</td>\n",
              "      <td>5.0</td>\n",
              "      <td>17.74</td>\n",
              "      <td>16.888889</td>\n",
              "      <td>Audi</td>\n",
              "    </tr>\n",
              "  </tbody>\n",
              "</table>\n",
              "</div>"
            ],
            "text/plain": [
              "                               Name    Location  ...  Mileage_kmpd  Manufacturer\n",
              "0            Maruti Wagon R LXI CNG      Mumbai  ...     17.733333        Maruti\n",
              "1  Hyundai Creta 1.6 CRDi SX Option        Pune  ...     21.855556       Hyundai\n",
              "2                      Honda Jazz V     Chennai  ...     18.200000         Honda\n",
              "3                 Maruti Ertiga VDI     Chennai  ...     23.077778        Maruti\n",
              "4   Audi A4 New 2.0 TDI Multitronic  Coimbatore  ...     16.888889          Audi\n",
              "\n",
              "[5 rows x 13 columns]"
            ]
          },
          "metadata": {
            "tags": []
          },
          "execution_count": 1227
        }
      ]
    },
    {
      "cell_type": "markdown",
      "metadata": {
        "id": "v4GQS-gWZLBO"
      },
      "source": [
        "#####pd.get_dummiesを使って'Fuel_Type','Transmission'をダミー変数に変換した新たなデータフレームを作成し、そのデータフレームを元のデータフレームに連結します。"
      ]
    },
    {
      "cell_type": "code",
      "metadata": {
        "colab": {
          "base_uri": "https://localhost:8080/",
          "height": 0
        },
        "id": "eXp_FXmOZLBO",
        "outputId": "4a3adfcf-07cc-4c04-9021-f54ef70bd109"
      },
      "source": [
        "df_dum=pd.get_dummies(df[['Fuel_Type','Transmission']], drop_first=True)\r\n",
        "df_dum.head()"
      ],
      "execution_count": 1228,
      "outputs": [
        {
          "output_type": "execute_result",
          "data": {
            "text/html": [
              "<div>\n",
              "<style scoped>\n",
              "    .dataframe tbody tr th:only-of-type {\n",
              "        vertical-align: middle;\n",
              "    }\n",
              "\n",
              "    .dataframe tbody tr th {\n",
              "        vertical-align: top;\n",
              "    }\n",
              "\n",
              "    .dataframe thead th {\n",
              "        text-align: right;\n",
              "    }\n",
              "</style>\n",
              "<table border=\"1\" class=\"dataframe\">\n",
              "  <thead>\n",
              "    <tr style=\"text-align: right;\">\n",
              "      <th></th>\n",
              "      <th>Fuel_Type_Diesel</th>\n",
              "      <th>Fuel_Type_Petrol</th>\n",
              "      <th>Transmission_Manual</th>\n",
              "    </tr>\n",
              "  </thead>\n",
              "  <tbody>\n",
              "    <tr>\n",
              "      <th>0</th>\n",
              "      <td>0</td>\n",
              "      <td>0</td>\n",
              "      <td>1</td>\n",
              "    </tr>\n",
              "    <tr>\n",
              "      <th>1</th>\n",
              "      <td>1</td>\n",
              "      <td>0</td>\n",
              "      <td>1</td>\n",
              "    </tr>\n",
              "    <tr>\n",
              "      <th>2</th>\n",
              "      <td>0</td>\n",
              "      <td>1</td>\n",
              "      <td>1</td>\n",
              "    </tr>\n",
              "    <tr>\n",
              "      <th>3</th>\n",
              "      <td>1</td>\n",
              "      <td>0</td>\n",
              "      <td>1</td>\n",
              "    </tr>\n",
              "    <tr>\n",
              "      <th>4</th>\n",
              "      <td>1</td>\n",
              "      <td>0</td>\n",
              "      <td>0</td>\n",
              "    </tr>\n",
              "  </tbody>\n",
              "</table>\n",
              "</div>"
            ],
            "text/plain": [
              "   Fuel_Type_Diesel  Fuel_Type_Petrol  Transmission_Manual\n",
              "0                 0                 0                    1\n",
              "1                 1                 0                    1\n",
              "2                 0                 1                    1\n",
              "3                 1                 0                    1\n",
              "4                 1                 0                    0"
            ]
          },
          "metadata": {
            "tags": []
          },
          "execution_count": 1228
        }
      ]
    },
    {
      "cell_type": "code",
      "metadata": {
        "colab": {
          "base_uri": "https://localhost:8080/",
          "height": 0
        },
        "id": "6FCjG7YAZLBO",
        "outputId": "0f3ed6cf-e7b2-4148-c7fb-0e9af40c4498"
      },
      "source": [
        "df=pd.concat([df, df_dum],axis=1)\r\n",
        "df.head()"
      ],
      "execution_count": 1229,
      "outputs": [
        {
          "output_type": "execute_result",
          "data": {
            "text/html": [
              "<div>\n",
              "<style scoped>\n",
              "    .dataframe tbody tr th:only-of-type {\n",
              "        vertical-align: middle;\n",
              "    }\n",
              "\n",
              "    .dataframe tbody tr th {\n",
              "        vertical-align: top;\n",
              "    }\n",
              "\n",
              "    .dataframe thead th {\n",
              "        text-align: right;\n",
              "    }\n",
              "</style>\n",
              "<table border=\"1\" class=\"dataframe\">\n",
              "  <thead>\n",
              "    <tr style=\"text-align: right;\">\n",
              "      <th></th>\n",
              "      <th>Name</th>\n",
              "      <th>Location</th>\n",
              "      <th>Year</th>\n",
              "      <th>Kilometers_Driven</th>\n",
              "      <th>Fuel_Type</th>\n",
              "      <th>Transmission</th>\n",
              "      <th>Owner_Type</th>\n",
              "      <th>Engine</th>\n",
              "      <th>Power</th>\n",
              "      <th>Seats</th>\n",
              "      <th>Price</th>\n",
              "      <th>Mileage_kmpd</th>\n",
              "      <th>Manufacturer</th>\n",
              "      <th>Fuel_Type_Diesel</th>\n",
              "      <th>Fuel_Type_Petrol</th>\n",
              "      <th>Transmission_Manual</th>\n",
              "    </tr>\n",
              "  </thead>\n",
              "  <tbody>\n",
              "    <tr>\n",
              "      <th>0</th>\n",
              "      <td>Maruti Wagon R LXI CNG</td>\n",
              "      <td>Mumbai</td>\n",
              "      <td>2010</td>\n",
              "      <td>72000</td>\n",
              "      <td>CNGorLPG</td>\n",
              "      <td>Manual</td>\n",
              "      <td>1</td>\n",
              "      <td>998.0</td>\n",
              "      <td>58.16</td>\n",
              "      <td>5.0</td>\n",
              "      <td>1.75</td>\n",
              "      <td>17.733333</td>\n",
              "      <td>Maruti</td>\n",
              "      <td>0</td>\n",
              "      <td>0</td>\n",
              "      <td>1</td>\n",
              "    </tr>\n",
              "    <tr>\n",
              "      <th>1</th>\n",
              "      <td>Hyundai Creta 1.6 CRDi SX Option</td>\n",
              "      <td>Pune</td>\n",
              "      <td>2015</td>\n",
              "      <td>41000</td>\n",
              "      <td>Diesel</td>\n",
              "      <td>Manual</td>\n",
              "      <td>1</td>\n",
              "      <td>1582.0</td>\n",
              "      <td>126.20</td>\n",
              "      <td>5.0</td>\n",
              "      <td>12.50</td>\n",
              "      <td>21.855556</td>\n",
              "      <td>Hyundai</td>\n",
              "      <td>1</td>\n",
              "      <td>0</td>\n",
              "      <td>1</td>\n",
              "    </tr>\n",
              "    <tr>\n",
              "      <th>2</th>\n",
              "      <td>Honda Jazz V</td>\n",
              "      <td>Chennai</td>\n",
              "      <td>2011</td>\n",
              "      <td>46000</td>\n",
              "      <td>Petrol</td>\n",
              "      <td>Manual</td>\n",
              "      <td>1</td>\n",
              "      <td>1199.0</td>\n",
              "      <td>88.70</td>\n",
              "      <td>5.0</td>\n",
              "      <td>4.50</td>\n",
              "      <td>18.200000</td>\n",
              "      <td>Honda</td>\n",
              "      <td>0</td>\n",
              "      <td>1</td>\n",
              "      <td>1</td>\n",
              "    </tr>\n",
              "    <tr>\n",
              "      <th>3</th>\n",
              "      <td>Maruti Ertiga VDI</td>\n",
              "      <td>Chennai</td>\n",
              "      <td>2012</td>\n",
              "      <td>87000</td>\n",
              "      <td>Diesel</td>\n",
              "      <td>Manual</td>\n",
              "      <td>1</td>\n",
              "      <td>1248.0</td>\n",
              "      <td>88.76</td>\n",
              "      <td>7.0</td>\n",
              "      <td>6.00</td>\n",
              "      <td>23.077778</td>\n",
              "      <td>Maruti</td>\n",
              "      <td>1</td>\n",
              "      <td>0</td>\n",
              "      <td>1</td>\n",
              "    </tr>\n",
              "    <tr>\n",
              "      <th>4</th>\n",
              "      <td>Audi A4 New 2.0 TDI Multitronic</td>\n",
              "      <td>Coimbatore</td>\n",
              "      <td>2013</td>\n",
              "      <td>40670</td>\n",
              "      <td>Diesel</td>\n",
              "      <td>Automatic</td>\n",
              "      <td>2</td>\n",
              "      <td>1968.0</td>\n",
              "      <td>140.80</td>\n",
              "      <td>5.0</td>\n",
              "      <td>17.74</td>\n",
              "      <td>16.888889</td>\n",
              "      <td>Audi</td>\n",
              "      <td>1</td>\n",
              "      <td>0</td>\n",
              "      <td>0</td>\n",
              "    </tr>\n",
              "  </tbody>\n",
              "</table>\n",
              "</div>"
            ],
            "text/plain": [
              "                               Name  ... Transmission_Manual\n",
              "0            Maruti Wagon R LXI CNG  ...                   1\n",
              "1  Hyundai Creta 1.6 CRDi SX Option  ...                   1\n",
              "2                      Honda Jazz V  ...                   1\n",
              "3                 Maruti Ertiga VDI  ...                   1\n",
              "4   Audi A4 New 2.0 TDI Multitronic  ...                   0\n",
              "\n",
              "[5 rows x 16 columns]"
            ]
          },
          "metadata": {
            "tags": []
          },
          "execution_count": 1229
        }
      ]
    },
    {
      "cell_type": "markdown",
      "metadata": {
        "id": "6JhK-z6tZLBO"
      },
      "source": [
        "正しく変換された列（'Fuel_Type_Diesel','Fuel_Type_Petrol','Transmission_Manual\t'）が追加されているので、\r\n",
        "\r\n",
        "不要になった'Fuel_Type','Transmission'を削除します。"
      ]
    },
    {
      "cell_type": "code",
      "metadata": {
        "colab": {
          "base_uri": "https://localhost:8080/",
          "height": 0
        },
        "id": "p0K3qJj2ZLBP",
        "outputId": "7ba1bf01-b45f-45a7-cb14-2d857ea87758"
      },
      "source": [
        "df=df.drop(columns=['Fuel_Type','Transmission'])\r\n",
        "df.head()"
      ],
      "execution_count": 1230,
      "outputs": [
        {
          "output_type": "execute_result",
          "data": {
            "text/html": [
              "<div>\n",
              "<style scoped>\n",
              "    .dataframe tbody tr th:only-of-type {\n",
              "        vertical-align: middle;\n",
              "    }\n",
              "\n",
              "    .dataframe tbody tr th {\n",
              "        vertical-align: top;\n",
              "    }\n",
              "\n",
              "    .dataframe thead th {\n",
              "        text-align: right;\n",
              "    }\n",
              "</style>\n",
              "<table border=\"1\" class=\"dataframe\">\n",
              "  <thead>\n",
              "    <tr style=\"text-align: right;\">\n",
              "      <th></th>\n",
              "      <th>Name</th>\n",
              "      <th>Location</th>\n",
              "      <th>Year</th>\n",
              "      <th>Kilometers_Driven</th>\n",
              "      <th>Owner_Type</th>\n",
              "      <th>Engine</th>\n",
              "      <th>Power</th>\n",
              "      <th>Seats</th>\n",
              "      <th>Price</th>\n",
              "      <th>Mileage_kmpd</th>\n",
              "      <th>Manufacturer</th>\n",
              "      <th>Fuel_Type_Diesel</th>\n",
              "      <th>Fuel_Type_Petrol</th>\n",
              "      <th>Transmission_Manual</th>\n",
              "    </tr>\n",
              "  </thead>\n",
              "  <tbody>\n",
              "    <tr>\n",
              "      <th>0</th>\n",
              "      <td>Maruti Wagon R LXI CNG</td>\n",
              "      <td>Mumbai</td>\n",
              "      <td>2010</td>\n",
              "      <td>72000</td>\n",
              "      <td>1</td>\n",
              "      <td>998.0</td>\n",
              "      <td>58.16</td>\n",
              "      <td>5.0</td>\n",
              "      <td>1.75</td>\n",
              "      <td>17.733333</td>\n",
              "      <td>Maruti</td>\n",
              "      <td>0</td>\n",
              "      <td>0</td>\n",
              "      <td>1</td>\n",
              "    </tr>\n",
              "    <tr>\n",
              "      <th>1</th>\n",
              "      <td>Hyundai Creta 1.6 CRDi SX Option</td>\n",
              "      <td>Pune</td>\n",
              "      <td>2015</td>\n",
              "      <td>41000</td>\n",
              "      <td>1</td>\n",
              "      <td>1582.0</td>\n",
              "      <td>126.20</td>\n",
              "      <td>5.0</td>\n",
              "      <td>12.50</td>\n",
              "      <td>21.855556</td>\n",
              "      <td>Hyundai</td>\n",
              "      <td>1</td>\n",
              "      <td>0</td>\n",
              "      <td>1</td>\n",
              "    </tr>\n",
              "    <tr>\n",
              "      <th>2</th>\n",
              "      <td>Honda Jazz V</td>\n",
              "      <td>Chennai</td>\n",
              "      <td>2011</td>\n",
              "      <td>46000</td>\n",
              "      <td>1</td>\n",
              "      <td>1199.0</td>\n",
              "      <td>88.70</td>\n",
              "      <td>5.0</td>\n",
              "      <td>4.50</td>\n",
              "      <td>18.200000</td>\n",
              "      <td>Honda</td>\n",
              "      <td>0</td>\n",
              "      <td>1</td>\n",
              "      <td>1</td>\n",
              "    </tr>\n",
              "    <tr>\n",
              "      <th>3</th>\n",
              "      <td>Maruti Ertiga VDI</td>\n",
              "      <td>Chennai</td>\n",
              "      <td>2012</td>\n",
              "      <td>87000</td>\n",
              "      <td>1</td>\n",
              "      <td>1248.0</td>\n",
              "      <td>88.76</td>\n",
              "      <td>7.0</td>\n",
              "      <td>6.00</td>\n",
              "      <td>23.077778</td>\n",
              "      <td>Maruti</td>\n",
              "      <td>1</td>\n",
              "      <td>0</td>\n",
              "      <td>1</td>\n",
              "    </tr>\n",
              "    <tr>\n",
              "      <th>4</th>\n",
              "      <td>Audi A4 New 2.0 TDI Multitronic</td>\n",
              "      <td>Coimbatore</td>\n",
              "      <td>2013</td>\n",
              "      <td>40670</td>\n",
              "      <td>2</td>\n",
              "      <td>1968.0</td>\n",
              "      <td>140.80</td>\n",
              "      <td>5.0</td>\n",
              "      <td>17.74</td>\n",
              "      <td>16.888889</td>\n",
              "      <td>Audi</td>\n",
              "      <td>1</td>\n",
              "      <td>0</td>\n",
              "      <td>0</td>\n",
              "    </tr>\n",
              "  </tbody>\n",
              "</table>\n",
              "</div>"
            ],
            "text/plain": [
              "                               Name  ... Transmission_Manual\n",
              "0            Maruti Wagon R LXI CNG  ...                   1\n",
              "1  Hyundai Creta 1.6 CRDi SX Option  ...                   1\n",
              "2                      Honda Jazz V  ...                   1\n",
              "3                 Maruti Ertiga VDI  ...                   1\n",
              "4   Audi A4 New 2.0 TDI Multitronic  ...                   0\n",
              "\n",
              "[5 rows x 14 columns]"
            ]
          },
          "metadata": {
            "tags": []
          },
          "execution_count": 1230
        }
      ]
    },
    {
      "cell_type": "markdown",
      "metadata": {
        "id": "yhpn0U6hZLBP"
      },
      "source": [
        "####'Year','Kilometers_Driven'については整数型のまま扱います。'Seats','Price'についてはもとから浮動小数点型なので問題ありません。"
      ]
    },
    {
      "cell_type": "code",
      "metadata": {
        "colab": {
          "base_uri": "https://localhost:8080/"
        },
        "id": "e0imOrwpZLBP",
        "outputId": "c5be5cc7-b29b-4604-f3ca-df227409e6a1"
      },
      "source": [
        "df.info()"
      ],
      "execution_count": 1231,
      "outputs": [
        {
          "output_type": "stream",
          "text": [
            "<class 'pandas.core.frame.DataFrame'>\n",
            "Int64Index: 5869 entries, 0 to 6018\n",
            "Data columns (total 14 columns):\n",
            " #   Column               Non-Null Count  Dtype  \n",
            "---  ------               --------------  -----  \n",
            " 0   Name                 5869 non-null   object \n",
            " 1   Location             5869 non-null   object \n",
            " 2   Year                 5869 non-null   int64  \n",
            " 3   Kilometers_Driven    5869 non-null   int64  \n",
            " 4   Owner_Type           5869 non-null   int64  \n",
            " 5   Engine               5869 non-null   float64\n",
            " 6   Power                5869 non-null   float64\n",
            " 7   Seats                5869 non-null   float64\n",
            " 8   Price                5869 non-null   float64\n",
            " 9   Mileage_kmpd         5869 non-null   float64\n",
            " 10  Manufacturer         5869 non-null   object \n",
            " 11  Fuel_Type_Diesel     5869 non-null   uint8  \n",
            " 12  Fuel_Type_Petrol     5869 non-null   uint8  \n",
            " 13  Transmission_Manual  5869 non-null   uint8  \n",
            "dtypes: float64(5), int64(3), object(3), uint8(3)\n",
            "memory usage: 727.4+ KB\n"
          ],
          "name": "stdout"
        }
      ]
    },
    {
      "cell_type": "markdown",
      "metadata": {
        "id": "HsTRzi_XZLBP"
      },
      "source": [
        "###外れ値の除外"
      ]
    },
    {
      "cell_type": "markdown",
      "metadata": {
        "id": "o4xMiBMCGuGX"
      },
      "source": [
        "####各列の統計量の確認"
      ]
    },
    {
      "cell_type": "code",
      "metadata": {
        "colab": {
          "base_uri": "https://localhost:8080/",
          "height": 0
        },
        "id": "vC8Rz146ZLBQ",
        "outputId": "01aa96fd-7a8f-4eac-b790-5111797d1b74"
      },
      "source": [
        "df.describe()"
      ],
      "execution_count": 1232,
      "outputs": [
        {
          "output_type": "execute_result",
          "data": {
            "text/html": [
              "<div>\n",
              "<style scoped>\n",
              "    .dataframe tbody tr th:only-of-type {\n",
              "        vertical-align: middle;\n",
              "    }\n",
              "\n",
              "    .dataframe tbody tr th {\n",
              "        vertical-align: top;\n",
              "    }\n",
              "\n",
              "    .dataframe thead th {\n",
              "        text-align: right;\n",
              "    }\n",
              "</style>\n",
              "<table border=\"1\" class=\"dataframe\">\n",
              "  <thead>\n",
              "    <tr style=\"text-align: right;\">\n",
              "      <th></th>\n",
              "      <th>Year</th>\n",
              "      <th>Kilometers_Driven</th>\n",
              "      <th>Owner_Type</th>\n",
              "      <th>Engine</th>\n",
              "      <th>Power</th>\n",
              "      <th>Seats</th>\n",
              "      <th>Price</th>\n",
              "      <th>Mileage_kmpd</th>\n",
              "      <th>Fuel_Type_Diesel</th>\n",
              "      <th>Fuel_Type_Petrol</th>\n",
              "      <th>Transmission_Manual</th>\n",
              "    </tr>\n",
              "  </thead>\n",
              "  <tbody>\n",
              "    <tr>\n",
              "      <th>count</th>\n",
              "      <td>5869.000000</td>\n",
              "      <td>5.869000e+03</td>\n",
              "      <td>5869.000000</td>\n",
              "      <td>5869.000000</td>\n",
              "      <td>5869.000000</td>\n",
              "      <td>5869.000000</td>\n",
              "      <td>5869.000000</td>\n",
              "      <td>5869.000000</td>\n",
              "      <td>5869.000000</td>\n",
              "      <td>5869.000000</td>\n",
              "      <td>5869.000000</td>\n",
              "    </tr>\n",
              "    <tr>\n",
              "      <th>mean</th>\n",
              "      <td>2013.474698</td>\n",
              "      <td>5.836582e+04</td>\n",
              "      <td>1.195434</td>\n",
              "      <td>1621.655137</td>\n",
              "      <td>112.959506</td>\n",
              "      <td>5.284205</td>\n",
              "      <td>9.522137</td>\n",
              "      <td>19.416616</td>\n",
              "      <td>0.537911</td>\n",
              "      <td>0.451014</td>\n",
              "      <td>0.713580</td>\n",
              "    </tr>\n",
              "    <tr>\n",
              "      <th>std</th>\n",
              "      <td>3.160539</td>\n",
              "      <td>9.220104e+04</td>\n",
              "      <td>0.446305</td>\n",
              "      <td>598.203558</td>\n",
              "      <td>53.768780</td>\n",
              "      <td>0.805565</td>\n",
              "      <td>11.169332</td>\n",
              "      <td>4.673542</td>\n",
              "      <td>0.498603</td>\n",
              "      <td>0.497637</td>\n",
              "      <td>0.452127</td>\n",
              "    </tr>\n",
              "    <tr>\n",
              "      <th>min</th>\n",
              "      <td>1998.000000</td>\n",
              "      <td>1.710000e+02</td>\n",
              "      <td>1.000000</td>\n",
              "      <td>624.000000</td>\n",
              "      <td>34.200000</td>\n",
              "      <td>2.000000</td>\n",
              "      <td>0.440000</td>\n",
              "      <td>6.400000</td>\n",
              "      <td>0.000000</td>\n",
              "      <td>0.000000</td>\n",
              "      <td>0.000000</td>\n",
              "    </tr>\n",
              "    <tr>\n",
              "      <th>25%</th>\n",
              "      <td>2012.000000</td>\n",
              "      <td>3.355000e+04</td>\n",
              "      <td>1.000000</td>\n",
              "      <td>1198.000000</td>\n",
              "      <td>75.000000</td>\n",
              "      <td>5.000000</td>\n",
              "      <td>3.500000</td>\n",
              "      <td>16.100000</td>\n",
              "      <td>0.000000</td>\n",
              "      <td>0.000000</td>\n",
              "      <td>0.000000</td>\n",
              "    </tr>\n",
              "    <tr>\n",
              "      <th>50%</th>\n",
              "      <td>2014.000000</td>\n",
              "      <td>5.261800e+04</td>\n",
              "      <td>1.000000</td>\n",
              "      <td>1493.000000</td>\n",
              "      <td>94.000000</td>\n",
              "      <td>5.000000</td>\n",
              "      <td>5.700000</td>\n",
              "      <td>18.900000</td>\n",
              "      <td>1.000000</td>\n",
              "      <td>0.000000</td>\n",
              "      <td>1.000000</td>\n",
              "    </tr>\n",
              "    <tr>\n",
              "      <th>75%</th>\n",
              "      <td>2016.000000</td>\n",
              "      <td>7.241100e+04</td>\n",
              "      <td>1.000000</td>\n",
              "      <td>1984.000000</td>\n",
              "      <td>138.100000</td>\n",
              "      <td>5.000000</td>\n",
              "      <td>9.990000</td>\n",
              "      <td>22.644444</td>\n",
              "      <td>1.000000</td>\n",
              "      <td>1.000000</td>\n",
              "      <td>1.000000</td>\n",
              "    </tr>\n",
              "    <tr>\n",
              "      <th>max</th>\n",
              "      <td>2019.000000</td>\n",
              "      <td>6.500000e+06</td>\n",
              "      <td>4.000000</td>\n",
              "      <td>5998.000000</td>\n",
              "      <td>560.000000</td>\n",
              "      <td>10.000000</td>\n",
              "      <td>160.000000</td>\n",
              "      <td>31.555556</td>\n",
              "      <td>1.000000</td>\n",
              "      <td>1.000000</td>\n",
              "      <td>1.000000</td>\n",
              "    </tr>\n",
              "  </tbody>\n",
              "</table>\n",
              "</div>"
            ],
            "text/plain": [
              "              Year  Kilometers_Driven  ...  Fuel_Type_Petrol  Transmission_Manual\n",
              "count  5869.000000       5.869000e+03  ...       5869.000000          5869.000000\n",
              "mean   2013.474698       5.836582e+04  ...          0.451014             0.713580\n",
              "std       3.160539       9.220104e+04  ...          0.497637             0.452127\n",
              "min    1998.000000       1.710000e+02  ...          0.000000             0.000000\n",
              "25%    2012.000000       3.355000e+04  ...          0.000000             0.000000\n",
              "50%    2014.000000       5.261800e+04  ...          0.000000             1.000000\n",
              "75%    2016.000000       7.241100e+04  ...          1.000000             1.000000\n",
              "max    2019.000000       6.500000e+06  ...          1.000000             1.000000\n",
              "\n",
              "[8 rows x 11 columns]"
            ]
          },
          "metadata": {
            "tags": []
          },
          "execution_count": 1232
        }
      ]
    },
    {
      "cell_type": "markdown",
      "metadata": {
        "id": "rCIMDxYrZLBQ"
      },
      "source": [
        "'Owner_Type','Fuel_Type_Diesel','Fuel_Type_Petrol','Transmission_Manual'については、エンコーディングした後なので問題ありません。\r\n",
        "\r\n",
        "'Year','Engine','Power','Seats','Price','Mileage_kmpd'については、最大,最小ともに法外な値ではありませんが、\r\n",
        "\r\n",
        "'Price'の最大値付近については、一応誤入力でないかどうか、'Manufacturer'を確認し、高級車であるかどうか確認します。\r\n",
        "\r\n",
        "'Kilometers_Driven'については最大値が 650万km と大きすぎ、ギネス記録を超えています。\r\n",
        "\r\n",
        "#####参考文献"
      ]
    },
    {
      "cell_type": "markdown",
      "metadata": {
        "id": "6uOe3Dx-ZLBQ"
      },
      "source": [
        "\r\n",
        "\r\n",
        "8.    VOLVO\r\n",
        "  \r\n",
        "  Blog > 全店 > Whats VOLVO\r\n",
        "\r\n",
        "  1台の乗用車でもっとも長く走行したギネス記録を知っていますか？ (2018.04.19)\r\n",
        "\r\n",
        "  [サイトへのリンク https://www.sweden-cars.jp/blog/...](https://www.sweden-cars.jp/blog/1%E5%8F%B0%E3%81%AE%E4%B9%97%E7%94%A8%E8%BB%8A%E3%81%A7%E3%82%82%E3%81%A3%E3%81%A8%E3%82%82%E9%95%B7%E3%81%8F%E8%B5%B0%E8%A1%8C%E3%81%97%E3%81%9F%E3%82%AE%E3%83%8D%E3%82%B9%E8%A8%98%E9%8C%B2%E3%82%92%E7%9F%A5%E3%81%A3%E3%81%A6%E3%81%84%E3%81%BE%E3%81%99%E3%81%8B%EF%BC%9F/#:~:text=1%E5%8F%B0%E3%81%AE%E4%B9%97%E7%94%A8%E8%BB%8A%E3%81%8C,%E3%81%AB%E8%AA%8D%E5%AE%9A%E3%81%95%E3%82%8C%E3%81%BE%E3%81%97%E3%81%9F%E3%80%82)\r\n"
      ]
    },
    {
      "cell_type": "markdown",
      "metadata": {
        "id": "Q0lwhwiIZLBQ"
      },
      "source": [
        "####誤入力だと思われるものの削除"
      ]
    },
    {
      "cell_type": "markdown",
      "metadata": {
        "id": "v9asGmcuHq_N"
      },
      "source": [
        "#####'Price'の確認"
      ]
    },
    {
      "cell_type": "markdown",
      "metadata": {
        "id": "snqpa7oJHRYg"
      },
      "source": [
        "'Price'の大きい順に表示してみます。"
      ]
    },
    {
      "cell_type": "code",
      "metadata": {
        "colab": {
          "base_uri": "https://localhost:8080/",
          "height": 0
        },
        "id": "vU45OXZMZLBR",
        "outputId": "1e5df976-e6f5-489e-fb42-776f4d0a6404"
      },
      "source": [
        "df_price=df.sort_values('Price',ascending=False)\r\n",
        "df_price.head(10)"
      ],
      "execution_count": 1233,
      "outputs": [
        {
          "output_type": "execute_result",
          "data": {
            "text/html": [
              "<div>\n",
              "<style scoped>\n",
              "    .dataframe tbody tr th:only-of-type {\n",
              "        vertical-align: middle;\n",
              "    }\n",
              "\n",
              "    .dataframe tbody tr th {\n",
              "        vertical-align: top;\n",
              "    }\n",
              "\n",
              "    .dataframe thead th {\n",
              "        text-align: right;\n",
              "    }\n",
              "</style>\n",
              "<table border=\"1\" class=\"dataframe\">\n",
              "  <thead>\n",
              "    <tr style=\"text-align: right;\">\n",
              "      <th></th>\n",
              "      <th>Name</th>\n",
              "      <th>Location</th>\n",
              "      <th>Year</th>\n",
              "      <th>Kilometers_Driven</th>\n",
              "      <th>Owner_Type</th>\n",
              "      <th>Engine</th>\n",
              "      <th>Power</th>\n",
              "      <th>Seats</th>\n",
              "      <th>Price</th>\n",
              "      <th>Mileage_kmpd</th>\n",
              "      <th>Manufacturer</th>\n",
              "      <th>Fuel_Type_Diesel</th>\n",
              "      <th>Fuel_Type_Petrol</th>\n",
              "      <th>Transmission_Manual</th>\n",
              "    </tr>\n",
              "  </thead>\n",
              "  <tbody>\n",
              "    <tr>\n",
              "      <th>4079</th>\n",
              "      <td>Land Rover Range Rover 3.0 Diesel LWB Vogue</td>\n",
              "      <td>Hyderabad</td>\n",
              "      <td>2017</td>\n",
              "      <td>25000</td>\n",
              "      <td>1</td>\n",
              "      <td>2993.0</td>\n",
              "      <td>255.00</td>\n",
              "      <td>5.0</td>\n",
              "      <td>160.00</td>\n",
              "      <td>14.811111</td>\n",
              "      <td>Land</td>\n",
              "      <td>1</td>\n",
              "      <td>0</td>\n",
              "      <td>0</td>\n",
              "    </tr>\n",
              "    <tr>\n",
              "      <th>5781</th>\n",
              "      <td>Lamborghini Gallardo Coupe</td>\n",
              "      <td>Delhi</td>\n",
              "      <td>2011</td>\n",
              "      <td>6500</td>\n",
              "      <td>3</td>\n",
              "      <td>5204.0</td>\n",
              "      <td>560.00</td>\n",
              "      <td>2.0</td>\n",
              "      <td>120.00</td>\n",
              "      <td>6.400000</td>\n",
              "      <td>Lamborghini</td>\n",
              "      <td>0</td>\n",
              "      <td>1</td>\n",
              "      <td>0</td>\n",
              "    </tr>\n",
              "    <tr>\n",
              "      <th>5919</th>\n",
              "      <td>Jaguar F Type 5.0 V8 S</td>\n",
              "      <td>Hyderabad</td>\n",
              "      <td>2015</td>\n",
              "      <td>8000</td>\n",
              "      <td>1</td>\n",
              "      <td>5000.0</td>\n",
              "      <td>488.10</td>\n",
              "      <td>2.0</td>\n",
              "      <td>100.00</td>\n",
              "      <td>12.500000</td>\n",
              "      <td>Jaguar</td>\n",
              "      <td>0</td>\n",
              "      <td>1</td>\n",
              "      <td>0</td>\n",
              "    </tr>\n",
              "    <tr>\n",
              "      <th>1505</th>\n",
              "      <td>Land Rover Range Rover Sport SE</td>\n",
              "      <td>Kochi</td>\n",
              "      <td>2019</td>\n",
              "      <td>26013</td>\n",
              "      <td>1</td>\n",
              "      <td>2993.0</td>\n",
              "      <td>255.00</td>\n",
              "      <td>5.0</td>\n",
              "      <td>97.07</td>\n",
              "      <td>14.055556</td>\n",
              "      <td>Land</td>\n",
              "      <td>1</td>\n",
              "      <td>0</td>\n",
              "      <td>0</td>\n",
              "    </tr>\n",
              "    <tr>\n",
              "      <th>1974</th>\n",
              "      <td>BMW 7 Series 740Li</td>\n",
              "      <td>Coimbatore</td>\n",
              "      <td>2018</td>\n",
              "      <td>28060</td>\n",
              "      <td>1</td>\n",
              "      <td>2979.0</td>\n",
              "      <td>320.00</td>\n",
              "      <td>5.0</td>\n",
              "      <td>93.67</td>\n",
              "      <td>12.050000</td>\n",
              "      <td>BMW</td>\n",
              "      <td>0</td>\n",
              "      <td>1</td>\n",
              "      <td>0</td>\n",
              "    </tr>\n",
              "    <tr>\n",
              "      <th>1984</th>\n",
              "      <td>BMW 7 Series 740Li</td>\n",
              "      <td>Bangalore</td>\n",
              "      <td>2017</td>\n",
              "      <td>17465</td>\n",
              "      <td>1</td>\n",
              "      <td>2979.0</td>\n",
              "      <td>320.00</td>\n",
              "      <td>5.0</td>\n",
              "      <td>93.00</td>\n",
              "      <td>12.050000</td>\n",
              "      <td>BMW</td>\n",
              "      <td>0</td>\n",
              "      <td>1</td>\n",
              "      <td>0</td>\n",
              "    </tr>\n",
              "    <tr>\n",
              "      <th>4691</th>\n",
              "      <td>Mercedes-Benz SLK-Class 55 AMG</td>\n",
              "      <td>Bangalore</td>\n",
              "      <td>2014</td>\n",
              "      <td>3000</td>\n",
              "      <td>2</td>\n",
              "      <td>5461.0</td>\n",
              "      <td>421.00</td>\n",
              "      <td>2.0</td>\n",
              "      <td>90.00</td>\n",
              "      <td>12.000000</td>\n",
              "      <td>Mercedes-Benz</td>\n",
              "      <td>0</td>\n",
              "      <td>1</td>\n",
              "      <td>0</td>\n",
              "    </tr>\n",
              "    <tr>\n",
              "      <th>5535</th>\n",
              "      <td>BMW X6 xDrive 40d M Sport</td>\n",
              "      <td>Ahmedabad</td>\n",
              "      <td>2015</td>\n",
              "      <td>97003</td>\n",
              "      <td>1</td>\n",
              "      <td>2993.0</td>\n",
              "      <td>308.43</td>\n",
              "      <td>5.0</td>\n",
              "      <td>85.00</td>\n",
              "      <td>17.633333</td>\n",
              "      <td>BMW</td>\n",
              "      <td>1</td>\n",
              "      <td>0</td>\n",
              "      <td>0</td>\n",
              "    </tr>\n",
              "    <tr>\n",
              "      <th>2095</th>\n",
              "      <td>Mercedes-Benz SLC 43 AMG</td>\n",
              "      <td>Coimbatore</td>\n",
              "      <td>2019</td>\n",
              "      <td>2526</td>\n",
              "      <td>1</td>\n",
              "      <td>2996.0</td>\n",
              "      <td>362.07</td>\n",
              "      <td>2.0</td>\n",
              "      <td>83.96</td>\n",
              "      <td>19.000000</td>\n",
              "      <td>Mercedes-Benz</td>\n",
              "      <td>0</td>\n",
              "      <td>1</td>\n",
              "      <td>0</td>\n",
              "    </tr>\n",
              "    <tr>\n",
              "      <th>1885</th>\n",
              "      <td>Mercedes-Benz GLS 350d Grand Edition</td>\n",
              "      <td>Delhi</td>\n",
              "      <td>2018</td>\n",
              "      <td>6000</td>\n",
              "      <td>1</td>\n",
              "      <td>2987.0</td>\n",
              "      <td>258.00</td>\n",
              "      <td>7.0</td>\n",
              "      <td>79.00</td>\n",
              "      <td>12.222222</td>\n",
              "      <td>Mercedes-Benz</td>\n",
              "      <td>1</td>\n",
              "      <td>0</td>\n",
              "      <td>0</td>\n",
              "    </tr>\n",
              "  </tbody>\n",
              "</table>\n",
              "</div>"
            ],
            "text/plain": [
              "                                             Name  ... Transmission_Manual\n",
              "4079  Land Rover Range Rover 3.0 Diesel LWB Vogue  ...                   0\n",
              "5781                   Lamborghini Gallardo Coupe  ...                   0\n",
              "5919                       Jaguar F Type 5.0 V8 S  ...                   0\n",
              "1505              Land Rover Range Rover Sport SE  ...                   0\n",
              "1974                           BMW 7 Series 740Li  ...                   0\n",
              "1984                           BMW 7 Series 740Li  ...                   0\n",
              "4691               Mercedes-Benz SLK-Class 55 AMG  ...                   0\n",
              "5535                    BMW X6 xDrive 40d M Sport  ...                   0\n",
              "2095                     Mercedes-Benz SLC 43 AMG  ...                   0\n",
              "1885         Mercedes-Benz GLS 350d Grand Edition  ...                   0\n",
              "\n",
              "[10 rows x 14 columns]"
            ]
          },
          "metadata": {
            "tags": []
          },
          "execution_count": 1233
        }
      ]
    },
    {
      "cell_type": "markdown",
      "metadata": {
        "id": "D1XuALx8ZLBR"
      },
      "source": [
        "高級車種が並んでいるので誤入力ではないないかと思います。\r\n",
        "\r\n",
        "'Manufacture'が\"Land\"になっている車ついては、\"Land Rover\"の\"Rover\"が落ちてしまった形です。\"Land Rover\"製でないものがないか確認します。"
      ]
    },
    {
      "cell_type": "code",
      "metadata": {
        "colab": {
          "base_uri": "https://localhost:8080/"
        },
        "id": "M6j7vwkSZLBR",
        "outputId": "7d6319e9-89bd-4be0-8a2f-2f488f972304"
      },
      "source": [
        "df_land=df_name_split[df_name_split[0]==\"Land\"]\r\n",
        "df_land[1].value_counts()"
      ],
      "execution_count": 1234,
      "outputs": [
        {
          "output_type": "execute_result",
          "data": {
            "text/plain": [
              "Rover    51\n",
              "Name: 1, dtype: int64"
            ]
          },
          "metadata": {
            "tags": []
          },
          "execution_count": 1234
        }
      ]
    },
    {
      "cell_type": "markdown",
      "metadata": {
        "id": "InL2XcS2ZLBR"
      },
      "source": [
        "'Manufacture'が\"Land\"になっている車はすべて\"Land Rover\"製であると確認できたので、\"Land\"が\"Land Rover\"を表すものとしてそのまま使います。"
      ]
    },
    {
      "cell_type": "markdown",
      "metadata": {
        "id": "NkZ2rbwsH1eg"
      },
      "source": [
        "#####'Kilometers_Driven'の確認"
      ]
    },
    {
      "cell_type": "code",
      "metadata": {
        "colab": {
          "base_uri": "https://localhost:8080/",
          "height": 0
        },
        "id": "G4wls901ZLBS",
        "outputId": "7e6c77ec-7e15-4616-9f9d-b0b5c95ca335"
      },
      "source": [
        "df_kilo=df.sort_values('Kilometers_Driven',ascending=False)\r\n",
        "df_kilo.head()"
      ],
      "execution_count": 1235,
      "outputs": [
        {
          "output_type": "execute_result",
          "data": {
            "text/html": [
              "<div>\n",
              "<style scoped>\n",
              "    .dataframe tbody tr th:only-of-type {\n",
              "        vertical-align: middle;\n",
              "    }\n",
              "\n",
              "    .dataframe tbody tr th {\n",
              "        vertical-align: top;\n",
              "    }\n",
              "\n",
              "    .dataframe thead th {\n",
              "        text-align: right;\n",
              "    }\n",
              "</style>\n",
              "<table border=\"1\" class=\"dataframe\">\n",
              "  <thead>\n",
              "    <tr style=\"text-align: right;\">\n",
              "      <th></th>\n",
              "      <th>Name</th>\n",
              "      <th>Location</th>\n",
              "      <th>Year</th>\n",
              "      <th>Kilometers_Driven</th>\n",
              "      <th>Owner_Type</th>\n",
              "      <th>Engine</th>\n",
              "      <th>Power</th>\n",
              "      <th>Seats</th>\n",
              "      <th>Price</th>\n",
              "      <th>Mileage_kmpd</th>\n",
              "      <th>Manufacturer</th>\n",
              "      <th>Fuel_Type_Diesel</th>\n",
              "      <th>Fuel_Type_Petrol</th>\n",
              "      <th>Transmission_Manual</th>\n",
              "    </tr>\n",
              "  </thead>\n",
              "  <tbody>\n",
              "    <tr>\n",
              "      <th>2328</th>\n",
              "      <td>BMW X5 xDrive 30d M Sport</td>\n",
              "      <td>Chennai</td>\n",
              "      <td>2017</td>\n",
              "      <td>6500000</td>\n",
              "      <td>1</td>\n",
              "      <td>2993.0</td>\n",
              "      <td>258.0</td>\n",
              "      <td>5.0</td>\n",
              "      <td>65.0</td>\n",
              "      <td>17.744444</td>\n",
              "      <td>BMW</td>\n",
              "      <td>1</td>\n",
              "      <td>0</td>\n",
              "      <td>0</td>\n",
              "    </tr>\n",
              "    <tr>\n",
              "      <th>340</th>\n",
              "      <td>Skoda Octavia Ambition Plus 2.0 TDI AT</td>\n",
              "      <td>Kolkata</td>\n",
              "      <td>2013</td>\n",
              "      <td>775000</td>\n",
              "      <td>1</td>\n",
              "      <td>1968.0</td>\n",
              "      <td>141.0</td>\n",
              "      <td>5.0</td>\n",
              "      <td>7.5</td>\n",
              "      <td>21.444444</td>\n",
              "      <td>Skoda</td>\n",
              "      <td>1</td>\n",
              "      <td>0</td>\n",
              "      <td>0</td>\n",
              "    </tr>\n",
              "    <tr>\n",
              "      <th>1860</th>\n",
              "      <td>Volkswagen Vento Diesel Highline</td>\n",
              "      <td>Chennai</td>\n",
              "      <td>2013</td>\n",
              "      <td>720000</td>\n",
              "      <td>1</td>\n",
              "      <td>1598.0</td>\n",
              "      <td>103.6</td>\n",
              "      <td>5.0</td>\n",
              "      <td>5.9</td>\n",
              "      <td>22.822222</td>\n",
              "      <td>Volkswagen</td>\n",
              "      <td>1</td>\n",
              "      <td>0</td>\n",
              "      <td>1</td>\n",
              "    </tr>\n",
              "    <tr>\n",
              "      <th>358</th>\n",
              "      <td>Hyundai i10 Magna 1.2</td>\n",
              "      <td>Chennai</td>\n",
              "      <td>2009</td>\n",
              "      <td>620000</td>\n",
              "      <td>1</td>\n",
              "      <td>1197.0</td>\n",
              "      <td>78.9</td>\n",
              "      <td>5.0</td>\n",
              "      <td>2.7</td>\n",
              "      <td>20.360000</td>\n",
              "      <td>Hyundai</td>\n",
              "      <td>0</td>\n",
              "      <td>1</td>\n",
              "      <td>1</td>\n",
              "    </tr>\n",
              "    <tr>\n",
              "      <th>3092</th>\n",
              "      <td>Honda City i VTEC SV</td>\n",
              "      <td>Kolkata</td>\n",
              "      <td>2015</td>\n",
              "      <td>480000</td>\n",
              "      <td>1</td>\n",
              "      <td>1497.0</td>\n",
              "      <td>117.3</td>\n",
              "      <td>5.0</td>\n",
              "      <td>5.0</td>\n",
              "      <td>17.400000</td>\n",
              "      <td>Honda</td>\n",
              "      <td>0</td>\n",
              "      <td>1</td>\n",
              "      <td>1</td>\n",
              "    </tr>\n",
              "  </tbody>\n",
              "</table>\n",
              "</div>"
            ],
            "text/plain": [
              "                                        Name  ... Transmission_Manual\n",
              "2328               BMW X5 xDrive 30d M Sport  ...                   0\n",
              "340   Skoda Octavia Ambition Plus 2.0 TDI AT  ...                   0\n",
              "1860        Volkswagen Vento Diesel Highline  ...                   1\n",
              "358                    Hyundai i10 Magna 1.2  ...                   1\n",
              "3092                    Honda City i VTEC SV  ...                   1\n",
              "\n",
              "[5 rows x 14 columns]"
            ]
          },
          "metadata": {
            "tags": []
          },
          "execution_count": 1235
        }
      ]
    },
    {
      "cell_type": "markdown",
      "metadata": {
        "id": "3vzw8_QYZLBS"
      },
      "source": [
        "走行距離650万kmはおそらく値段650万ルピーと混同した誤入力だと思われるのでこの行を削除します。\r\n",
        "\r\n",
        "その下の77.5万kmについては、ありうる数字なのでそのまま使います。\r\n",
        "\r\n",
        "#####参考文献"
      ]
    },
    {
      "cell_type": "markdown",
      "metadata": {
        "id": "7w_LK9zCZLBS"
      },
      "source": [
        "9.   くるまのニュース\r\n",
        "  \r\n",
        "  クルマの走行距離の限界は？ 90万キロ超のクルマも実在!? 自動車の寿命っていったいいつ？\r\n",
        "  \r\n",
        "  https://kuruma-news.jp/post/235572\r\n",
        "\r\n",
        "  [アクセス日　2021/02/02]\r\n",
        "\r\n",
        "\r\n"
      ]
    },
    {
      "cell_type": "markdown",
      "metadata": {
        "id": "5x2sIh8XINDC"
      },
      "source": [
        "####'Kilometers_Driven'の誤入力の削除"
      ]
    },
    {
      "cell_type": "code",
      "metadata": {
        "colab": {
          "base_uri": "https://localhost:8080/",
          "height": 317
        },
        "id": "PZ62CxjDZLBS",
        "outputId": "98b7dbf3-a2af-4c32-a2e3-7f90b58589bd"
      },
      "source": [
        "df=df[df['Kilometers_Driven']<1000000]\r\n",
        "df.describe()"
      ],
      "execution_count": 1236,
      "outputs": [
        {
          "output_type": "execute_result",
          "data": {
            "text/html": [
              "<div>\n",
              "<style scoped>\n",
              "    .dataframe tbody tr th:only-of-type {\n",
              "        vertical-align: middle;\n",
              "    }\n",
              "\n",
              "    .dataframe tbody tr th {\n",
              "        vertical-align: top;\n",
              "    }\n",
              "\n",
              "    .dataframe thead th {\n",
              "        text-align: right;\n",
              "    }\n",
              "</style>\n",
              "<table border=\"1\" class=\"dataframe\">\n",
              "  <thead>\n",
              "    <tr style=\"text-align: right;\">\n",
              "      <th></th>\n",
              "      <th>Year</th>\n",
              "      <th>Kilometers_Driven</th>\n",
              "      <th>Owner_Type</th>\n",
              "      <th>Engine</th>\n",
              "      <th>Power</th>\n",
              "      <th>Seats</th>\n",
              "      <th>Price</th>\n",
              "      <th>Mileage_kmpd</th>\n",
              "      <th>Fuel_Type_Diesel</th>\n",
              "      <th>Fuel_Type_Petrol</th>\n",
              "      <th>Transmission_Manual</th>\n",
              "    </tr>\n",
              "  </thead>\n",
              "  <tbody>\n",
              "    <tr>\n",
              "      <th>count</th>\n",
              "      <td>5868.000000</td>\n",
              "      <td>5868.000000</td>\n",
              "      <td>5868.000000</td>\n",
              "      <td>5868.000000</td>\n",
              "      <td>5868.000000</td>\n",
              "      <td>5868.000000</td>\n",
              "      <td>5868.000000</td>\n",
              "      <td>5868.000000</td>\n",
              "      <td>5868.000000</td>\n",
              "      <td>5868.000000</td>\n",
              "      <td>5868.000000</td>\n",
              "    </tr>\n",
              "    <tr>\n",
              "      <th>mean</th>\n",
              "      <td>2013.474097</td>\n",
              "      <td>57268.062713</td>\n",
              "      <td>1.195467</td>\n",
              "      <td>1621.421438</td>\n",
              "      <td>112.934789</td>\n",
              "      <td>5.284254</td>\n",
              "      <td>9.512682</td>\n",
              "      <td>19.416901</td>\n",
              "      <td>0.537832</td>\n",
              "      <td>0.451091</td>\n",
              "      <td>0.713701</td>\n",
              "    </tr>\n",
              "    <tr>\n",
              "      <th>std</th>\n",
              "      <td>3.160473</td>\n",
              "      <td>37798.479330</td>\n",
              "      <td>0.446336</td>\n",
              "      <td>597.986537</td>\n",
              "      <td>53.740006</td>\n",
              "      <td>0.805625</td>\n",
              "      <td>11.146773</td>\n",
              "      <td>4.673889</td>\n",
              "      <td>0.498609</td>\n",
              "      <td>0.497645</td>\n",
              "      <td>0.452069</td>\n",
              "    </tr>\n",
              "    <tr>\n",
              "      <th>min</th>\n",
              "      <td>1998.000000</td>\n",
              "      <td>171.000000</td>\n",
              "      <td>1.000000</td>\n",
              "      <td>624.000000</td>\n",
              "      <td>34.200000</td>\n",
              "      <td>2.000000</td>\n",
              "      <td>0.440000</td>\n",
              "      <td>6.400000</td>\n",
              "      <td>0.000000</td>\n",
              "      <td>0.000000</td>\n",
              "      <td>0.000000</td>\n",
              "    </tr>\n",
              "    <tr>\n",
              "      <th>25%</th>\n",
              "      <td>2012.000000</td>\n",
              "      <td>33541.750000</td>\n",
              "      <td>1.000000</td>\n",
              "      <td>1198.000000</td>\n",
              "      <td>75.000000</td>\n",
              "      <td>5.000000</td>\n",
              "      <td>3.500000</td>\n",
              "      <td>16.100000</td>\n",
              "      <td>0.000000</td>\n",
              "      <td>0.000000</td>\n",
              "      <td>0.000000</td>\n",
              "    </tr>\n",
              "    <tr>\n",
              "      <th>50%</th>\n",
              "      <td>2014.000000</td>\n",
              "      <td>52609.000000</td>\n",
              "      <td>1.000000</td>\n",
              "      <td>1493.000000</td>\n",
              "      <td>94.000000</td>\n",
              "      <td>5.000000</td>\n",
              "      <td>5.700000</td>\n",
              "      <td>18.900000</td>\n",
              "      <td>1.000000</td>\n",
              "      <td>0.000000</td>\n",
              "      <td>1.000000</td>\n",
              "    </tr>\n",
              "    <tr>\n",
              "      <th>75%</th>\n",
              "      <td>2016.000000</td>\n",
              "      <td>72402.750000</td>\n",
              "      <td>1.000000</td>\n",
              "      <td>1984.000000</td>\n",
              "      <td>138.100000</td>\n",
              "      <td>5.000000</td>\n",
              "      <td>9.990000</td>\n",
              "      <td>22.644444</td>\n",
              "      <td>1.000000</td>\n",
              "      <td>1.000000</td>\n",
              "      <td>1.000000</td>\n",
              "    </tr>\n",
              "    <tr>\n",
              "      <th>max</th>\n",
              "      <td>2019.000000</td>\n",
              "      <td>775000.000000</td>\n",
              "      <td>4.000000</td>\n",
              "      <td>5998.000000</td>\n",
              "      <td>560.000000</td>\n",
              "      <td>10.000000</td>\n",
              "      <td>160.000000</td>\n",
              "      <td>31.555556</td>\n",
              "      <td>1.000000</td>\n",
              "      <td>1.000000</td>\n",
              "      <td>1.000000</td>\n",
              "    </tr>\n",
              "  </tbody>\n",
              "</table>\n",
              "</div>"
            ],
            "text/plain": [
              "              Year  Kilometers_Driven  ...  Fuel_Type_Petrol  Transmission_Manual\n",
              "count  5868.000000        5868.000000  ...       5868.000000          5868.000000\n",
              "mean   2013.474097       57268.062713  ...          0.451091             0.713701\n",
              "std       3.160473       37798.479330  ...          0.497645             0.452069\n",
              "min    1998.000000         171.000000  ...          0.000000             0.000000\n",
              "25%    2012.000000       33541.750000  ...          0.000000             0.000000\n",
              "50%    2014.000000       52609.000000  ...          0.000000             1.000000\n",
              "75%    2016.000000       72402.750000  ...          1.000000             1.000000\n",
              "max    2019.000000      775000.000000  ...          1.000000             1.000000\n",
              "\n",
              "[8 rows x 11 columns]"
            ]
          },
          "metadata": {
            "tags": []
          },
          "execution_count": 1236
        }
      ]
    },
    {
      "cell_type": "markdown",
      "metadata": {
        "id": "_ujqgxakZLBT"
      },
      "source": [
        "####外れ値を除外して'Price'の範囲を絞り込み"
      ]
    },
    {
      "cell_type": "code",
      "metadata": {
        "id": "s-wsUwRTZLBT"
      },
      "source": [
        "def histo(df,col='Price',size=(12,8),bins=100):\r\n",
        "  plt.figure(figsize=size)\r\n",
        "  plt.hist(df[col],bins=bins)\r\n",
        "  plt.xlabel(col)\r\n",
        "  plt.ylabel(\"Frequency\")\r\n",
        "  plt.title(\"Histogram of '\"+str(col)+\"'\")\r\n",
        "  plt.show()"
      ],
      "execution_count": 1237,
      "outputs": []
    },
    {
      "cell_type": "code",
      "metadata": {
        "colab": {
          "base_uri": "https://localhost:8080/",
          "height": 513
        },
        "id": "ASvloQdTM1ON",
        "outputId": "d8439914-b681-49f0-9bab-728d8923d014"
      },
      "source": [
        "histo(df)"
      ],
      "execution_count": 1238,
      "outputs": [
        {
          "output_type": "display_data",
          "data": {
            "image/png": "[encoded data removed]",
            "text/plain": [
              "<Figure size 864x576 with 1 Axes>"
            ]
          },
          "metadata": {
            "tags": []
          }
        }
      ]
    },
    {
      "cell_type": "markdown",
      "metadata": {
        "id": "NDK-R0QCDQ_v"
      },
      "source": [
        "理想的な分布ではありませんので、今回は値段の最大値を設け、高級車を除外します。\r\n",
        "\r\n",
        "'Price'が60未満のデータに絞ります。"
      ]
    },
    {
      "cell_type": "code",
      "metadata": {
        "id": "IZLa5vnINuS5",
        "colab": {
          "base_uri": "https://localhost:8080/",
          "height": 513
        },
        "outputId": "d951bb0e-2456-4f67-cc76-34d1239fbd58"
      },
      "source": [
        "df=df[df['Price']<60]\r\n",
        "histo(df)"
      ],
      "execution_count": 1239,
      "outputs": [
        {
          "output_type": "display_data",
          "data": {
            "image/png": "[encoded data removed]",
            "text/plain": [
              "<Figure size 864x576 with 1 Axes>"
            ]
          },
          "metadata": {
            "tags": []
          }
        }
      ]
    },
    {
      "cell_type": "markdown",
      "metadata": {
        "id": "TGui1-hKN2xp"
      },
      "source": [
        "まだかなり偏っているので、四分位範囲を用いてさらにデータを絞り込んでみます。\r\n",
        "\r\n",
        "まず、四分位範囲(IQR)の1.5倍を上下限として外れ値を落とす関数を作成します。"
      ]
    },
    {
      "cell_type": "code",
      "metadata": {
        "id": "KHTJpwCKN4hm"
      },
      "source": [
        "def outlier_iqr(df,columns=None):\r\n",
        "  if columns==None:\r\n",
        "    columns=df.columns #列を引数に渡さないときはすべての列で実行\r\n",
        "  \r\n",
        "  for col in columns: #列はリストで指定により複数列同時に処理可能\r\n",
        "    q1=df[col].describe()['25%']\r\n",
        "    q3=df[col].describe()['75%']\r\n",
        "    iqr=q3-q1\r\n",
        "\r\n",
        "    outlier_min=q1-iqr*1.5\r\n",
        "    outlier_max=q3+iqr*1.5\r\n",
        "\r\n",
        "    df=df[(df[col]>=outlier_min) & (df[col]<=outlier_max)]\r\n",
        "    \r\n",
        "  return df"
      ],
      "execution_count": 1240,
      "outputs": []
    },
    {
      "cell_type": "markdown",
      "metadata": {
        "id": "EpUbVH3nOEzj"
      },
      "source": [
        "上の関数を適用し、四分位範囲(IQR)の1.5倍を上下限として外れ値を落とします。 \r\n",
        "\r\n",
        "データフレームの行数や各特徴量分布の変化も確認します。\r\n",
        "\r\n"
      ]
    },
    {
      "cell_type": "code",
      "metadata": {
        "id": "_4JziP1nN7aJ",
        "colab": {
          "base_uri": "https://localhost:8080/"
        },
        "outputId": "85a61fda-6fca-4606-8aee-8d5b7e735bd0"
      },
      "source": [
        "print('before',df.shape)\r\n",
        "df =outlier_iqr( df,columns=['Price'])\r\n",
        "print('after',df.shape)"
      ],
      "execution_count": 1241,
      "outputs": [
        {
          "output_type": "stream",
          "text": [
            "before (5823, 14)\n",
            "after (5149, 14)\n"
          ],
          "name": "stdout"
        }
      ]
    },
    {
      "cell_type": "code",
      "metadata": {
        "colab": {
          "base_uri": "https://localhost:8080/",
          "height": 317
        },
        "id": "X3FK41_PGOxw",
        "outputId": "05e83a9e-0383-48f2-814f-d9987bdc1211"
      },
      "source": [
        "df.describe()"
      ],
      "execution_count": 1242,
      "outputs": [
        {
          "output_type": "execute_result",
          "data": {
            "text/html": [
              "<div>\n",
              "<style scoped>\n",
              "    .dataframe tbody tr th:only-of-type {\n",
              "        vertical-align: middle;\n",
              "    }\n",
              "\n",
              "    .dataframe tbody tr th {\n",
              "        vertical-align: top;\n",
              "    }\n",
              "\n",
              "    .dataframe thead th {\n",
              "        text-align: right;\n",
              "    }\n",
              "</style>\n",
              "<table border=\"1\" class=\"dataframe\">\n",
              "  <thead>\n",
              "    <tr style=\"text-align: right;\">\n",
              "      <th></th>\n",
              "      <th>Year</th>\n",
              "      <th>Kilometers_Driven</th>\n",
              "      <th>Owner_Type</th>\n",
              "      <th>Engine</th>\n",
              "      <th>Power</th>\n",
              "      <th>Seats</th>\n",
              "      <th>Price</th>\n",
              "      <th>Mileage_kmpd</th>\n",
              "      <th>Fuel_Type_Diesel</th>\n",
              "      <th>Fuel_Type_Petrol</th>\n",
              "      <th>Transmission_Manual</th>\n",
              "    </tr>\n",
              "  </thead>\n",
              "  <tbody>\n",
              "    <tr>\n",
              "      <th>count</th>\n",
              "      <td>5149.000000</td>\n",
              "      <td>5149.000000</td>\n",
              "      <td>5149.000000</td>\n",
              "      <td>5149.000000</td>\n",
              "      <td>5149.000000</td>\n",
              "      <td>5149.000000</td>\n",
              "      <td>5149.000000</td>\n",
              "      <td>5149.000000</td>\n",
              "      <td>5149.000000</td>\n",
              "      <td>5149.000000</td>\n",
              "      <td>5149.000000</td>\n",
              "    </tr>\n",
              "    <tr>\n",
              "      <th>mean</th>\n",
              "      <td>2013.236551</td>\n",
              "      <td>59300.812002</td>\n",
              "      <td>1.206059</td>\n",
              "      <td>1504.184502</td>\n",
              "      <td>100.046028</td>\n",
              "      <td>5.282191</td>\n",
              "      <td>6.099367</td>\n",
              "      <td>19.792519</td>\n",
              "      <td>0.487862</td>\n",
              "      <td>0.499514</td>\n",
              "      <td>0.806759</td>\n",
              "    </tr>\n",
              "    <tr>\n",
              "      <th>std</th>\n",
              "      <td>3.207105</td>\n",
              "      <td>38950.320714</td>\n",
              "      <td>0.458531</td>\n",
              "      <td>489.789254</td>\n",
              "      <td>38.022607</td>\n",
              "      <td>0.777122</td>\n",
              "      <td>3.886772</td>\n",
              "      <td>4.667108</td>\n",
              "      <td>0.499901</td>\n",
              "      <td>0.500048</td>\n",
              "      <td>0.394879</td>\n",
              "    </tr>\n",
              "    <tr>\n",
              "      <th>min</th>\n",
              "      <td>1998.000000</td>\n",
              "      <td>171.000000</td>\n",
              "      <td>1.000000</td>\n",
              "      <td>624.000000</td>\n",
              "      <td>34.200000</td>\n",
              "      <td>4.000000</td>\n",
              "      <td>0.440000</td>\n",
              "      <td>8.300000</td>\n",
              "      <td>0.000000</td>\n",
              "      <td>0.000000</td>\n",
              "      <td>0.000000</td>\n",
              "    </tr>\n",
              "    <tr>\n",
              "      <th>25%</th>\n",
              "      <td>2011.000000</td>\n",
              "      <td>35000.000000</td>\n",
              "      <td>1.000000</td>\n",
              "      <td>1197.000000</td>\n",
              "      <td>74.000000</td>\n",
              "      <td>5.000000</td>\n",
              "      <td>3.300000</td>\n",
              "      <td>16.666667</td>\n",
              "      <td>0.000000</td>\n",
              "      <td>0.000000</td>\n",
              "      <td>1.000000</td>\n",
              "    </tr>\n",
              "    <tr>\n",
              "      <th>50%</th>\n",
              "      <td>2014.000000</td>\n",
              "      <td>55000.000000</td>\n",
              "      <td>1.000000</td>\n",
              "      <td>1396.000000</td>\n",
              "      <td>88.700000</td>\n",
              "      <td>5.000000</td>\n",
              "      <td>5.100000</td>\n",
              "      <td>18.900000</td>\n",
              "      <td>0.000000</td>\n",
              "      <td>0.000000</td>\n",
              "      <td>1.000000</td>\n",
              "    </tr>\n",
              "    <tr>\n",
              "      <th>75%</th>\n",
              "      <td>2016.000000</td>\n",
              "      <td>75000.000000</td>\n",
              "      <td>1.000000</td>\n",
              "      <td>1598.000000</td>\n",
              "      <td>118.000000</td>\n",
              "      <td>5.000000</td>\n",
              "      <td>7.690000</td>\n",
              "      <td>23.077778</td>\n",
              "      <td>1.000000</td>\n",
              "      <td>1.000000</td>\n",
              "      <td>1.000000</td>\n",
              "    </tr>\n",
              "    <tr>\n",
              "      <th>max</th>\n",
              "      <td>2019.000000</td>\n",
              "      <td>775000.000000</td>\n",
              "      <td>4.000000</td>\n",
              "      <td>4806.000000</td>\n",
              "      <td>500.000000</td>\n",
              "      <td>10.000000</td>\n",
              "      <td>19.050000</td>\n",
              "      <td>31.555556</td>\n",
              "      <td>1.000000</td>\n",
              "      <td>1.000000</td>\n",
              "      <td>1.000000</td>\n",
              "    </tr>\n",
              "  </tbody>\n",
              "</table>\n",
              "</div>"
            ],
            "text/plain": [
              "              Year  Kilometers_Driven  ...  Fuel_Type_Petrol  Transmission_Manual\n",
              "count  5149.000000        5149.000000  ...       5149.000000          5149.000000\n",
              "mean   2013.236551       59300.812002  ...          0.499514             0.806759\n",
              "std       3.207105       38950.320714  ...          0.500048             0.394879\n",
              "min    1998.000000         171.000000  ...          0.000000             0.000000\n",
              "25%    2011.000000       35000.000000  ...          0.000000             1.000000\n",
              "50%    2014.000000       55000.000000  ...          0.000000             1.000000\n",
              "75%    2016.000000       75000.000000  ...          1.000000             1.000000\n",
              "max    2019.000000      775000.000000  ...          1.000000             1.000000\n",
              "\n",
              "[8 rows x 11 columns]"
            ]
          },
          "metadata": {
            "tags": []
          },
          "execution_count": 1242
        }
      ]
    },
    {
      "cell_type": "code",
      "metadata": {
        "colab": {
          "base_uri": "https://localhost:8080/",
          "height": 513
        },
        "id": "JVGF0gmKEILL",
        "outputId": "9105ab88-74ba-4fca-c7ba-647c55cbe4f9"
      },
      "source": [
        "histo(df)"
      ],
      "execution_count": 1243,
      "outputs": [
        {
          "output_type": "display_data",
          "data": {
            "image/png": "[encoded data removed]",
            "text/plain": [
              "<Figure size 864x576 with 1 Axes>"
            ]
          },
          "metadata": {
            "tags": []
          }
        }
      ]
    },
    {
      "cell_type": "markdown",
      "metadata": {
        "id": "vBdTrzijFYrR"
      },
      "source": [
        "値段の最大値が19万ルピー(27万円ほど)になり、分布の偏りがかなり改善されました。\r\n",
        "\r\n",
        "ただし、高級車の推論には使えないモデルになります。"
      ]
    },
    {
      "cell_type": "markdown",
      "metadata": {
        "id": "5ncgxf3PZLBV"
      },
      "source": [
        "##訓練データとテストデータの分割"
      ]
    },
    {
      "cell_type": "code",
      "metadata": {
        "colab": {
          "base_uri": "https://localhost:8080/",
          "height": 0
        },
        "id": "vG-HswpVZLBV",
        "outputId": "c149441b-b873-435f-f65b-9209f822ae29"
      },
      "source": [
        "df.head()"
      ],
      "execution_count": 1244,
      "outputs": [
        {
          "output_type": "execute_result",
          "data": {
            "text/html": [
              "<div>\n",
              "<style scoped>\n",
              "    .dataframe tbody tr th:only-of-type {\n",
              "        vertical-align: middle;\n",
              "    }\n",
              "\n",
              "    .dataframe tbody tr th {\n",
              "        vertical-align: top;\n",
              "    }\n",
              "\n",
              "    .dataframe thead th {\n",
              "        text-align: right;\n",
              "    }\n",
              "</style>\n",
              "<table border=\"1\" class=\"dataframe\">\n",
              "  <thead>\n",
              "    <tr style=\"text-align: right;\">\n",
              "      <th></th>\n",
              "      <th>Name</th>\n",
              "      <th>Location</th>\n",
              "      <th>Year</th>\n",
              "      <th>Kilometers_Driven</th>\n",
              "      <th>Owner_Type</th>\n",
              "      <th>Engine</th>\n",
              "      <th>Power</th>\n",
              "      <th>Seats</th>\n",
              "      <th>Price</th>\n",
              "      <th>Mileage_kmpd</th>\n",
              "      <th>Manufacturer</th>\n",
              "      <th>Fuel_Type_Diesel</th>\n",
              "      <th>Fuel_Type_Petrol</th>\n",
              "      <th>Transmission_Manual</th>\n",
              "    </tr>\n",
              "  </thead>\n",
              "  <tbody>\n",
              "    <tr>\n",
              "      <th>0</th>\n",
              "      <td>Maruti Wagon R LXI CNG</td>\n",
              "      <td>Mumbai</td>\n",
              "      <td>2010</td>\n",
              "      <td>72000</td>\n",
              "      <td>1</td>\n",
              "      <td>998.0</td>\n",
              "      <td>58.16</td>\n",
              "      <td>5.0</td>\n",
              "      <td>1.75</td>\n",
              "      <td>17.733333</td>\n",
              "      <td>Maruti</td>\n",
              "      <td>0</td>\n",
              "      <td>0</td>\n",
              "      <td>1</td>\n",
              "    </tr>\n",
              "    <tr>\n",
              "      <th>1</th>\n",
              "      <td>Hyundai Creta 1.6 CRDi SX Option</td>\n",
              "      <td>Pune</td>\n",
              "      <td>2015</td>\n",
              "      <td>41000</td>\n",
              "      <td>1</td>\n",
              "      <td>1582.0</td>\n",
              "      <td>126.20</td>\n",
              "      <td>5.0</td>\n",
              "      <td>12.50</td>\n",
              "      <td>21.855556</td>\n",
              "      <td>Hyundai</td>\n",
              "      <td>1</td>\n",
              "      <td>0</td>\n",
              "      <td>1</td>\n",
              "    </tr>\n",
              "    <tr>\n",
              "      <th>2</th>\n",
              "      <td>Honda Jazz V</td>\n",
              "      <td>Chennai</td>\n",
              "      <td>2011</td>\n",
              "      <td>46000</td>\n",
              "      <td>1</td>\n",
              "      <td>1199.0</td>\n",
              "      <td>88.70</td>\n",
              "      <td>5.0</td>\n",
              "      <td>4.50</td>\n",
              "      <td>18.200000</td>\n",
              "      <td>Honda</td>\n",
              "      <td>0</td>\n",
              "      <td>1</td>\n",
              "      <td>1</td>\n",
              "    </tr>\n",
              "    <tr>\n",
              "      <th>3</th>\n",
              "      <td>Maruti Ertiga VDI</td>\n",
              "      <td>Chennai</td>\n",
              "      <td>2012</td>\n",
              "      <td>87000</td>\n",
              "      <td>1</td>\n",
              "      <td>1248.0</td>\n",
              "      <td>88.76</td>\n",
              "      <td>7.0</td>\n",
              "      <td>6.00</td>\n",
              "      <td>23.077778</td>\n",
              "      <td>Maruti</td>\n",
              "      <td>1</td>\n",
              "      <td>0</td>\n",
              "      <td>1</td>\n",
              "    </tr>\n",
              "    <tr>\n",
              "      <th>4</th>\n",
              "      <td>Audi A4 New 2.0 TDI Multitronic</td>\n",
              "      <td>Coimbatore</td>\n",
              "      <td>2013</td>\n",
              "      <td>40670</td>\n",
              "      <td>2</td>\n",
              "      <td>1968.0</td>\n",
              "      <td>140.80</td>\n",
              "      <td>5.0</td>\n",
              "      <td>17.74</td>\n",
              "      <td>16.888889</td>\n",
              "      <td>Audi</td>\n",
              "      <td>1</td>\n",
              "      <td>0</td>\n",
              "      <td>0</td>\n",
              "    </tr>\n",
              "  </tbody>\n",
              "</table>\n",
              "</div>"
            ],
            "text/plain": [
              "                               Name  ... Transmission_Manual\n",
              "0            Maruti Wagon R LXI CNG  ...                   1\n",
              "1  Hyundai Creta 1.6 CRDi SX Option  ...                   1\n",
              "2                      Honda Jazz V  ...                   1\n",
              "3                 Maruti Ertiga VDI  ...                   1\n",
              "4   Audi A4 New 2.0 TDI Multitronic  ...                   0\n",
              "\n",
              "[5 rows x 14 columns]"
            ]
          },
          "metadata": {
            "tags": []
          },
          "execution_count": 1244
        }
      ]
    },
    {
      "cell_type": "markdown",
      "metadata": {
        "id": "lCPMpHrXZLBV"
      },
      "source": [
        "train_test_splitを用いてランダムに訓練データとテストデータを分割します。\r\n",
        "\r\n",
        "特徴量を持つpd.DataFrameをX、目的変数である正解ラベルを持つpd.Seriesをyとします。"
      ]
    },
    {
      "cell_type": "code",
      "metadata": {
        "id": "2nHqiZPIZLBV"
      },
      "source": [
        "X=df.drop(columns=['Name','Price'])\r\n",
        "y=df['Price']\r\n",
        "\r\n",
        "from sklearn.model_selection import train_test_split\r\n",
        "X_train,X_test,y_train,y_test=train_test_split(X,y,test_size=0.2,random_state=0)\r\n"
      ],
      "execution_count": 1245,
      "outputs": []
    },
    {
      "cell_type": "markdown",
      "metadata": {
        "id": "PpMbj4fYZLBW"
      },
      "source": [
        "##'Manufacturer','Location'のTarget Encoding"
      ]
    },
    {
      "cell_type": "markdown",
      "metadata": {
        "id": "RvXaMEn1ZLBW"
      },
      "source": [
        "後回しにしていた'Manufacturer','Location'のTarget Encodingを行います。\r\n",
        "\r\n",
        "Leakageを避けるため、各グループ(各メーカーや各地域)内の値段の平均を訓練データから求め、それを用いて訓練データもテストデータもエンコーディングする関数を作ります。\r\n",
        "\r\n",
        "テストデータに「訓練データにはないグループ（車種や地域）」が含まれていた場合は訓練データ全体の'Price'の平均でエンコーディングすることにします。"
      ]
    },
    {
      "cell_type": "code",
      "metadata": {
        "id": "YfW3a4CXQnVT"
      },
      "source": [
        "def target_encoder(X_train,X_test,y_train,y_test,col,label='Price'):\r\n",
        "  train=pd.concat([X_train,y_train],axis=1)\r\n",
        "  test=pd.concat([X_test,y_test],axis=1)   #一度特徴量と目的変数の列を連結\r\n",
        "\r\n",
        "  train[str(col)+'_code']=train.groupby(col).transform(np.mean)[label]  #訓練データから求めた各グループの'Price'の平均で訓練データをエンコ-ディング\r\n",
        "  agg_seri=train.groupby(col).agg(np.mean)[label]  #訓練データから求めた各グループの'Price'の平均を表にしたもの(indexはグループラベル文字列)\r\n",
        "  print(agg_seri) #エンコーディングの際の対応表を確認\r\n",
        "\r\n",
        "  test[str(col)+'_code']=test[col]\r\n",
        "  na_list=[]\r\n",
        "  \r\n",
        "  for i in test[col].unique():\r\n",
        "    if i in agg_seri.index:\r\n",
        "      test[str(col)+'_code']=test[str(col)+'_code'].str.replace(i ,str(agg_seri[i]))  #訓練データから求めた各グループの平均でテストデータをエンコ-ディング\r\n",
        "    else:\r\n",
        "      na_list.append(i)\r\n",
        "      test[str(col)+'_code']=test[str(col)+'_code'].str.replace(i ,str(train[label].mean()))   #テストデータに存在し、訓練データにはなかったグループには仕方ないので訓練データ全体の'Price'の平均を適用\r\n",
        "  \"\"\"\r\n",
        "  #代替アルゴリズム\r\n",
        "  for i in test.index:\r\n",
        "    colstr=test.at[i,str(col)+'_code']\r\n",
        "    if colstr in agg_seri.index:\r\n",
        "      test.at[i,str(col)+'_code']=agg_seri[colstr]\r\n",
        "    elif colstr in na_list:\r\n",
        "      test.at[i,str(col)+'_code']=train[label].mean()\r\n",
        "    else:\r\n",
        "      na_list.append(colstr)\r\n",
        "      test.at[i,str(col)+'_code']=train[label].mean()\r\n",
        "  \"\"\"\r\n",
        "\r\n",
        "  test[str(col)+'_code']=test[str(col)+'_code'].astype(float)\r\n",
        "  if len(na_list)>0:\r\n",
        "    print(na_list,\"グループは訓練データに含まれず、訓練データ全体の'\"+label+\"'の平均\",train[label].mean(),\" を適用\")\r\n",
        "\r\n",
        "  X_train_re=train.drop(columns=[col,y_train.name])\r\n",
        "  y_train_re=train[y_train.name]\r\n",
        "  X_test_re=test.drop(columns=[col,y_test.name])\r\n",
        "  y_test_re=test[y_test.name]\r\n",
        "  train_re=pd.concat([X_train_re,y_train_re],axis=1)\r\n",
        "  test_re=pd.concat([X_test_re,y_test_re],axis=1)\r\n",
        "  X_re=pd.concat([X_train_re,X_test_re],axis=0)\r\n",
        "  y_re=pd.concat([y_train_re,y_test_re],axis=0)\r\n",
        "  df_re=pd.concat([X_re,y_re],axis=1)\r\n",
        "\r\n",
        "  return df_re,X_re,y_re,train_re,test_re,X_train_re,X_test_re,y_train_re,y_test_re"
      ],
      "execution_count": 1246,
      "outputs": []
    },
    {
      "cell_type": "markdown",
      "metadata": {
        "id": "OxzFmpUnZLBW"
      },
      "source": [
        "'Manufacturer','Location'のTarget Encodingを実行します。"
      ]
    },
    {
      "cell_type": "code",
      "metadata": {
        "colab": {
          "base_uri": "https://localhost:8080/"
        },
        "id": "EwVx2v0UZLBW",
        "outputId": "66572138-1cd5-4c33-8f03-b9fa6a2ae2fd"
      },
      "source": [
        "df,X,y,train,test,X_train,X_test,y_train,y_test=target_encoder(X_train,X_test,y_train,y_test,'Manufacturer')"
      ],
      "execution_count": 1247,
      "outputs": [
        {
          "output_type": "stream",
          "text": [
            "Manufacturer\n",
            "Ambassador        1.350000\n",
            "Audi             14.062787\n",
            "BMW              13.348065\n",
            "Chevrolet         3.075957\n",
            "Datsun            3.007000\n",
            "Fiat              3.112778\n",
            "Force             9.333333\n",
            "Ford              5.015367\n",
            "Honda             5.510714\n",
            "Hyundai           5.489545\n",
            "Isuzu            12.045000\n",
            "Jaguar           16.290000\n",
            "Jeep             17.525000\n",
            "Land             15.826000\n",
            "Mahindra          8.011719\n",
            "Maruti            4.531959\n",
            "Mercedes-Benz    12.742430\n",
            "Mitsubishi        8.537143\n",
            "Nissan            4.764306\n",
            "Porsche           8.260000\n",
            "Renault           5.796754\n",
            "Skoda             7.129030\n",
            "Tata              3.576792\n",
            "Toyota            9.292500\n",
            "Volkswagen        5.182099\n",
            "Volvo            14.627000\n",
            "Name: Price, dtype: float64\n",
            "['Mini'] グループは訓練データに含まれず、訓練データ全体の'Price'の平均 6.108472930322935  を適用\n"
          ],
          "name": "stdout"
        }
      ]
    },
    {
      "cell_type": "code",
      "metadata": {
        "colab": {
          "base_uri": "https://localhost:8080/"
        },
        "id": "3KrPNZX_ZLBX",
        "outputId": "bb937f18-2b14-4b4b-d9de-8b372b644548"
      },
      "source": [
        "df,X,y,train,test,X_train,X_test,y_train,y_test=target_encoder(X_train,X_test,y_train,y_test,'Location')"
      ],
      "execution_count": 1248,
      "outputs": [
        {
          "output_type": "stream",
          "text": [
            "Location\n",
            "Ahmedabad     6.805697\n",
            "Bangalore     7.008077\n",
            "Chennai       5.416480\n",
            "Coimbatore    7.975818\n",
            "Delhi         6.324605\n",
            "Hyderabad     6.027090\n",
            "Jaipur        4.881975\n",
            "Kochi         7.086644\n",
            "Kolkata       4.694541\n",
            "Mumbai        6.223249\n",
            "Pune          5.409717\n",
            "Name: Price, dtype: float64\n"
          ],
          "name": "stdout"
        }
      ]
    },
    {
      "cell_type": "markdown",
      "metadata": {
        "id": "L7YLCgAsZLBX"
      },
      "source": [
        "##今回はXGBoostを用いるので標準化は行わず、PCAも今回は行わないことにします。"
      ]
    },
    {
      "cell_type": "markdown",
      "metadata": {
        "id": "xdonu2SSZLBX"
      },
      "source": [
        "##モデル構築"
      ]
    },
    {
      "cell_type": "markdown",
      "metadata": {
        "id": "0At5E8sTZLBX"
      },
      "source": [
        "###データ構造の確認"
      ]
    },
    {
      "cell_type": "code",
      "metadata": {
        "colab": {
          "base_uri": "https://localhost:8080/",
          "height": 0
        },
        "id": "t5--gjHYZLBX",
        "outputId": "a69ca639-6979-4053-cd0d-1b0acbd18f56"
      },
      "source": [
        "train.head()"
      ],
      "execution_count": 1249,
      "outputs": [
        {
          "output_type": "execute_result",
          "data": {
            "text/html": [
              "<div>\n",
              "<style scoped>\n",
              "    .dataframe tbody tr th:only-of-type {\n",
              "        vertical-align: middle;\n",
              "    }\n",
              "\n",
              "    .dataframe tbody tr th {\n",
              "        vertical-align: top;\n",
              "    }\n",
              "\n",
              "    .dataframe thead th {\n",
              "        text-align: right;\n",
              "    }\n",
              "</style>\n",
              "<table border=\"1\" class=\"dataframe\">\n",
              "  <thead>\n",
              "    <tr style=\"text-align: right;\">\n",
              "      <th></th>\n",
              "      <th>Year</th>\n",
              "      <th>Kilometers_Driven</th>\n",
              "      <th>Owner_Type</th>\n",
              "      <th>Engine</th>\n",
              "      <th>Power</th>\n",
              "      <th>Seats</th>\n",
              "      <th>Mileage_kmpd</th>\n",
              "      <th>Fuel_Type_Diesel</th>\n",
              "      <th>Fuel_Type_Petrol</th>\n",
              "      <th>Transmission_Manual</th>\n",
              "      <th>Manufacturer_code</th>\n",
              "      <th>Location_code</th>\n",
              "      <th>Price</th>\n",
              "    </tr>\n",
              "  </thead>\n",
              "  <tbody>\n",
              "    <tr>\n",
              "      <th>4872</th>\n",
              "      <td>2008</td>\n",
              "      <td>50000</td>\n",
              "      <td>1</td>\n",
              "      <td>1396.0</td>\n",
              "      <td>53.5</td>\n",
              "      <td>5.0</td>\n",
              "      <td>19.111111</td>\n",
              "      <td>1</td>\n",
              "      <td>0</td>\n",
              "      <td>1</td>\n",
              "      <td>3.576792</td>\n",
              "      <td>4.694541</td>\n",
              "      <td>0.85</td>\n",
              "    </tr>\n",
              "    <tr>\n",
              "      <th>821</th>\n",
              "      <td>2011</td>\n",
              "      <td>47000</td>\n",
              "      <td>2</td>\n",
              "      <td>2143.0</td>\n",
              "      <td>203.0</td>\n",
              "      <td>5.0</td>\n",
              "      <td>15.788889</td>\n",
              "      <td>1</td>\n",
              "      <td>0</td>\n",
              "      <td>0</td>\n",
              "      <td>12.742430</td>\n",
              "      <td>6.223249</td>\n",
              "      <td>13.90</td>\n",
              "    </tr>\n",
              "    <tr>\n",
              "      <th>5658</th>\n",
              "      <td>2006</td>\n",
              "      <td>85000</td>\n",
              "      <td>2</td>\n",
              "      <td>1299.0</td>\n",
              "      <td>70.0</td>\n",
              "      <td>5.0</td>\n",
              "      <td>13.800000</td>\n",
              "      <td>0</td>\n",
              "      <td>1</td>\n",
              "      <td>1</td>\n",
              "      <td>5.015367</td>\n",
              "      <td>5.409717</td>\n",
              "      <td>0.69</td>\n",
              "    </tr>\n",
              "    <tr>\n",
              "      <th>5184</th>\n",
              "      <td>2016</td>\n",
              "      <td>18000</td>\n",
              "      <td>1</td>\n",
              "      <td>1498.0</td>\n",
              "      <td>97.7</td>\n",
              "      <td>5.0</td>\n",
              "      <td>16.950000</td>\n",
              "      <td>0</td>\n",
              "      <td>1</td>\n",
              "      <td>1</td>\n",
              "      <td>4.764306</td>\n",
              "      <td>5.416480</td>\n",
              "      <td>7.50</td>\n",
              "    </tr>\n",
              "    <tr>\n",
              "      <th>1052</th>\n",
              "      <td>2010</td>\n",
              "      <td>49000</td>\n",
              "      <td>1</td>\n",
              "      <td>2143.0</td>\n",
              "      <td>170.0</td>\n",
              "      <td>5.0</td>\n",
              "      <td>21.411111</td>\n",
              "      <td>1</td>\n",
              "      <td>0</td>\n",
              "      <td>0</td>\n",
              "      <td>12.742430</td>\n",
              "      <td>6.223249</td>\n",
              "      <td>8.95</td>\n",
              "    </tr>\n",
              "  </tbody>\n",
              "</table>\n",
              "</div>"
            ],
            "text/plain": [
              "      Year  Kilometers_Driven  ...  Location_code  Price\n",
              "4872  2008              50000  ...       4.694541   0.85\n",
              "821   2011              47000  ...       6.223249  13.90\n",
              "5658  2006              85000  ...       5.409717   0.69\n",
              "5184  2016              18000  ...       5.416480   7.50\n",
              "1052  2010              49000  ...       6.223249   8.95\n",
              "\n",
              "[5 rows x 13 columns]"
            ]
          },
          "metadata": {
            "tags": []
          },
          "execution_count": 1249
        }
      ]
    },
    {
      "cell_type": "code",
      "metadata": {
        "colab": {
          "base_uri": "https://localhost:8080/",
          "height": 0
        },
        "id": "FZnx5o1EZLBX",
        "outputId": "49956ebf-ced6-4fd5-f6f0-939f08e10718"
      },
      "source": [
        "test.head()"
      ],
      "execution_count": 1250,
      "outputs": [
        {
          "output_type": "execute_result",
          "data": {
            "text/html": [
              "<div>\n",
              "<style scoped>\n",
              "    .dataframe tbody tr th:only-of-type {\n",
              "        vertical-align: middle;\n",
              "    }\n",
              "\n",
              "    .dataframe tbody tr th {\n",
              "        vertical-align: top;\n",
              "    }\n",
              "\n",
              "    .dataframe thead th {\n",
              "        text-align: right;\n",
              "    }\n",
              "</style>\n",
              "<table border=\"1\" class=\"dataframe\">\n",
              "  <thead>\n",
              "    <tr style=\"text-align: right;\">\n",
              "      <th></th>\n",
              "      <th>Year</th>\n",
              "      <th>Kilometers_Driven</th>\n",
              "      <th>Owner_Type</th>\n",
              "      <th>Engine</th>\n",
              "      <th>Power</th>\n",
              "      <th>Seats</th>\n",
              "      <th>Mileage_kmpd</th>\n",
              "      <th>Fuel_Type_Diesel</th>\n",
              "      <th>Fuel_Type_Petrol</th>\n",
              "      <th>Transmission_Manual</th>\n",
              "      <th>Manufacturer_code</th>\n",
              "      <th>Location_code</th>\n",
              "      <th>Price</th>\n",
              "    </tr>\n",
              "  </thead>\n",
              "  <tbody>\n",
              "    <tr>\n",
              "      <th>4169</th>\n",
              "      <td>2018</td>\n",
              "      <td>6279</td>\n",
              "      <td>1</td>\n",
              "      <td>799.0</td>\n",
              "      <td>53.64</td>\n",
              "      <td>5.0</td>\n",
              "      <td>22.700000</td>\n",
              "      <td>0</td>\n",
              "      <td>1</td>\n",
              "      <td>1</td>\n",
              "      <td>3.007000</td>\n",
              "      <td>7.086644</td>\n",
              "      <td>3.60</td>\n",
              "    </tr>\n",
              "    <tr>\n",
              "      <th>4249</th>\n",
              "      <td>2014</td>\n",
              "      <td>98000</td>\n",
              "      <td>1</td>\n",
              "      <td>1248.0</td>\n",
              "      <td>74.00</td>\n",
              "      <td>5.0</td>\n",
              "      <td>25.444444</td>\n",
              "      <td>1</td>\n",
              "      <td>0</td>\n",
              "      <td>1</td>\n",
              "      <td>4.531959</td>\n",
              "      <td>7.008077</td>\n",
              "      <td>6.10</td>\n",
              "    </tr>\n",
              "    <tr>\n",
              "      <th>3960</th>\n",
              "      <td>2018</td>\n",
              "      <td>41641</td>\n",
              "      <td>1</td>\n",
              "      <td>1396.0</td>\n",
              "      <td>88.70</td>\n",
              "      <td>5.0</td>\n",
              "      <td>23.755556</td>\n",
              "      <td>1</td>\n",
              "      <td>0</td>\n",
              "      <td>1</td>\n",
              "      <td>5.489545</td>\n",
              "      <td>7.086644</td>\n",
              "      <td>10.82</td>\n",
              "    </tr>\n",
              "    <tr>\n",
              "      <th>3959</th>\n",
              "      <td>2016</td>\n",
              "      <td>64000</td>\n",
              "      <td>1</td>\n",
              "      <td>998.0</td>\n",
              "      <td>67.04</td>\n",
              "      <td>5.0</td>\n",
              "      <td>23.100000</td>\n",
              "      <td>0</td>\n",
              "      <td>1</td>\n",
              "      <td>0</td>\n",
              "      <td>4.531959</td>\n",
              "      <td>5.409717</td>\n",
              "      <td>4.20</td>\n",
              "    </tr>\n",
              "    <tr>\n",
              "      <th>4174</th>\n",
              "      <td>2014</td>\n",
              "      <td>36631</td>\n",
              "      <td>1</td>\n",
              "      <td>1198.0</td>\n",
              "      <td>86.80</td>\n",
              "      <td>5.0</td>\n",
              "      <td>16.500000</td>\n",
              "      <td>0</td>\n",
              "      <td>1</td>\n",
              "      <td>0</td>\n",
              "      <td>5.510714</td>\n",
              "      <td>6.223249</td>\n",
              "      <td>4.30</td>\n",
              "    </tr>\n",
              "  </tbody>\n",
              "</table>\n",
              "</div>"
            ],
            "text/plain": [
              "      Year  Kilometers_Driven  ...  Location_code  Price\n",
              "4169  2018               6279  ...       7.086644   3.60\n",
              "4249  2014              98000  ...       7.008077   6.10\n",
              "3960  2018              41641  ...       7.086644  10.82\n",
              "3959  2016              64000  ...       5.409717   4.20\n",
              "4174  2014              36631  ...       6.223249   4.30\n",
              "\n",
              "[5 rows x 13 columns]"
            ]
          },
          "metadata": {
            "tags": []
          },
          "execution_count": 1250
        }
      ]
    },
    {
      "cell_type": "code",
      "metadata": {
        "colab": {
          "base_uri": "https://localhost:8080/"
        },
        "id": "WxlJpRq8ZLBY",
        "outputId": "10d015d0-7768-41b2-8f05-cabb4adbbbd5"
      },
      "source": [
        "train.info()"
      ],
      "execution_count": 1251,
      "outputs": [
        {
          "output_type": "stream",
          "text": [
            "<class 'pandas.core.frame.DataFrame'>\n",
            "Int64Index: 4119 entries, 4872 to 3222\n",
            "Data columns (total 13 columns):\n",
            " #   Column               Non-Null Count  Dtype  \n",
            "---  ------               --------------  -----  \n",
            " 0   Year                 4119 non-null   int64  \n",
            " 1   Kilometers_Driven    4119 non-null   int64  \n",
            " 2   Owner_Type           4119 non-null   int64  \n",
            " 3   Engine               4119 non-null   float64\n",
            " 4   Power                4119 non-null   float64\n",
            " 5   Seats                4119 non-null   float64\n",
            " 6   Mileage_kmpd         4119 non-null   float64\n",
            " 7   Fuel_Type_Diesel     4119 non-null   uint8  \n",
            " 8   Fuel_Type_Petrol     4119 non-null   uint8  \n",
            " 9   Transmission_Manual  4119 non-null   uint8  \n",
            " 10  Manufacturer_code    4119 non-null   float64\n",
            " 11  Location_code        4119 non-null   float64\n",
            " 12  Price                4119 non-null   float64\n",
            "dtypes: float64(7), int64(3), uint8(3)\n",
            "memory usage: 366.0 KB\n"
          ],
          "name": "stdout"
        }
      ]
    },
    {
      "cell_type": "code",
      "metadata": {
        "colab": {
          "base_uri": "https://localhost:8080/"
        },
        "id": "cZwU0lJbB0Fj",
        "outputId": "2391896a-b80e-4806-d732-d834208a8791"
      },
      "source": [
        "test.info()"
      ],
      "execution_count": 1252,
      "outputs": [
        {
          "output_type": "stream",
          "text": [
            "<class 'pandas.core.frame.DataFrame'>\n",
            "Int64Index: 1030 entries, 4169 to 3952\n",
            "Data columns (total 13 columns):\n",
            " #   Column               Non-Null Count  Dtype  \n",
            "---  ------               --------------  -----  \n",
            " 0   Year                 1030 non-null   int64  \n",
            " 1   Kilometers_Driven    1030 non-null   int64  \n",
            " 2   Owner_Type           1030 non-null   int64  \n",
            " 3   Engine               1030 non-null   float64\n",
            " 4   Power                1030 non-null   float64\n",
            " 5   Seats                1030 non-null   float64\n",
            " 6   Mileage_kmpd         1030 non-null   float64\n",
            " 7   Fuel_Type_Diesel     1030 non-null   uint8  \n",
            " 8   Fuel_Type_Petrol     1030 non-null   uint8  \n",
            " 9   Transmission_Manual  1030 non-null   uint8  \n",
            " 10  Manufacturer_code    1030 non-null   float64\n",
            " 11  Location_code        1030 non-null   float64\n",
            " 12  Price                1030 non-null   float64\n",
            "dtypes: float64(7), int64(3), uint8(3)\n",
            "memory usage: 91.5 KB\n"
          ],
          "name": "stdout"
        }
      ]
    },
    {
      "cell_type": "markdown",
      "metadata": {
        "id": "tXaBCmy2ZLBY"
      },
      "source": [
        "特徴量が多いですが、学習できる形になっているので今回はこのまま学習を行います。"
      ]
    },
    {
      "cell_type": "markdown",
      "metadata": {
        "id": "lfutQ2K_ZLBY"
      },
      "source": [
        "###モデルの学習"
      ]
    },
    {
      "cell_type": "markdown",
      "metadata": {
        "id": "KHM8hE_gZLBY"
      },
      "source": [
        "特徴量X_trainと目的変数y_trainを用いて学習を行います。\r\n",
        "\r\n",
        "引数max_depthの値の決定については後述のmax_depthとMAEのグラフを参考にしています。"
      ]
    },
    {
      "cell_type": "code",
      "metadata": {
        "colab": {
          "base_uri": "https://localhost:8080/"
        },
        "id": "zJCavR7xZLBY",
        "outputId": "60361e9d-4d81-475b-98c6-8c323f848e71"
      },
      "source": [
        "import xgboost\r\n",
        "\r\n",
        "xgb=xgboost.XGBRegressor(max_depth=8) \r\n",
        "\r\n",
        "xgb.fit(X_train,y_train)"
      ],
      "execution_count": 1253,
      "outputs": [
        {
          "output_type": "stream",
          "text": [
            "[12:39:10] WARNING: /workspace/src/objective/regression_obj.cu:152: reg:linear is now deprecated in favor of reg:squarederror.\n"
          ],
          "name": "stdout"
        },
        {
          "output_type": "execute_result",
          "data": {
            "text/plain": [
              "XGBRegressor(base_score=0.5, booster='gbtree', colsample_bylevel=1,\n",
              "             colsample_bynode=1, colsample_bytree=1, gamma=0,\n",
              "             importance_type='gain', learning_rate=0.1, max_delta_step=0,\n",
              "             max_depth=8, min_child_weight=1, missing=None, n_estimators=100,\n",
              "             n_jobs=1, nthread=None, objective='reg:linear', random_state=0,\n",
              "             reg_alpha=0, reg_lambda=1, scale_pos_weight=1, seed=None,\n",
              "             silent=None, subsample=1, verbosity=1)"
            ]
          },
          "metadata": {
            "tags": []
          },
          "execution_count": 1253
        }
      ]
    },
    {
      "cell_type": "markdown",
      "metadata": {
        "id": "AJkEY3jVZLBZ"
      },
      "source": [
        "###モデルの推論と検証"
      ]
    },
    {
      "cell_type": "markdown",
      "metadata": {
        "id": "kiVN0Tt8ZLBZ"
      },
      "source": [
        "学習したモデルを用いて推論を行い、平均絶対誤差(MAE)を表示させます。"
      ]
    },
    {
      "cell_type": "code",
      "metadata": {
        "colab": {
          "base_uri": "https://localhost:8080/"
        },
        "id": "KyiXK5PkZLBZ",
        "outputId": "20732cd8-cb86-49ed-a75f-d8fdc7e5228e"
      },
      "source": [
        "from sklearn.metrics import mean_absolute_error\r\n",
        "\r\n",
        "y_train_pred=xgb.predict(X_train)\r\n",
        "print('trainMAE',mean_absolute_error(y_train,y_train_pred))\r\n",
        "y_test_pred=xgb.predict(X_test)\r\n",
        "print('testMAE',mean_absolute_error(y_test,y_test_pred))\r\n"
      ],
      "execution_count": 1254,
      "outputs": [
        {
          "output_type": "stream",
          "text": [
            "trainMAE 0.2714428745777059\n",
            "testMAE 0.6900816730179832\n"
          ],
          "name": "stdout"
        }
      ]
    },
    {
      "cell_type": "markdown",
      "metadata": {
        "id": "S3vTdCNdZLBZ"
      },
      "source": [
        "テストデータにおいて平均して7万ルピーほどの誤差が出ています。\r\n",
        "\r\n",
        "当たり前ですが、高級車を除外しなかった場合に比べて大幅に改善しています。\r\n",
        "\r\n",
        "平均絶対誤差率(MAPE)(%)で表示してみます。"
      ]
    },
    {
      "cell_type": "code",
      "metadata": {
        "colab": {
          "base_uri": "https://localhost:8080/"
        },
        "id": "60j9FnxUZLBZ",
        "outputId": "931a233c-45a9-41ac-a6ea-7b5495cb2a26"
      },
      "source": [
        "print('trainMAPE',np.mean(np.abs((y_train_pred - y_train) / y_train)) * 100)\r\n",
        "print('testMAPE',np.mean(np.abs((y_test_pred - y_test) / y_test)) * 100)"
      ],
      "execution_count": 1255,
      "outputs": [
        {
          "output_type": "stream",
          "text": [
            "trainMAPE 5.5789978612334865\n",
            "testMAPE 12.018597579176314\n"
          ],
          "name": "stdout"
        }
      ]
    },
    {
      "cell_type": "markdown",
      "metadata": {
        "id": "aZcu_L3CZLBa"
      },
      "source": [
        "MAPEのほうは高級車を除外しなかった場合に比べて1ポイントほどしか改善していません。"
      ]
    },
    {
      "cell_type": "markdown",
      "metadata": {
        "id": "opw56U5pZLBa"
      },
      "source": [
        "残差プロットを表示させます。灰色の線は補助線です"
      ]
    },
    {
      "cell_type": "code",
      "metadata": {
        "colab": {
          "base_uri": "https://localhost:8080/",
          "height": 606
        },
        "id": "pGTC9i-eZLBa",
        "outputId": "8696458e-04ff-4239-83b3-d1343fff1cc5"
      },
      "source": [
        "plt.figure(figsize=(10,10))\r\n",
        "plt.scatter(y_train_pred,(y_train_pred-y_train),c='red',label='training data',s=2)\r\n",
        "plt.scatter(y_test_pred,(y_test_pred-y_test),c='blue',label='test data',s=2)\r\n",
        "plt.hlines(y=0,xmin=0,xmax=20,color='black') \r\n",
        "x1=np.linspace(0, 10, 100)\r\n",
        "x2=np.linspace(0, 10, 100)\r\n",
        "plt.plot(x1, x1,c=\"gray\")\r\n",
        "plt.plot(x2, -x2,c=\"gray\")\r\n",
        "plt.legend(loc='upper left')                                                                     \r\n",
        "plt.xlabel('Predicted values(10⁵INR)')\r\n",
        "plt.ylabel('Residuals(10⁵INR)')\r\n",
        "plt.show()"
      ],
      "execution_count": 1256,
      "outputs": [
        {
          "output_type": "display_data",
          "data": {
            "image/png": "[encoded data removed]",
            "text/plain": [
              "<Figure size 720x720 with 1 Axes>"
            ]
          },
          "metadata": {
            "tags": []
          }
        }
      ]
    },
    {
      "cell_type": "markdown",
      "metadata": {
        "id": "8XpRKvoPSLAS"
      },
      "source": [
        "高級車を除外しなかったときに値段の低い領域のみ表示したときと同じ領域を表示してみます。"
      ]
    },
    {
      "cell_type": "code",
      "metadata": {
        "colab": {
          "base_uri": "https://localhost:8080/",
          "height": 497
        },
        "id": "D0SB1jmkZLBa",
        "outputId": "c8751401-554e-4249-fce1-2b7f9ddc1061"
      },
      "source": [
        "plt.figure(figsize=(16,8))\r\n",
        "plt.scatter(y_train_pred,(y_train_pred-y_train),c='red',label='training data',s=2)\r\n",
        "plt.scatter(y_test_pred,(y_test_pred-y_test),c='blue',label='test data',s=2)\r\n",
        "plt.hlines(y=0,xmin=0,xmax=100,color='black') \r\n",
        "x1=np.linspace(0, 20, 100)\r\n",
        "x2=np.linspace(0, 30, 100)\r\n",
        "plt.plot(x1, x1,c=\"gray\")\r\n",
        "plt.plot(x2, -x2,c=\"gray\")\r\n",
        "plt.legend(loc='upper left')                                                                     \r\n",
        "plt.xlabel('Predicted values(10⁵INR)')\r\n",
        "plt.ylabel('Residuals(10⁵INR)')\r\n",
        "plt.xlim(0,10)\r\n",
        "plt.ylim(-5,5)\r\n",
        "plt.show()"
      ],
      "execution_count": 1257,
      "outputs": [
        {
          "output_type": "display_data",
          "data": {
            "image/png": "[encoded data removed]",
            "text/plain": [
              "<Figure size 1152x576 with 1 Axes>"
            ]
          },
          "metadata": {
            "tags": []
          }
        }
      ]
    },
    {
      "cell_type": "markdown",
      "metadata": {
        "id": "Od__G7n3ZLBb"
      },
      "source": [
        "残差プロットが無相関である、つまり系統誤差が見られないので、良い結果です。\r\n",
        "\r\n",
        "高級車を除外しなかったときに比べて多少誤差の少ない範囲に集まっているのがわかります。\r\n",
        "\r\n",
        "ただ、テストデータの結果について期待したほど改善されませんでした。"
      ]
    },
    {
      "cell_type": "markdown",
      "metadata": {
        "id": "w-kC-Yg5ZLBb"
      },
      "source": [
        "引数max_depthとMAE,MAPEの関係をグラフにしてみます。"
      ]
    },
    {
      "cell_type": "code",
      "metadata": {
        "colab": {
          "base_uri": "https://localhost:8080/",
          "height": 1000
        },
        "id": "OUZohIf0ZLBb",
        "outputId": "4b26696d-299f-4302-f6fd-57b9ca5f3da7"
      },
      "source": [
        "max=14\r\n",
        "trainMAE=[]\r\n",
        "testMAE=[]\r\n",
        "trainMAPE=[]\r\n",
        "testMAPE=[]\r\n",
        "for i in range(3,max):\r\n",
        "  xgb_gra=xgboost.XGBRegressor(max_depth=i) \r\n",
        "  xgb_gra.fit(X_train,y_train)\r\n",
        "  y_train_pred_gra=xgb_gra.predict(X_train)\r\n",
        "  y_test_pred_gra=xgb_gra.predict(X_test)\r\n",
        "  trainMAE.append(mean_absolute_error(y_train,y_train_pred_gra))\r\n",
        "  testMAE.append(mean_absolute_error(y_test,y_test_pred_gra))\r\n",
        "  trainMAPE.append(np.mean(np.abs((y_train_pred_gra - y_train) / y_train)) * 100)\r\n",
        "  testMAPE.append(np.mean(np.abs((y_test_pred_gra - y_test) / y_test)) * 100)\r\n",
        "plt.figure(figsize=(8,8))\r\n",
        "plt.plot(np.arange(3,max), np.array(trainMAE),marker=\"o\",color=\"pink\",label='trainMAE')\r\n",
        "plt.plot(np.arange(3,max), np.array(testMAE),marker=\"o\",color=\"red\",label='testMAE')\r\n",
        "plt.legend(loc='lower left')                                                                     \r\n",
        "plt.xlabel('max_depth')\r\n",
        "plt.ylabel('MAE(10⁵INR)')\r\n",
        "plt.show()\r\n",
        "\r\n",
        "plt.figure(figsize=(8,8))\r\n",
        "plt.plot(np.arange(3,max), np.array(trainMAPE),marker=\"^\",color=\"skyblue\",label='trainMAPE')\r\n",
        "plt.plot(np.arange(3,max), np.array(testMAPE),marker=\"^\",color=\"blue\",label='testMAPE')\r\n",
        "plt.legend(loc='lower left')                                                                     \r\n",
        "plt.xlabel('max_depth')\r\n",
        "plt.ylabel('MAPE(%)')\r\n",
        "plt.show()\r\n",
        "\r\n"
      ],
      "execution_count": 1258,
      "outputs": [
        {
          "output_type": "stream",
          "text": [
            "[12:39:12] WARNING: /workspace/src/objective/regression_obj.cu:152: reg:linear is now deprecated in favor of reg:squarederror.\n",
            "[12:39:12] WARNING: /workspace/src/objective/regression_obj.cu:152: reg:linear is now deprecated in favor of reg:squarederror.\n",
            "[12:39:13] WARNING: /workspace/src/objective/regression_obj.cu:152: reg:linear is now deprecated in favor of reg:squarederror.\n",
            "[12:39:13] WARNING: /workspace/src/objective/regression_obj.cu:152: reg:linear is now deprecated in favor of reg:squarederror.\n",
            "[12:39:14] WARNING: /workspace/src/objective/regression_obj.cu:152: reg:linear is now deprecated in favor of reg:squarederror.\n",
            "[12:39:14] WARNING: /workspace/src/objective/regression_obj.cu:152: reg:linear is now deprecated in favor of reg:squarederror.\n",
            "[12:39:15] WARNING: /workspace/src/objective/regression_obj.cu:152: reg:linear is now deprecated in favor of reg:squarederror.\n",
            "[12:39:16] WARNING: /workspace/src/objective/regression_obj.cu:152: reg:linear is now deprecated in favor of reg:squarederror.\n",
            "[12:39:17] WARNING: /workspace/src/objective/regression_obj.cu:152: reg:linear is now deprecated in favor of reg:squarederror.\n",
            "[12:39:18] WARNING: /workspace/src/objective/regression_obj.cu:152: reg:linear is now deprecated in favor of reg:squarederror.\n",
            "[12:39:19] WARNING: /workspace/src/objective/regression_obj.cu:152: reg:linear is now deprecated in favor of reg:squarederror.\n"
          ],
          "name": "stdout"
        },
        {
          "output_type": "display_data",
          "data": {
            "image/png": "[encoded data removed]",
            "text/plain": [
              "<Figure size 576x576 with 1 Axes>"
            ]
          },
          "metadata": {
            "tags": []
          }
        },
        {
          "output_type": "display_data",
          "data": {
            "image/png": "[encoded data removed]",
            "text/plain": [
              "<Figure size 576x576 with 1 Axes>"
            ]
          },
          "metadata": {
            "tags": []
          }
        }
      ]
    },
    {
      "cell_type": "markdown",
      "metadata": {
        "id": "6h8SxffLZLBb"
      },
      "source": [
        "上のグラフよりmax_depth=8が適正だと考えられます。"
      ]
    }
  ]
}